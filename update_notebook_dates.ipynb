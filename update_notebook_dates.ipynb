{
 "cells": [
  {
   "cell_type": "markdown",
   "id": "latin-packing",
   "metadata": {
    "execution": {
     "iopub.execute_input": "2021-02-23T14:22:16.610471Z",
     "iopub.status.busy": "2021-02-23T14:22:16.610129Z",
     "iopub.status.idle": "2021-02-23T14:22:16.627784Z",
     "shell.execute_reply": "2021-02-23T14:22:16.626866Z",
     "shell.execute_reply.started": "2021-02-23T14:22:16.610384Z"
    },
    "papermill": {},
    "tags": []
   },
   "source": [
    "<img width=\"10%\" alt=\"Naas\" src=\"https://landen.imgix.net/jtci2pxwjczr/assets/5ice39g4.png?w=160\"/>"
   ]
  },
  {
   "cell_type": "markdown",
   "id": "compressed-wilson",
   "metadata": {
    "papermill": {},
    "tags": []
   },
   "source": [
    "# Awesome Notebooks - Update notebook dates\n",
    "<a href=\"https://app.naas.ai/user-redirect/naas/downloader?url=https://raw.githubusercontent.com/jupyter-naas/awesome-notebooks/master/template.ipynb\" target=\"_parent\">\n",
    "<img src=\"https://naasai-public.s3.eu-west-3.amazonaws.com/open_in_naas.svg\"/>\n",
    "</a>"
   ]
  },
  {
   "cell_type": "markdown",
   "id": "religious-programmer",
   "metadata": {},
   "source": [
    "**Tags:** #jupyter #awesome-notebooks"
   ]
  },
  {
   "cell_type": "markdown",
   "id": "1fe9f56e-561c-4f52-aef8-b861c9462107",
   "metadata": {},
   "source": [
    "**Author:** [Florent Ravenel](https://www.linkedin.com/in/florent-ravenel/)"
   ]
  },
  {
   "cell_type": "markdown",
   "id": "2410f9fb-bab6-4840-8897-50ed511b5636",
   "metadata": {
    "execution": {
     "iopub.execute_input": "2023-02-07T09:20:13.967175Z",
     "iopub.status.busy": "2023-02-07T09:20:13.966946Z",
     "iopub.status.idle": "2023-02-07T09:20:13.975072Z",
     "shell.execute_reply": "2023-02-07T09:20:13.974190Z",
     "shell.execute_reply.started": "2023-02-07T09:20:13.967152Z"
    },
    "tags": []
   },
   "source": [
    "**Description:** This notebook updates dates on all awesome-notebooks and send data to a Google Sheet spreadsheets."
   ]
  },
  {
   "cell_type": "markdown",
   "id": "distinguished-truth",
   "metadata": {
    "papermill": {},
    "tags": []
   },
   "source": [
    "## Input"
   ]
  },
  {
   "cell_type": "markdown",
   "id": "numeric-mediterranean",
   "metadata": {},
   "source": [
    "### Import libraries"
   ]
  },
  {
   "cell_type": "code",
   "execution_count": null,
   "id": "potential-surfing",
   "metadata": {
    "tags": []
   },
   "outputs": [],
   "source": [
    "import os\n",
    "import requests\n",
    "import pandas as pd\n",
    "import urllib.parse\n",
    "try:\n",
    "    from git import Repo\n",
    "except:\n",
    "    !pip install GitPython\n",
    "    from git import Repo\n",
    "from naas_drivers import markdown\n",
    "from pprint import pprint\n",
    "import json\n",
    "from papermill.iorw import (\n",
    "    load_notebook_node,\n",
    "    write_ipynb,\n",
    ")\n",
    "import copy\n",
    "import hashlib\n",
    "import uuid\n",
    "from datetime import datetime\n",
    "import naas\n",
    "from naas_drivers import gsheet"
   ]
  },
  {
   "cell_type": "markdown",
   "id": "03342ab4-3fc9-4f44-bcda-0a42dbe00e06",
   "metadata": {},
   "source": [
    "### Setup Variables"
   ]
  },
  {
   "cell_type": "code",
   "execution_count": null,
   "id": "00eceaac-3b26-4997-a679-234905636c26",
   "metadata": {
    "tags": []
   },
   "outputs": [],
   "source": [
    "# Inputs\n",
    "repo_url = \"https://github.com/jupyter-naas/awesome-notebooks\"\n",
    "token = naas.secret.get(\"GITHUB_TOKEN\")"
   ]
  },
  {
   "cell_type": "markdown",
   "id": "registered-showcase",
   "metadata": {},
   "source": [
    "## Model"
   ]
  },
  {
   "cell_type": "markdown",
   "id": "6b3c7732-8e39-41d8-be47-4a2288c7d809",
   "metadata": {
    "execution": {
     "iopub.execute_input": "2022-01-22T13:48:53.656270Z",
     "iopub.status.busy": "2022-01-22T13:48:53.656043Z",
     "iopub.status.idle": "2022-01-22T13:48:53.658818Z",
     "shell.execute_reply": "2022-01-22T13:48:53.658211Z",
     "shell.execute_reply.started": "2022-01-22T13:48:53.656247Z"
    },
    "papermill": {},
    "tags": []
   },
   "source": [
    "### Get notebooks from master branch"
   ]
  },
  {
   "cell_type": "code",
   "execution_count": null,
   "id": "e7982fe6-3105-493c-bda3-1887d6908f6c",
   "metadata": {
    "tags": []
   },
   "outputs": [],
   "source": [
    "def get_all_notebooks(branch):\n",
    "    # Init\n",
    "    html_url_base = \"https://github.com/jupyter-naas/awesome-notebooks/blob/master\"\n",
    "    raw_url_base = \"https://raw.githubusercontent.com/jupyter-naas/awesome-notebooks/master\"\n",
    "    notebooks = []\n",
    "    res_json = []\n",
    "    \n",
    "    # Get tree from json\n",
    "    url = f\"https://api.github.com/repos/jupyter-naas/awesome-notebooks/git/trees/{branch}?recursive=1\"\n",
    "    headers = {\"Authorization\": f\"token {token}\"}\n",
    "    res = requests.get(url, headers=headers)\n",
    "    if res.status_code == 200:\n",
    "        res_json = res.json().get(\"tree\")\n",
    "    else:\n",
    "        print(res.json())\n",
    "    \n",
    "    # Loop on files\n",
    "    for r in res_json:\n",
    "        root = None\n",
    "        file_name = None\n",
    "        file_path = r.get(\"path\")\n",
    "        notebook_path = urllib.parse.quote(file_path)\n",
    "        if \".github\" not in file_path and \".gitignore\" not in file_path and \"/\" in file_path:\n",
    "            if file_path.endswith(\".ipynb\"):\n",
    "                data = {\n",
    "                    \"tool\": file_path.split(\"/\")[0],\n",
    "                    \"notebook_name\": file_path.split(\"/\")[1],\n",
    "                    \"notebook_path\": file_path,\n",
    "                    \"html_url\": f\"{html_url_base}/{notebook_path}\",\n",
    "                    \"raw_url\": f\"{raw_url_base}/{notebook_path}\",\n",
    "                }\n",
    "                notebooks.append(data)\n",
    "    return pd.DataFrame(notebooks)\n",
    "\n",
    "df_master = get_all_notebooks(\"master\")\n",
    "print(\"✅ Notebooks fetched from master branch:\", len(df_master))\n",
    "df_master.head(1)"
   ]
  },
  {
   "cell_type": "markdown",
   "id": "f6f64899-712c-4fa8-88a1-ca8038db31d9",
   "metadata": {
    "execution": {
     "iopub.execute_input": "2022-01-22T13:48:53.656270Z",
     "iopub.status.busy": "2022-01-22T13:48:53.656043Z",
     "iopub.status.idle": "2022-01-22T13:48:53.658818Z",
     "shell.execute_reply": "2022-01-22T13:48:53.658211Z",
     "shell.execute_reply.started": "2022-01-22T13:48:53.656247Z"
    },
    "papermill": {},
    "tags": []
   },
   "source": [
    "### Get notebooks from current branch"
   ]
  },
  {
   "cell_type": "code",
   "execution_count": null,
   "id": "7905538d-c585-43ae-b32d-ae0d5e01f2a4",
   "metadata": {
    "tags": []
   },
   "outputs": [],
   "source": [
    "# Connect to GitHub and get branch\n",
    "repo = Repo('.')\n",
    "branch = repo.active_branch\n",
    "    \n",
    "df_notebooks = get_all_notebooks(branch.name)\n",
    "print(f\"✅ Notebooks fetched from {branch.name} branch:\", len(df_notebooks))\n",
    "df_notebooks.head(1)"
   ]
  },
  {
   "cell_type": "markdown",
   "id": "504f424d-496a-4904-992b-89b2380ee14a",
   "metadata": {},
   "source": [
    "## Output"
   ]
  },
  {
   "cell_type": "markdown",
   "id": "131de937-f141-41c9-900b-896076eb2688",
   "metadata": {},
   "source": [
    "### Get created and last update date from notebook file path"
   ]
  },
  {
   "cell_type": "code",
   "execution_count": null,
   "id": "b071f203-790a-42a1-8667-2d9a2867b3ca",
   "metadata": {
    "tags": []
   },
   "outputs": [],
   "source": [
    "def get_dates(token, file_path):\n",
    "    # Init\n",
    "    created_at = \"\"\n",
    "    updated_at = \"\"\n",
    "    file_path = urllib.parse.quote(file_path)\n",
    "    \n",
    "    # Requests\n",
    "    url = f\"https://api.github.com/repos/jupyter-naas/awesome-notebooks/commits?path={file_path}\"\n",
    "    headers = {\"Authorization\": f\"token {token}\"}\n",
    "    res = requests.get(url, headers=headers)\n",
    "    \n",
    "    # Response\n",
    "    if res.status_code == 200:\n",
    "        commits = res.json()\n",
    "        if len(commits) > 0:\n",
    "            for i, c in enumerate(commits):\n",
    "                index = i+1\n",
    "                message = commits[-(index)].get(\"commit\").get(\"message\")\n",
    "#                 if message == \"generateReadme: Refresh\" and created_at == \"\":\n",
    "#                     created_at = commits[-(index-1)]['commit']['committer']['date']\n",
    "                if message != \"generateReadme: Refresh\":\n",
    "                    updated_at = commits[-(index)]['commit']['committer']['date']\n",
    "                    \n",
    "        if created_at == \"\":\n",
    "            created_at = commits[-1]['commit']['committer']['date']\n",
    "        if updated_at == \"\":\n",
    "            updated_at = commits[0]['commit']['committer']['date']\n",
    "    return created_at[:10], updated_at[:10]\n",
    "        \n",
    "file_path = 'OpenAI/OpenAI_Generate_Q&A.ipynb'\n",
    "created_at, updated_at = get_dates(token, file_path)\n",
    "print(\"Notebook:\", file_path)\n",
    "print(\"- Created:\", created_at)\n",
    "print(\"- Last update:\", updated_at)"
   ]
  },
  {
   "cell_type": "markdown",
   "id": "7d1f813b-a76e-4a4f-886c-dd368a995764",
   "metadata": {},
   "source": [
    "### Create dates on notebooks"
   ]
  },
  {
   "cell_type": "code",
   "execution_count": null,
   "id": "d678cb10-6907-46c0-955a-f4b84266a0c0",
   "metadata": {
    "tags": []
   },
   "outputs": [],
   "source": [
    "# Loop on notebooks\n",
    "for row in df_notebooks.itertuples():\n",
    "    # Get notebook path\n",
    "    notebook_path = row.notebook_path\n",
    "    \n",
    "    # Get dates\n",
    "    if notebook_path in df_master[\"notebook_path\"].tolist():\n",
    "        created_at, updated_at = get_dates(token, notebook_path)\n",
    "    else:\n",
    "        created_at = updated_at = datetime.now().strftime(\"%Y-%m-%d\")\n",
    "        \n",
    "    df_notebooks.loc[row.Index, \"created_at\"] = created_at\n",
    "    df_notebooks.loc[row.Index, \"updated_at\"] = updated_at\n",
    "\n",
    "    # Load notebook\n",
    "    nb_init = load_notebook_node(notebook_path)\n",
    "    nb = copy.deepcopy(nb_init)\n",
    "\n",
    "    # Init new cells\n",
    "    new_cells = []\n",
    "\n",
    "    # Loop on cells\n",
    "    cells = nb.cells\n",
    "    for i, cell in enumerate(cells):\n",
    "        source = cell.source\n",
    "        if i == 4 and not source.startswith(\"**Last update:**\"):\n",
    "            cell_date = {\n",
    "                'cell_type': 'markdown',\n",
    "                'id': str(uuid.uuid4()),\n",
    "                'metadata': {'papermill': {}, 'tags': []},\n",
    "                'source': f'**Last update:** {updated_at} (Created: {created_at})'\n",
    "            }\n",
    "            new_cells.append(cell_date)\n",
    "        elif i == 4 and source.startswith(\"**Last update:**\"):\n",
    "            cell[\"source\"] = f'**Last update:** {updated_at} (Created: {created_at})'\n",
    "        new_cells.append(cell)\n",
    "            \n",
    "    # Update cells\n",
    "#     if new_cells != cells:\n",
    "    nb.cells = new_cells\n",
    "    with open(notebook_path, \"w\") as f:\n",
    "        json.dump(nb, f)\n",
    "    print(f\"✅ {notebook_path} saved in Naas.\")"
   ]
  }
 ],
 "metadata": {
  "kernelspec": {
   "display_name": "Python 3",
   "language": "python",
   "name": "python3"
  },
  "language_info": {
   "codemirror_mode": {
    "name": "ipython",
    "version": 3
   },
   "file_extension": ".py",
   "mimetype": "text/x-python",
   "name": "python",
   "nbconvert_exporter": "python",
   "pygments_lexer": "ipython3",
   "version": "3.9.6"
  },
  "papermill": {
   "default_parameters": {},
   "environment_variables": {},
   "parameters": {},
   "version": "2.3.3"
  },
  "widgets": {
   "application/vnd.jupyter.widget-state+json": {
    "state": {},
    "version_major": 2,
    "version_minor": 0
   }
  }
 },
 "nbformat": 4,
 "nbformat_minor": 5

}

