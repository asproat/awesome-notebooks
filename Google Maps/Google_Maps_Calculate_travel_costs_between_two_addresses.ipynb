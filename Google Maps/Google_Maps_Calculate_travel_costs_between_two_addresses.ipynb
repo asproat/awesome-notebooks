{
 "cells": [
  {
   "cell_type": "markdown",
   "id": "latin-packing",
   "metadata": {
    "execution": {
     "iopub.execute_input": "2021-02-23T14:22:16.610471Z",
     "iopub.status.busy": "2021-02-23T14:22:16.610129Z",
     "iopub.status.idle": "2021-02-23T14:22:16.627784Z",
     "shell.execute_reply": "2021-02-23T14:22:16.626866Z",
     "shell.execute_reply.started": "2021-02-23T14:22:16.610384Z"
    },
    "papermill": {},
    "tags": []
   },
   "source": [
    "<img width=\"10%\" alt=\"Naas\" src=\"https://landen.imgix.net/jtci2pxwjczr/assets/5ice39g4.png?w=160\"/>"
   ]
  },
  {
   "cell_type": "markdown",
   "id": "compressed-wilson",
   "metadata": {
    "papermill": {},
    "tags": []
   },
   "source": [
    "# Google Maps - Calculate travel costs between two addresses\n",
    "<a href=\"https://app.naas.ai/user-redirect/naas/downloader?url=https://raw.githubusercontent.com/jupyter-naas/awesome-notebooks/master/Google%20Maps/Google_Maps_Calculate_travel_costs_between_two_addresses.ipynb\" target=\"_parent\"><img src=\"https://naasai-public.s3.eu-west-3.amazonaws.com/Open_in_Naas_Lab.svg\"/></a><br><br><a href=\"https://bit.ly/3JyWIk6\">Give Feedbacks</a> | <a href=\"https://github.com/jupyter-naas/awesome-notebooks/issues/new?assignees=&labels=bug&template=bug_report.md&title=Google+Maps+-+Calculate+travel+costs+between+two+addresses:+Error+short+description\">Bug report</a>"
   ]
  },
  {
   "cell_type": "markdown",
   "id": "cbf7f260-f739-4e8f-9074-f070af12b69f",
   "metadata": {
    "papermill": {},
    "tags": []
   },
   "source": [
    "**Tags:** #googlemaps #productivity #operations #automation #jupyternotebooks"
   ]
  },
  {
   "cell_type": "markdown",
   "id": "8af9aa79",
   "metadata": {
    "papermill": {},
    "tags": []
   },
   "source": [
    "**Author:** [Antonio Georgiev](www.linkedin.com/in/antonio-georgiev-b672a325b)"
   ]
  },
  {
   "cell_type": "markdown",
   "id": "ca7ab0c8-c5ef-48ce-b202-92e25a922807",
   "metadata": {
    "papermill": {},
    "tags": []
   },
   "source": [
    "**Last update:** 2023-07-26 (Created: 2023-07-25)"
   ]
  },
  {
   "cell_type": "markdown",
   "id": "02372be1-b4aa-485a-8e01-40e209e83880",
   "metadata": {
    "papermill": {},
    "tags": []
   },
   "source": [
    "**Description:** This notebook calculates the travel costs between two addresses using Google Maps API."
   ]
  },
  {
   "cell_type": "markdown",
   "id": "distinguished-truth",
   "metadata": {
    "papermill": {},
    "tags": []
   },
   "source": [
    "## Input"
   ]
  },
  {
   "cell_type": "markdown",
   "id": "b56e47f5-be89-4591-93ec-01e8fac50def",
   "metadata": {
    "papermill": {},
    "tags": []
   },
   "source": [
    "### Import libraries"
   ]
  },
  {
   "cell_type": "code",
   "execution_count": 7,
   "id": "6b63229c-7614-4dc8-ba2a-e0b1e2f64918",
   "metadata": {
    "papermill": {},
    "tags": []
   },
   "outputs": [],
   "source": [
    "import os\n",
    "import requests\n",
    "import naas"
   ]
  },
  {
   "cell_type": "markdown",
   "id": "8b137e47-e5f6-429f-8321-3f8e4b070562",
   "metadata": {
    "papermill": {},
    "tags": []
   },
   "source": [
    "### Setup variables\n",
    "Pre-requisite: \n",
    "1. Follow the steps in the link - https://developers.google.com/maps/documentation/routes/cloud-setup\n",
    "2. Sign up for an account with the Routes API provider.\n",
    "3. Make sure to enable Routes API as it is in the \"Additional APIs\" section in the google cloud console.\n",
    "4. Check the available countries https://developers.google.com/maps/documentation/routes/calculate_toll_fees#toll-locations\n",
    "\n",
    "- `api_key`: This variable holds the Google Cloud Platform (GCP) API key. The key is retrieved from the secret variable using the Naas secret manager.\n",
    "- `start_location`: This variable represents the starting location for a journey. In this case, it's set to 'San Francisco, CA'.\n",
    "- `end_location`: This variable indicates the end location or destination for a journey. Here, it's set to 'Los Angeles, CA'."
   ]
  },
  {
   "cell_type": "code",
   "execution_count": 18,
   "id": "bffaf74b-3e26-408f-9a55-bb495577cdf6",
   "metadata": {
    "papermill": {},
    "tags": []
   },
   "outputs": [],
   "source": [
    "api_key = naas.secret.get(\"GCP_MAP_API_KEY\")  # Read API key from the secret variable\n",
    "start_location = 'San Francisco, CA'\n",
    "end_location = 'Los Angeles, CA'"
   ]
  },
  {
   "cell_type": "markdown",
   "id": "registered-showcase",
   "metadata": {
    "papermill": {},
    "tags": []
   },
   "source": [
    "## Model"
   ]
  },
  {
   "cell_type": "markdown",
   "id": "4c610c4f-35c2-4685-bc9f-bb316d084db4",
   "metadata": {
    "papermill": {},
    "tags": []
   },
   "source": [
    "### Get coordinates from address"
   ]
  },
  {
   "cell_type": "code",
   "execution_count": 19,
   "id": "be9f606b-c55d-4185-af58-b0780d4312d2",
   "metadata": {
    "papermill": {},
    "tags": []
   },
   "outputs": [],
   "source": [
    "def get_coordinates(api_key, address):\n",
    "    # Init\n",
    "    latitude = None\n",
    "    longitude = None\n",
    "    \n",
    "    # API endpoint\n",
    "    api_endpoint = 'https://maps.googleapis.com/maps/api/geocode/json'\n",
    "\n",
    "    # Setup params\n",
    "    params = {\n",
    "        'address': address,\n",
    "        'key': api_key\n",
    "    }\n",
    "    response = requests.get(api_endpoint, params=params)\n",
    "\n",
    "    # Response\n",
    "    if response.status_code == 200:\n",
    "        data = response.json()\n",
    "        if data['status'] == 'OK':\n",
    "            # Extract and utilize the geolocation information from the response\n",
    "            results = data['results']\n",
    "            for result in results:\n",
    "                latitude = result['geometry']['location']['lat']\n",
    "                longitude = result['geometry']['location']['lng']\n",
    "                print(\"📍 Address:\", address)\n",
    "                print(f'🗺️ Latitude: {latitude}, Longitude: {longitude}')\n",
    "        else:\n",
    "            print('Geocoding request failed.')\n",
    "    else:\n",
    "        print('Geocoding request failed with status code:', response.status_code)\n",
    "    return latitude, longitude\n",
    "\n",
    "print(\"Origin:\")\n",
    "origin_lat, origin_lng = get_coordinates(api_key, start_location)\n",
    "print()\n",
    "print(\"Destination:\")\n",
    "destination_lat, destination_lng = get_coordinates(api_key, end_location)"
   ]
  },
  {
   "cell_type": "markdown",
   "id": "c1e4c55b",
   "metadata": {
    "papermill": {},
    "tags": []
   },
   "source": [
    "## Output"
   ]
  },
  {
   "cell_type": "markdown",
   "id": "2665cb7f-1504-48d7-9d49-8b30fd80e359",
   "metadata": {
    "papermill": {},
    "tags": []
   },
   "source": [
    "### Calculate travel costs between two addresses\n",
    "Request for toll information (more info on https://developers.google.com/maps/documentation/routes/calculate_toll_fees)"
   ]
  },
  {
   "cell_type": "code",
   "execution_count": 27,
   "id": "2fafe16a-ccca-43ae-88fd-eb23af803fe6",
   "metadata": {
    "papermill": {},
    "tags": []
   },
   "outputs": [],
   "source": [
    "api_endpoint = 'https://routes.googleapis.com/directions/v2:computeRoutes'\n",
    "\n",
    "headers = {\n",
    "    'Content-Type': 'application/json',\n",
    "    'X-Goog-Api-Key': api_key,\n",
    "    'X-Goog-FieldMask': 'routes.duration,routes.distanceMeters,routes.travelAdvisory.tollInfo,routes.legs.travelAdvisory.tollInfo'\n",
    "}\n",
    "\n",
    "payload = {\n",
    "    \"origin\": {\n",
    "        \"location\": {\n",
    "            \"latLng\": {\n",
    "                \"latitude\": origin_lat,\n",
    "                \"longitude\": origin_lng\n",
    "            }\n",
    "        }\n",
    "    },\n",
    "    \"destination\": {\n",
    "        \"location\": {\n",
    "            \"latLng\": {\n",
    "                \"latitude\": destination_lat,\n",
    "                \"longitude\": destination_lng\n",
    "            }\n",
    "        }\n",
    "    },\n",
    "    \"travelMode\": \"DRIVE\",\n",
    "    \"extraComputations\": [\"TOLLS\"],\n",
    "    \"routeModifiers\": {\n",
    "        \"vehicleInfo\": {\n",
    "            \"emissionType\": \"GASOLINE\"\n",
    "        },\n",
    "        \"tollPasses\": [\n",
    "           # Add relevant toll passes if applicable\n",
    "        ]\n",
    "    }\n",
    "}\n",
    "\n",
    "response = requests.post(api_endpoint, json=payload, headers=headers)\n",
    "\n",
    "# Manage response\n",
    "if response.status_code == 200:\n",
    "    data = response.json()\n",
    "    routes = data['routes']\n",
    "    if routes:\n",
    "        distance_meters = routes[0]['distanceMeters']\n",
    "        duration = routes[0]['duration']\n",
    "        print(\"Distance in Km:\", round(distance_meters / 1000, 2))\n",
    "        print(\"Duration in Hours:\", round(int(duration[:-1]) / 3600, 2))\n",
    "        if 'travelAdvisory' in routes[0]:\n",
    "            toll_info = routes[0]['travelAdvisory']['tollInfo']\n",
    "            estimated_price = toll_info['estimatedPrice']\n",
    "            if estimated_price:\n",
    "                currency_code = estimated_price[0]['currencyCode']\n",
    "                toll_cost = float(estimated_price[0]['units'])\n",
    "                formatted_toll_cost = '{:.2f}'.format(toll_cost)\n",
    "                print('Toll Cost:', currency_code + ' '+ formatted_toll_cost)\n",
    "    else:\n",
    "        print('No routes found in the response.')\n",
    "else:\n",
    "    print('Google Maps API request failed with status code:', response.status_code)"
   ]
  }
 ],
 "metadata": {
  "kernelspec": {
   "display_name": "Python 3",
   "language": "python",
   "name": "python3"
  },
  "language_info": {
   "codemirror_mode": {
    "name": "ipython",
    "version": 3
   },
   "file_extension": ".py",
   "mimetype": "text/x-python",
   "name": "python",
   "nbconvert_exporter": "python",
   "pygments_lexer": "ipython3",
   "version": "3.9.6"
  },
  "naas": {
   "notebook_id": "7e5630a4f5744470a9195a186592bb24d9e9900acefba7d9a6ea179bedf905c7",
   "notebook_path": "Google Maps/Google_Maps_Calculate_travel_costs_between_two_addresses.ipynb"
  },
  "papermill": {
   "default_parameters": {},
   "environment_variables": {},
   "parameters": {},
   "version": "2.3.3"
  },
  "widgets": {
   "application/vnd.jupyter.widget-state+json": {
    "state": {},
    "version_major": 2,
    "version_minor": 0
   }
  }
 },
 "nbformat": 4,
 "nbformat_minor": 5
}