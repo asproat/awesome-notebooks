{
 "cells": [
  {
   "cell_type": "markdown",
   "id": "13999d9a-2399-4aa6-8b9f-6f652dc86aa0",
   "metadata": {
    "papermill": {},
    "tags": []
   },
   "source": [
    "<img width=\"10%\" alt=\"Naas\" src=\"https://landen.imgix.net/jtci2pxwjczr/assets/5ice39g4.png?w=160\"/>"
   ]
  },
  {
   "cell_type": "markdown",
   "id": "e6027d4d-b5ed-4ccb-acdd-4e16d3dc1260",
   "metadata": {
    "papermill": {},
    "tags": []
   },
   "source": [
    "# Clockify - Send time entries database to a Google Sheets spreadsheet\n",
    "<a href=\"https://app.naas.ai/user-redirect/naas/downloader?url=https://raw.githubusercontent.com/jupyter-naas/awesome-notebooks/master/Clockify/Clockify_Send_time_entries_database_to_Google_Sheets_spreadsheet.ipynb\" target=\"_parent\"><img src=\"https://naasai-public.s3.eu-west-3.amazonaws.com/Open_in_Naas_Lab.svg\"/></a><br><br><a href=\"https://bit.ly/3JyWIk6\">Give Feedbacks</a> | <a href=\"https://github.com/jupyter-naas/awesome-notebooks/issues/new?assignees=&labels=bug&template=bug_report.md&title=Clockify+-+Send+time+entries+database+to+a+Google+Sheets+spreadsheet:+Error+short+description\">Bug report</a>"
   ]
  },
  {
   "cell_type": "markdown",
   "id": "257024e1-32ec-4839-b454-65998b09aacb",
   "metadata": {
    "papermill": {},
    "tags": []
   },
   "source": [
    "**Tags:** #clockify #timeentry #database #workspace #user #task #project #gsheet #automation "
   ]
  },
  {
   "cell_type": "markdown",
   "id": "0e20bf2b-b066-4b09-b928-d33d3e825e84",
   "metadata": {
    "papermill": {},
    "tags": []
   },
   "source": [
    "**Author:** [Florent Ravenel](https://www.linkedin.com/in/florent-ravenel/)"
   ]
  },
  {
   "cell_type": "markdown",
   "id": "c316565f-97c2-4ba8-b36b-d528839b6e01",
   "metadata": {
    "papermill": {},
    "tags": []
   },
   "source": [
    "**Description:** This notebook will send the time entries database from Clockify to a Google Sheets spreadsheet. This is usefull for organizations to keep track of their time entries and analyze them."
   ]
  },
  {
   "cell_type": "markdown",
   "id": "73a21c0f-e3c8-4a2d-a8ff-db3f374843d4",
   "metadata": {
    "papermill": {},
    "tags": []
   },
   "source": [
    "**References:**\n",
    "- [Clockify API Documentation](https://docs.clockify.me/#tag/Time-entry/operation/getTimeEntries)"
   ]
  },
  {
   "cell_type": "markdown",
   "id": "36eb9c81-abdb-4740-b2b7-9e3cfc32ad3c",
   "metadata": {
    "papermill": {},
    "tags": []
   },
   "source": [
    "## Input"
   ]
  },
  {
   "cell_type": "markdown",
   "id": "3e1ec914-1999-4afe-9df5-ef1e0f639df7",
   "metadata": {
    "papermill": {},
    "tags": []
   },
   "source": [
    "### Import libraries"
   ]
  },
  {
   "cell_type": "code",
   "execution_count": null,
   "id": "d4a77a73-317d-43cd-a232-be9e2d564631",
   "metadata": {
    "papermill": {},
    "tags": []
   },
   "outputs": [],
   "source": [
    "import requests\n",
    "import naas\n",
    "import pandas as pd\n",
    "from datetime import datetime\n",
    "from naas_drivers import gsheet"
   ]
  },
  {
   "cell_type": "markdown",
   "id": "f275809a-cf0b-4e5a-90a4-3f7c733f661a",
   "metadata": {
    "papermill": {},
    "tags": []
   },
   "source": [
    "### Setup variables\n",
    "[Get your Clockify API key](https://clockify.me/user/settings) and set the variables below:\n",
    "\n",
    "- `api_key`: Clockify API Key\n",
    "- `workspace_id`: ID of the workspace\n",
    "- `user_id`: ID of the user to get time entries from\n",
    "- `start_date`: Start date of the timeframe to create the time entries database\n",
    "- `end_date`: End date of the timeframe to create the time entries database\n",
    "\n",
    "Share your Google Sheets spreadsheet with our service account : 🔗 naas-share@naas-gsheets.iam.gserviceaccount.com and set the variables below:\n",
    "\n",
    "- `spreadsheet_url`: Google Sheets spreadsheet URL\n",
    "- `sheet_name`: Google Sheets sheet name"
   ]
  },
  {
   "cell_type": "code",
   "execution_count": null,
   "id": "25fef98d-9511-45fe-a688-bb7d96716bcd",
   "metadata": {
    "papermill": {},
    "tags": []
   },
   "outputs": [],
   "source": [
    "api_key = naas.secret.get(\"CLOCKIFY_API_KEY\") or \"YOUR_API_KEY\"\n",
    "workspace_id = \"626f9e3b36c2670314c0386e\" #\"<WORKSPACE_ID>\"\n",
    "start_date = \"2023-01-01\"\n",
    "end_date = datetime.now().astimezone().isoformat()#.strftime(\"%Y-%m-%d\")\n",
    "cron = \"15 * * * *\"\n",
    "spreadsheet_url = \"\"\n",
    "sheet_name = \"\""
   ]
  },
  {
   "cell_type": "markdown",
   "id": "9520d274-a372-437c-b706-eef533af6ef5",
   "metadata": {
    "papermill": {},
    "tags": []
   },
   "source": [
    "## Model"
   ]
  },
  {
   "cell_type": "markdown",
   "id": "64dbc113-f9db-4564-8296-7b9254b62383",
   "metadata": {
    "papermill": {},
    "tags": []
   },
   "source": [
    "### Function: Flatten the nested dict"
   ]
  },
  {
   "cell_type": "code",
   "execution_count": null,
   "id": "87f40957-5e9d-40ac-bf0d-7a9c688d23d5",
   "metadata": {
    "papermill": {},
    "tags": []
   },
   "outputs": [],
   "source": [
    "# Flatten the nested dict\n",
    "def flatten_dict(d, parent_key='', sep='_'):\n",
    "    \"\"\"\n",
    "    Flattens a nested dictionary into a single level dictionary.\n",
    "\n",
    "    Args:\n",
    "        d (dict): A nested dictionary.\n",
    "        parent_key (str): Optional string to prefix the keys with.\n",
    "        sep (str): Optional separator to use between parent_key and child_key.\n",
    "\n",
    "    Returns:\n",
    "        dict: A flattened dictionary.\n",
    "    \"\"\"\n",
    "    items = []\n",
    "    for k, v in d.items():\n",
    "        new_key = f\"{parent_key}{sep}{k}\" if parent_key else k\n",
    "        if isinstance(v, dict):\n",
    "            items.extend(flatten_dict(v, new_key, sep=sep).items())\n",
    "        else:\n",
    "            items.append((new_key, v))\n",
    "    return dict(items)"
   ]
  },
  {
   "cell_type": "markdown",
   "id": "0ee83844-3835-4d22-93c5-a840b20b7250",
   "metadata": {
    "papermill": {},
    "tags": []
   },
   "source": [
    "### Function: Get referentials from workspace"
   ]
  },
  {
   "cell_type": "code",
   "execution_count": null,
   "id": "2d181e8d-d167-4bc4-a04d-b7bbd96efe8b",
   "metadata": {
    "papermill": {},
    "tags": []
   },
   "outputs": [],
   "source": [
    "def get_data(api_key, workspace_id, endpoint):\n",
    "    # Init\n",
    "    page = 1\n",
    "    df = pd.DataFrame()\n",
    "    \n",
    "    while True:\n",
    "        # Requests\n",
    "        url = f\"https://api.clockify.me/api/v1/workspaces/{workspace_id}/{endpoint}\"\n",
    "        headers = {\n",
    "            \"X-Api-Key\": api_key\n",
    "        }\n",
    "        params = {\n",
    "            \"page\": page,\n",
    "            \"page-size\": 100\n",
    "        }\n",
    "        res = requests.get(url, headers=headers, params=params)\n",
    "        data = res.json()\n",
    "        if len(data) > 0:\n",
    "            for d in data:\n",
    "                res = flatten_dict(d)\n",
    "                tmp_df = pd.DataFrame([res])\n",
    "                df = pd.concat([df, tmp_df])\n",
    "        else:\n",
    "            break\n",
    "        page += 1\n",
    "    return df.reset_index(drop=True)"
   ]
  },
  {
   "cell_type": "markdown",
   "id": "76b0f06f-1a10-4c4d-9255-98b63b4de6bf",
   "metadata": {
    "papermill": {},
    "tags": []
   },
   "source": [
    "### Get all users"
   ]
  },
  {
   "cell_type": "code",
   "execution_count": null,
   "id": "7f7c4e7a-0046-4dfe-b5f8-e9771ae3ad6a",
   "metadata": {
    "papermill": {},
    "tags": []
   },
   "outputs": [],
   "source": [
    "df_users = get_data(api_key, workspace_id, \"users\")\n",
    "df_users = df_users.rename(columns={\"id\": \"userId\", \"name\": \"userName\"})\n",
    "df_users = df_users[[\"userId\", \"userName\", \"email\"]]\n",
    "print(\"Users fetched:\", len(df_users))\n",
    "df_users.head(1)"
   ]
  },
  {
   "cell_type": "markdown",
   "id": "73314dab-6a39-43ff-8ce6-d294675f0f43",
   "metadata": {
    "papermill": {},
    "tags": []
   },
   "source": [
    "### Get time entries"
   ]
  },
  {
   "cell_type": "code",
   "execution_count": null,
   "id": "8c6c4f77-88a1-4a3d-ab1a-9ff81934ee75",
   "metadata": {
    "papermill": {},
    "tags": []
   },
   "outputs": [],
   "source": [
    "def get_time_entries(\n",
    "    api_key,\n",
    "    workspace_id,\n",
    "    user_id,\n",
    "    start_date,\n",
    "    end_date\n",
    "):\n",
    "    # Init\n",
    "    start_date = datetime.strptime(start_date, \"%Y-%m-%d\").astimezone().isoformat() # Format date\n",
    "    page = 1\n",
    "    df = pd.DataFrame()\n",
    "    \n",
    "    # Get raw data\n",
    "    while True:\n",
    "        url = f\"https://api.clockify.me/api/v1/workspaces/{workspace_id}/user/{user_id}/time-entries\"\n",
    "        headers = {\"X-Api-Key\": api_key}\n",
    "        params = {\n",
    "            \"start\": start_date,\n",
    "            \"end\": end_date,\n",
    "            \"page\": page,\n",
    "            \"page-size\": 100\n",
    "        }\n",
    "        res = requests.get(url, headers=headers, params=params)\n",
    "        data = res.json()\n",
    "        if len(data) > 0:\n",
    "            for d in data:\n",
    "                res = flatten_dict(d)\n",
    "                tmp_df = pd.DataFrame([res])\n",
    "                df = pd.concat([df, tmp_df]).reset_index(drop=True)\n",
    "        else:\n",
    "            break\n",
    "        page += 1\n",
    "    return df.reset_index(drop=True)\n",
    "\n",
    "# Init\n",
    "database = pd.DataFrame()\n",
    "\n",
    "# Loop\n",
    "for row in df_users.itertuples():\n",
    "    user_id = row.userId\n",
    "    user_name = row.userName\n",
    "    user_email = row.email\n",
    "    \n",
    "    # Get entries\n",
    "    df_time_entries = get_time_entries(api_key, workspace_id, user_id, start_date, end_date)\n",
    "\n",
    "    # Concat\n",
    "    database = pd.concat([database, df_time_entries]).reset_index(drop=True)\n",
    "    \n",
    "print(\"Time entries fetched:\", len(database))\n",
    "database.head(3)"
   ]
  },
  {
   "cell_type": "markdown",
   "id": "aad582ab-a11b-4c60-b82b-95264cbe598a",
   "metadata": {
    "papermill": {},
    "tags": []
   },
   "source": [
    "### Get all projects"
   ]
  },
  {
   "cell_type": "code",
   "execution_count": null,
   "id": "1e40b2db-8e4a-4fc5-829a-9bd8e7816d83",
   "metadata": {
    "papermill": {},
    "tags": []
   },
   "outputs": [],
   "source": [
    "df_projects = get_data(api_key, workspace_id, \"projects\")\n",
    "df_projects = df_projects.rename(columns={\"id\": \"projectId\", \"name\": \"projectName\"})\n",
    "df_projects = df_projects[[\"projectId\", \"projectName\", \"clientId\"]]\n",
    "print(\"Projects fetched:\", len(df_projects))\n",
    "df_projects.head(1)"
   ]
  },
  {
   "cell_type": "markdown",
   "id": "3d436d11-eab5-40d3-8899-57acf27312dc",
   "metadata": {
    "papermill": {},
    "tags": []
   },
   "source": [
    "### Get all clients"
   ]
  },
  {
   "cell_type": "code",
   "execution_count": null,
   "id": "fd31b887-3258-40d7-aa3a-19b4cb3d66be",
   "metadata": {
    "papermill": {},
    "tags": []
   },
   "outputs": [],
   "source": [
    "df_clients = get_data(api_key, workspace_id, \"clients\")\n",
    "df_clients = df_clients.rename(columns={\"id\": \"clientId\", \"name\": \"clientName\"})\n",
    "df_clients = df_clients[[\"clientId\", \"clientName\"]]\n",
    "print(\"Clients fetched:\", len(df_clients))\n",
    "df_clients.head(1)"
   ]
  },
  {
   "cell_type": "markdown",
   "id": "cfefada0-880a-4187-9008-293996ef6df0",
   "metadata": {
    "papermill": {},
    "tags": []
   },
   "source": [
    "### Create final database\n",
    "Enrich data with referentials from workspace"
   ]
  },
  {
   "cell_type": "code",
   "execution_count": null,
   "id": "b8b0e8dd-d621-4201-9c21-d248f5c03362",
   "metadata": {
    "papermill": {},
    "tags": []
   },
   "outputs": [],
   "source": [
    "final_db = database.copy()\n",
    "\n",
    "# Final DB\n",
    "final_db = pd.merge(final_db, df_users, how=\"left\", on=\"userId\")\n",
    "final_db = pd.merge(final_db, df_projects, how=\"left\", on=\"projectId\")\n",
    "final_db = pd.merge(final_db, df_clients, how=\"left\", on=\"clientId\")\n",
    "\n",
    "# Select column\n",
    "to_select = [\n",
    "    \"id\",\n",
    "    \"description\",\n",
    "    \"isLocked\",\n",
    "    \"timeInterval_start\",\n",
    "    \"timeInterval_end\",\n",
    "    \"timeInterval_duration\",\n",
    "    \"userId\",\n",
    "    \"userName\",\n",
    "    \"email\",\n",
    "    \"projectId\",\n",
    "    \"projectName\",\n",
    "    \"clientId\",\n",
    "    \"clientName\",\n",
    "]\n",
    "final_db = final_db[to_select]\n",
    "final_db[\"Month\"] = pd.to_datetime(final_db[\"timeInterval_end\"]).dt.strftime(\"%Y-%m\")\n",
    "final_db[\"timeduration_Hours\"] = round((pd.to_datetime(final_db[\"timeInterval_end\"]) - pd.to_datetime(final_db[\"timeInterval_start\"])).dt.total_seconds() / 3600, 2)\n",
    "final_db[\"Date Extract\"] = datetime.now().strftime(\"%Y%m%d%H%M%S\")\n",
    "print(\"Time entries fetched:\", len(final_db))\n",
    "final_db.head(1)"
   ]
  },
  {
   "cell_type": "markdown",
   "id": "4a694a0b-4917-489f-b4f1-09f8db79ead3",
   "metadata": {
    "papermill": {},
    "tags": []
   },
   "source": [
    "## Output"
   ]
  },
  {
   "cell_type": "markdown",
   "id": "0c8d8f9a-914e-4b15-987f-145a53fee316",
   "metadata": {
    "papermill": {},
    "tags": []
   },
   "source": [
    "### Send dataframe to Google Sheets"
   ]
  },
  {
   "cell_type": "code",
   "execution_count": null,
   "id": "ce64e717-b876-46da-92a7-e4ecc43b0846",
   "metadata": {
    "papermill": {},
    "tags": []
   },
   "outputs": [],
   "source": [
    "gsheet.connect(spreadsheet_url).send(sheet_name=sheet_name, data=final_db, append=False)"
   ]
  },
  {
   "cell_type": "markdown",
   "id": "c1e21bbf-d9c4-4dfc-931d-1a8941720f8f",
   "metadata": {
    "papermill": {},
    "tags": []
   },
   "source": [
    " "
   ]
  },
  {
   "cell_type": "markdown",
   "id": "6405749d-59bd-4102-beaa-c25e7c937ee7",
   "metadata": {
    "papermill": {},
    "tags": []
   },
   "source": [
    "### Add scheduler"
   ]
  },
  {
   "cell_type": "code",
   "execution_count": null,
   "id": "a9e47f8d-d137-46ef-af28-c4b9d4bb2035",
   "metadata": {
    "papermill": {},
    "tags": []
   },
   "outputs": [],
   "source": [
    "naas.scheduler.add(cron=cron)\n",
    "\n",
    "# naas.scheduler.delete()"
   ]
  }
 ],
 "metadata": {
  "kernelspec": {
   "display_name": "Python 3",
   "language": "python",
   "name": "python3"
  },
  "language_info": {
   "codemirror_mode": {
    "name": "ipython",
    "version": 3
   },
   "file_extension": ".py",
   "mimetype": "text/x-python",
   "name": "python",
   "nbconvert_exporter": "python",
   "pygments_lexer": "ipython3",
   "version": "3.9.6"
  },
  "naas": {
   "notebook_id": "e9dd7f3721289c5cacbb673f835f8704f69b9c284464098a10e7a324a52b8a32",
   "notebook_path": "Clockify/Clockify_Send_time_entries_database_to_Google_Sheets_spreadsheet.ipynb"
  },
  "papermill": {
   "default_parameters": {},
   "environment_variables": {},
   "parameters": {},
   "version": "2.4.0"
  },
  "widgets": {
   "application/vnd.jupyter.widget-state+json": {
    "state": {},
    "version_major": 2,
    "version_minor": 0
   }
  }
 },
 "nbformat": 4,
 "nbformat_minor": 5
}