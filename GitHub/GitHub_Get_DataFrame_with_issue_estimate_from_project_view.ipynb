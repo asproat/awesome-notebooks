{
 "cells": [
  {
   "cell_type": "markdown",
   "id": "717048ed-d26c-4569-b295-e75c349bf21d",
   "metadata": {
    "papermill": {},
    "tags": []
   },
   "source": [
    "<img width=\"10%\" alt=\"Naas\" src=\"https://landen.imgix.net/jtci2pxwjczr/assets/5ice39g4.png?w=160\"/>"
   ]
  },
  {
   "cell_type": "markdown",
   "id": "432caf78-c690-40cf-a65e-529c6f00cb3b",
   "metadata": {
    "papermill": {},
    "tags": []
   },
   "source": [
    "# GitHub - Get DataFrame with issue estimate from project view\n",
    "<a href=\"https://app.naas.ai/user-redirect/naas/downloader?url=https://raw.githubusercontent.com/jupyter-naas/awesome-notebooks/master/GitHub/GitHub_Get_DataFrame_with_issue_estimate_from_project_view.ipynb\" target=\"_parent\"><img src=\"https://naasai-public.s3.eu-west-3.amazonaws.com/Open_in_Naas_Lab.svg\"/></a><br><br><a href=\"https://bit.ly/3JyWIk6\">Give Feedbacks</a> | <a href=\"https://github.com/jupyter-naas/awesome-notebooks/issues/new?assignees=&labels=bug&template=bug_report.md&title=GitHub+-+Get+DataFrame+with+issue+estimate+from+project+view:+Error+short+description\">Bug report</a>"
   ]
  },
  {
   "cell_type": "markdown",
   "id": "6e203af2-4d97-41a8-9127-8b96ca922731",
   "metadata": {
    "papermill": {},
    "tags": []
   },
   "source": [
    "**Tags:** #github #dataframe #beautifulsoup #projectview #scraping #python"
   ]
  },
  {
   "cell_type": "markdown",
   "id": "d8b98120-6757-4306-a58d-9f07d839dd19",
   "metadata": {
    "papermill": {},
    "tags": []
   },
   "source": [
    "**Author:** [Benjamin Filly](https://www.linkedin.com/in/benjamin-filly-05427727a/)"
   ]
  },
  {
   "cell_type": "markdown",
   "id": "e365185d-9d62-4874-90b7-cbca6d882586",
   "metadata": {
    "papermill": {},
    "tags": []
   },
   "source": [
    "**Last update:** 2023-07-31 (Created: 2023-07-20)"
   ]
  },
  {
   "cell_type": "markdown",
   "id": "c2c462a0-cd8d-48b0-a114-fb4e061c8324",
   "metadata": {
    "papermill": {},
    "tags": []
   },
   "source": [
    "**Description:** This notebook demonstrates how to retrieve a dataframe containing issue estimates from the project view using BeautifulSoup. Since GitHub's API doesn't offer a way to fetch issue estimates directly, this method allows us to obtain these estimates and generate statistics by assignee and iteration. To use this template, you must create a view with columns in the following order:\n",
    "- Issue Title\n",
    "- Assginees\n",
    "- Estimate\n",
    "- LinkedIn pull request"
   ]
  },
  {
   "cell_type": "markdown",
   "id": "f619128e-0350-4110-bb6d-7681c2f477c0",
   "metadata": {
    "papermill": {},
    "tags": []
   },
   "source": [
    "**References:**\n",
    "- [BeautifulSoup Documentation](https://www.crummy.com/software/BeautifulSoup/bs4/doc/)\n",
    "- [GitHub Project View](https://help.github.com/en/github/managing-your-work-on-github/about-project-boards)"
   ]
  },
  {
   "cell_type": "markdown",
   "id": "c96862b4-a30a-4b61-a64f-2e0ce1f3a355",
   "metadata": {
    "papermill": {},
    "tags": []
   },
   "source": [
    "## Input"
   ]
  },
  {
   "cell_type": "markdown",
   "id": "67f41d1e-9a29-43a3-b17c-5987aa73535a",
   "metadata": {
    "papermill": {},
    "tags": []
   },
   "source": [
    "### Import libraries"
   ]
  },
  {
   "cell_type": "code",
   "execution_count": null,
   "id": "8c5974e5-adfb-439f-84ed-ce26aac061c5",
   "metadata": {
    "papermill": {},
    "tags": []
   },
   "outputs": [],
   "source": [
    "import requests\n",
    "from bs4 import BeautifulSoup\n",
    "import pandas as pd\n",
    "from IPython.display import display"
   ]
  },
  {
   "cell_type": "markdown",
   "id": "296bbef1-fd06-4044-84d4-bde345a070ab",
   "metadata": {
    "papermill": {},
    "tags": []
   },
   "source": [
    "### Setup Variables\n",
    "- `url`: URL of the project view page\n",
    "- `assignee`: Define the name of the assignee for filtering"
   ]
  },
  {
   "cell_type": "code",
   "execution_count": null,
   "id": "5828a627-685c-4a53-84f7-2ab6bc58551d",
   "metadata": {
    "papermill": {},
    "tags": []
   },
   "outputs": [],
   "source": [
    "url = \"https://github.com/orgs/jupyter-naas/projects/10/views/20\"\n",
    "assignee_name = None #If the variable is equal to None then the function will not filter the dataframe"
   ]
  },
  {
   "cell_type": "markdown",
   "id": "c3792947-66da-4514-845e-976c2a476ef8",
   "metadata": {
    "papermill": {},
    "tags": []
   },
   "source": [
    "## Model"
   ]
  },
  {
   "cell_type": "markdown",
   "id": "8f9ff22d-f923-47b8-92cf-6b7503576ee5",
   "metadata": {
    "papermill": {},
    "tags": []
   },
   "source": [
    "### Get Data from project view"
   ]
  },
  {
   "cell_type": "markdown",
   "id": "036d4552-c7f8-4d8b-96e9-8fb9777d77ff",
   "metadata": {
    "papermill": {},
    "tags": []
   },
   "source": [
    "This function returns organised data from the project view soup using BeautifulSoup."
   ]
  },
  {
   "cell_type": "code",
   "execution_count": null,
   "id": "3ac51224-39ad-4a49-b5e3-568166939879",
   "metadata": {
    "papermill": {},
    "tags": []
   },
   "outputs": [],
   "source": [
    "# Init\n",
    "data = []\n",
    "\n",
    "# Get HTML from URL\n",
    "response = requests.get(url)\n",
    "html = response.text\n",
    "\n",
    "# Parse HTML\n",
    "soup = BeautifulSoup(html, \"html.parser\")\n",
    "\n",
    "# Get cards\n",
    "elements = soup.find_all(\"script\", {\"id\": \"memex-items-data\"})\n",
    "\n",
    "# Iterate over the elements and split their text\n",
    "for element in elements:\n",
    "    text = element.text\n",
    "    split_text = text.split('{\"contentId\":')[1:]  # Split the text as needed\n",
    "    \n",
    "    # Split the soup for each element\n",
    "    for s in split_text:\n",
    "        s = s.split('\"memexProjectColumnId\":')[1:]\n",
    "        # Get the values using splits\n",
    "        title = s[0].split('\"raw\":\"')[-1].split('\"')[0]\n",
    "        issue_number = s[0].split('\"number\":')[-1].split(',')[0]\n",
    "        assignees = s[1].split('\"login\":\"')[-1].split('\"')[0]\n",
    "        PR_url = s[2].split('\"url\":\"')[-1].split('\"')[0]\n",
    "        estimate = s[3].split('\"value\":')[-1].split('}')[0]\n",
    "        \n",
    "        # Handle possible error\n",
    "        if not str(issue_number).isdigit():\n",
    "            issue_number = \"❌ Error\"\n",
    "        \n",
    "        # Create a dictionary with the values\n",
    "        tmp = {\n",
    "            \"Title\": title,\n",
    "            \"Issue Number\": issue_number,\n",
    "            \"Assignees\": assignees,\n",
    "            \"PR URL\": PR_url,\n",
    "            \"Estimate\": estimate,\n",
    "        }\n",
    "        # Append the dictionary to the data list\n",
    "        data.append(tmp)\n",
    "        \n",
    "# Create a DataFrame from the data list\n",
    "df_init = pd.DataFrame(data)\n",
    "df_init"
   ]
  },
  {
   "cell_type": "markdown",
   "id": "503c93d1-e7bc-475a-b544-78cd83fb4102",
   "metadata": {
    "papermill": {},
    "tags": []
   },
   "source": [
    "## Output"
   ]
  },
  {
   "cell_type": "markdown",
   "id": "fb9c604b-f038-4cd8-9468-6d329974e4fe",
   "metadata": {
    "papermill": {},
    "tags": []
   },
   "source": [
    "### Creating and customising a dataframe"
   ]
  },
  {
   "cell_type": "code",
   "execution_count": null,
   "id": "615d723f-4c3d-4a69-bf1a-e60d3ef7751c",
   "metadata": {
    "papermill": {},
    "tags": []
   },
   "outputs": [],
   "source": [
    "df = df_init.copy()\n",
    "\n",
    "# Convert 'Estimate' column to numerical data type\n",
    "df['Estimate'] = df['Estimate'].str.replace(\"null\", \"0\")\n",
    "df['Estimate'] = pd.to_numeric(df['Estimate'], errors='coerce').astype(int)\n",
    "\n",
    "# Check if assignee is not None before filtering\n",
    "if assignee_name is not None:\n",
    "    # Filter by assignee\n",
    "    filtered_df = df[df['Assignees'] == assignee_name].reset_index(drop=True)\n",
    "else:\n",
    "    # Use the original DataFrame without filtering\n",
    "    filtered_df = df\n",
    "\n",
    "# Format PR URL as clickable link\n",
    "filtered_df.loc[:, 'PR URL'] = filtered_df['PR URL'].apply(lambda x: f'<a href=\"{x}\" target=\"_blank\">{x}</a>')\n",
    "\n",
    "# Apply custom styling to the DataFrame\n",
    "styled_df = filtered_df.style \\\n",
    "    .set_properties(**{'max-width': '200px'}) \\\n",
    "    .background_gradient(subset=['Estimate'], cmap='Blues') \\\n",
    "    .highlight_null(color='lightgrey') \\\n",
    "    .highlight_max(subset=['Estimate'], color='lightgreen') \\\n",
    "    .highlight_min(subset=['Estimate'], color='lightcoral')\n",
    "styled_df"
   ]
  },
  {
   "cell_type": "markdown",
   "id": "a9887dae-0cb4-4a10-bcf6-2c250b7cb12f",
   "metadata": {
    "papermill": {},
    "tags": []
   },
   "source": [
    " "
   ]
  }
 ],
 "metadata": {
  "kernelspec": {
   "display_name": "Python 3",
   "language": "python",
   "name": "python3"
  },
  "language_info": {
   "codemirror_mode": {
    "name": "ipython",
    "version": 3
   },
   "file_extension": ".py",
   "mimetype": "text/x-python",
   "name": "python",
   "nbconvert_exporter": "python",
   "pygments_lexer": "ipython3",
   "version": "3.9.6"
  },
  "naas": {
   "notebook_id": "320908ffbe4931be40be2e749cd53cef0ae7448e70673b5b014314e7535adf59",
   "notebook_path": "GitHub/GitHub_Get_DataFrame_with_issue_estimate_from_project_view.ipynb"
  },
  "papermill": {
   "default_parameters": {},
   "environment_variables": {},
   "parameters": {},
   "version": "2.4.0"
  },
  "widgets": {
   "application/vnd.jupyter.widget-state+json": {
    "state": {},
    "version_major": 2,
    "version_minor": 0
   }
  }
 },
 "nbformat": 4,
 "nbformat_minor": 5
}