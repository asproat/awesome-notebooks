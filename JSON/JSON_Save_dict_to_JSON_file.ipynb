{
 "cells": [
  {
   "cell_type": "markdown",
   "id": "3aa858af-067d-4831-9b9a-5f3e918efac3",
   "metadata": {
    "papermill": {},
    "tags": []
   },
   "source": [
    "<img width=\"10%\" alt=\"Naas\" src=\"https://landen.imgix.net/jtci2pxwjczr/assets/5ice39g4.png?w=160\"/>"
   ]
  },
  {
   "cell_type": "markdown",
   "id": "d36356f7-4c3f-4758-a00e-84826514535c",
   "metadata": {
    "papermill": {},
    "tags": []
   },
   "source": [
    "# JSON - Save dict to  file\n",
    "<a href=\"https://app.naas.ai/user-redirect/naas/downloader?url=https://raw.githubusercontent.com/jupyter-naas/awesome-notebooks/master/JSON/JSON_Save_dict_to_JSON_file.ipynb\" target=\"_parent\"><img src=\"https://naasai-public.s3.eu-west-3.amazonaws.com/Open_in_Naas_Lab.svg\"/></a><br><br><a href=\"https://bit.ly/3JyWIk6\">Give Feedbacks</a> | <a href=\"https://github.com/jupyter-naas/awesome-notebooks/issues/new?assignees=&labels=bug&template=bug_report.md&title=JSON+-+Save+dict+to++file:+Error+short+description\">Bug report</a>"
   ]
  },
  {
   "cell_type": "markdown",
   "id": "c616068c-4b2d-444c-b6d1-311ae7047723",
   "metadata": {
    "papermill": {},
    "tags": []
   },
   "source": [
    "**Tags:** #json #python #file #save #data"
   ]
  },
  {
   "cell_type": "markdown",
   "id": "3bb73f8f-7dd1-4803-a9e2-b5dd1f31918f",
   "metadata": {
    "papermill": {},
    "tags": []
   },
   "source": [
    "**Author:** [Sriniketh Jayasendil](https://www.linkedin.com/in/sriniketh-jayasendil/)"
   ]
  },
  {
   "cell_type": "markdown",
   "id": "69830368-309d-4561-8dd0-53a69c6e8030",
   "metadata": {
    "papermill": {},
    "tags": []
   },
   "source": [
    "**Last update:** 2023-05-09 (Created: 2023-03-10)"
   ]
  },
  {
   "cell_type": "markdown",
   "id": "d3c4f486-789b-4ed6-bc4e-10f42242b425",
   "metadata": {
    "papermill": {},
    "tags": []
   },
   "source": [
    "**Description:** This notebook will demonstrate how to save a dict to a json file."
   ]
  },
  {
   "cell_type": "markdown",
   "id": "f89f9cf2-8555-4461-86a6-da17482c84fc",
   "metadata": {
    "papermill": {},
    "tags": []
   },
   "source": [
    "**References:**\n",
    "- [Python json module](https://docs.python.org/3/library/json.html)\n",
    "- [Python json.dump()](https://www.programiz.com/python-programming/methods/json/dump)"
   ]
  },
  {
   "cell_type": "markdown",
   "id": "9e80b263-878f-417a-aa26-6f46640781e2",
   "metadata": {
    "papermill": {},
    "tags": []
   },
   "source": [
    "## Input"
   ]
  },
  {
   "cell_type": "markdown",
   "id": "990d6312-352f-4121-a6ba-986f981a6075",
   "metadata": {
    "papermill": {},
    "tags": []
   },
   "source": [
    "### Import libraries"
   ]
  },
  {
   "cell_type": "code",
   "execution_count": 1,
   "id": "1a776e43-a2b8-46de-b982-61b1d220402d",
   "metadata": {
    "papermill": {},
    "tags": []
   },
   "outputs": [],
   "source": [
    "import json"
   ]
  },
  {
   "cell_type": "markdown",
   "id": "ec5db635-aef2-4cf6-9646-c54173b4f048",
   "metadata": {
    "papermill": {},
    "tags": []
   },
   "source": [
    "### Setup variables\n",
    "- `json_path`: json file path"
   ]
  },
  {
   "cell_type": "code",
   "execution_count": 2,
   "id": "093a6a77-011a-43b7-bc51-c8609b71c9db",
   "metadata": {
    "papermill": {},
    "tags": []
   },
   "outputs": [],
   "source": [
    "json_path = \"data.json\""
   ]
  },
  {
   "cell_type": "markdown",
   "id": "492ff731-7c1d-421a-8ca8-f9998960985e",
   "metadata": {
    "papermill": {},
    "tags": []
   },
   "source": [
    "## Model"
   ]
  },
  {
   "cell_type": "markdown",
   "id": "e99d198a-f27c-42f4-b02b-27fc83161004",
   "metadata": {
    "papermill": {},
    "tags": []
   },
   "source": [
    "### Create data"
   ]
  },
  {
   "cell_type": "code",
   "execution_count": 3,
   "id": "a33e5259-5d5b-4295-9054-99bb6a3d8102",
   "metadata": {
    "papermill": {},
    "tags": []
   },
   "outputs": [],
   "source": [
    "data = {\"name\": \"John Doe\", \"age\": 30, \"city\": \"New York\"}\n",
    "data"
   ]
  },
  {
   "cell_type": "markdown",
   "id": "4a3f7a9a-b3f2-4bcf-aabb-abe0d114357a",
   "metadata": {
    "papermill": {},
    "tags": []
   },
   "source": [
    "## Output"
   ]
  },
  {
   "cell_type": "markdown",
   "id": "ddcea30b-ca37-40d9-bd95-6051a05032d9",
   "metadata": {
    "papermill": {},
    "tags": []
   },
   "source": [
    "### Save json file"
   ]
  },
  {
   "cell_type": "markdown",
   "id": "42126c8d-c5e9-486c-8eee-e5430032969a",
   "metadata": {
    "papermill": {},
    "tags": []
   },
   "source": [
    "Using the `json.dump()` function, the `data` dictionary can be saved to a json file."
   ]
  },
  {
   "cell_type": "code",
   "execution_count": 4,
   "id": "2000cc5f-9c13-49ef-b52d-8890cd8bad41",
   "metadata": {
    "papermill": {},
    "tags": []
   },
   "outputs": [],
   "source": [
    "with open(json_path, \"w\") as f:\n",
    "    json.dump(data, f)\n",
    "print(\"💾 The json file has been saved to the current directory.\")"
   ]
  },
  {
   "cell_type": "markdown",
   "id": "d0c4eb23-c6d1-4b09-b39e-59394b601926",
   "metadata": {
    "papermill": {},
    "tags": []
   },
   "source": [
    " "
   ]
  },
  {
   "cell_type": "markdown",
   "id": "3f5c1715-a12e-4031-96e5-bcf488ea098d",
   "metadata": {
    "papermill": {},
    "tags": []
   },
   "source": [
    " "
   ]
  }
 ],
 "metadata": {
  "kernelspec": {
   "display_name": "Python 3",
   "language": "python",
   "name": "python3"
  },
  "language_info": {
   "codemirror_mode": {
    "name": "ipython",
    "version": 3
   },
   "file_extension": ".py",
   "mimetype": "text/x-python",
   "name": "python",
   "nbconvert_exporter": "python",
   "pygments_lexer": "ipython3",
   "version": "3.9.6"
  },
  "naas": {
   "notebook_id": "050391ecb5e0318f1aea99870a20423b913b3baef4dfac8b3ecd9d1c32618266",
   "notebook_path": "JSON/JSON_Save_dict_to_JSON_file.ipynb"
  },
  "papermill": {
   "default_parameters": {},
   "environment_variables": {},
   "parameters": {},
   "version": "2.4.0"
  },
  "widgets": {
   "application/vnd.jupyter.widget-state+json": {
    "state": {},
    "version_major": 2,
    "version_minor": 0
   }
  }
 },
 "nbformat": 4,
 "nbformat_minor": 5
}