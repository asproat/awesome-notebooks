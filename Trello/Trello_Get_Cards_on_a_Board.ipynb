{
 "cells": [
  {
   "cell_type": "markdown",
   "id": "e3f41c66-54b7-4f06-9881-9a9991bf43d1",
   "metadata": {
    "papermill": {},
    "tags": []
   },
   "source": [
    "<img width=\"10%\" alt=\"Naas\" src=\"https://landen.imgix.net/jtci2pxwjczr/assets/5ice39g4.png?w=160\"/>"
   ]
  },
  {
   "cell_type": "markdown",
   "id": "dbc4cf57-1769-4639-bc72-0377bb682bf5",
   "metadata": {
    "papermill": {},
    "tags": []
   },
   "source": [
    "# Trello - Get Cards on a Board\n",
    "<a href=\"https://app.naas.ai/user-redirect/naas/downloader?url=https://raw.githubusercontent.com/jupyter-naas/awesome-notebooks/master/Trello/Trello_Get_Cards_on_a_Board.ipynb\" target=\"_parent\"><img src=\"https://naasai-public.s3.eu-west-3.amazonaws.com/Open_in_Naas_Lab.svg\"/></a><br><br><a href=\"https://bit.ly/3JyWIk6\">Give Feedbacks</a> | <a href=\"https://github.com/jupyter-naas/awesome-notebooks/issues/new?assignees=&labels=bug&template=bug_report.md&title=Trello+-+Get+Cards+on+a+Board:+Error+short+description\">Bug report</a>"
   ]
  },
  {
   "cell_type": "markdown",
   "id": "68643b1f-e196-4735-9600-3add8344d37b",
   "metadata": {
    "papermill": {},
    "tags": []
   },
   "source": [
    "**Tags:** #trello #api #rest #cards #board #get"
   ]
  },
  {
   "cell_type": "markdown",
   "id": "7b82329c-d291-44d0-82c0-0bebabe140d4",
   "metadata": {
    "papermill": {},
    "tags": []
   },
   "source": [
    "**Author:** [Benjamin Filly](https://www.linkedin.com/in/benjamin-filly-05427727a/)"
   ]
  },
  {
   "cell_type": "markdown",
   "id": "40e48172-1cbf-438e-bac7-e47d21927f6b",
   "metadata": {
    "papermill": {},
    "tags": []
   },
   "source": [
    "**Last update:** 2023-07-14 (Created: 2023-07-14)"
   ]
  },
  {
   "cell_type": "markdown",
   "id": "fe2e4742-dfa5-4b0f-9377-de233c19eff9",
   "metadata": {
    "papermill": {},
    "tags": []
   },
   "source": [
    "**Description:** This notebook get all cards from a board."
   ]
  },
  {
   "cell_type": "markdown",
   "id": "52215a73-6d34-40cd-910a-4dc489a8ff2e",
   "metadata": {
    "papermill": {},
    "tags": []
   },
   "source": [
    "**References:**\n",
    "- [Trello API Documentation](https://developer.atlassian.com/cloud/trello/rest/api-group-boards/#api-boards-id-cards-get)\n",
    "- [Trello API Authentication](https://developer.atlassian.com/cloud/trello/guides/rest-api/api-introduction/#authentication)"
   ]
  },
  {
   "cell_type": "markdown",
   "id": "19b038d9-985e-4c4f-873b-77a79b201d8d",
   "metadata": {
    "papermill": {},
    "tags": []
   },
   "source": [
    "## Input"
   ]
  },
  {
   "cell_type": "markdown",
   "id": "150e31ef-a043-4e0f-8544-6f6f74c13a89",
   "metadata": {
    "papermill": {},
    "tags": []
   },
   "source": [
    "### Import libraries"
   ]
  },
  {
   "cell_type": "code",
   "execution_count": null,
   "id": "d88d11ca-f19a-4808-a420-553bfed562f6",
   "metadata": {
    "papermill": {},
    "tags": []
   },
   "outputs": [],
   "source": [
    "import requests\n",
    "import naas"
   ]
  },
  {
   "cell_type": "markdown",
   "id": "de74bd41-9051-4865-b9b2-2de71c4ce874",
   "metadata": {
    "papermill": {},
    "tags": []
   },
   "source": [
    "### Setup Variables\n",
    "- `api_key`: Your Trello API key. [Get your API key here](https://github.com/Benjifilly/My_notebooks/wiki/How-to-obtain-an-API-key-for-Trello)\n",
    "- `force_update`: Parameters to enforce the token update\n",
    "- `board_id`: The ID of the board you want to get the cards from"
   ]
  },
  {
   "cell_type": "code",
   "execution_count": null,
   "id": "676d453f-1689-4017-a9e2-ac206aa351fa",
   "metadata": {
    "papermill": {},
    "tags": []
   },
   "outputs": [],
   "source": [
    "api_key = naas.secret.get(\"TRELLO_API_KEY\") or \"YOUR_TRELLO_API_KEY\"\n",
    "force_update = False\n",
    "board_id = '64a19089d2xxxxxx' #Example: \"https://trello.com/b/ogBhOe9a/ultimate-to-do-list\""
   ]
  },
  {
   "cell_type": "markdown",
   "id": "9ce89c21-dfc0-4ba2-b2eb-44fbac519ad7",
   "metadata": {
    "papermill": {},
    "tags": []
   },
   "source": [
    "## Model"
   ]
  },
  {
   "cell_type": "markdown",
   "id": "2afd2bc7-5f4f-4522-8167-989ebeabb3f2",
   "metadata": {
    "papermill": {},
    "tags": []
   },
   "source": [
    "### Get your token\n",
    "Your Trello token will be stored on naas secret name: \"TRELLO_TOKEN\""
   ]
  },
  {
   "cell_type": "code",
   "execution_count": null,
   "id": "e6af4a71-dce1-4a88-82e8-dad9a0effefd",
   "metadata": {
    "papermill": {},
    "tags": []
   },
   "outputs": [],
   "source": [
    "def get_token(api_key, force_update):\n",
    "    token = naas.secret.get(\"TRELLO_TOKEN\")\n",
    "    if not token or force_update:\n",
    "        url = f\"https://trello.com/1/authorize?expiration=never&scope=read,write,account&response_type=token&key={api_key}\"\n",
    "        print(f\"🔗 Click on the URL to get your token: {url}\")\n",
    "        print(\"✅ On the authorization page, click on 'Authorize' button at the bottom of the page to proceed.\")\n",
    "        print(\"💾 Copy/Paste the token in red in the input case below\")\n",
    "        token = input(\"-> Enter your token here:\")\n",
    "        naas.secret.add(\"TRELLO_TOKEN\", token)\n",
    "    return token\n",
    "     \n",
    "token = get_token(api_key, force_update)"
   ]
  },
  {
   "cell_type": "markdown",
   "id": "6d1bc995-19c6-43ce-8405-d8a3ee68681c",
   "metadata": {
    "papermill": {},
    "tags": []
   },
   "source": [
    "### Get Cards on a Board"
   ]
  },
  {
   "cell_type": "markdown",
   "id": "9300ff09-fafb-478a-aee3-4ad54dccdfbb",
   "metadata": {
    "papermill": {},
    "tags": []
   },
   "source": [
    "This function will get all of the open Cards on a Board."
   ]
  },
  {
   "cell_type": "code",
   "execution_count": null,
   "id": "005bd319-f1ba-45bf-9733-d10d31776b55",
   "metadata": {
    "papermill": {},
    "tags": []
   },
   "outputs": [],
   "source": [
    "# Endpoint URL to get all lists on a board\n",
    "lists_url = f'https://api.trello.com/1/boards/{board_id}/lists'\n",
    "\n",
    "# Parameters for the lists request\n",
    "lists_params = {\n",
    "    'key': api_key,\n",
    "    'token': token,\n",
    "}\n",
    "\n",
    "# Send GET request to the Trello API to get lists\n",
    "lists_response = requests.get(lists_url, params=lists_params)"
   ]
  },
  {
   "cell_type": "markdown",
   "id": "18efd886-0c30-4444-8d45-348f41886e1d",
   "metadata": {
    "papermill": {},
    "tags": []
   },
   "source": [
    "## Output"
   ]
  },
  {
   "cell_type": "markdown",
   "id": "38d40391-d1f4-4acd-b272-1d1a1dcb46d1",
   "metadata": {
    "papermill": {},
    "tags": []
   },
   "source": [
    "### Display result"
   ]
  },
  {
   "cell_type": "code",
   "execution_count": null,
   "id": "73be94a3-b8b8-4bc6-a898-00d16ddaedd9",
   "metadata": {
    "papermill": {},
    "tags": []
   },
   "outputs": [],
   "source": [
    "# Check if the lists request was successful\n",
    "if lists_response.status_code == 200:\n",
    "    # Parse the lists response as JSON\n",
    "    lists = lists_response.json()\n",
    "\n",
    "    # Iterate through the lists\n",
    "    for list_obj in lists:\n",
    "        list_id = list_obj['id']\n",
    "\n",
    "        # Endpoint URL to get cards in a list\n",
    "        cards_url = f'https://api.trello.com/1/lists/{list_id}/cards'\n",
    "\n",
    "        # Parameters for the cards request\n",
    "        cards_params = {\n",
    "            'key': api_key,\n",
    "            'token': token,\n",
    "        }\n",
    "\n",
    "        # Send GET request to the Trello API to get cards\n",
    "        cards_response = requests.get(cards_url, params=cards_params)\n",
    "\n",
    "        # Check if the cards request was successful\n",
    "        if cards_response.status_code == 200:\n",
    "            # Parse the cards response as JSON\n",
    "            cards = cards_response.json()\n",
    "            cards_count = len(cards)\n",
    "\n",
    "            # Print the list title with count of cards\n",
    "            print(f\"=== Card List ===\")\n",
    "            print(f\"{list_obj['name']} : {cards_count}\")\n",
    "\n",
    "            # Print the card names\n",
    "            for card in cards:\n",
    "                print(f\"📌 {card['name']}\")\n",
    "\n",
    "            # Print a separator line between lists\n",
    "            print(\"-----------------------------------------\")\n",
    "\n",
    "        else:\n",
    "            print(f\"Error: {cards_response.status_code} - {cards_response.text}\")\n",
    "\n",
    "else:\n",
    "    print(f\"Error: {lists_response.status_code} - {lists_response.text}\")"
   ]
  }
 ],
 "metadata": {
  "kernelspec": {
   "display_name": "Python 3",
   "language": "python",
   "name": "python3"
  },
  "language_info": {
   "codemirror_mode": {
    "name": "ipython",
    "version": 3
   },
   "file_extension": ".py",
   "mimetype": "text/x-python",
   "name": "python",
   "nbconvert_exporter": "python",
   "pygments_lexer": "ipython3",
   "version": "3.9.6"
  },
  "naas": {
   "notebook_id": "171b2e70749cf7235cefd7b019c057afa2196c1cdfdb0127320915d7609c3fc6",
   "notebook_path": "Trello/Trello_Get_Cards_on_a_Board.ipynb"
  },
  "papermill": {
   "default_parameters": {},
   "environment_variables": {},
   "parameters": {},
   "version": "2.4.0"
  },
  "widgets": {
   "application/vnd.jupyter.widget-state+json": {
    "state": {},
    "version_major": 2,
    "version_minor": 0
   }
  }
 },
 "nbformat": 4,
 "nbformat_minor": 5
}