{
 "cells": [
  {
   "cell_type": "markdown",
   "id": "naas-logo",
   "metadata": {
    "papermill": {},
    "tags": [
     "naas"
    ]
   },
   "source": [
    "<img width=\"10%\" alt=\"Naas\" src=\"https://landen.imgix.net/jtci2pxwjczr/assets/5ice39g4.png?w=160\"/>"
   ]
  },
  {
   "cell_type": "markdown",
   "id": "veterinary-pleasure",
   "metadata": {
    "papermill": {},
    "tags": []
   },
   "source": [
    "# NASA - Display Exoplanet by Light Curves\n",
    "<a href=\"https://app.naas.ai/user-redirect/naas/downloader?url=https://raw.githubusercontent.com/jupyter-naas/awesome-notebooks/master/NASA/NASA_Classify_Exoplanet_by_light_curves.ipynb\" target=\"_parent\"><img src=\"https://naasai-public.s3.eu-west-3.amazonaws.com/Open_in_Naas_Lab.svg\"/></a><br><br><a href=\"https://bit.ly/3JyWIk6\">Give Feedbacks</a> | <a href=\"https://github.com/jupyter-naas/awesome-notebooks/issues/new?assignees=&labels=bug&template=bug_report.md&title=NASA+-+Display+Exoplanet+by+Light+Curves:+Error+short+description\">Bug report</a>"
   ]
  },
  {
   "cell_type": "markdown",
   "id": "fc44a5d0-50db-4c8c-967a-3670dea9db8d",
   "metadata": {
    "papermill": {},
    "tags": []
   },
   "source": [
    "**Tags:** #nasa #naas #opendata #analytics #astronomy #html #png #operations #image #pylab"
   ]
  },
  {
   "cell_type": "markdown",
   "id": "naas-author",
   "metadata": {
    "papermill": {},
    "tags": [
     "naas"
    ]
   },
   "source": [
    "**Author:** [Mardiat-Iman](https://www.linkedin.com/in/mardiat-iman-ibrahim-imam-726027262)"
   ]
  },
  {
   "cell_type": "markdown",
   "id": "2a6c5d1f-5835-4d2f-bee5-3ad9c350a7cd",
   "metadata": {
    "papermill": {},
    "tags": []
   },
   "source": [
    "**Last update:** 2023-07-31 (Created: 2023-07-05)"
   ]
  },
  {
   "cell_type": "markdown",
   "id": "traditional-assist",
   "metadata": {
    "papermill": {},
    "tags": []
   },
   "source": [
    "**Description:** This notebook is display Exoplanet by light curves. An exoplanet is any planet beyond our solar system. Most orbit other stars, but free-floating exoplanets, called rogue planets, orbit the galactic center and are untethered to any star.<br>\n"
   ]
  },
  {
   "cell_type": "markdown",
   "id": "contained-burlington",
   "metadata": {
    "papermill": {},
    "tags": []
   },
   "source": [
    "**References:**\n",
    "- Data source: Satellite observations. Credit: /NASA\n",
    "- [Classify Exoplanet by Light Curves](https://www.kaggle.com/keplersmachines/kepler-labelled-time-series-data)"
   ]
  },
  {
   "cell_type": "markdown",
   "id": "4b08853c-1a82-4e12-9ac6-39bebbd80d0f",
   "metadata": {
    "papermill": {},
    "tags": []
   },
   "source": [
    "## Input"
   ]
  },
  {
   "cell_type": "markdown",
   "id": "cf6fdfd1-8b34-466c-9d42-42d568ca8d85",
   "metadata": {
    "papermill": {},
    "tags": []
   },
   "source": [
    "### Import libraries"
   ]
  },
  {
   "cell_type": "code",
   "execution_count": null,
   "id": "77fb59f5-b8e1-44db-9b41-72ec0d378173",
   "metadata": {
    "papermill": {},
    "tags": []
   },
   "outputs": [],
   "source": [
    "import pandas as pd\n",
    "import numpy as np\n",
    "%pylab inline\n",
    "import naas"
   ]
  },
  {
   "cell_type": "markdown",
   "id": "14eaf079-e76b-4ed0-ab35-c81ee575acea",
   "metadata": {
    "papermill": {},
    "tags": []
   },
   "source": [
    "### Setup Variables\n",
    "- `flux_data`: source data in CSV. The \"FLUX\" column represents the brightness of the star"
   ]
  },
  {
   "cell_type": "code",
   "execution_count": null,
   "id": "ad58558e-2edb-422c-a469-21219cbdd5b4",
   "metadata": {
    "papermill": {},
    "tags": []
   },
   "outputs": [],
   "source": [
    "flux_data = 'https://storage.googleapis.com/inspirit-ai-data-bucket-1/Data/AI%20Scholars/Sessions%206%20-%2010%20(Projects)/Project%20-%20Planet%20Hunters/exoTest.csv'"
   ]
  },
  {
   "cell_type": "markdown",
   "id": "98e4a20f-f69f-41ff-abdb-b56d454fe63c",
   "metadata": {
    "papermill": {},
    "tags": []
   },
   "source": [
    "## Model"
   ]
  },
  {
   "cell_type": "markdown",
   "id": "e9eb1dfb-7ccc-4cad-ba67-89ea299cafb7",
   "metadata": {
    "papermill": {},
    "tags": []
   },
   "source": [
    "### Get Data\n",
    "- `LABEL` -> 2 is an exoplanet star and 1 is a non-exoplanet-star.\n",
    "- `FLUX1-FLUX3197` -> the light intensity recorded for each star, at a different point in time."
   ]
  },
  {
   "cell_type": "code",
   "execution_count": null,
   "id": "b717651c-3f2f-48c7-a66b-73bc418ca581",
   "metadata": {
    "papermill": {},
    "tags": []
   },
   "outputs": [],
   "source": [
    "df = pd.read_csv(flux_data)\n",
    "print(\"Row fetched:\", len(df))\n",
    "df.tail(12)"
   ]
  },
  {
   "cell_type": "markdown",
   "id": "c3d6d6eb-0a05-42e9-906e-880d2f432d2a",
   "metadata": {
    "papermill": {},
    "tags": []
   },
   "source": [
    "## Output"
   ]
  },
  {
   "cell_type": "markdown",
   "id": "random-restoration",
   "metadata": {
    "papermill": {},
    "tags": []
   },
   "source": [
    "### Plot graph"
   ]
  },
  {
   "cell_type": "code",
   "execution_count": null,
   "id": "informative-terry",
   "metadata": {
    "papermill": {},
    "tags": []
   },
   "outputs": [],
   "source": [
    "labels = df['LABEL']\n",
    "flux_data = df.drop('LABEL',axis=1) #drop the labels from the data frame, leaving only the flux data\n",
    "\n",
    "exo_data=flux_data.loc[labels==2] \n",
    "\n",
    "def plot_light_curve(dataset, index):\n",
    "    plt.figure()\n",
    "    plt.plot(np.array(dataset[index:index+1])[0])\n",
    "    plt.show()\n",
    "    \n",
    "for i in range(len(exo_data)):#the number in the bracket is how many times plots of the light curve you want.\n",
    "    plot_light_curve(exo_data, i) #the number is the dataset you want transformed into a light curve"
   ]
  }
 ],
 "metadata": {
  "kernelspec": {
   "display_name": "Python 3",
   "language": "python",
   "name": "python3"
  },
  "language_info": {
   "codemirror_mode": {
    "name": "ipython",
    "version": 3
   },
   "file_extension": ".py",
   "mimetype": "text/x-python",
   "name": "python",
   "nbconvert_exporter": "python",
   "pygments_lexer": "ipython3",
   "version": "3.9.6"
  },
  "naas": {
   "notebook_id": "8c8fa4d995ff61138dd01ab17c04bb8001b05cbb2aeb5f0eaab6a5c27c9ed6f4",
   "notebook_path": "NASA/NASA_Classify_Exoplanet_by_light_curves.ipynb"
  },
  "papermill": {
   "default_parameters": {},
   "environment_variables": {},
   "parameters": {},
   "version": "2.3.3"
  },
  "widgets": {
   "application/vnd.jupyter.widget-state+json": {
    "state": {},
    "version_major": 2,
    "version_minor": 0
   }
  }
 },
 "nbformat": 4,
 "nbformat_minor": 5
}