{
 "cells": [
  {
   "cell_type": "markdown",
   "id": "latin-packing",
   "metadata": {
    "execution": {
     "iopub.execute_input": "2021-02-23T14:22:16.610471Z",
     "iopub.status.busy": "2021-02-23T14:22:16.610129Z",
     "iopub.status.idle": "2021-02-23T14:22:16.627784Z",
     "shell.execute_reply": "2021-02-23T14:22:16.626866Z",
     "shell.execute_reply.started": "2021-02-23T14:22:16.610384Z"
    },
    "papermill": {},
    "tags": []
   },
   "source": [
    "<img width=\"10%\" alt=\"Naas\" src=\"https://landen.imgix.net/jtci2pxwjczr/assets/5ice39g4.png?w=160\"/>"
   ]
  },
  {
   "cell_type": "markdown",
   "id": "compressed-wilson",
   "metadata": {
    "papermill": {},
    "tags": []
   },
   "source": [
    "# Geopy - Get address from coordinates\n",
    "<a href=\"https://app.naas.ai/user-redirect/naas/downloader?url=https://raw.githubusercontent.com/jupyter-naas/awesome-notebooks/master/Geopy/Geopy_Get_address_from_coordinates.ipynb\" target=\"_parent\"><img src=\"https://naasai-public.s3.eu-west-3.amazonaws.com/Open_in_Naas_Lab.svg\"/></a><br><br><a href=\"https://bit.ly/3JyWIk6\">Give Feedbacks</a> | <a href=\"https://github.com/jupyter-naas/awesome-notebooks/issues/new?assignees=&labels=bug&template=bug_report.md&title=Geopy+-+Get+address+from+coordinates:+Error+short+description\">Bug report</a>"
   ]
  },
  {
   "cell_type": "markdown",
   "id": "cbf7f260-f739-4e8f-9074-f070af12b69f",
   "metadata": {
    "papermill": {},
    "tags": []
   },
   "source": [
    "**Tags:** #geopy #coordinates #address #navigation #snippet"
   ]
  },
  {
   "cell_type": "markdown",
   "id": "8af9aa79",
   "metadata": {
    "papermill": {},
    "tags": []
   },
   "source": [
    "**Author:** [Antonio Georgiev](www.linkedin.com/in/antonio-georgiev-b672a325b)"
   ]
  },
  {
   "cell_type": "markdown",
   "id": "e4af7f8b-db28-41dd-86a9-0b3b02e1048b",
   "metadata": {
    "papermill": {},
    "tags": []
   },
   "source": [
    "**Last update:** 2023-07-28 (Created: 2023-07-28)"
   ]
  },
  {
   "cell_type": "markdown",
   "id": "5436984d-1d8d-4c7f-9b4e-82eb0555bca6",
   "metadata": {
    "papermill": {},
    "tags": []
   },
   "source": [
    "**Description:** This notebook demonstrates how to utilize Geopy to convert a location(latitude and longitude) to its corresponding address."
   ]
  },
  {
   "cell_type": "markdown",
   "id": "164ff216-7e90-4c3a-bfd3-d8304e0068fc",
   "metadata": {
    "papermill": {},
    "tags": []
   },
   "source": [
    "**References:**\n",
    "- [Nominatim geocoder for OpenStreetMap data](https://geopy.readthedocs.io/en/stable/#nominatim)"
   ]
  },
  {
   "cell_type": "markdown",
   "id": "distinguished-truth",
   "metadata": {
    "papermill": {},
    "tags": []
   },
   "source": [
    "## Input"
   ]
  },
  {
   "cell_type": "markdown",
   "id": "b56e47f5-be89-4591-93ec-01e8fac50def",
   "metadata": {
    "papermill": {},
    "tags": []
   },
   "source": [
    "### Import libraries"
   ]
  },
  {
   "cell_type": "code",
   "execution_count": null,
   "id": "6b63229c-7614-4dc8-ba2a-e0b1e2f64918",
   "metadata": {
    "papermill": {},
    "tags": []
   },
   "outputs": [],
   "source": [
    "from geopy.geocoders import Nominatim"
   ]
  },
  {
   "cell_type": "markdown",
   "id": "cdb03c8b-52c2-424e-a63c-a4dad7c572b5",
   "metadata": {
    "papermill": {},
    "tags": []
   },
   "source": [
    "### Setup variables\n",
    "- `latitude`: This variable represents the position of a point on Earth's surface in terms of degrees north or south of the equator.\n",
    "- `longitude`: This variable represents the position of a point on Earth's surface in terms of degrees east or west of the Prime Meridian. "
   ]
  },
  {
   "cell_type": "code",
   "execution_count": null,
   "id": "bffaf74b-3e26-408f-9a55-bb495577cdf6",
   "metadata": {
    "papermill": {},
    "tags": []
   },
   "outputs": [],
   "source": [
    "# The variables `latitude` and `longitude` are utilized to store geographical coordinates.\n",
    "latitude = 42.6641527\n",
    "longitude = 23.2881605"
   ]
  },
  {
   "cell_type": "markdown",
   "id": "registered-showcase",
   "metadata": {
    "papermill": {},
    "tags": []
   },
   "source": [
    "## Model"
   ]
  },
  {
   "cell_type": "markdown",
   "id": "fe2c64dd-0f04-4f2b-9e05-e2761574368a",
   "metadata": {
    "papermill": {},
    "tags": []
   },
   "source": [
    "### Get address"
   ]
  },
  {
   "cell_type": "code",
   "execution_count": null,
   "id": "2fafe16a-ccca-43ae-88fd-eb23af803fe6",
   "metadata": {
    "papermill": {},
    "tags": []
   },
   "outputs": [],
   "source": [
    "geolocator = Nominatim(user_agent=\"geopy_exercise\")\n",
    "location = geolocator.reverse((latitude, longitude), exactly_one=True, language=\"en\")\n",
    "address = location.address if location else \"Address not found\""
   ]
  },
  {
   "cell_type": "markdown",
   "id": "c1e4c55b",
   "metadata": {
    "papermill": {},
    "tags": []
   },
   "source": [
    "## Output"
   ]
  },
  {
   "cell_type": "markdown",
   "id": "2ee5bfd6-de4f-40c9-a590-7c7afc44b9a0",
   "metadata": {
    "papermill": {},
    "tags": []
   },
   "source": [
    "### Display result"
   ]
  },
  {
   "cell_type": "code",
   "execution_count": null,
   "id": "5bf144bb-6c2e-40f7-9eb1-493a95d3fc61",
   "metadata": {
    "papermill": {},
    "tags": []
   },
   "outputs": [],
   "source": [
    "print(\"Address:\", address)"
   ]
  }
 ],
 "metadata": {
  "kernelspec": {
   "display_name": "Python 3",
   "language": "python",
   "name": "python3"
  },
  "language_info": {
   "codemirror_mode": {
    "name": "ipython",
    "version": 3
   },
   "file_extension": ".py",
   "mimetype": "text/x-python",
   "name": "python",
   "nbconvert_exporter": "python",
   "pygments_lexer": "ipython3",
   "version": "3.9.6"
  },
  "naas": {
   "notebook_id": "63fd46f3d47b86684983e648b8ce1b52533ad5e25df8521927f614d42973c09e",
   "notebook_path": "Geopy/Geopy_Get_address_from_coordinates.ipynb"
  },
  "papermill": {
   "default_parameters": {},
   "environment_variables": {},
   "parameters": {},
   "version": "2.3.3"
  },
  "widgets": {
   "application/vnd.jupyter.widget-state+json": {
    "state": {},
    "version_major": 2,
    "version_minor": 0
   }
  }
 },
 "nbformat": 4,
 "nbformat_minor": 5
}