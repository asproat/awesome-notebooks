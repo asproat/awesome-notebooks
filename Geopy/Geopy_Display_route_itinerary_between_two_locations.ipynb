{
 "cells": [
  {
   "cell_type": "markdown",
   "id": "latin-packing",
   "metadata": {
    "execution": {
     "iopub.execute_input": "2021-02-23T14:22:16.610471Z",
     "iopub.status.busy": "2021-02-23T14:22:16.610129Z",
     "iopub.status.idle": "2021-02-23T14:22:16.627784Z",
     "shell.execute_reply": "2021-02-23T14:22:16.626866Z",
     "shell.execute_reply.started": "2021-02-23T14:22:16.610384Z"
    },
    "papermill": {},
    "tags": []
   },
   "source": [
    "<img width=\"10%\" alt=\"Naas\" src=\"https://landen.imgix.net/jtci2pxwjczr/assets/5ice39g4.png?w=160\"/>"
   ]
  },
  {
   "cell_type": "markdown",
   "id": "compressed-wilson",
   "metadata": {
    "papermill": {},
    "tags": []
   },
   "source": [
    "# Geopy - Display route itinerary between two locations\n",
    "<a href=\"https://app.naas.ai/user-redirect/naas/downloader?url=https://raw.githubusercontent.com/jupyter-naas/awesome-notebooks/master/Geopy/Geopy_Display_route_itinerary_between_two_locations.ipynb\" target=\"_parent\"><img src=\"https://naasai-public.s3.eu-west-3.amazonaws.com/Open_in_Naas_Lab.svg\"/></a><br><br><a href=\"https://bit.ly/3JyWIk6\">Give Feedbacks</a> | <a href=\"https://github.com/jupyter-naas/awesome-notebooks/issues/new?assignees=&labels=bug&template=bug_report.md&title=Geopy+-+Display+route+itinerary+between+two+locations:+Error+short+description\">Bug report</a>"
   ]
  },
  {
   "cell_type": "markdown",
   "id": "cbf7f260-f739-4e8f-9074-f070af12b69f",
   "metadata": {
    "papermill": {},
    "tags": []
   },
   "source": [
    "**Tags:** #geopy #folium #polyline #googlemaps #itinerary #navigation"
   ]
  },
  {
   "cell_type": "markdown",
   "id": "8af9aa79",
   "metadata": {
    "papermill": {},
    "tags": []
   },
   "source": [
    "**Author:** [Antonio Georgiev](www.linkedin.com/in/antonio-georgiev-b672a325b)"
   ]
  },
  {
   "cell_type": "markdown",
   "id": "7ad3366d-e35f-4091-8ec0-b9717c6e5a9c",
   "metadata": {
    "papermill": {},
    "tags": []
   },
   "source": [
    "**Last update:** 2023-07-28 (Created: 2023-07-28)"
   ]
  },
  {
   "cell_type": "markdown",
   "id": "df1a9dc8-1b97-4830-96cc-3dc4aec3b79d",
   "metadata": {
    "papermill": {},
    "tags": []
   },
   "source": [
    "**Description:** This notebook demonstrates how to display a route initnerary between two locations using `geopy`, `folium`, `polyline` and Google Maps API."
   ]
  },
  {
   "cell_type": "markdown",
   "id": "9537e01b-e755-4371-904d-82121bbfdec8",
   "metadata": {
    "papermill": {},
    "tags": []
   },
   "source": [
    "**References:**\n",
    "- [Nominatim geocoder for OpenStreetMap data](https://geopy.readthedocs.io/en/stable/#nominatim)\n",
    "- [Folium Mapping: Displaying Markers on a Map](https://towardsdatascience.com/folium-mapping-displaying-markers-on-a-map-6bd56f3e3420)\n",
    "- [PyPI polyline](https://pypi.org/project/polyline)"
   ]
  },
  {
   "cell_type": "markdown",
   "id": "distinguished-truth",
   "metadata": {
    "papermill": {},
    "tags": []
   },
   "source": [
    "## Input"
   ]
  },
  {
   "cell_type": "markdown",
   "id": "b56e47f5-be89-4591-93ec-01e8fac50def",
   "metadata": {
    "papermill": {},
    "tags": []
   },
   "source": [
    "### Import libraries"
   ]
  },
  {
   "cell_type": "code",
   "execution_count": null,
   "id": "6b63229c-7614-4dc8-ba2a-e0b1e2f64918",
   "metadata": {
    "papermill": {},
    "tags": []
   },
   "outputs": [],
   "source": [
    "from geopy.geocoders import Nominatim\n",
    "import polyline\n",
    "import folium\n",
    "import naas\n",
    "import requests"
   ]
  },
  {
   "cell_type": "markdown",
   "id": "3311103a-13a2-40c5-bb42-2755391f3d47",
   "metadata": {
    "papermill": {},
    "tags": []
   },
   "source": [
    "### Setup variables\n",
    "**Mandatory**\n",
    "\n",
    "Pre-requisite: \n",
    "1. Follow the steps in the link - https://developers.google.com/maps/documentation/routes/cloud-setup\n",
    "2. Sign up for an account with the Routes API provider.\n",
    "3. Make sure to enable \"Routes API\" in the \"Additional APIs\" section in the google cloud console (https://console.cloud.google.com/apis/credentials/key/).\n",
    "\n",
    "- `api_key`: This variable holds the Google Cloud Platform (GCP) API key. The key is retrieved from the secret variable using the Naas secret manager.\n",
    "- `origin`: This variable represents the starting location for a journey.\n",
    "- `destination`: This variable indicates the end location or destination for a journey.\n",
    "\n",
    "\n",
    "**Optional**\n",
    "\n",
    "- `zoom_start`: This parameter sets the initial zoom level on the map. A value of 0 indicates the lowest level of zoom."
   ]
  },
  {
   "cell_type": "code",
   "execution_count": null,
   "id": "bffaf74b-3e26-408f-9a55-bb495577cdf6",
   "metadata": {
    "papermill": {},
    "tags": []
   },
   "outputs": [],
   "source": [
    "# Mandatory\n",
    "api_key = naas.secret.get(\"GCP_MAP_API_KEY\") or \"YOUR_GCP_MAP_API_KEY\"  # Read API key from the secret variable GCP_MAP_API_KEY\n",
    "origin = \"Bulgaria Blvd 69, 1404 Manastirski Livadi, Sofia, Bulgaria\"\n",
    "destination = \"Sofia, 1680, Bulgaria\"\n",
    "\n",
    "# Optional\n",
    "zoom_start = 12"
   ]
  },
  {
   "cell_type": "markdown",
   "id": "registered-showcase",
   "metadata": {
    "papermill": {},
    "tags": []
   },
   "source": [
    "## Model"
   ]
  },
  {
   "cell_type": "markdown",
   "id": "4f4d4874-08b8-4abb-9017-eb0c1b9235b2",
   "metadata": {
    "papermill": {},
    "tags": []
   },
   "source": [
    "### Get coordinates"
   ]
  },
  {
   "cell_type": "code",
   "execution_count": null,
   "id": "4628d118-b59d-4c16-9d27-4e07e91ef81a",
   "metadata": {
    "papermill": {},
    "tags": []
   },
   "outputs": [],
   "source": [
    "geolocator = Nominatim(user_agent=\"geoapiExercises\")\n",
    "location1 = geolocator.geocode(origin)\n",
    "location2 = geolocator.geocode(destination)"
   ]
  },
  {
   "cell_type": "markdown",
   "id": "08bf53f8-5418-4b44-be4f-0c3ec8340b6a",
   "metadata": {
    "execution": {
     "iopub.execute_input": "2023-07-31T10:09:18.531652Z",
     "iopub.status.busy": "2023-07-31T10:09:18.531335Z",
     "iopub.status.idle": "2023-07-31T10:09:18.536237Z",
     "shell.execute_reply": "2023-07-31T10:09:18.535480Z",
     "shell.execute_reply.started": "2023-07-31T10:09:18.531612Z"
    },
    "papermill": {},
    "tags": []
   },
   "source": [
    "### Get points between the two locations"
   ]
  },
  {
   "cell_type": "code",
   "execution_count": null,
   "id": "fdbc4ab2-ad3d-41c9-acf2-0ee7956ba363",
   "metadata": {
    "papermill": {},
    "tags": []
   },
   "outputs": [],
   "source": [
    "# Get points using Google Maps API (Routes/Directions)\n",
    "url = f\"https://maps.googleapis.com/maps/api/directions/json?origin={location1.latitude},{location1.longitude}&destination={location2.latitude},{location2.longitude}&key={api_key}\"\n",
    "response = requests.get(url)\n",
    "data = response.json()\n",
    "points = data[\"routes\"][0][\"overview_polyline\"][\"points\"]\n",
    "\n",
    "# use polyline to decode points\n",
    "decoded_points = polyline.decode(points) "
   ]
  },
  {
   "cell_type": "markdown",
   "id": "5f0e7b46-14c6-402d-9e46-9c1c94b3bba4",
   "metadata": {
    "papermill": {},
    "tags": []
   },
   "source": [
    "### Create map"
   ]
  },
  {
   "cell_type": "code",
   "execution_count": null,
   "id": "2fafe16a-ccca-43ae-88fd-eb23af803fe6",
   "metadata": {
    "papermill": {},
    "tags": []
   },
   "outputs": [],
   "source": [
    "# Create a map centered around the two locations\n",
    "avg_latitude = (location1.latitude + location2.latitude) / 2\n",
    "avg_longitude = (location1.longitude + location2.longitude) / 2\n",
    "map_routes = folium.Map(location=[avg_latitude, avg_longitude], zoom_start=zoom_start)\n",
    "\n",
    "# Add markers for the specified locations\n",
    "folium.Marker([location1.latitude, location1.longitude], popup=folium.Popup(location1.address)).add_to(map_routes)\n",
    "folium.Marker([location2.latitude, location2.longitude], popup=folium.Popup(location2.address)).add_to(map_routes)\n",
    "\n",
    "# Create route\n",
    "folium.PolyLine(locations=decoded_points, color='blue').add_to(map_routes)"
   ]
  },
  {
   "cell_type": "markdown",
   "id": "c1e4c55b",
   "metadata": {
    "papermill": {},
    "tags": []
   },
   "source": [
    "## Output"
   ]
  },
  {
   "cell_type": "markdown",
   "id": "2ee5bfd6-de4f-40c9-a590-7c7afc44b9a0",
   "metadata": {
    "papermill": {},
    "tags": []
   },
   "source": [
    "### Display map"
   ]
  },
  {
   "cell_type": "code",
   "execution_count": null,
   "id": "4af1598f-b4fe-4da2-94f3-1cfb20996fa9",
   "metadata": {
    "papermill": {},
    "tags": []
   },
   "outputs": [],
   "source": [
    "map_routes"
   ]
  }
 ],
 "metadata": {
  "kernelspec": {
   "display_name": "Python 3",
   "language": "python",
   "name": "python3"
  },
  "language_info": {
   "codemirror_mode": {
    "name": "ipython",
    "version": 3
   },
   "file_extension": ".py",
   "mimetype": "text/x-python",
   "name": "python",
   "nbconvert_exporter": "python",
   "pygments_lexer": "ipython3",
   "version": "3.9.6"
  },
  "naas": {
   "notebook_id": "1c652e1306432bebf00b0ff980057b2b61e37ea66a9f78d36593e441fadda873",
   "notebook_path": "Geopy/Geopy_Display_route_itinerary_between_two_locations.ipynb"
  },
  "papermill": {
   "default_parameters": {},
   "environment_variables": {},
   "parameters": {},
   "version": "2.3.3"
  },
  "widgets": {
   "application/vnd.jupyter.widget-state+json": {
    "state": {},
    "version_major": 2,
    "version_minor": 0
   }
  }
 },
 "nbformat": 4,
 "nbformat_minor": 5
}