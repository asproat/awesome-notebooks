{
 "cells": [
  {
   "cell_type": "markdown",
   "id": "499674d9-657c-4a3d-b3ca-75ebccc90921",
   "metadata": {
    "papermill": {},
    "tags": []
   },
   "source": [
    "<img width=\"10%\" alt=\"Naas\" src=\"https://landen.imgix.net/jtci2pxwjczr/assets/5ice39g4.png?w=160\"/>"
   ]
  },
  {
   "cell_type": "markdown",
   "id": "2ade69bd-8adb-442d-8d18-de847c0a872f",
   "metadata": {
    "papermill": {},
    "tags": []
   },
   "source": [
    "# JSON - Convert Python Objects to\n",
    "<a href=\"https://app.naas.ai/user-redirect/naas/downloader?url=https://raw.githubusercontent.com/jupyter-naas/awesome-notebooks/master/JSON/JSON_Convert_Python_Objects_to_JSON.ipynb\" target=\"_parent\"><img src=\"https://naasai-public.s3.eu-west-3.amazonaws.com/Open_in_Naas_Lab.svg\"/></a><br><br><a href=\"https://bit.ly/3JyWIk6\">Give Feedbacks</a> | <a href=\"https://github.com/jupyter-naas/awesome-notebooks/issues/new?assignees=&labels=bug&template=bug_report.md&title=JSON+-+Convert+Python+Objects+to:+Error+short+description\">Bug report</a>"
   ]
  },
  {
   "cell_type": "markdown",
   "id": "e3d067aa-1311-4a43-a789-ec70740ad550",
   "metadata": {
    "papermill": {},
    "tags": []
   },
   "source": [
    "**Tags:** #json #python #convert #object #serialize #deserialize"
   ]
  },
  {
   "cell_type": "markdown",
   "id": "d66c6624-40a5-4b98-a47a-2aa04bc8f803",
   "metadata": {
    "papermill": {},
    "tags": []
   },
   "source": [
    "**Author:** [Florent Ravenel](https://www.linkedin.com/in/florent-ravenel)"
   ]
  },
  {
   "cell_type": "markdown",
   "id": "0e123a41-1453-4ae8-a773-cca9559567bc",
   "metadata": {
    "papermill": {},
    "tags": []
   },
   "source": [
    "**Last update:** 2023-07-31 (Created: 2023-07-31)"
   ]
  },
  {
   "cell_type": "markdown",
   "id": "d57f153b-bc34-449f-939a-20e8d4a4ff89",
   "metadata": {
    "papermill": {},
    "tags": []
   },
   "source": [
    "**Description:** This notebook will show how to convert Python objects to JSON and how to deserialize JSON back into Python objects."
   ]
  },
  {
   "cell_type": "markdown",
   "id": "147a74ae-1a39-4ccf-b2fd-4f1626996baf",
   "metadata": {
    "papermill": {},
    "tags": []
   },
   "source": [
    "**References:**\n",
    "- [Python JSON](https://docs.python.org/3/library/json.html)\n",
    "- [JSON Tutorial](https://www.w3schools.com/js/js_json_intro.asp)"
   ]
  },
  {
   "cell_type": "markdown",
   "id": "b81feae4-7846-44fc-8686-e7f1e87dd35e",
   "metadata": {
    "papermill": {},
    "tags": []
   },
   "source": [
    "## Input"
   ]
  },
  {
   "cell_type": "markdown",
   "id": "066c29cf-5760-4dc7-98f3-293f45bc6315",
   "metadata": {
    "papermill": {},
    "tags": []
   },
   "source": [
    "### Import libraries"
   ]
  },
  {
   "cell_type": "code",
   "execution_count": 1,
   "id": "7fbb76a2-f4ab-4d59-8bd8-338b0b98b7c5",
   "metadata": {
    "papermill": {},
    "tags": []
   },
   "outputs": [],
   "source": [
    "import json"
   ]
  },
  {
   "cell_type": "markdown",
   "id": "60bd5858-fd0c-4170-a9b8-1aa5ec65b16c",
   "metadata": {
    "papermill": {},
    "tags": []
   },
   "source": [
    "### Setup variables\n",
    "- `data`: Python dictionary to be converted to JSON"
   ]
  },
  {
   "cell_type": "code",
   "execution_count": 2,
   "id": "054dae02-72b2-4dce-8a9d-732efc36ea7e",
   "metadata": {
    "papermill": {},
    "tags": []
   },
   "outputs": [],
   "source": [
    "data = {\"name\": \"Florent\", \"age\": 28, \"city\": \"Paris\"}"
   ]
  },
  {
   "cell_type": "markdown",
   "id": "1d31f7db-b8df-4638-baf2-4973ff623505",
   "metadata": {
    "papermill": {},
    "tags": []
   },
   "source": [
    "## Model"
   ]
  },
  {
   "cell_type": "markdown",
   "id": "7f7d6354-9233-4f31-9051-1c8177304a1f",
   "metadata": {
    "papermill": {},
    "tags": []
   },
   "source": [
    "### Serialize Python object to JSON"
   ]
  },
  {
   "cell_type": "code",
   "execution_count": 3,
   "id": "80499310-f0f9-4042-81f0-ecd6d29f8f48",
   "metadata": {
    "papermill": {},
    "tags": []
   },
   "outputs": [],
   "source": [
    "# Serialize Python object to JSON\n",
    "json_data = json.dumps(data)"
   ]
  },
  {
   "cell_type": "markdown",
   "id": "897bb508-aed4-4ed2-b251-d864005eb6a0",
   "metadata": {
    "papermill": {},
    "tags": []
   },
   "source": [
    "### Deserialize JSON to Python object"
   ]
  },
  {
   "cell_type": "code",
   "execution_count": 4,
   "id": "c7d8143d-5dd1-4062-8e14-1755b69e3bcd",
   "metadata": {
    "papermill": {},
    "tags": []
   },
   "outputs": [],
   "source": [
    "# Deserialize JSON to Python object\n",
    "python_data = json.loads(json_data)"
   ]
  },
  {
   "cell_type": "markdown",
   "id": "dc8f0fd6-2177-416e-b9e8-a20000047c75",
   "metadata": {
    "papermill": {},
    "tags": []
   },
   "source": [
    "## Output"
   ]
  },
  {
   "cell_type": "markdown",
   "id": "e31d16ef-e930-4cb8-96db-ad718a1fa9cb",
   "metadata": {
    "papermill": {},
    "tags": []
   },
   "source": [
    "### Display result"
   ]
  },
  {
   "cell_type": "code",
   "execution_count": 5,
   "id": "40a95f47-a544-42f9-9582-6f1c1b86c6d2",
   "metadata": {
    "papermill": {},
    "tags": []
   },
   "outputs": [],
   "source": [
    "# Display result\n",
    "print(json_data)\n",
    "print(python_data)"
   ]
  },
  {
   "cell_type": "markdown",
   "id": "80f20a2d-25b3-48f2-853d-0c5516632f54",
   "metadata": {
    "papermill": {},
    "tags": []
   },
   "source": [
    " "
   ]
  }
 ],
 "metadata": {
  "kernelspec": {
   "display_name": "Python 3",
   "language": "python",
   "name": "python3"
  },
  "language_info": {
   "codemirror_mode": {
    "name": "ipython",
    "version": 3
   },
   "file_extension": ".py",
   "mimetype": "text/x-python",
   "name": "python",
   "nbconvert_exporter": "python",
   "pygments_lexer": "ipython3",
   "version": "3.9.6"
  },
  "naas": {
   "notebook_id": "9366cd2a8b5ebabc8fa6722758d297cf0a47d5b09246c09565bfe44c0f0c5350",
   "notebook_path": "JSON/JSON_Convert_Python_Objects_to_JSON.ipynb"
  },
  "papermill": {
   "default_parameters": {},
   "environment_variables": {},
   "parameters": {},
   "version": "2.4.0"
  },
  "widgets": {
   "application/vnd.jupyter.widget-state+json": {
    "state": {},
    "version_major": 2,
    "version_minor": 0
   }
  }
 },
 "nbformat": 4,
 "nbformat_minor": 5
}