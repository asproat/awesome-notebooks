{
 "cells": [
  {
   "cell_type": "markdown",
   "id": "naas-logo",
   "metadata": {
    "papermill": {},
    "tags": [
     "naas"
    ]
   },
   "source": [
    "<img width=\"10%\" alt=\"Naas\" src=\"https://landen.imgix.net/jtci2pxwjczr/assets/5ice39g4.png?w=160\"/>"
   ]
  },
  {
   "cell_type": "markdown",
   "id": "db17b79b",
   "metadata": {
    "papermill": {},
    "tags": []
   },
   "source": [
    "# Datetime - Convert datetime object to a formatted date string\n",
    "<a href=\"https://app.naas.ai/user-redirect/naas/downloader?url=https://raw.githubusercontent.com/jupyter-naas/awesome-notebooks/master/Datetime/Datetime_Convert_datetime_object_to_string_date.ipynb\" target=\"_parent\"><img src=\"https://naasai-public.s3.eu-west-3.amazonaws.com/Open_in_Naas_Lab.svg\"/></a><br><br><a href=\"https://bit.ly/3JyWIk6\">Give Feedbacks</a> | <a href=\"https://github.com/jupyter-naas/awesome-notebooks/issues/new?assignees=&labels=bug&template=bug_report.md&title=Datetime+-+Convert+datetime+object+to+a+formatted+date+string:+Error+short+description\">Bug report</a>"
   ]
  },
  {
   "cell_type": "markdown",
   "id": "13800319",
   "metadata": {
    "papermill": {},
    "tags": []
   },
   "source": [
    "**Tags:** #datetime #snippet #operations #python "
   ]
  },
  {
   "cell_type": "markdown",
   "id": "8761af40",
   "metadata": {
    "papermill": {},
    "tags": []
   },
   "source": [
    "**Author:** [Florent Ravenel](https://www.linkedin.com/in/florent-ravenel/)"
   ]
  },
  {
   "cell_type": "markdown",
   "id": "07da9d46-7a6d-4bfb-a34a-f9bbad8680ac",
   "metadata": {
    "papermill": {},
    "tags": []
   },
   "source": [
    "**Last update:** 2023-07-05 (Created: 2023-07-05)"
   ]
  },
  {
   "cell_type": "markdown",
   "id": "naas-description",
   "metadata": {
    "papermill": {},
    "tags": [
     "description"
    ]
   },
   "source": [
    "**Description:** This notebook provides an introduction to using the Python datetime library to work with dates and times."
   ]
  },
  {
   "cell_type": "markdown",
   "id": "1e8fe9ea-46f9-4496-8e50-0f76e52697d7",
   "metadata": {
    "papermill": {},
    "tags": []
   },
   "source": [
    "**References:**\n",
    "- [Python datetime library](https://docs.python.org/3/library/datetime.html)"
   ]
  },
  {
   "cell_type": "markdown",
   "id": "d6ed8917",
   "metadata": {
    "papermill": {},
    "tags": []
   },
   "source": [
    "## Input"
   ]
  },
  {
   "cell_type": "markdown",
   "id": "fb1b9009",
   "metadata": {
    "papermill": {},
    "tags": []
   },
   "source": [
    "### Import libraries"
   ]
  },
  {
   "cell_type": "code",
   "execution_count": 1,
   "id": "aefef37f",
   "metadata": {
    "papermill": {},
    "tags": []
   },
   "outputs": [],
   "source": [
    "from datetime import datetime"
   ]
  },
  {
   "cell_type": "markdown",
   "id": "4f76aee4-8fa6-47f1-a8fd-5c4cc29f9742",
   "metadata": {
    "papermill": {},
    "tags": []
   },
   "source": [
    "### Setup Variables\n",
    "To parse your date format : you can use the [d3 time format documentation](https://github.com/d3/d3-time-format)\n",
    "- `datetime_obj`: Datetime object\n",
    "- `string_date_format`: String date format"
   ]
  },
  {
   "cell_type": "code",
   "execution_count": 2,
   "id": "c25fdd9d-8517-4488-a88d-fc51a8d2e4f8",
   "metadata": {
    "papermill": {},
    "tags": []
   },
   "outputs": [],
   "source": [
    "# Datetime object\n",
    "datetime_obj = datetime(2020, 8, 1)\n",
    "\n",
    "# New date format you want to use\n",
    "string_date_format = \"%Y-W%U\""
   ]
  },
  {
   "cell_type": "markdown",
   "id": "93232477",
   "metadata": {
    "papermill": {},
    "tags": []
   },
   "source": [
    "## Model"
   ]
  },
  {
   "cell_type": "markdown",
   "id": "340a1c51-6b86-49ab-b207-f8624c736b28",
   "metadata": {
    "papermill": {},
    "tags": []
   },
   "source": [
    "### Convert a datetime object to string date"
   ]
  },
  {
   "cell_type": "code",
   "execution_count": 3,
   "id": "dffbcf8c-9a7d-4ab0-8eb5-ba12b1188645",
   "metadata": {
    "papermill": {},
    "tags": []
   },
   "outputs": [],
   "source": [
    "new_date = datetime_obj.strftime(string_date_format)\n",
    "new_date"
   ]
  },
  {
   "cell_type": "markdown",
   "id": "02d1fc4b",
   "metadata": {
    "papermill": {},
    "tags": []
   },
   "source": [
    "## Output"
   ]
  },
  {
   "cell_type": "markdown",
   "id": "1c2b12ba-82a3-4831-b057-f429a5e6bd54",
   "metadata": {
    "papermill": {},
    "tags": []
   },
   "source": [
    "### Display new date"
   ]
  },
  {
   "cell_type": "code",
   "execution_count": 4,
   "id": "3b0cf348",
   "metadata": {
    "papermill": {},
    "tags": []
   },
   "outputs": [],
   "source": [
    "new_date"
   ]
  }
 ],
 "metadata": {
  "kernelspec": {
   "display_name": "Python 3",
   "language": "python",
   "name": "python3"
  },
  "language_info": {
   "codemirror_mode": {
    "name": "ipython",
    "version": 3
   },
   "file_extension": ".py",
   "mimetype": "text/x-python",
   "name": "python",
   "nbconvert_exporter": "python",
   "pygments_lexer": "ipython3",
   "version": "3.9.6"
  },
  "naas": {
   "notebook_id": "ee2454efaf6543bbecbe368327aa987b1cf2c65b67a0d60de28d59966ca7e3de",
   "notebook_path": "Datetime/Datetime_Convert_datetime_object_to_string_date.ipynb"
  },
  "papermill": {
   "default_parameters": {},
   "environment_variables": {},
   "parameters": {},
   "version": "2.3.3"
  }
 },
 "nbformat": 4,
 "nbformat_minor": 5
}