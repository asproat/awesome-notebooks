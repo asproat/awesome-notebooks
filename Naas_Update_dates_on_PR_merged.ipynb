{
 "cells": [
  {
   "cell_type": "markdown",
   "id": "latin-packing",
   "metadata": {
    "execution": {
     "iopub.execute_input": "2021-02-23T14:22:16.610471Z",
     "iopub.status.busy": "2021-02-23T14:22:16.610129Z",
     "iopub.status.idle": "2021-02-23T14:22:16.627784Z",
     "shell.execute_reply": "2021-02-23T14:22:16.626866Z",
     "shell.execute_reply.started": "2021-02-23T14:22:16.610384Z"
    },
    "papermill": {},
    "tags": []
   },
   "source": [
    "<img width=\"10%\" alt=\"Naas\" src=\"https://landen.imgix.net/jtci2pxwjczr/assets/5ice39g4.png?w=160\"/>"
   ]
  },
  {
   "cell_type": "markdown",
   "id": "compressed-wilson",
   "metadata": {
    "papermill": {},
    "tags": []
   },
   "source": [
    "# Naas - Update dates on PR merged\n",
    "<a href=\"https://app.naas.ai/user-redirect/naas/downloader?url=https://raw.githubusercontent.com/jupyter-naas/awesome-notebooks/master/template.ipynb\" target=\"_parent\">\n",
    "<img src=\"https://naasai-public.s3.eu-west-3.amazonaws.com/open_in_naas.svg\"/>\n",
    "</a>"
   ]
  },
  {
   "cell_type": "markdown",
   "id": "religious-programmer",
   "metadata": {},
   "source": [
    "**Tags:** #naas #awesome-notebooks #github #pr #merge"
   ]
  },
  {
   "cell_type": "markdown",
   "id": "1fe9f56e-561c-4f52-aef8-b861c9462107",
   "metadata": {},
   "source": [
    "**Author:** [Florent Ravenel](https://www.linkedin.com/in/florent-ravenel/)"
   ]
  },
  {
   "cell_type": "markdown",
   "id": "2410f9fb-bab6-4840-8897-50ed511b5636",
   "metadata": {
    "execution": {
     "iopub.execute_input": "2023-02-07T09:20:13.967175Z",
     "iopub.status.busy": "2023-02-07T09:20:13.966946Z",
     "iopub.status.idle": "2023-02-07T09:20:13.975072Z",
     "shell.execute_reply": "2023-02-07T09:20:13.974190Z",
     "shell.execute_reply.started": "2023-02-07T09:20:13.967152Z"
    },
    "tags": []
   },
   "source": [
    "**Description:** This notebook updates dates (Last update and created) on files added or renamed on PR merged."
   ]
  },
  {
   "cell_type": "markdown",
   "id": "distinguished-truth",
   "metadata": {
    "papermill": {},
    "tags": []
   },
   "source": [
    "## Input"
   ]
  },
  {
   "cell_type": "markdown",
   "id": "numeric-mediterranean",
   "metadata": {},
   "source": [
    "### Import libraries"
   ]
  },
  {
   "cell_type": "code",
   "execution_count": null,
   "id": "potential-surfing",
   "metadata": {
    "tags": []
   },
   "outputs": [],
   "source": [
    "import requests\n",
    "import urllib.parse\n",
    "import pandas as pd\n",
    "from datetime import datetime\n",
    "from papermill.iorw import (\n",
    "    load_notebook_node,\n",
    "    write_ipynb,\n",
    ")\n",
    "import copy\n",
    "import json\n",
    "import os"
   ]
  },
  {
   "cell_type": "markdown",
   "id": "03342ab4-3fc9-4f44-bcda-0a42dbe00e06",
   "metadata": {},
   "source": [
    "### Setup Variables"
   ]
  },
  {
   "cell_type": "code",
   "execution_count": null,
   "id": "00eceaac-3b26-4997-a679-234905636c26",
   "metadata": {
    "tags": []
   },
   "outputs": [],
   "source": [
    "# Inputs\n",
    "repo_path = \"jupyter-naas/awesome-notebooks\"\n",
    "token = os.environ.get(\"GITHUB_TOKEN\")\n",
    "pull_number = 1984"
   ]
  },
  {
   "cell_type": "markdown",
   "id": "registered-showcase",
   "metadata": {},
   "source": [
    "## Model"
   ]
  },
  {
   "cell_type": "markdown",
   "id": "ddfbf61d-0a79-4c1c-b0ff-849e99e46b32",
   "metadata": {
    "papermill": {},
    "tags": []
   },
   "source": [
    "### Get files changed on pull request"
   ]
  },
  {
   "cell_type": "code",
   "execution_count": null,
   "id": "82874cb1-0a93-4b11-b1ff-4a10c4026b80",
   "metadata": {
    "tags": []
   },
   "outputs": [],
   "source": [
    "def get_files_changed_on_pull_request(\n",
    "    token,\n",
    "    repo_path,\n",
    "    pull_number\n",
    "):\n",
    "    # Init\n",
    "    files = {}\n",
    "    url = f\"https://api.github.com/repos/{repo_path}/pulls/{pull_number}/files\"\n",
    "    headers = {\"Authorization\": f\"token {token}\"}\n",
    "    \n",
    "    # Requests\n",
    "    res = requests.get(url, headers=headers)\n",
    "    if res.status_code == 200:\n",
    "        for file in res.json():\n",
    "            filename = file[\"filename\"]\n",
    "            status = file[\"status\"]\n",
    "            if status != \"removed\":\n",
    "                files[filename] = status\n",
    "    return files\n",
    "\n",
    "files_changed = get_files_changed_on_pull_request(token, repo_path, pull_number)\n",
    "print(\"✅ Notebooks changed fetched:\", len(files_changed))\n",
    "files_changed"
   ]
  },
  {
   "cell_type": "markdown",
   "id": "6b3c7732-8e39-41d8-be47-4a2288c7d809",
   "metadata": {
    "execution": {
     "iopub.execute_input": "2022-01-22T13:48:53.656270Z",
     "iopub.status.busy": "2022-01-22T13:48:53.656043Z",
     "iopub.status.idle": "2022-01-22T13:48:53.658818Z",
     "shell.execute_reply": "2022-01-22T13:48:53.658211Z",
     "shell.execute_reply.started": "2022-01-22T13:48:53.656247Z"
    },
    "papermill": {},
    "tags": []
   },
   "source": [
    "### Get notebooks from master branch"
   ]
  },
  {
   "cell_type": "code",
   "execution_count": null,
   "id": "e7982fe6-3105-493c-bda3-1887d6908f6c",
   "metadata": {
    "tags": []
   },
   "outputs": [],
   "source": [
    "def get_all_notebooks(branch):\n",
    "    # Init\n",
    "    html_url_base = \"https://github.com/jupyter-naas/awesome-notebooks/blob/master\"\n",
    "    raw_url_base = \"https://raw.githubusercontent.com/jupyter-naas/awesome-notebooks/master\"\n",
    "    notebooks = []\n",
    "    res_json = []\n",
    "    \n",
    "    # Get tree from json\n",
    "    url = f\"https://api.github.com/repos/jupyter-naas/awesome-notebooks/git/trees/{branch}?recursive=1\"\n",
    "    headers = {\"Authorization\": f\"token {token}\"}\n",
    "    res = requests.get(url, headers=headers)\n",
    "    if res.status_code == 200:\n",
    "        res_json = res.json().get(\"tree\")\n",
    "    else:\n",
    "        print(res.json())\n",
    "    \n",
    "    # Loop on files\n",
    "    for r in res_json:\n",
    "        root = None\n",
    "        file_name = None\n",
    "        file_path = r.get(\"path\")\n",
    "        notebook_path = urllib.parse.quote(file_path)\n",
    "        if \".github\" not in file_path and \".gitignore\" not in file_path and \"/\" in file_path:\n",
    "            if file_path.endswith(\".ipynb\"):\n",
    "                data = {\n",
    "                    \"tool\": file_path.split(\"/\")[0],\n",
    "                    \"notebook_name\": file_path.split(\"/\")[1],\n",
    "                    \"notebook_path\": file_path,\n",
    "                    \"html_url\": f\"{html_url_base}/{notebook_path}\",\n",
    "                    \"raw_url\": f\"{raw_url_base}/{notebook_path}\",\n",
    "                }\n",
    "                notebooks.append(data)\n",
    "    return pd.DataFrame(notebooks)\n",
    "\n",
    "df_master = get_all_notebooks(\"master\")\n",
    "print(\"✅ Notebooks fetched from master branch:\", len(df_master))\n",
    "df_master.head(1)"
   ]
  },
  {
   "cell_type": "markdown",
   "id": "504f424d-496a-4904-992b-89b2380ee14a",
   "metadata": {},
   "source": [
    "## Output"
   ]
  },
  {
   "cell_type": "markdown",
   "id": "7d1f813b-a76e-4a4f-886c-dd368a995764",
   "metadata": {},
   "source": [
    "### Create or Update markdown"
   ]
  },
  {
   "cell_type": "code",
   "execution_count": null,
   "id": "31a2d80d-d5d3-4e70-b248-c6995601bc03",
   "metadata": {
    "tags": []
   },
   "outputs": [],
   "source": [
    "for file in files_changed:\n",
    "    # Init\n",
    "    notebook_path = file\n",
    "    status = files_changed.get(file)\n",
    "    updated_at = datetime.now().strftime(\"%Y-%m-%d\")\n",
    "    \n",
    "    # Check if file changed in notebooks\n",
    "    if notebook_path in df_master[\"notebook_path\"].tolist():\n",
    "        # Load notebook\n",
    "        nb_init = load_notebook_node(notebook_path)\n",
    "        nb = copy.deepcopy(nb_init)\n",
    "\n",
    "        # Init\n",
    "        new_cells = []\n",
    "        new_source_dates = f'**Last update:** {updated_at} (Created: {updated_at})'\n",
    "\n",
    "        # Loop on cells\n",
    "        cells = nb.cells\n",
    "        for i, cell in enumerate(cells):\n",
    "            source = cell.source\n",
    "            if i == 4 and not source.startswith(\"**Last update:**\"):\n",
    "                cell_date = {\n",
    "                    'cell_type': 'markdown',\n",
    "                    'id': str(uuid.uuid4()),\n",
    "                    'metadata': {'papermill': {}, 'tags': []},\n",
    "                    'source': new_source_dates\n",
    "                }\n",
    "                new_cells.append(cell_date)\n",
    "            elif i == 4 and source.startswith(\"**Last update:**\"):\n",
    "                if status == \"modified\":\n",
    "                    updated_at_old = source.split(\"**Last update:**\")[-1].split(\"(\")[0].strip()\n",
    "                    cell[\"source\"] = source.replace(updated_at_old, updated_at)\n",
    "                elif status == \"added\":\n",
    "                    cell[\"source\"] = new_source_dates\n",
    "            new_cells.append(cell)\n",
    "\n",
    "        nb.cells = new_cells\n",
    "        with open(notebook_path, \"w\") as f:\n",
    "            json.dump(nb, f)\n",
    "        print(f\"✅ {notebook_path} saved in Naas.\")\n",
    "    else:\n",
    "        print(f\"File '{notebook_path}' is not an awesome-notebook.\")"
   ]
  }
 ],
 "metadata": {
  "kernelspec": {
   "display_name": "Python 3",
   "language": "python",
   "name": "python3"
  },
  "language_info": {
   "codemirror_mode": {
    "name": "ipython",
    "version": 3
   },
   "file_extension": ".py",
   "mimetype": "text/x-python",
   "name": "python",
   "nbconvert_exporter": "python",
   "pygments_lexer": "ipython3",
   "version": "3.9.6"
  },
  "papermill": {
   "default_parameters": {},
   "environment_variables": {},
   "parameters": {},
   "version": "2.3.3"
  },
  "widgets": {
   "application/vnd.jupyter.widget-state+json": {
    "state": {},
    "version_major": 2,
    "version_minor": 0
   }
  }
 },
 "nbformat": 4,
 "nbformat_minor": 5
}
