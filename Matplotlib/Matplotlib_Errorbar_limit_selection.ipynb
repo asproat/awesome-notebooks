{
 "cells": [
  {
   "cell_type": "markdown",
   "id": "f3009d0e-3d28-486a-a45b-0aa390832e52",
   "metadata": {
    "papermill": {},
    "tags": []
   },
   "source": [
    "<img width=\"10%\" alt=\"Naas\" src=\"https://landen.imgix.net/jtci2pxwjczr/assets/5ice39g4.png?w=160\"/>"
   ]
  },
  {
   "cell_type": "markdown",
   "id": "continuing-pioneer",
   "metadata": {
    "papermill": {},
    "tags": []
   },
   "source": [
    "# Matplotlib - Errorbar Limit Selection\n",
    "<a href=\"https://app.naas.ai/user-redirect/naas/downloader?url=https://raw.githubusercontent.com/jupyter-naas/awesome-notebooks/master/Matplotlib/Matplotlib_Errorbar_limit_selection.ipynb\" target=\"_parent\"><img src=\"https://naasai-public.s3.eu-west-3.amazonaws.com/Open_in_Naas_Lab.svg\"/></a><br><br><a href=\"https://bit.ly/3JyWIk6\">Give Feedbacks</a> | <a href=\"https://github.com/jupyter-naas/awesome-notebooks/issues/new?assignees=&labels=bug&template=bug_report.md&title=Matplotlib+-+Errorbar+Limit+Selection:+Error+short+description\">Bug report</a>"
   ]
  },
  {
   "cell_type": "markdown",
   "id": "d5a217ea-e554-474a-9c7b-2c9782c7104f",
   "metadata": {
    "papermill": {},
    "tags": []
   },
   "source": [
    "**Tags:** #matplotlib #chart #errorbar #dataviz #snippet #operations #image"
   ]
  },
  {
   "cell_type": "markdown",
   "id": "naas-author",
   "metadata": {
    "papermill": {},
    "tags": [
     "naas"
    ]
   },
   "source": [
    "**Author:** [Mardiat-Iman](https://www.linkedin.com/in/mardiat-iman-ibrahim-imam-726027262)"
   ]
  },
  {
   "cell_type": "markdown",
   "id": "bb6c472a-20eb-49d7-a062-79d54a06b685",
   "metadata": {
    "papermill": {},
    "tags": []
   },
   "source": [
    "**Last update:** 2023-07-24 (Created: 2023-07-24)"
   ]
  },
  {
   "cell_type": "markdown",
   "id": "naas-description",
   "metadata": {
    "papermill": {},
    "tags": [
     "description"
    ]
   },
   "source": [
    "**Description:** This notebook provides instructions on how to create illustrations of selectively drawing lower and/or upper limit symbols on errorbars using the parameters uplims, lolims of errorbar using Matplotlib."
   ]
  },
  {
   "cell_type": "markdown",
   "id": "a92ba777-2cf0-49aa-a303-078341db4f2c",
   "metadata": {
    "papermill": {},
    "tags": [
     "description"
    ]
   },
   "source": [
    "**References:** \n",
    "- [Errorbar Limit Selection](https://matplotlib.org/stable/gallery/lines_bars_and_markers/errorbar_limits_simple.html#sphx-glr-gallery-lines-bars-and-markers-errorbar-limits-simple-py)"
   ]
  },
  {
   "cell_type": "markdown",
   "id": "input_cell",
   "metadata": {
    "papermill": {},
    "tags": []
   },
   "source": [
    "## Input"
   ]
  },
  {
   "cell_type": "markdown",
   "id": "import_cell",
   "metadata": {
    "papermill": {},
    "tags": []
   },
   "source": [
    "### Import libraries"
   ]
  },
  {
   "cell_type": "code",
   "execution_count": 2,
   "id": "349da579-e86d-4c4a-ac9f-fad6145f8061",
   "metadata": {
    "papermill": {},
    "tags": []
   },
   "outputs": [],
   "source": [
    "import numpy as np\n",
    "import matplotlib.pyplot as plt\n",
    "import naas"
   ]
  },
  {
   "cell_type": "markdown",
   "id": "0eaee013-2109-474a-b8f4-27bc3dd21826",
   "metadata": {
    "papermill": {},
    "tags": []
   },
   "source": [
    "### Setup variables\n",
    "- `fig_path`: A string representing the path where the generated figure will be saved with the name \"fig.png\".\n",
    "- `x`: This is a NumPy array that represents the x-coordinates of the data points. It contains 10 values generated using `np.arange(10)`, which creates an array from 0 to 9.\n",
    "- `y`: This is a NumPy array that represents the y-coordinates of the data points. It is calculated as `2.5 * np.sin(x / 20 * np.pi)`, which scales the sine function values by 2.5. It is used to generate a sinusoidal curve.\n",
    "- `yerr`: This is a NumPy array that represents the magnitude of the error bars in the y-direction for each data point. It is created using `np.linspace(0.05, 0.2, 10)`, which generates 10 evenly spaced values from 0.05 to 0.2.\n",
    "- `upperlimits`: This is a boolean or an array of booleans that controls whether the upper error bar is drawn as an arrow (True) or as a simple line (False) for each data point. It is used to specify which data points should have upper error bars as arrows.\n",
    "- `lowerlimits`: This is a boolean or an array of booleans that controls whether the lower error bar is drawn as an arrow (True) or as a simple line (False) for each data point. It is used to specify which data points should have lower error bars as arrows."
   ]
  },
  {
   "cell_type": "code",
   "execution_count": 3,
   "id": "c6c5bc05-2f3e-43d3-bf3c-3182325b2073",
   "metadata": {
    "papermill": {},
    "tags": []
   },
   "outputs": [],
   "source": [
    "# Inputs\n",
    "x = np.arange(10)\n",
    "y = 2.5 * np.sin(x / 20 * np.pi)\n",
    "yerr = np.linspace(0.05, 0.2, 10)\n",
    "upperlimits = [True, False] * 5\n",
    "lowerlimits = [False, True] * 5\n",
    "\n",
    "# Outputs\n",
    "fig_path = \"fig.png\""
   ]
  },
  {
   "cell_type": "markdown",
   "id": "model_cell",
   "metadata": {
    "papermill": {},
    "tags": []
   },
   "source": [
    "## Model"
   ]
  },
  {
   "cell_type": "markdown",
   "id": "ef3c71fb-a46f-4216-978f-1b7fe0667bfd",
   "metadata": {
    "papermill": {},
    "tags": []
   },
   "source": [
    "### Plot the Graph"
   ]
  },
  {
   "cell_type": "code",
   "execution_count": 4,
   "id": "devoted-negotiation",
   "metadata": {
    "papermill": {},
    "tags": []
   },
   "outputs": [],
   "source": [
    "fig = plt.figure()\n",
    "\n",
    "plt.errorbar(x, y + 3, yerr=yerr, label='both limits (default)')\n",
    "\n",
    "plt.errorbar(x, y + 2, yerr=yerr, uplims=True, label='uplims=True')\n",
    "\n",
    "plt.errorbar(x, y + 1, yerr=yerr, uplims=True, lolims=True,\n",
    "             label='uplims=True, lolims=True')\n",
    "\n",
    "plt.errorbar(x, y, yerr=yerr, uplims=upperlimits, lolims=lowerlimits,\n",
    "             label='subsets of uplims and lolims')\n",
    "\n",
    "plt.legend(loc='lower right')"
   ]
  },
  {
   "cell_type": "markdown",
   "id": "output_cell",
   "metadata": {
    "papermill": {},
    "tags": []
   },
   "source": [
    "## Output"
   ]
  },
  {
   "cell_type": "markdown",
   "id": "711ca412-92b9-464e-8259-d2547cf2db3f",
   "metadata": {
    "papermill": {},
    "tags": []
   },
   "source": [
    "### Save the figure"
   ]
  },
  {
   "cell_type": "code",
   "execution_count": null,
   "id": "c6e830af-937f-4b82-aeb9-4fa9c4b2da62",
   "metadata": {
    "papermill": {},
    "tags": []
   },
   "outputs": [],
   "source": [
    "fig.savefig(fig_path)"
   ]
  },
  {
   "cell_type": "markdown",
   "id": "38ae5018-3063-4b84-8486-4a504c7c9ffb",
   "metadata": {
    "papermill": {},
    "tags": []
   },
   "source": [
    "### Share asset with naas"
   ]
  },
  {
   "cell_type": "code",
   "execution_count": null,
   "id": "3e1d5382-2e52-40cd-bbd5-9789657eac98",
   "metadata": {
    "papermill": {},
    "tags": []
   },
   "outputs": [],
   "source": [
    "naas.asset.add(fig_path, params={\"inline\": True})"
   ]
  }
 ],
 "metadata": {
  "kernelspec": {
   "display_name": "Python 3",
   "language": "python",
   "name": "python3"
  },
  "language_info": {
   "codemirror_mode": {
    "name": "ipython",
    "version": 3
   },
   "file_extension": ".py",
   "mimetype": "text/x-python",
   "name": "python",
   "nbconvert_exporter": "python",
   "pygments_lexer": "ipython3",
   "version": "3.9.6"
  },
  "naas": {
   "notebook_id": "c32df804be451c266b92c3ad55937b47476ccfc6f07ce09ac434fce8e1c5f0e1",
   "notebook_path": "Matplotlib/Matplotlib_Errorbar_limit_selection.ipynb"
  },
  "papermill": {
   "default_parameters": {},
   "environment_variables": {},
   "parameters": {},
   "version": "2.3.3"
  }
 },
 "nbformat": 4,
 "nbformat_minor": 5
}