{
 "cells": [
  {
   "cell_type": "markdown",
   "id": "f3009d0e-3d28-486a-a45b-0aa390832e52",
   "metadata": {
    "papermill": {},
    "tags": []
   },
   "source": [
    "<img width=\"10%\" alt=\"Naas\" src=\"https://landen.imgix.net/jtci2pxwjczr/assets/5ice39g4.png?w=160\"/>"
   ]
  },
  {
   "cell_type": "markdown",
   "id": "continuing-pioneer",
   "metadata": {
    "papermill": {},
    "tags": []
   },
   "source": [
    "# Matplotlib - Create Streamgraphs\n",
    "<a href=\"https://app.naas.ai/user-redirect/naas/downloader?url=https://raw.githubusercontent.com/jupyter-naas/awesome-notebooks/master/Matplotlib/Matplotlib_Create_Streamgraphs.ipynb\" target=\"_parent\"><img src=\"https://naasai-public.s3.eu-west-3.amazonaws.com/Open_in_Naas_Lab.svg\"/></a><br><br><a href=\"https://bit.ly/3JyWIk6\">Give Feedbacks</a> | <a href=\"https://github.com/jupyter-naas/awesome-notebooks/issues/new?assignees=&labels=bug&template=bug_report.md&title=Matplotlib+-+Create+Streamgraphs:+Error+short+description\">Bug report</a>"
   ]
  },
  {
   "cell_type": "markdown",
   "id": "d5a217ea-e554-474a-9c7b-2c9782c7104f",
   "metadata": {
    "papermill": {},
    "tags": []
   },
   "source": [
    "**Tags:** #matplotlib #chart #stackplots #streamgraphs #dataviz #snippet #operations #image"
   ]
  },
  {
   "cell_type": "markdown",
   "id": "naas-author",
   "metadata": {
    "papermill": {},
    "tags": [
     "naas"
    ]
   },
   "source": [
    "**Author:** [Mardiat-Iman](https://www.linkedin.com/in/mardiat-iman-ibrahim-imam-726027262)"
   ]
  },
  {
   "cell_type": "markdown",
   "id": "e9791d27-0263-4458-b752-1e011cab0459",
   "metadata": {
    "papermill": {},
    "tags": []
   },
   "source": [
    "**Last update:** 2023-07-24 (Created: 2023-07-24)"
   ]
  },
  {
   "cell_type": "markdown",
   "id": "naas-description",
   "metadata": {
    "papermill": {},
    "tags": [
     "description"
    ]
   },
   "source": [
    "**Description:** This notebook provides instructions on how to create using matplotlib."
   ]
  },
  {
   "cell_type": "markdown",
   "id": "ae9e445a-03e2-499c-9952-ba72cd12da29",
   "metadata": {
    "papermill": {},
    "tags": [
     "description"
    ]
   },
   "source": [
    "**References:** \n",
    "\n",
    "- [Matplolib - Streamgraphs](https://matplotlib.org/stable/gallery/lines_bars_and_markers/stackplot_demo.html#sphx-glr-gallery-lines-bars-and-markers-stackplot-demo-py)"
   ]
  },
  {
   "cell_type": "markdown",
   "id": "input_cell",
   "metadata": {
    "papermill": {},
    "tags": []
   },
   "source": [
    "## Input"
   ]
  },
  {
   "cell_type": "markdown",
   "id": "import_cell",
   "metadata": {
    "papermill": {},
    "tags": []
   },
   "source": [
    "### Import libraries"
   ]
  },
  {
   "cell_type": "code",
   "execution_count": null,
   "id": "349da579-e86d-4c4a-ac9f-fad6145f8061",
   "metadata": {
    "papermill": {},
    "tags": []
   },
   "outputs": [],
   "source": [
    "import numpy as np\n",
    "import matplotlib.pyplot as plt\n",
    "import naas"
   ]
  },
  {
   "cell_type": "markdown",
   "id": "70974852-b8f5-4900-a82f-db5475f9797c",
   "metadata": {
    "papermill": {},
    "tags": []
   },
   "source": [
    "### Setup variables\n",
    "- `x`: This variable is a NumPy array representing the x-axis data. It is created using np.linspace(0, 100, 101), which generates 101 equally spaced points from 0 to 100.\n",
    "- `ys`: This variable is a list containing the y-axis data for the stackplot. It is a list of three arrays, where each array represents the output of the gaussian_mixture(x) function, and each function call generates a random mixture of Gaussians evaluated at positions x.\n",
    "- `fig_path`: A string representing the path where the generated figure will be saved with the name \"fig.png\"."
   ]
  },
  {
   "cell_type": "code",
   "execution_count": null,
   "id": "bf25ef1d-73a8-4c61-a27d-23d73308ce5e",
   "metadata": {
    "papermill": {},
    "tags": []
   },
   "outputs": [],
   "source": [
    "# Inputs\n",
    "# Fixing random state for reproducibility\n",
    "np.random.seed(19680801)\n",
    "\n",
    "def gaussian_mixture(x, n=5):\n",
    "    \"\"\"Return a random mixture of *n* Gaussians, evaluated at positions *x*.\"\"\"\n",
    "    def add_random_gaussian(a):\n",
    "        amplitude = 1 / (.1 + np.random.random())\n",
    "        dx = x[-1] - x[0]\n",
    "        x0 = (2 * np.random.random() - .5) * dx\n",
    "        z = 10 / (.1 + np.random.random()) / dx\n",
    "        a += amplitude * np.exp(-(z * (x - x0))**2)\n",
    "    a = np.zeros_like(x)\n",
    "    for j in range(n):\n",
    "        add_random_gaussian(a)\n",
    "    return a\n",
    "\n",
    "x = np.linspace(0, 100, 101)\n",
    "ys = [gaussian_mixture(x) for _ in range(5)]\n",
    "\n",
    "# Outputs\n",
    "fig_path = \"fig.png\""
   ]
  },
  {
   "cell_type": "markdown",
   "id": "model_cell",
   "metadata": {
    "papermill": {},
    "tags": []
   },
   "source": [
    "## Model"
   ]
  },
  {
   "cell_type": "markdown",
   "id": "4eea8430-a3d2-4ee7-b1e2-53c057c4487a",
   "metadata": {
    "papermill": {},
    "tags": []
   },
   "source": [
    "### Plot the Streamgraph"
   ]
  },
  {
   "cell_type": "code",
   "execution_count": null,
   "id": "49baaa99-017d-4108-a61b-7b483d0b7548",
   "metadata": {
    "papermill": {},
    "tags": []
   },
   "outputs": [],
   "source": [
    "fig, ax = plt.subplots()\n",
    "\n",
    "ax.stackplot(x, ys, baseline='wiggle')\n",
    "\n",
    "plt.show()"
   ]
  },
  {
   "cell_type": "markdown",
   "id": "output_cell",
   "metadata": {
    "papermill": {},
    "tags": []
   },
   "source": [
    "## Output"
   ]
  },
  {
   "cell_type": "markdown",
   "id": "1299705e-b894-4321-9858-68cd81f208b2",
   "metadata": {
    "papermill": {},
    "tags": []
   },
   "source": [
    "### Save figure"
   ]
  },
  {
   "cell_type": "code",
   "execution_count": null,
   "id": "b52b0bd5-b55a-4852-aaf1-ca241d8265e2",
   "metadata": {
    "papermill": {},
    "tags": []
   },
   "outputs": [],
   "source": [
    "fig.savefig(fig_path)"
   ]
  },
  {
   "cell_type": "markdown",
   "id": "e0f535b2-e65f-476d-b171-5402149e57b6",
   "metadata": {
    "papermill": {},
    "tags": []
   },
   "source": [
    "### Share asset with naas"
   ]
  },
  {
   "cell_type": "code",
   "execution_count": null,
   "id": "c3aaa386-3521-49b2-bc1d-59e623be65a5",
   "metadata": {
    "papermill": {},
    "tags": []
   },
   "outputs": [],
   "source": [
    "naas.asset.add(fig_path, params={\"inline\": True})"
   ]
  }
 ],
 "metadata": {
  "kernelspec": {
   "display_name": "Python 3",
   "language": "python",
   "name": "python3"
  },
  "language_info": {
   "codemirror_mode": {
    "name": "ipython",
    "version": 3
   },
   "file_extension": ".py",
   "mimetype": "text/x-python",
   "name": "python",
   "nbconvert_exporter": "python",
   "pygments_lexer": "ipython3",
   "version": "3.9.6"
  },
  "naas": {
   "notebook_id": "9776fa7b943cf273829c127952e6b3fa77670a7f6964394f776398982b55a76e",
   "notebook_path": "Matplotlib/Matplotlib_Create_Streamgraphs.ipynb"
  },
  "papermill": {
   "default_parameters": {},
   "environment_variables": {},
   "parameters": {},
   "version": "2.3.3"
  }
 },
 "nbformat": 4,
 "nbformat_minor": 5
}