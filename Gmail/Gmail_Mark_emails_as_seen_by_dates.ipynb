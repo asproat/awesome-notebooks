{
 "cells": [
  {
   "cell_type": "markdown",
   "id": "bf5dc355-1311-4004-8b2b-abfcc5ce82f2",
   "metadata": {
    "papermill": {},
    "tags": []
   },
   "source": [
    "<img width=\"10%\" alt=\"Naas\" src=\"https://landen.imgix.net/jtci2pxwjczr/assets/5ice39g4.png?w=160\"/>"
   ]
  },
  {
   "cell_type": "markdown",
   "id": "45637f96-2c01-470b-b175-775f441e23e2",
   "metadata": {
    "papermill": {},
    "tags": []
   },
   "source": [
    "# Gmail - Mark emails as seen by dates\n",
    "<a href=\"https://app.naas.ai/user-redirect/naas/downloader?url=https://raw.githubusercontent.com/jupyter-naas/awesome-notebooks/master/Gmail/Gmail_Mark_emails_as_seen_by_dates.ipynb\" target=\"_parent\"><img src=\"https://naasai-public.s3.eu-west-3.amazonaws.com/Open_in_Naas_Lab.svg\"/></a><br><br><a href=\"https://bit.ly/3JyWIk6\">Give Feedbacks</a> | <a href=\"https://github.com/jupyter-naas/awesome-notebooks/issues/new?assignees=&labels=bug&template=bug_report.md&title=Gmail+-+Mark+emails+as+seen+by+dates:+Error+short+description\">Bug report</a>"
   ]
  },
  {
   "cell_type": "markdown",
   "id": "ddcebba7-4a40-45d2-b83e-72a7513a1660",
   "metadata": {
    "papermill": {},
    "tags": []
   },
   "source": [
    "**Tags:** #gmail #productivity #naas_drivers #operations #snippet #dataframe"
   ]
  },
  {
   "cell_type": "markdown",
   "id": "f55cd5d1-8f6e-458b-a59e-a258bded8346",
   "metadata": {
    "papermill": {},
    "tags": []
   },
   "source": [
    "**Author:** [Antonio Georgiev](www.linkedin.com/in/antonio-georgiev-b672a325b)"
   ]
  },
  {
   "cell_type": "markdown",
   "id": "a1a1fca0-4ac7-4b8a-be8d-feb93e6326b2",
   "metadata": {
    "papermill": {},
    "tags": []
   },
   "source": [
    "**Last update:** 2023-07-31 (Created: 2023-07-20)"
   ]
  },
  {
   "cell_type": "markdown",
   "id": "2b5999ac-0862-43f2-b6dc-ace799080cea",
   "metadata": {
    "papermill": {},
    "tags": [
     "description"
    ]
   },
   "source": [
    "**Description:** This notebook goes through the emails within the date range set by the user and marks them all as seen."
   ]
  },
  {
   "cell_type": "markdown",
   "id": "7057d03b-e1e5-4f03-bd9f-579889681498",
   "metadata": {
    "papermill": {},
    "tags": []
   },
   "source": [
    "## Input"
   ]
  },
  {
   "cell_type": "markdown",
   "id": "2dd10407-0a8b-4f40-88cc-c4813f0ebab2",
   "metadata": {
    "papermill": {},
    "tags": []
   },
   "source": [
    "### Import libraries"
   ]
  },
  {
   "cell_type": "code",
   "execution_count": 1,
   "id": "11f52fae-946f-467c-bfd5-d490fdeb7794",
   "metadata": {
    "papermill": {},
    "tags": []
   },
   "outputs": [],
   "source": [
    "import naas\n",
    "import imaplib\n",
    "import email\n",
    "from datetime import date\n",
    "try:\n",
    "    from imapclient import IMAPClient\n",
    "except:\n",
    "    !pip install imapclient --user\n",
    "    from imapclient import IMAPClient"
   ]
  },
  {
   "cell_type": "markdown",
   "id": "bf9f67ea-3654-4912-ae9c-6de46d3bdd0b",
   "metadata": {
    "papermill": {},
    "tags": []
   },
   "source": [
    "### Setup Variables\n",
    "Create an application password following [this procedure](https://support.google.com/mail/answer/185833?hl=en)\n",
    "- `username`: This variable stores the username or email address associated with the email account\n",
    "- `password`: This variable stores the password or authentication token required to access the email account\n",
    "- `smtp_server`: This variable represents the SMTP server address used for sending emails.\n",
    "- `date`: This variable stores the date that will be used to determine the range\n",
    "- `condition`: This variable stores the condition to get your emails"
   ]
  },
  {
   "cell_type": "code",
   "execution_count": 2,
   "id": "c66a183b-8a06-47fc-af7b-d52856387ec3",
   "metadata": {
    "papermill": {},
    "tags": []
   },
   "outputs": [],
   "source": [
    "# Inputs\n",
    "username = \"florent@naas.ai\" or \"xxxxx@xxxx\" # replace with your email\n",
    "password = naas.secret.get(\"GMAIL_APP_PASSWORD\")\n",
    "smtp_server = \"imap.gmail.com\" # replace xxxx with the relevant server (eg. gmail)\n",
    "date = date(2023, 7, 20) # year, month, day\n",
    "condition = \"ON\" #\"SINCE\" or \"BEFORE\""
   ]
  },
  {
   "cell_type": "markdown",
   "id": "2a031bcb-bab2-4f91-8ccd-aa75ac767e5c",
   "metadata": {
    "papermill": {},
    "tags": []
   },
   "source": [
    "## Model"
   ]
  },
  {
   "cell_type": "markdown",
   "id": "d02e7b6a-37e4-44d1-bc29-b86553787f0e",
   "metadata": {
    "papermill": {},
    "tags": []
   },
   "source": [
    "### Connect to email box"
   ]
  },
  {
   "cell_type": "code",
   "execution_count": 3,
   "id": "f14c3efa-987d-4280-8bfa-e3aef58eef11",
   "metadata": {
    "papermill": {},
    "tags": []
   },
   "outputs": [],
   "source": [
    "server = IMAPClient('imap.gmail.com')\n",
    "server.login(username, password)\n",
    "server.select_folder('INBOX')\n",
    "print(\"✅ Successfully connected to INBOX\")"
   ]
  },
  {
   "cell_type": "markdown",
   "id": "db6a0e8b-9555-4d9d-b972-35dbcbd7eebe",
   "metadata": {
    "papermill": {},
    "tags": []
   },
   "source": [
    "### Get all messages on conditions"
   ]
  },
  {
   "cell_type": "code",
   "execution_count": 4,
   "id": "a7504c1f-3a83-4d15-a499-ed4dbcf4ef50",
   "metadata": {
    "papermill": {},
    "tags": []
   },
   "outputs": [],
   "source": [
    "all_messages = server.search([condition, date.strftime('%d-%b-%Y')])\n",
    "print(\"✅ Messages fetched:\", len(all_messages))"
   ]
  },
  {
   "cell_type": "markdown",
   "id": "12c83411-59b7-4c51-8867-4e26d14715c8",
   "metadata": {
    "papermill": {},
    "tags": []
   },
   "source": [
    "## Output"
   ]
  },
  {
   "cell_type": "markdown",
   "id": "33fa06bc-b9fa-4edb-95b4-743d96f2ad44",
   "metadata": {
    "papermill": {},
    "tags": []
   },
   "source": [
    "### Get emails on condition and mark them as seen"
   ]
  },
  {
   "cell_type": "code",
   "execution_count": 5,
   "id": "9dbec91e-ead5-413b-95ee-e33ab1d547ba",
   "metadata": {
    "papermill": {},
    "tags": []
   },
   "outputs": [],
   "source": [
    "for message_id in all_messages:\n",
    "    server.set_flags(message_id, [b'\\\\Seen'])\n",
    "print(\"✅ Emails have been marked as seen\")"
   ]
  }
 ],
 "metadata": {
  "kernelspec": {
   "display_name": "Python 3",
   "language": "python",
   "name": "python3"
  },
  "language_info": {
   "codemirror_mode": {
    "name": "ipython",
    "version": 3
   },
   "file_extension": ".py",
   "mimetype": "text/x-python",
   "name": "python",
   "nbconvert_exporter": "python",
   "pygments_lexer": "ipython3",
   "version": "3.9.6"
  },
  "naas": {
   "notebook_id": "a2209f3b3f09d821c3270ef170323d3ab2583d4a1c9eb628e3862e887382d6c0",
   "notebook_path": "Gmail/Gmail_Mark_emails_as_seen_by_dates.ipynb"
  },
  "papermill": {
   "default_parameters": {},
   "environment_variables": {},
   "parameters": {},
   "version": "2.3.3"
  }
 },
 "nbformat": 4,
 "nbformat_minor": 5
}