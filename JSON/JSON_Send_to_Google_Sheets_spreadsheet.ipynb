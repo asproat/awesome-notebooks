{
 "cells": [
  {
   "cell_type": "markdown",
   "id": "938d9fa1-5f33-4b1c-a073-8bc4065c45fb",
   "metadata": {
    "papermill": {},
    "tags": []
   },
   "source": [
    "<img width=\"10%\" alt=\"Naas\" src=\"https://landen.imgix.net/jtci2pxwjczr/assets/5ice39g4.png?w=160\"/>"
   ]
  },
  {
   "cell_type": "markdown",
   "id": "df50635b-6326-4141-96c3-ff171716c295",
   "metadata": {
    "papermill": {},
    "tags": []
   },
   "source": [
    "# JSON - Send to Google Sheets spreadsheet\n",
    "<a href=\"https://app.naas.ai/user-redirect/naas/downloader?url=https://raw.githubusercontent.com/jupyter-naas/awesome-notebooks/master/JSON/JSON_Send_to_Google_Sheets_spreadsheet.ipynb\" target=\"_parent\"><img src=\"https://naasai-public.s3.eu-west-3.amazonaws.com/Open_in_Naas_Lab.svg\"/></a><br><br><a href=\"https://bit.ly/3JyWIk6\">Give Feedbacks</a> | <a href=\"https://github.com/jupyter-naas/awesome-notebooks/issues/new?assignees=&labels=bug&template=bug_report.md&title=JSON+-+Send+to+Google+Sheets+spreadsheet:+Error+short+description\">Bug report</a>"
   ]
  },
  {
   "cell_type": "markdown",
   "id": "7f0aaa12-3eeb-4de9-a331-ae2acd633d73",
   "metadata": {
    "papermill": {},
    "tags": []
   },
   "source": [
    "**Tags:** #json #gsheet #python #read #file #data #parse #automation"
   ]
  },
  {
   "cell_type": "markdown",
   "id": "ff436e05-c347-46b6-895d-ef030965955c",
   "metadata": {
    "papermill": {},
    "tags": []
   },
   "source": [
    "**Author:** [Florent Ravenel](https://www.linkedin.com/in/florent-ravenel/)"
   ]
  },
  {
   "cell_type": "markdown",
   "id": "262a8998-b324-4367-ab57-eaab1e8843e6",
   "metadata": {
    "papermill": {},
    "tags": []
   },
   "source": [
    "**Last update:** 2023-07-31 (Created: 2023-07-31)"
   ]
  },
  {
   "cell_type": "markdown",
   "id": "c34e25e2-6e18-423a-8171-9a53b908f8d2",
   "metadata": {
    "papermill": {},
    "tags": []
   },
   "source": [
    "**Description:** This notebook will demonstrate how to send a json file to a Google Sheets spreadsheet."
   ]
  },
  {
   "cell_type": "markdown",
   "id": "32a39269-9f73-43d4-8d3a-545733436471",
   "metadata": {
    "papermill": {},
    "tags": []
   },
   "source": [
    "**References:**\n",
    "- [Python json module](https://docs.python.org/3/library/json.html)\n",
    "- [JSON format](https://www.json.org/json-en.html)"
   ]
  },
  {
   "cell_type": "markdown",
   "id": "5e371692-1cc5-4751-b8ef-c7171c7c9562",
   "metadata": {
    "papermill": {},
    "tags": []
   },
   "source": [
    "## Input"
   ]
  },
  {
   "cell_type": "markdown",
   "id": "4d5b8197-09c8-4ca1-9997-3103db0fcbcf",
   "metadata": {
    "papermill": {},
    "tags": []
   },
   "source": [
    "### Import libraries"
   ]
  },
  {
   "cell_type": "code",
   "execution_count": null,
   "id": "25e9d285-f6b4-4da5-8995-b2d3b25a755d",
   "metadata": {
    "papermill": {},
    "tags": []
   },
   "outputs": [],
   "source": [
    "import json\n",
    "from naas_drivers import gsheet\n",
    "import pandas as pd"
   ]
  },
  {
   "cell_type": "markdown",
   "id": "900920f4-dc14-4a60-9082-20731b36af7c",
   "metadata": {
    "papermill": {},
    "tags": []
   },
   "source": [
    "### Setup variables\n",
    "**Mandatory**\n",
    "\n",
    "Share your Google Sheets spreadsheet with our service account : 🔗 naas-share@naas-gsheets.iam.gserviceaccount.com\n",
    "\n",
    "- `spreadsheet_url`: Google Sheets spreadsheet URL\n",
    "- `sheet_name`: Google Sheets sheet name\n",
    "- `file_name`: Name of the json file to be read\n",
    "\n",
    "**Optional**\n",
    "- `append`: If False, data will be canceled and replaced."
   ]
  },
  {
   "cell_type": "code",
   "execution_count": null,
   "id": "b1d6e56e-3eb7-4b64-bfce-342cb96fad67",
   "metadata": {
    "papermill": {},
    "tags": []
   },
   "outputs": [],
   "source": [
    "# Mandatory\n",
    "file_name = \"../templates.json\"\n",
    "spreadsheet_url = \"https://docs.google.com/spreadsheets/d/1RdwdYXDFDSFSFxxxxxxxx/edit#gid=XXXXXXXX33\"\n",
    "sheet_name = \"MY_SHEET\"\n",
    "\n",
    "# Optional\n",
    "append = False"
   ]
  },
  {
   "cell_type": "markdown",
   "id": "305071a0-cd72-4032-ba8f-7a97e78b39a4",
   "metadata": {
    "papermill": {},
    "tags": []
   },
   "source": [
    "## Model"
   ]
  },
  {
   "cell_type": "markdown",
   "id": "46cf7375-5884-4a50-a137-98e59e178655",
   "metadata": {
    "papermill": {},
    "tags": []
   },
   "source": [
    "### Read json file"
   ]
  },
  {
   "cell_type": "markdown",
   "id": "f0f5999e-0592-49d9-b3cf-fea08b3f5b87",
   "metadata": {
    "papermill": {},
    "tags": []
   },
   "source": [
    "This function will read the json file and return the content as a dictionary."
   ]
  },
  {
   "cell_type": "code",
   "execution_count": null,
   "id": "884b5c18-249e-491e-9af8-98d6709a7102",
   "metadata": {
    "papermill": {},
    "tags": []
   },
   "outputs": [],
   "source": [
    "def read_json_file(file_name):\n",
    "    with open(file_name) as json_file:\n",
    "        data = json.load(json_file)\n",
    "    return data\n",
    "\n",
    "data = read_json_file(file_name)\n",
    "print(\"Data fetched:\", len(data))"
   ]
  },
  {
   "cell_type": "markdown",
   "id": "7c07130d-2127-419f-8582-50ae312c0ac9",
   "metadata": {
    "execution": {
     "iopub.execute_input": "2023-07-31T16:13:53.830935Z",
     "iopub.status.busy": "2023-07-31T16:13:53.830695Z",
     "iopub.status.idle": "2023-07-31T16:13:53.833755Z",
     "shell.execute_reply": "2023-07-31T16:13:53.833108Z",
     "shell.execute_reply.started": "2023-07-31T16:13:53.830903Z"
    },
    "papermill": {},
    "tags": []
   },
   "source": [
    "### Convert dict to DataFrame"
   ]
  },
  {
   "cell_type": "code",
   "execution_count": null,
   "id": "45c78b22-eb62-4be9-b803-c45cb0d6a4f7",
   "metadata": {
    "papermill": {},
    "tags": []
   },
   "outputs": [],
   "source": [
    "df = pd.DataFrame(data)\n",
    "df"
   ]
  },
  {
   "cell_type": "markdown",
   "id": "fe4ab7f9-321e-4ac7-ab36-f16f29939fab",
   "metadata": {
    "papermill": {},
    "tags": []
   },
   "source": [
    "## Output"
   ]
  },
  {
   "cell_type": "markdown",
   "id": "22da40c7-c84e-4c82-8335-57160760feb1",
   "metadata": {
    "papermill": {},
    "tags": []
   },
   "source": [
    "### Send data to Google Sheets spreadsheet"
   ]
  },
  {
   "cell_type": "code",
   "execution_count": null,
   "id": "97646394-2448-4703-aaba-607744f72667",
   "metadata": {
    "papermill": {},
    "tags": []
   },
   "outputs": [],
   "source": [
    "gsheet.connect(spreadsheet_url).send(sheet_name=sheet_name, data=df, append=append)"
   ]
  },
  {
   "cell_type": "markdown",
   "id": "ee6dd6c4-619a-4d3c-ba45-2801a4d309b3",
   "metadata": {
    "papermill": {},
    "tags": []
   },
   "source": [
    " "
   ]
  }
 ],
 "metadata": {
  "kernelspec": {
   "display_name": "Python 3",
   "language": "python",
   "name": "python3"
  },
  "language_info": {
   "codemirror_mode": {
    "name": "ipython",
    "version": 3
   },
   "file_extension": ".py",
   "mimetype": "text/x-python",
   "name": "python",
   "nbconvert_exporter": "python",
   "pygments_lexer": "ipython3",
   "version": "3.9.6"
  },
  "naas": {
   "notebook_id": "c603c422f9e39d2ea960638448b510dbc4027f4cf6c068d0f196a82a161c3fd2",
   "notebook_path": "JSON/JSON_Send_to_Google_Sheets_spreadsheet.ipynb"
  },
  "papermill": {
   "default_parameters": {},
   "environment_variables": {},
   "parameters": {},
   "version": "2.4.0"
  },
  "widgets": {
   "application/vnd.jupyter.widget-state+json": {
    "state": {},
    "version_major": 2,
    "version_minor": 0
   }
  }
 },
 "nbformat": 4,
 "nbformat_minor": 5
}