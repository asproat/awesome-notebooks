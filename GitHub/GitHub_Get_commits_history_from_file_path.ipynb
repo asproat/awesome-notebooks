{
 "cells": [
  {
   "cell_type": "markdown",
   "id": "b96a1e6d-e18e-4b90-9192-2aa111d694a2",
   "metadata": {
    "papermill": {},
    "tags": []
   },
   "source": [
    "<img width=\"10%\" alt=\"Naas\" src=\"https://landen.imgix.net/jtci2pxwjczr/assets/5ice39g4.png?w=160\"/>"
   ]
  },
  {
   "cell_type": "markdown",
   "id": "1e0b104c-3f5c-4557-810c-510ad5c01aed",
   "metadata": {
    "papermill": {},
    "tags": []
   },
   "source": [
    "# GitHub - List commits history from file path\n",
    "<a href=\"https://app.naas.ai/user-redirect/naas/downloader?url=https://raw.githubusercontent.com/jupyter-naas/awesome-notebooks/master/GitHub/GitHub_Get_commits_history_from_file_path.ipynb\" target=\"_parent\"><img src=\"https://naasai-public.s3.eu-west-3.amazonaws.com/Open_in_Naas_Lab.svg\"/></a><br><br><a href=\"https://bit.ly/3JyWIk6\">Give Feedbacks</a> | <a href=\"https://github.com/jupyter-naas/awesome-notebooks/issues/new?assignees=&labels=bug&template=bug_report.md&title=GitHub+-+List+commits+history+from+file+path:+Error+short+description\">Bug report</a>"
   ]
  },
  {
   "cell_type": "markdown",
   "id": "62bb926c-e38e-45fe-82fb-46ee85a7c33e",
   "metadata": {
    "papermill": {},
    "tags": []
   },
   "source": [
    "**Tags:** #github #commits #history #snippet #operations #tracking"
   ]
  },
  {
   "cell_type": "markdown",
   "id": "bed3a749-ba5e-405f-a93b-696e583bb499",
   "metadata": {
    "papermill": {},
    "tags": []
   },
   "source": [
    "**Author:** [Florent Ravenel](https://www.linkedin.com/in/florent-ravenel/)"
   ]
  },
  {
   "cell_type": "markdown",
   "id": "0f6fc8b8-47e5-4ad7-9c69-5067c4fa5298",
   "metadata": {
    "papermill": {},
    "tags": []
   },
   "source": [
    "**Last update:** 2023-07-03 (Created: 2023-07-03)"
   ]
  },
  {
   "cell_type": "markdown",
   "id": "e6cf788e-e4c6-4671-8a0d-cfd905f4c70d",
   "metadata": {
    "execution": {
     "iopub.execute_input": "2023-01-09T09:02:15.821493Z",
     "iopub.status.busy": "2023-01-09T09:02:15.821264Z",
     "iopub.status.idle": "2023-01-09T09:02:15.831949Z",
     "shell.execute_reply": "2023-01-09T09:02:15.831043Z",
     "shell.execute_reply.started": "2023-01-09T09:02:15.821470Z"
    },
    "papermill": {},
    "tags": []
   },
   "source": [
    "**Description:** This notebook demonstrateshow to retrieve a list of commits containing a file path that exists in master branch."
   ]
  },
  {
   "cell_type": "markdown",
   "id": "10582a10-1618-46f1-837b-9fcc8c0857dc",
   "metadata": {
    "execution": {
     "iopub.execute_input": "2023-01-09T09:02:15.821493Z",
     "iopub.status.busy": "2023-01-09T09:02:15.821264Z",
     "iopub.status.idle": "2023-01-09T09:02:15.831949Z",
     "shell.execute_reply": "2023-01-09T09:02:15.831043Z",
     "shell.execute_reply.started": "2023-01-09T09:02:15.821470Z"
    },
    "papermill": {},
    "tags": []
   },
   "source": [
    "**References:**\n",
    "- [GitHub - List commits parameters](https://docs.github.com/fr/rest/commits/commits?apiVersion=2022-11-28#list-commits--parameters)"
   ]
  },
  {
   "cell_type": "markdown",
   "id": "3699bd74-3eba-4ebd-91a3-12ee02ddeb63",
   "metadata": {
    "papermill": {},
    "tags": []
   },
   "source": [
    "## Input"
   ]
  },
  {
   "cell_type": "markdown",
   "id": "5b0ec3ef-d1bb-496d-8c78-90539991de3b",
   "metadata": {
    "papermill": {},
    "tags": []
   },
   "source": [
    "### Import libraries"
   ]
  },
  {
   "cell_type": "code",
   "execution_count": 14,
   "id": "e802bdc0-6a85-4dac-8ef9-bba364e5d8c6",
   "metadata": {
    "papermill": {},
    "tags": []
   },
   "outputs": [],
   "source": [
    "import requests\n",
    "import naas\n",
    "import pandas as pd"
   ]
  },
  {
   "cell_type": "markdown",
   "id": "5c45ef2a-b8b7-4f26-960c-880f20952e95",
   "metadata": {
    "papermill": {},
    "tags": []
   },
   "source": [
    "### Setup Variables\n",
    "- `token`: [Generate a personal access token](https://docs.github.com/en/github/authenticating-to-github/creating-a-personal-access-token)\n",
    "- `owner`: The account owner of the repository. The name is not case sensitive.\n",
    "- `repository`: The name of the repository without the .git extension. The name is not case sensitive.\n",
    "- `file_path`: Only commits containing this file path will be returned."
   ]
  },
  {
   "cell_type": "code",
   "execution_count": 15,
   "id": "a556e978-9376-4379-bef5-73d2738eb6c6",
   "metadata": {
    "papermill": {},
    "tags": []
   },
   "outputs": [],
   "source": [
    "token = naas.secret.get(name=\"GITHUB_TOKEN\") or \"YOUR_GITHUB_TOKEN\"\n",
    "owner = \"jupyter-naas\"  # Replace with the owner/username of the repository\n",
    "repository = \"awesome-notebooks\" # Replace with the name of the repository\n",
    "file_path = \"generate_readme.ipynb\" # Replace with the path to the file in the repository"
   ]
  },
  {
   "cell_type": "markdown",
   "id": "0f2b7704-60e7-4e97-a1f9-b09779e7130a",
   "metadata": {
    "papermill": {},
    "tags": []
   },
   "source": [
    "## Model"
   ]
  },
  {
   "cell_type": "markdown",
   "id": "bb7f0cb3-dfe6-4031-8c10-77d1610184fd",
   "metadata": {
    "execution": {
     "iopub.execute_input": "2022-01-27T15:20:01.862544Z",
     "iopub.status.busy": "2022-01-27T15:20:01.862252Z",
     "iopub.status.idle": "2022-01-27T15:20:01.865361Z",
     "shell.execute_reply": "2022-01-27T15:20:01.864765Z",
     "shell.execute_reply.started": "2022-01-27T15:20:01.862513Z"
    },
    "papermill": {},
    "tags": []
   },
   "source": [
    "### List commits history from file path"
   ]
  },
  {
   "cell_type": "code",
   "execution_count": 32,
   "id": "334fee0f-2c06-41b0-b54c-56f78e2ec4f2",
   "metadata": {
    "papermill": {},
    "tags": []
   },
   "outputs": [],
   "source": [
    "def list_commits(token, owner, repository, file_path):\n",
    "    # Requests\n",
    "    url = f\"https://api.github.com/repos/{owner}/{repository}/commits?path={file_path}\"\n",
    "    headers = {\"Authorization\": f\"token {token}\"}\n",
    "    response = requests.get(url, headers=headers)\n",
    "    \n",
    "    # Response\n",
    "    res = requests.get(url)\n",
    "    if res.status_code == 200:\n",
    "        return res.json()\n",
    "    else:\n",
    "        print(res.json())\n",
    "        return {}\n",
    "\n",
    "commits = list_commits(token, owner, repository, file_path)\n",
    "print(\"Commits found:\", len(commits))"
   ]
  },
  {
   "cell_type": "markdown",
   "id": "f4087b7c-0347-45ee-95c4-b547f24b1bc2",
   "metadata": {
    "papermill": {},
    "tags": []
   },
   "source": [
    "## Output"
   ]
  },
  {
   "cell_type": "markdown",
   "id": "8d5c0e98-bf60-48ea-8764-d1b118c935bb",
   "metadata": {
    "papermill": {},
    "tags": []
   },
   "source": [
    "### Display results"
   ]
  },
  {
   "cell_type": "code",
   "execution_count": 34,
   "id": "a6bd32bd-0230-45a4-993f-92529c71a1bf",
   "metadata": {
    "papermill": {},
    "tags": []
   },
   "outputs": [],
   "source": [
    "if len(commits) > 0:\n",
    "    created_at = commits[-1]['commit']['committer']['date']\n",
    "    updated_at = commits[0]['commit']['committer']['date']\n",
    "    print(\"File first commit date:\", created_at)\n",
    "    print(\"File last commit date:\", updated_at)\n",
    "else:\n",
    "    print(\"File not found or no commits found for the file.\")\n",
    "commits[0]"
   ]
  }
 ],
 "metadata": {
  "kernelspec": {
   "display_name": "Python 3",
   "language": "python",
   "name": "python3"
  },
  "language_info": {
   "codemirror_mode": {
    "name": "ipython",
    "version": 3
   },
   "file_extension": ".py",
   "mimetype": "text/x-python",
   "name": "python",
   "nbconvert_exporter": "python",
   "pygments_lexer": "ipython3",
   "version": "3.9.6"
  },
  "naas": {
   "notebook_id": "4f2312393c84b6863a931e5e5af8c99bd0ea48b34dfeda84093855cca17b510e",
   "notebook_path": "GitHub/GitHub_Get_commits_history_from_file_path.ipynb"
  },
  "papermill": {
   "default_parameters": {},
   "environment_variables": {},
   "parameters": {},
   "version": "2.3.4"
  }
 },
 "nbformat": 4,
 "nbformat_minor": 5
}