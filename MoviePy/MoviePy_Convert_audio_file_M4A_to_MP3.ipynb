{
 "cells": [
  {
   "cell_type": "markdown",
   "id": "d98f101c-52c8-45c1-b3a1-2ad5b835bf8a",
   "metadata": {
    "papermill": {},
    "tags": []
   },
   "source": [
    "<img width=\"10%\" alt=\"Naas\" src=\"https://landen.imgix.net/jtci2pxwjczr/assets/5ice39g4.png?w=160\"/>"
   ]
  },
  {
   "cell_type": "markdown",
   "id": "5d648da5-f36b-488d-a031-65d2a48dc697",
   "metadata": {
    "papermill": {},
    "tags": []
   },
   "source": [
    "# MoviePy - Convert audio file M4A to MP3\n",
    "<a href=\"https://app.naas.ai/user-redirect/naas/downloader?url=https://raw.githubusercontent.com/jupyter-naas/awesome-notebooks/master/MoviePy/MoviePy_Convert_audio_file_M4A_to_MP3.ipynb\" target=\"_parent\"><img src=\"https://naasai-public.s3.eu-west-3.amazonaws.com/Open_in_Naas_Lab.svg\"/></a><br><br><a href=\"https://bit.ly/3JyWIk6\">Give Feedbacks</a> | <a href=\"https://github.com/jupyter-naas/awesome-notebooks/issues/new?assignees=&labels=bug&template=bug_report.md&title=MoviePy+-+Convert+audio+file+M4A+to+MP3:+Error+short+description\">Bug report</a>"
   ]
  },
  {
   "cell_type": "markdown",
   "id": "65442a74-89dc-42e6-850a-23a875779700",
   "metadata": {
    "papermill": {},
    "tags": []
   },
   "source": [
    "**Tags:** #moviepy #audio #convert #m4a #mp3 #python"
   ]
  },
  {
   "cell_type": "markdown",
   "id": "eda126d3-397f-44dc-a504-8147649ced26",
   "metadata": {
    "papermill": {},
    "tags": []
   },
   "source": [
    "**Author:** [Florent Ravenel](https://www.linkedin.com/in/florent-ravenel)"
   ]
  },
  {
   "cell_type": "markdown",
   "id": "dfe9d1de-7ad3-4e8a-aece-23f2a49d4421",
   "metadata": {
    "papermill": {},
    "tags": []
   },
   "source": [
    "**Last update:** 2023-07-23 (Created: 2023-07-23)"
   ]
  },
  {
   "cell_type": "markdown",
   "id": "00249c80-bfb3-4860-b843-d73faa5b8330",
   "metadata": {
    "papermill": {},
    "tags": []
   },
   "source": [
    "**Description:** This notebook would allow you to transform an audio file from M4A to MP3. It can be further used by people who want to use their Iphone voice recording mémos file and generate transcripts with AI."
   ]
  },
  {
   "cell_type": "markdown",
   "id": "afbcfb2d-1ff4-46ea-9f61-9b36a0c9c68a",
   "metadata": {
    "papermill": {},
    "tags": []
   },
   "source": [
    "**References:**\n",
    "- [PyPI - MoviePy](https://pypi.org/project/moviepy/)"
   ]
  },
  {
   "cell_type": "markdown",
   "id": "d1d5e44a-0519-43e2-be99-a36ac680ddb6",
   "metadata": {
    "papermill": {},
    "tags": []
   },
   "source": [
    "## Input"
   ]
  },
  {
   "cell_type": "markdown",
   "id": "24eb7e1c-80ec-4992-8a69-0709884d6a75",
   "metadata": {
    "papermill": {},
    "tags": []
   },
   "source": [
    "### Import libraries"
   ]
  },
  {
   "cell_type": "code",
   "execution_count": 5,
   "id": "288aecd9-6469-4c3f-ba93-3ae6d796edfc",
   "metadata": {
    "papermill": {},
    "tags": []
   },
   "outputs": [],
   "source": [
    "try:\n",
    "    from moviepy.editor import AudioFileClip\n",
    "except:\n",
    "    !pip install ffmpeg-python --user\n",
    "    from moviepy.editor import AudioFileClip\n",
    "import requests"
   ]
  },
  {
   "cell_type": "markdown",
   "id": "e6380fd1-c4a2-4029-bb62-8aa12fdc23a2",
   "metadata": {
    "papermill": {},
    "tags": []
   },
   "source": [
    "### Setup Variables\n",
    "- `input_file`: path to the M4A file\n",
    "- `output_file`: path to the MP3 file"
   ]
  },
  {
   "cell_type": "code",
   "execution_count": 6,
   "id": "e697796b-cbbf-429a-b929-2c78de1e8116",
   "metadata": {
    "papermill": {},
    "tags": []
   },
   "outputs": [],
   "source": [
    "input_file = \"https://filesamples.com/samples/audio/m4a/sample4.m4a\"\n",
    "output_file = \"output.mp3\""
   ]
  },
  {
   "cell_type": "markdown",
   "id": "d261455e-8dc3-4d7a-9625-657b577a22f5",
   "metadata": {
    "papermill": {},
    "tags": []
   },
   "source": [
    "## Model"
   ]
  },
  {
   "cell_type": "markdown",
   "id": "ed5c51d7-291e-4069-a24a-8bddcafbad41",
   "metadata": {
    "papermill": {},
    "tags": []
   },
   "source": [
    "### Download audio file\n",
    "If audio file is an URL, the file will be downloaded in local."
   ]
  },
  {
   "cell_type": "code",
   "execution_count": 7,
   "id": "665191e4-7639-4557-a472-61613c2a2252",
   "metadata": {
    "papermill": {},
    "tags": []
   },
   "outputs": [],
   "source": [
    "def download_audio(input_file):\n",
    "    # Init\n",
    "    if input_file.startswith(\"http\"):\n",
    "        url = input_file\n",
    "        input_file = url.split('/')[-1]\n",
    "    else:\n",
    "        return input_file\n",
    "    \n",
    "    # Send a GET request to download the file\n",
    "    response = requests.get(url)\n",
    "\n",
    "    # Check if the request was successful\n",
    "    if response.status_code == 200:\n",
    "        # Save the content of the response (M4A file) to a local file\n",
    "        with open(input_file, \"wb\") as file:\n",
    "            file.write(response.content)\n",
    "        print(\"✅ M4A file downloaded successfully.\")\n",
    "    else:\n",
    "        print(\"❌ Failed to download the M4A file.\")\n",
    "    return input_file\n",
    "        \n",
    "input_file = download_audio(input_file)\n",
    "print(\"➡️ Input file:\", input_file)"
   ]
  },
  {
   "cell_type": "markdown",
   "id": "1dd6ceea-deff-4033-ba61-2f66d1bd10fb",
   "metadata": {
    "papermill": {},
    "tags": []
   },
   "source": [
    "## Output"
   ]
  },
  {
   "cell_type": "markdown",
   "id": "bbb6ce13-0583-49eb-8eff-511ed3e55f6a",
   "metadata": {
    "papermill": {},
    "tags": []
   },
   "source": [
    "### Convert M4A to MP3\n",
    "Using the `AudioFileClip` class from the `moviepy` library, we can convert an audio file from M4A to MP3."
   ]
  },
  {
   "cell_type": "code",
   "execution_count": 8,
   "id": "e18534d5-8500-4d1f-b1c5-52c1b6d46260",
   "metadata": {
    "papermill": {},
    "tags": []
   },
   "outputs": [],
   "source": [
    "# Load the M4A file using moviepy\n",
    "audio = AudioFileClip(input_file)\n",
    "\n",
    "# Export the audio to MP3 format\n",
    "audio.write_audiofile(output_file)"
   ]
  },
  {
   "cell_type": "markdown",
   "id": "4065921d-8c8d-4b8c-99e0-06642ec8a7e3",
   "metadata": {
    "papermill": {},
    "tags": []
   },
   "source": [
    " "
   ]
  },
  {
   "cell_type": "markdown",
   "id": "1f1098d9-fc61-4fa9-8d16-1038168e322f",
   "metadata": {
    "papermill": {},
    "tags": []
   },
   "source": [
    " "
   ]
  }
 ],
 "metadata": {
  "kernelspec": {
   "display_name": "Python 3",
   "language": "python",
   "name": "python3"
  },
  "language_info": {
   "codemirror_mode": {
    "name": "ipython",
    "version": 3
   },
   "file_extension": ".py",
   "mimetype": "text/x-python",
   "name": "python",
   "nbconvert_exporter": "python",
   "pygments_lexer": "ipython3",
   "version": "3.9.6"
  },
  "naas": {
   "notebook_id": "47c0e6657c573a3ff0e9d41a364f948a355dee01276d4dca70e25b179bb648a1",
   "notebook_path": "MoviePy/MoviePy_Convert_audio_file_M4A_to_MP3.ipynb"
  },
  "papermill": {
   "default_parameters": {},
   "environment_variables": {},
   "parameters": {},
   "version": "2.4.0"
  },
  "widgets": {
   "application/vnd.jupyter.widget-state+json": {
    "state": {},
    "version_major": 2,
    "version_minor": 0
   }
  }
 },
 "nbformat": 4,
 "nbformat_minor": 5
}