{
 "cells": [
  {
   "cell_type": "markdown",
   "id": "sustainable-insert",
   "metadata": {
    "papermill": {},
    "tags": []
   },
   "source": [
    "<img width=\"10%\" alt=\"Naas\" src=\"https://landen.imgix.net/jtci2pxwjczr/assets/5ice39g4.png?w=160\"/>"
   ]
  },
  {
   "cell_type": "markdown",
   "id": "forty-morocco",
   "metadata": {
    "papermill": {},
    "tags": []
   },
   "source": [
    "# Gmail - Get most important unseen emails\n",
    "<a href=\"https://app.naas.ai/user-redirect/naas/downloader?url=https://raw.githubusercontent.com/jupyter-naas/awesome-notebooks/master/Gmail/Gmail_Get_most_important_unseen_emails.ipynb\" target=\"_parent\"><img src=\"https://naasai-public.s3.eu-west-3.amazonaws.com/Open_in_Naas_Lab.svg\"/></a><br><br><a href=\"https://bit.ly/3JyWIk6\">Give Feedbacks</a> | <a href=\"https://github.com/jupyter-naas/awesome-notebooks/issues/new?assignees=&labels=bug&template=bug_report.md&title=Gmail+-+Get+most+important+unseen+emails:+Error+short+description\">Bug report</a>"
   ]
  },
  {
   "cell_type": "markdown",
   "id": "tags_cell",
   "metadata": {
    "papermill": {},
    "tags": []
   },
   "source": [
    "**Tags:** #gmail #productivity #naas_drivers #operations #automation #analytics #plotly"
   ]
  },
  {
   "cell_type": "markdown",
   "id": "367e326e-ad83-445f-b847-666e9e1e79b3",
   "metadata": {
    "papermill": {},
    "tags": []
   },
   "source": [
    "**Author:** [Antonio Georgiev](www.linkedin.com/in/antonio-georgiev-b672a325b)"
   ]
  },
  {
   "cell_type": "markdown",
   "id": "c0f8c7a5-9d04-4edb-a565-e8ec37a35861",
   "metadata": {
    "papermill": {},
    "tags": []
   },
   "source": [
    "**Last update:** 2023-07-19 (Created: 2023-07-19)"
   ]
  },
  {
   "cell_type": "markdown",
   "id": "naas-description",
   "metadata": {
    "papermill": {},
    "tags": [
     "description"
    ]
   },
   "source": [
    "**Description:** This notebook retrieves all emails for a set period of time and calculates the user's reply rate to each sender. By identifying the important senders with a higher reply rate, the code helps prioritize the user's responses and ensures timely communication. The code then outputs the list of unseen emails from these important senders, providing a focused view of the most relevant and pending email conversations."
   ]
  },
  {
   "cell_type": "markdown",
   "id": "input_cell",
   "metadata": {
    "papermill": {},
    "tags": []
   },
   "source": [
    "## Input"
   ]
  },
  {
   "cell_type": "markdown",
   "id": "136b8959-cdb1-42bb-aaf9-2321b2da134d",
   "metadata": {
    "papermill": {},
    "tags": []
   },
   "source": [
    "### Import libraries"
   ]
  },
  {
   "cell_type": "code",
   "execution_count": null,
   "id": "civil-possible",
   "metadata": {
    "papermill": {},
    "tags": []
   },
   "outputs": [],
   "source": [
    "import datetime\n",
    "import os\n",
    "try:\n",
    "    from imapclient import IMAPClient\n",
    "except:\n",
    "    !pip install imapclient --user\n",
    "    from imapclient import IMAPClient\n",
    "import naas\n",
    "from collections import Counter\n",
    "import quopri\n",
    "import email.header"
   ]
  },
  {
   "cell_type": "markdown",
   "id": "copyrighted-lighter",
   "metadata": {
    "papermill": {},
    "tags": []
   },
   "source": [
    "### Setup Variables\n",
    "Create an application password following [this procedure](https://support.google.com/mail/answer/185833?hl=en)\n",
    "- `username`: This variable stores the username or email address associated with the email account\n",
    "- `password`: This variable stores the password or authentication token required to access the email account\n",
    "- `date_start`: Number of days to filter your inbox, it must be negative value\n",
    "- `most_common_senders`: Number of most common senders you want to list as output"
   ]
  },
  {
   "cell_type": "code",
   "execution_count": null,
   "id": "handed-rolling",
   "metadata": {
    "papermill": {},
    "tags": []
   },
   "outputs": [],
   "source": [
    "username = \"xxxxx@xxxxx\"\n",
    "password = naas.secret.get(\"GMAIL_APP_PASSWORD\")\n",
    "date_start = -30\n",
    "most_common_senders = 10"
   ]
  },
  {
   "cell_type": "markdown",
   "id": "model_cell",
   "metadata": {
    "papermill": {},
    "tags": []
   },
   "source": [
    "## Model"
   ]
  },
  {
   "cell_type": "markdown",
   "id": "opposite-simon",
   "metadata": {
    "papermill": {},
    "tags": []
   },
   "source": [
    "### Connect to email box"
   ]
  },
  {
   "cell_type": "code",
   "execution_count": null,
   "id": "painted-harvard",
   "metadata": {
    "papermill": {},
    "tags": []
   },
   "outputs": [],
   "source": [
    "server = IMAPClient('imap.gmail.com')\n",
    "server.login(username, password)\n",
    "server.select_folder('INBOX')\n",
    "print(\"✅ Successfully connected to INBOX\")"
   ]
  },
  {
   "cell_type": "markdown",
   "id": "adopted-tolerance",
   "metadata": {
    "papermill": {},
    "tags": []
   },
   "source": [
    "### Get all seen emails with their flags (seen or unseen), date, and sender"
   ]
  },
  {
   "cell_type": "code",
   "execution_count": null,
   "id": "8ca1a4db-fae5-491b-a324-0359108cfe9c",
   "metadata": {
    "papermill": {},
    "tags": []
   },
   "outputs": [],
   "source": [
    "today = datetime.date.today()\n",
    "start = today + datetime.timedelta(days=date_start)\n",
    "all_messages = server.search(['SINCE', start.strftime('%d-%b-%Y')])\n",
    "all_metadata = server.fetch(all_messages, ['RFC822.SIZE', 'FLAGS', 'INTERNALDATE', 'ENVELOPE'])\n",
    "print(\"✅ All emails fetched:\", len(all_metadata))"
   ]
  },
  {
   "cell_type": "markdown",
   "id": "601903d2-f32d-41fe-833c-755ec6531997",
   "metadata": {
    "papermill": {},
    "tags": []
   },
   "source": [
    "### Get most viewed senders by counting the occurencies"
   ]
  },
  {
   "cell_type": "code",
   "execution_count": null,
   "id": "584ce61e-88f2-4c7b-8511-ac7934dc6731",
   "metadata": {
    "papermill": {},
    "tags": []
   },
   "outputs": [],
   "source": [
    "senders = []\n",
    "answered_senders = []\n",
    "for msg_id, data in all_metadata.items():\n",
    "    envelope = data[b'ENVELOPE']\n",
    "    if envelope.from_:\n",
    "        sender_email = envelope.from_[0].mailbox.decode() + \"@\" + envelope.from_[0].host.decode()\n",
    "        senders.append(sender_email)\n",
    "        if b'\\\\Answered' in data[b'FLAGS']:\n",
    "            answered_senders.append(sender_email)\n",
    "\n",
    "sender_counts = Counter(senders)\n",
    "answered_sender_counts = Counter(answered_senders)\n",
    "\n",
    "rate_by_sender = {}\n",
    "for sender, count in sender_counts.items():\n",
    "    answered_count = answered_sender_counts[sender] if sender in answered_sender_counts else 0\n",
    "    rate = (answered_count / count) * 100\n",
    "    rate_by_sender[sender] = rate\n",
    "\n",
    "sorted_senders = sorted(rate_by_sender.items(), key=lambda x: x[1], reverse=True)\n",
    "top_senders = sorted_senders[:most_common_senders]\n",
    "\n",
    "print(\"✅ Top senders by answering rate:\")\n",
    "for sender, rate in top_senders:\n",
    "    print(f\"Sender: {sender}, Answering Rate: {rate}%\")"
   ]
  },
  {
   "cell_type": "markdown",
   "id": "cebbe449-f114-4a49-983b-cfdc913e1108",
   "metadata": {
    "papermill": {},
    "tags": []
   },
   "source": [
    "### Identify the unseen emails from the top senders"
   ]
  },
  {
   "cell_type": "code",
   "execution_count": null,
   "id": "94396d1c-6c83-4bbc-9d42-993b642152d1",
   "metadata": {
    "papermill": {},
    "tags": []
   },
   "outputs": [],
   "source": [
    "unseen_emails = []\n",
    "for sender, count in top_senders:\n",
    "    unseen_messages = server.search(['UNSEEN', 'FROM', sender, 'SINCE', start.strftime('%d-%b-%Y')])\n",
    "    unseen_emails.extend(unseen_messages)\n",
    "len(unseen_emails)"
   ]
  },
  {
   "cell_type": "markdown",
   "id": "f1d21670-dabf-4430-8c1f-d6636fd78d1e",
   "metadata": {
    "papermill": {},
    "tags": []
   },
   "source": [
    "### Extract the date, sender, and subject from the unseen_emails list to provide data for the output"
   ]
  },
  {
   "cell_type": "code",
   "execution_count": null,
   "id": "b53551be-04f3-482e-a9b2-9d667672ac5e",
   "metadata": {
    "papermill": {},
    "tags": []
   },
   "outputs": [],
   "source": [
    "email_list = []\n",
    "for msg_id in unseen_emails:\n",
    "    email_data = server.fetch(msg_id, ['ENVELOPE'])[msg_id][b'ENVELOPE']\n",
    "    sender = email_data.from_[0].mailbox.decode() + \"@\" + email_data.from_[0].host.decode()\n",
    "    date = email_data.date.strftime(\"%Y-%m-%d\")\n",
    "    subject_bytes = email_data.subject.decode()\n",
    "    subject = email.header.decode_header(subject_bytes)[0][0]\n",
    "    if isinstance(subject, bytes):\n",
    "        subject = subject.decode()\n",
    "    email_list.append((sender, date, subject))"
   ]
  },
  {
   "cell_type": "markdown",
   "id": "output_cell",
   "metadata": {
    "papermill": {},
    "tags": []
   },
   "source": [
    "## Output"
   ]
  },
  {
   "cell_type": "markdown",
   "id": "protective-bookmark",
   "metadata": {
    "papermill": {},
    "tags": []
   },
   "source": [
    "### Print the list with the unseen emails for the past two weeks from the top senders"
   ]
  },
  {
   "cell_type": "code",
   "execution_count": null,
   "id": "bf987a2c-37b0-462d-bdb5-a052d15de044",
   "metadata": {
    "papermill": {},
    "tags": []
   },
   "outputs": [],
   "source": [
    "for sender, date, subject in email_list:\n",
    "    print(f\"{sender:<40} {date:<20} \\\"{subject}\\\"\")"
   ]
  }
 ],
 "metadata": {
  "kernelspec": {
   "display_name": "Python 3",
   "language": "python",
   "name": "python3"
  },
  "language_info": {
   "codemirror_mode": {
    "name": "ipython",
    "version": 3
   },
   "file_extension": ".py",
   "mimetype": "text/x-python",
   "name": "python",
   "nbconvert_exporter": "python",
   "pygments_lexer": "ipython3",
   "version": "3.9.6"
  },
  "naas": {
   "notebook_id": "714810e2c13b0614a2e4dcca2ea5dade6fb7472a230e20e2bada4b75a1882fee",
   "notebook_path": "Gmail/Gmail_Get_most_important_unseen_emails.ipynb"
  },
  "papermill": {
   "default_parameters": {},
   "environment_variables": {},
   "parameters": {},
   "version": "2.3.3"
  }
 },
 "nbformat": 4,
 "nbformat_minor": 5
}