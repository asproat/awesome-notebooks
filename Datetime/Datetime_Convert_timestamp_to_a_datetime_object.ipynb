{
 "cells": [
  {
   "cell_type": "markdown",
   "id": "9ec9ce91-1442-4ece-816f-a84c3bfde483",
   "metadata": {
    "papermill": {},
    "tags": []
   },
   "source": [
    "<img width=\"10%\" alt=\"Naas\" src=\"https://landen.imgix.net/jtci2pxwjczr/assets/5ice39g4.png?w=160\"/>"
   ]
  },
  {
   "cell_type": "markdown",
   "id": "d2f9171e-0b6b-45e7-ad69-0e28ce4fa556",
   "metadata": {
    "papermill": {},
    "tags": []
   },
   "source": [
    "# Datetime - Convert timestamp to a datetime object\n",
    "<a href=\"https://app.naas.ai/user-redirect/naas/downloader?url=https://raw.githubusercontent.com/jupyter-naas/awesome-notebooks/master/Datetime/Datetime_Convert_timestamp_to_a_datetime_object.ipynb\" target=\"_parent\"><img src=\"https://naasai-public.s3.eu-west-3.amazonaws.com/Open_in_Naas_Lab.svg\"/></a><br><br><a href=\"https://bit.ly/3JyWIk6\">Give Feedbacks</a> | <a href=\"https://github.com/jupyter-naas/awesome-notebooks/issues/new?assignees=&labels=bug&template=bug_report.md&title=Datetime+-+Convert+timestamp+to+a+datetime+object:+Error+short+description\">Bug report</a>"
   ]
  },
  {
   "cell_type": "markdown",
   "id": "b7467c11-cf22-4f82-928d-c23e3f7d5459",
   "metadata": {
    "papermill": {},
    "tags": []
   },
   "source": [
    "**Tags:** #datetime #python #timestamp #convert #datetimeobject #library"
   ]
  },
  {
   "cell_type": "markdown",
   "id": "669172da-2662-4715-bc07-fd82c7cd80ae",
   "metadata": {
    "papermill": {},
    "tags": []
   },
   "source": [
    "**Author:** [Florent Ravenel](https://www.linkedin.com/in/florent-ravenel)"
   ]
  },
  {
   "cell_type": "markdown",
   "id": "65a1341b-c948-4a2b-91f5-e69c9dfd415f",
   "metadata": {
    "papermill": {},
    "tags": []
   },
   "source": [
    "**Last update:** 2023-07-05 (Created: 2023-07-05)"
   ]
  },
  {
   "cell_type": "markdown",
   "id": "1ddadce4-cd43-4e82-bb7e-a38fe9c93fdd",
   "metadata": {
    "papermill": {},
    "tags": []
   },
   "source": [
    "**Description:** This notebook will show how to convert a timestamp to a datetime object in Python."
   ]
  },
  {
   "cell_type": "markdown",
   "id": "727bc23c-773c-450e-bb31-b4469497d031",
   "metadata": {
    "papermill": {},
    "tags": []
   },
   "source": [
    "**References:**\n",
    "- [Python datetime library](https://docs.python.org/3/library/datetime.html)"
   ]
  },
  {
   "cell_type": "markdown",
   "id": "1d7405e6-a5ec-4739-9d4d-c9db2fb536a6",
   "metadata": {
    "papermill": {},
    "tags": []
   },
   "source": [
    "## Input"
   ]
  },
  {
   "cell_type": "markdown",
   "id": "c606c4bf-c089-44a9-8402-05f94fe4c928",
   "metadata": {
    "papermill": {},
    "tags": []
   },
   "source": [
    "### Import libraries"
   ]
  },
  {
   "cell_type": "code",
   "execution_count": 1,
   "id": "38fe9360-9889-4b98-b778-1e151f93db33",
   "metadata": {
    "papermill": {},
    "tags": []
   },
   "outputs": [],
   "source": [
    "from datetime import datetime"
   ]
  },
  {
   "cell_type": "markdown",
   "id": "c3fb9469-1cdf-4a79-a04f-e8eb3689735b",
   "metadata": {
    "papermill": {},
    "tags": []
   },
   "source": [
    "### Setup Variables\n",
    "- `timestamp`: timestamp to be converted to a datetime object"
   ]
  },
  {
   "cell_type": "code",
   "execution_count": 2,
   "id": "1f1c9d27-dcbb-4835-83d2-9c07d1addabd",
   "metadata": {
    "papermill": {},
    "tags": []
   },
   "outputs": [],
   "source": [
    "timestamp = 1623456789"
   ]
  },
  {
   "cell_type": "markdown",
   "id": "3eab2150-a7bf-4219-a582-409b2ab576ef",
   "metadata": {
    "papermill": {},
    "tags": []
   },
   "source": [
    "## Model"
   ]
  },
  {
   "cell_type": "markdown",
   "id": "06cd4f4b-b403-4d78-b365-9c1a0bf433a8",
   "metadata": {
    "papermill": {},
    "tags": []
   },
   "source": [
    "### Convert timestamp to datetime object"
   ]
  },
  {
   "cell_type": "code",
   "execution_count": 3,
   "id": "8ff96b84-2dbf-456f-9aee-1076bf8b5206",
   "metadata": {
    "papermill": {},
    "tags": []
   },
   "outputs": [],
   "source": [
    "# Convert timestamp to a datetime object\n",
    "datetime_obj = datetime.fromtimestamp(timestamp)\n",
    "datetime_obj"
   ]
  },
  {
   "cell_type": "markdown",
   "id": "5cbe806e-9ed0-410e-880f-f09b78af3ac7",
   "metadata": {
    "papermill": {},
    "tags": []
   },
   "source": [
    "## Output"
   ]
  },
  {
   "cell_type": "markdown",
   "id": "89debd47-aa74-4195-8e06-c72caa36dbd1",
   "metadata": {
    "papermill": {},
    "tags": []
   },
   "source": [
    "### Display result"
   ]
  },
  {
   "cell_type": "code",
   "execution_count": 4,
   "id": "20d684af-47c5-4e65-8e48-7401bf13b816",
   "metadata": {
    "papermill": {},
    "tags": []
   },
   "outputs": [],
   "source": [
    "print(datetime_obj)"
   ]
  },
  {
   "cell_type": "markdown",
   "id": "23553ce0-6a3e-4ce2-bb65-f863961902aa",
   "metadata": {
    "papermill": {},
    "tags": []
   },
   "source": [
    " "
   ]
  }
 ],
 "metadata": {
  "kernelspec": {
   "display_name": "Python 3",
   "language": "python",
   "name": "python3"
  },
  "language_info": {
   "codemirror_mode": {
    "name": "ipython",
    "version": 3
   },
   "file_extension": ".py",
   "mimetype": "text/x-python",
   "name": "python",
   "nbconvert_exporter": "python",
   "pygments_lexer": "ipython3",
   "version": "3.9.6"
  },
  "naas": {
   "notebook_id": "deacb63cb8ea46333f7b10672b968a20991c44cc34048cecbd7af276488cdc36",
   "notebook_path": "Datetime/Datetime_Convert_timestamp_to_a_datetime_object.ipynb"
  },
  "papermill": {
   "default_parameters": {},
   "environment_variables": {},
   "parameters": {},
   "version": "2.4.0"
  },
  "widgets": {
   "application/vnd.jupyter.widget-state+json": {
    "state": {},
    "version_major": 2,
    "version_minor": 0
   }
  }
 },
 "nbformat": 4,
 "nbformat_minor": 5
}