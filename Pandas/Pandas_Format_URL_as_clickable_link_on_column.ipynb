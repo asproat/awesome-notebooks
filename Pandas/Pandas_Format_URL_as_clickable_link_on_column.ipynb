{
 "cells": [
  {
   "cell_type": "markdown",
   "id": "5e6ea42a-b5e2-40f7-990b-72cbbc5b4cde",
   "metadata": {
    "papermill": {},
    "tags": []
   },
   "source": [
    "<img width=\"10%\" alt=\"Naas\" src=\"https://landen.imgix.net/jtci2pxwjczr/assets/5ice39g4.png?w=160\"/>"
   ]
  },
  {
   "cell_type": "markdown",
   "id": "0bfa6886-f151-4278-a7ae-f199fe1f25c1",
   "metadata": {
    "papermill": {},
    "tags": []
   },
   "source": [
    "# Pandas - Format URL as clickable link on column\n",
    "<a href=\"https://app.naas.ai/user-redirect/naas/downloader?url=https://raw.githubusercontent.com/jupyter-naas/awesome-notebooks/master/Pandas/Pandas_Format_URL_as_clickable_link_on_column.ipynb\" target=\"_parent\"><img src=\"https://naasai-public.s3.eu-west-3.amazonaws.com/Open_in_Naas_Lab.svg\"/></a><br><br><a href=\"https://bit.ly/3JyWIk6\">Give Feedbacks</a> | <a href=\"https://github.com/jupyter-naas/awesome-notebooks/issues/new?assignees=&labels=bug&template=bug_report.md&title=Pandas+-+Format+URL+as+clickable+link+on+column:+Error+short+description\">Bug report</a>"
   ]
  },
  {
   "cell_type": "markdown",
   "id": "bc1b72c6-7a1a-4ce6-8b8e-feb705cfec90",
   "metadata": {
    "papermill": {},
    "tags": []
   },
   "source": [
    "**Tags:** #pandas #dataframe #url #link #column #format"
   ]
  },
  {
   "cell_type": "markdown",
   "id": "3e7d2885-80f6-4630-882f-c93d2a1e21d7",
   "metadata": {
    "papermill": {},
    "tags": []
   },
   "source": [
    "**Author:** [Benjamin Filly](https://www.linkedin.com/in/benjamin-filly-05427727a/)"
   ]
  },
  {
   "cell_type": "markdown",
   "id": "a9c9ee66-8d72-4516-a3d7-e9dc48aba90d",
   "metadata": {
    "papermill": {},
    "tags": []
   },
   "source": [
    "**Last update:** 2023-07-24 (Created: 2023-07-24)"
   ]
  },
  {
   "cell_type": "markdown",
   "id": "414a941a-f0e2-4f9a-8036-5333fca3ca3a",
   "metadata": {
    "papermill": {},
    "tags": []
   },
   "source": [
    "**Description:** This notebook will show how to format a URL as a clickable link on a column of a Pandas DataFrame. This is usefull for organizations to quickly access to a website from a DataFrame."
   ]
  },
  {
   "cell_type": "markdown",
   "id": "52bb5773-7b38-45e1-a8ea-0cd5781c18a1",
   "metadata": {
    "papermill": {},
    "tags": []
   },
   "source": [
    "**References:**\n",
    "- [Pandas Documentation](https://pandas.pydata.org/pandas-docs/stable/reference/api/pandas.DataFrame.style.html)"
   ]
  },
  {
   "cell_type": "markdown",
   "id": "2eee425c-0e02-4a16-97c9-378e579512e5",
   "metadata": {
    "papermill": {},
    "tags": []
   },
   "source": [
    "## Input"
   ]
  },
  {
   "cell_type": "markdown",
   "id": "820f381a-5c4e-4d41-b8e5-61ec4047b9ff",
   "metadata": {
    "papermill": {},
    "tags": []
   },
   "source": [
    "### Import libraries"
   ]
  },
  {
   "cell_type": "code",
   "execution_count": 1,
   "id": "9a55aa01-1262-456a-9bd8-f6f524d8e410",
   "metadata": {
    "papermill": {},
    "tags": []
   },
   "outputs": [],
   "source": [
    "import pandas as pd"
   ]
  },
  {
   "cell_type": "markdown",
   "id": "04a271da-4c85-4868-8834-4afc7e7d5550",
   "metadata": {
    "papermill": {},
    "tags": []
   },
   "source": [
    "### Setup Variables\n",
    "- `column_name`: Column name that stored URLs"
   ]
  },
  {
   "cell_type": "code",
   "execution_count": 2,
   "id": "49dd9cef-f9f1-4ca3-9688-a3d043211f1a",
   "metadata": {
    "papermill": {},
    "tags": []
   },
   "outputs": [],
   "source": [
    "column_name = \"Link\""
   ]
  },
  {
   "cell_type": "markdown",
   "id": "189d6107-2043-4283-b2a5-7732c46c41db",
   "metadata": {
    "papermill": {},
    "tags": []
   },
   "source": [
    "## Model"
   ]
  },
  {
   "cell_type": "markdown",
   "id": "cdabf2be-140d-4509-ba25-5db3dcf41196",
   "metadata": {
    "papermill": {},
    "tags": []
   },
   "source": [
    "### Create DataFrame"
   ]
  },
  {
   "cell_type": "code",
   "execution_count": 3,
   "id": "f3cd74d4-c30a-4e29-88d8-663eb66c0215",
   "metadata": {
    "papermill": {},
    "tags": []
   },
   "outputs": [],
   "source": [
    "# Create a fake dataset\n",
    "data = {\n",
    "    \"Name\": [\"Benjamin\", \"John\", \"Sara\"],\n",
    "    \"Link\": [\n",
    "        \"https://www.linkedin.com/in/benjamin-filly-05427727a/\",\n",
    "        \"https://www.linkedin.com/in/john-doe-1234567/\",\n",
    "        \"https://www.linkedin.com/in/sara-smith-098765/\",\n",
    "    ],\n",
    "}\n",
    "\n",
    "# Create a DataFrame\n",
    "df_init = pd.DataFrame(data)\n",
    "df_init"
   ]
  },
  {
   "cell_type": "markdown",
   "id": "65294d16-c82b-41ee-b4c0-df295443fbe1",
   "metadata": {
    "papermill": {},
    "tags": []
   },
   "source": [
    "## Output"
   ]
  },
  {
   "cell_type": "markdown",
   "id": "ce9570c8-3380-4060-9eae-1c7b1177cfe0",
   "metadata": {
    "papermill": {},
    "tags": []
   },
   "source": [
    "### Format URL as clickable link on column"
   ]
  },
  {
   "cell_type": "code",
   "execution_count": 4,
   "id": "200d75af-79e3-4ddd-997c-bcd917afd229",
   "metadata": {
    "papermill": {},
    "tags": []
   },
   "outputs": [],
   "source": [
    "df = df_init.copy()\n",
    "\n",
    "# Format the Link column as a clickable link in a new tab\n",
    "df = df.style.format({column_name: lambda x: f'<a href=\"{x}\" target=\"_blank\">{x}</a>'})\n",
    "df"
   ]
  },
  {
   "cell_type": "markdown",
   "id": "f2db4de5-ef54-432c-810f-75ab3d43b291",
   "metadata": {
    "papermill": {},
    "tags": []
   },
   "source": [
    " "
   ]
  }
 ],
 "metadata": {
  "kernelspec": {
   "display_name": "Python 3",
   "language": "python",
   "name": "python3"
  },
  "language_info": {
   "codemirror_mode": {
    "name": "ipython",
    "version": 3
   },
   "file_extension": ".py",
   "mimetype": "text/x-python",
   "name": "python",
   "nbconvert_exporter": "python",
   "pygments_lexer": "ipython3",
   "version": "3.9.6"
  },
  "naas": {
   "notebook_id": "58c0be4a754b9695c5d1bb790222ff5c3d8426dc0fa876d1f948fce48d4730c5",
   "notebook_path": "Pandas/Pandas_Format_URL_as_clickable_link_on_column.ipynb"
  },
  "papermill": {
   "default_parameters": {},
   "environment_variables": {},
   "parameters": {},
   "version": "2.4.0"
  },
  "widgets": {
   "application/vnd.jupyter.widget-state+json": {
    "state": {},
    "version_major": 2,
    "version_minor": 0
   }
  }
 },
 "nbformat": 4,
 "nbformat_minor": 5
}