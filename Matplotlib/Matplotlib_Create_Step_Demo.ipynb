{
 "cells": [
  {
   "cell_type": "markdown",
   "id": "f3009d0e-3d28-486a-a45b-0aa390832e52",
   "metadata": {
    "papermill": {},
    "tags": []
   },
   "source": [
    "<img width=\"10%\" alt=\"Naas\" src=\"https://landen.imgix.net/jtci2pxwjczr/assets/5ice39g4.png?w=160\"/>"
   ]
  },
  {
   "cell_type": "markdown",
   "id": "continuing-pioneer",
   "metadata": {
    "papermill": {},
    "tags": []
   },
   "source": [
    "# Matplotlib - Create Step Demo\n",
    "<a href=\"https://app.naas.ai/user-redirect/naas/downloader?url=https://raw.githubusercontent.com/jupyter-naas/awesome-notebooks/master/Matplotlib/Matplotlib_Create_Step_Demo.ipynb\" target=\"_parent\"><img src=\"https://naasai-public.s3.eu-west-3.amazonaws.com/Open_in_Naas_Lab.svg\"/></a><br><br><a href=\"https://bit.ly/3JyWIk6\">Give Feedbacks</a> | <a href=\"https://github.com/jupyter-naas/awesome-notebooks/issues/new?assignees=&labels=bug&template=bug_report.md&title=Matplotlib+-+Create+Step+Demo:+Error+short+description\">Bug report</a>"
   ]
  },
  {
   "cell_type": "markdown",
   "id": "d5a217ea-e554-474a-9c7b-2c9782c7104f",
   "metadata": {
    "papermill": {},
    "tags": []
   },
   "source": [
    "**Tags:** #matplotlib #chart #step demo #dataviz #snippet #operations #image"
   ]
  },
  {
   "cell_type": "markdown",
   "id": "naas-author",
   "metadata": {
    "papermill": {},
    "tags": [
     "naas"
    ]
   },
   "source": [
    "**Author:** [Mardiat-Iman](https://www.linkedin.com/in/mardiat-iman-ibrahim-imam-726027262)"
   ]
  },
  {
   "cell_type": "markdown",
   "id": "0f579764-0048-4d26-aa94-1491ea59daa2",
   "metadata": {
    "papermill": {},
    "tags": []
   },
   "source": [
    "**Last update:** 2023-07-25 (Created: 2023-07-24)"
   ]
  },
  {
   "cell_type": "markdown",
   "id": "naas-description",
   "metadata": {
    "papermill": {},
    "tags": [
     "description"
    ]
   },
   "source": [
    "**Description:** This notebook provides instructions on how to plot the coherence of two signals using Matplotlib."
   ]
  },
  {
   "cell_type": "markdown",
   "id": "2473e501-0556-472e-93e9-358fb8232532",
   "metadata": {
    "papermill": {},
    "tags": [
     "description"
    ]
   },
   "source": [
    "**References:** \n",
    "- [Step Demo](https://matplotlib.org/stable/gallery/lines_bars_and_markers/step_demo.html#sphx-glr-gallery-lines-bars-and-markers-step-demo-py)"
   ]
  },
  {
   "cell_type": "markdown",
   "id": "input_cell",
   "metadata": {
    "papermill": {},
    "tags": []
   },
   "source": [
    "## Input"
   ]
  },
  {
   "cell_type": "markdown",
   "id": "import_cell",
   "metadata": {
    "papermill": {},
    "tags": []
   },
   "source": [
    "### Import libraries"
   ]
  },
  {
   "cell_type": "code",
   "execution_count": 1,
   "id": "349da579-e86d-4c4a-ac9f-fad6145f8061",
   "metadata": {
    "papermill": {},
    "tags": []
   },
   "outputs": [],
   "source": [
    "import numpy as np\n",
    "import matplotlib.pyplot as plt\n",
    "import naas"
   ]
  },
  {
   "cell_type": "markdown",
   "id": "eb94bc1f-3f55-4b4c-b0d5-bf172df94f1c",
   "metadata": {
    "papermill": {},
    "tags": []
   },
   "source": [
    "### Setup variables\n",
    "- `x`: It is a NumPy array created using `np.arange(14)`. It represents an array of numbers from 0 to 13 (inclusive) since `arange(14)` generates numbers from 0 up to, but not including, 14.\n",
    "- `y`: It is a NumPy array obtained by taking the sine of each element of `x` divided by 2. It represents the sine values for each element in `x`.\n",
    "- `color`: It is a string variable set to `'grey'`, representing the color that will be used in the plot.\n",
    "- `legend_title`: It is a string variable set to `'Parameter where:'`, which will be used as the title for the first legend in the first plot.\n",
    "- `title`: It is a string variable set to `'plt.step(where=...)'`, which will be used as the title for the first plot.\n",
    "- `grid_line_color`: It is a string variable set to `'0.95'`, representing the color of the gridlines that will be added to the first plot.\n",
    "- `legend_title2`: It is a string variable set to `'Parameter drawstyle:'`, which will be used as the title for the second legend in the second plot.\n",
    "- `title2`: It is a string variable set to `'plt.plot(drawstyle=...)`, which will be used as the title for the second plot.\n",
    "- `barlabel1`, `barlabel2`, `barlabel3`, `barlabel4`, `barlabel5`, `barlabel6`: These are string variables representing different labels for the legends in the plots. They are used to label different step and line plots in the two sets of plot configurations.\n",
    "- `fig_path`: It is a string variable set to `'fig.png'`, representing the file path where the plot will be saved when `plt.savefig(fig_path)` is called."
   ]
  },
  {
   "cell_type": "code",
   "execution_count": 2,
   "id": "d38ee7ff-1739-4a23-953c-d920338d98c0",
   "metadata": {
    "papermill": {},
    "tags": []
   },
   "outputs": [],
   "source": [
    "# Inputs\n",
    "x = np.arange(14)\n",
    "y = np.sin(x / 2)\n",
    "color = 'grey'\n",
    "legend_title = 'Parameter where:'\n",
    "title = 'plt.step(where=...)'\n",
    "grid_line_color = '0.95'\n",
    "legend_title2 = 'Parameter drawstyle:'\n",
    "title2 = 'plt.plot(drawstyle=...)'\n",
    "barlabel1 = 'pre (default)'\n",
    "barlabel2 = 'mid'\n",
    "barlabel3 = 'post'\n",
    "barlabel4 = 'steps (=steps-pre)'\n",
    "barlabel5 = 'steps-mid'\n",
    "barlabel6 = 'steps-post'\n",
    "\n",
    "# Outputs\n",
    "fig_path = \"fig.png\""
   ]
  },
  {
   "cell_type": "markdown",
   "id": "model_cell",
   "metadata": {
    "papermill": {},
    "tags": []
   },
   "source": [
    "## Model"
   ]
  },
  {
   "cell_type": "markdown",
   "id": "ef3c71fb-a46f-4216-978f-1b7fe0667bfd",
   "metadata": {
    "papermill": {},
    "tags": []
   },
   "source": [
    "### Create Step Demo"
   ]
  },
  {
   "cell_type": "code",
   "execution_count": 3,
   "id": "devoted-negotiation",
   "metadata": {
    "papermill": {},
    "tags": []
   },
   "outputs": [],
   "source": [
    "fig, ax1 = plt.subplots()\n",
    "\n",
    "plt.step(x, y + 2, label=barlabel1)\n",
    "plt.plot(x, y + 2, 'o--', color=(color), alpha=0.3)\n",
    "\n",
    "plt.step(x, y + 1, where='mid', label=barlabel2)\n",
    "plt.plot(x, y + 1, 'o--', color=(color), alpha=0.3)\n",
    "\n",
    "plt.step(x, y, where='post', label=barlabel3)\n",
    "plt.plot(x, y, 'o--', color=(color), alpha=0.3)\n",
    "\n",
    "plt.grid(axis='x', color=grid_line_color)\n",
    "plt.legend(title=legend_title)\n",
    "plt.title(title)\n",
    "plt.show()"
   ]
  },
  {
   "cell_type": "markdown",
   "id": "9c06578b-b0ca-4763-a7eb-caf0b6dd8c61",
   "metadata": {
    "papermill": {},
    "tags": []
   },
   "source": [
    "### Using Drawstyle Parameter"
   ]
  },
  {
   "cell_type": "code",
   "execution_count": 4,
   "id": "d6a174e1-ed5d-40dd-8e7b-8485b4053636",
   "metadata": {
    "papermill": {},
    "tags": []
   },
   "outputs": [],
   "source": [
    "fig, ax2 = plt.subplots()\n",
    "plt.plot(x, y + 2, drawstyle='steps', label=barlabel4)\n",
    "plt.plot(x, y + 2, 'o--', color=(color), alpha=0.3)\n",
    "\n",
    "plt.plot(x, y + 1, drawstyle='steps-mid', label=barlabel5)\n",
    "plt.plot(x, y + 1, 'o--', color=(color), alpha=0.3)\n",
    "\n",
    "plt.plot(x, y, drawstyle='steps-post', label=barlabel6)\n",
    "plt.plot(x, y, 'o--', color=(color), alpha=0.3)\n",
    "\n",
    "plt.grid(axis='x', color=grid_line_color)\n",
    "plt.legend(title=legend_title2)\n",
    "plt.title(title2)\n",
    "plt.show()"
   ]
  },
  {
   "cell_type": "markdown",
   "id": "output_cell",
   "metadata": {
    "papermill": {},
    "tags": []
   },
   "source": [
    "## Output"
   ]
  },
  {
   "cell_type": "markdown",
   "id": "display_cell",
   "metadata": {
    "papermill": {},
    "tags": []
   },
   "source": [
    "### Save the figure"
   ]
  },
  {
   "cell_type": "code",
   "execution_count": 5,
   "id": "wired-minutes",
   "metadata": {
    "papermill": {},
    "tags": []
   },
   "outputs": [],
   "source": [
    "fig.savefig(fig_path)"
   ]
  },
  {
   "cell_type": "markdown",
   "id": "cf8011d7-a4f5-40f5-9e67-282f4073239c",
   "metadata": {
    "papermill": {},
    "tags": []
   },
   "source": [
    "### Share asset with naas"
   ]
  },
  {
   "cell_type": "code",
   "execution_count": 6,
   "id": "f02eb423-cb77-44a1-8613-d556b317a516",
   "metadata": {
    "papermill": {},
    "tags": []
   },
   "outputs": [],
   "source": [
    "naas.asset.add(fig_path, params={\"inline\": True})"
   ]
  }
 ],
 "metadata": {
  "kernelspec": {
   "display_name": "Python 3",
   "language": "python",
   "name": "python3"
  },
  "language_info": {
   "codemirror_mode": {
    "name": "ipython",
    "version": 3
   },
   "file_extension": ".py",
   "mimetype": "text/x-python",
   "name": "python",
   "nbconvert_exporter": "python",
   "pygments_lexer": "ipython3",
   "version": "3.9.6"
  },
  "naas": {
   "notebook_id": "1f3fc35bee4b3150b9147bddd14a9ddcc1b03b43e06219f599ffbf03c0670508",
   "notebook_path": "Matplotlib/Matplotlib_Create_Step_Demo.ipynb"
  },
  "papermill": {
   "default_parameters": {},
   "environment_variables": {},
   "parameters": {},
   "version": "2.3.3"
  }
 },
 "nbformat": 4,
 "nbformat_minor": 5
}