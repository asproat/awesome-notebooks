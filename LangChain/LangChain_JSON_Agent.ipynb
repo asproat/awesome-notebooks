{
 "cells": [
  {
   "cell_type": "markdown",
   "id": "d5c27438-2100-431d-98dd-83acf6d5cbc1",
   "metadata": {
    "papermill": {},
    "tags": []
   },
   "source": [
    "<img width=\"10%\" alt=\"Naas\" src=\"https://landen.imgix.net/jtci2pxwjczr/assets/5ice39g4.png?w=160\"/>"
   ]
  },
  {
   "cell_type": "markdown",
   "id": "8b45064a-f828-4ceb-a819-b6793a40c390",
   "metadata": {
    "papermill": {},
    "tags": []
   },
   "source": [
    "# LangChain - JSON Agent\n",
    "<a href=\"https://app.naas.ai/user-redirect/naas/downloader?url=https://raw.githubusercontent.com/jupyter-naas/awesome-notebooks/master/LangChain/LangChain_JSON_Agent.ipynb\" target=\"_parent\"><img src=\"https://naasai-public.s3.eu-west-3.amazonaws.com/Open_in_Naas_Lab.svg\"/></a><br><br><a href=\"https://bit.ly/3JyWIk6\">Give Feedbacks</a> | <a href=\"https://github.com/jupyter-naas/awesome-notebooks/issues/new?assignees=&labels=bug&template=bug_report.md&title=LangChain+-+JSON+Agent:+Error+short+description\">Bug report</a>"
   ]
  },
  {
   "cell_type": "markdown",
   "id": "ed5d0c25-7509-4bfa-be94-4b8dd761248c",
   "metadata": {
    "papermill": {},
    "tags": []
   },
   "source": [
    "**Tags:** #json #agent #langchain #toolkit #example #python"
   ]
  },
  {
   "cell_type": "markdown",
   "id": "cbcedf68-cc36-40b8-8545-9160bb3bed0b",
   "metadata": {
    "papermill": {},
    "tags": []
   },
   "source": [
    "**Author:** [Sriniketh Jayasendil](https://www.linkedin.com/in/sriniketh-jayasendil/)"
   ]
  },
  {
   "cell_type": "markdown",
   "id": "d04c887f-42f6-47d5-bd1d-f93dd15f0c27",
   "metadata": {
    "papermill": {},
    "tags": []
   },
   "source": [
    "**Last update:** 2023-07-31 (Created: 2023-07-20)"
   ]
  },
  {
   "cell_type": "markdown",
   "id": "7d7db12a-6bac-417b-a7f9-cdb6f2d17e2e",
   "metadata": {
    "papermill": {},
    "tags": []
   },
   "source": [
    "**Description:** This notebook showcases an agent designed to interact with large JSON/dict objects. This is useful when you want to answer questions about a JSON blob that’s too large to fit in the context window of an LLM. The agent is able to iteratively explore the blob to find what it needs to answer the user’s question."
   ]
  },
  {
   "cell_type": "markdown",
   "id": "93bca588-94f5-4abb-b541-c61e67c35f3f",
   "metadata": {
    "papermill": {},
    "tags": []
   },
   "source": [
    "**References:**\n",
    "- [LangChain - JSON Agent](https://python.langchain.com/en/latest/modules/agents/toolkits/examples/json.html)"
   ]
  },
  {
   "cell_type": "markdown",
   "id": "7e42edcc-0625-41c3-bf67-5fcfc15e42a0",
   "metadata": {
    "papermill": {},
    "tags": []
   },
   "source": [
    "## Input"
   ]
  },
  {
   "cell_type": "markdown",
   "id": "d046cdab-7c8d-47a8-a7c7-2962694081d4",
   "metadata": {
    "papermill": {},
    "tags": []
   },
   "source": [
    "### Import libraries"
   ]
  },
  {
   "cell_type": "code",
   "execution_count": 1,
   "id": "0ac85822-555b-45d9-a831-d4410ee31d03",
   "metadata": {
    "papermill": {},
    "tags": []
   },
   "outputs": [],
   "source": [
    "try:\n",
    "    import langchain\n",
    "    import validators\n",
    "except ModuleNotFoundError:\n",
    "    !pip install langchain tabulate typing-inspect==0.8.0 typing_extensions==4.5.0 validators --user\n",
    "from langchain.agents.agent_toolkits import JsonToolkit\n",
    "from langchain.tools.json.tool import JsonSpec\n",
    "from langchain.agents import create_json_agent\n",
    "from langchain.llms.openai import OpenAI\n",
    "import json\n",
    "from urllib.request import urlopen\n",
    "import validators\n",
    "import naas\n",
    "import pandas as pd"
   ]
  },
  {
   "cell_type": "markdown",
   "id": "89697d78-5044-4b94-8601-701992c1031e",
   "metadata": {
    "papermill": {},
    "tags": []
   },
   "source": [
    "### Setup Variables\n",
    "- `api_key`: OpenAI API key. [Get your API key here](https://openai.com/docs/api-overview/).\n",
    "- `temperature` (Defaults to 1): This is a value that controls the level of randomness in the generated text. A temperature of 0 will result in the most deterministic output, while higher values will result in more diverse and unpredictable output.\n",
    "- `data`: Data in JSON format\n",
    "- `question`: question to be asked to agent"
   ]
  },
  {
   "cell_type": "code",
   "execution_count": 5,
   "id": "d2f27a8b-0571-4f15-8cb1-4aae6c976023",
   "metadata": {
    "papermill": {},
    "tags": []
   },
   "outputs": [],
   "source": [
    "api_key = naas.secret.get(name=\"OPENAI_API_KEY\") or \"ENTER_YOUR_OPENAI_API_KEY\"\n",
    "temperature = 0\n",
    "data = {\n",
    "    \"name\": \"John Doe\",\n",
    "    \"age\": 30,\n",
    "    \"email\": \"johndoe@example.com\",\n",
    "    \"address\": {\n",
    "    \"street\": \"123 Main Street\",\n",
    "    \"city\": \"New York\",\n",
    "    \"state\": \"NY\",\n",
    "    \"postalCode\": \"10001\"\n",
    "    },\n",
    "    \"phoneNumbers\": [\"123-456-7890\", \"987-654-3210\"],\n",
    "    \"isEmployed\": True,\n",
    "    \"languages\": [\"English\", \"Spanish\"]\n",
    "}\n",
    "question = \"Where is John Doe living?\""
   ]
  },
  {
   "cell_type": "markdown",
   "id": "6232b70f-90fa-477f-860b-dd5745e75f13",
   "metadata": {
    "papermill": {},
    "tags": []
   },
   "source": [
    "## Model"
   ]
  },
  {
   "cell_type": "markdown",
   "id": "4190dde0-a93b-4594-963d-528bf0d59cd4",
   "metadata": {
    "papermill": {},
    "tags": []
   },
   "source": [
    "### Create a JSON Agent"
   ]
  },
  {
   "cell_type": "code",
   "execution_count": 8,
   "id": "a2087dfa-ba1b-48b4-b866-1fa81535b4c3",
   "metadata": {
    "papermill": {},
    "tags": []
   },
   "outputs": [],
   "source": [
    "json_spec = JsonSpec(dict_=data, max_value_length=4000)\n",
    "json_toolkit = JsonToolkit(spec=json_spec)\n",
    "json_agent_executor = create_json_agent(\n",
    "    llm=OpenAI(temperature=temperature, openai_api_key=api_key),\n",
    "    toolkit=json_toolkit,\n",
    "    verbose=True\n",
    ")"
   ]
  },
  {
   "cell_type": "markdown",
   "id": "31389910-44ad-47ca-a055-5539db5eb7b8",
   "metadata": {
    "papermill": {},
    "tags": []
   },
   "source": [
    "## Output"
   ]
  },
  {
   "cell_type": "markdown",
   "id": "d4414a3c-4bb0-4ade-a59b-82581e6c154c",
   "metadata": {
    "papermill": {},
    "tags": []
   },
   "source": [
    "### Display the result"
   ]
  },
  {
   "cell_type": "code",
   "execution_count": 9,
   "id": "e9bb50bc-60e5-401b-895e-afdab834b7af",
   "metadata": {
    "papermill": {},
    "tags": []
   },
   "outputs": [],
   "source": [
    "response = json_agent_executor.run(question)\n",
    "print(\"Result:\", response)"
   ]
  },
  {
   "cell_type": "code",
   "execution_count": null,
   "id": "4b4b8df1-1089-4603-be95-dd8c70927d02",
   "metadata": {
    "papermill": {},
    "tags": []
   },
   "outputs": [],
   "source": []
  }
 ],
 "metadata": {
  "kernelspec": {
   "display_name": "Python 3",
   "language": "python",
   "name": "python3"
  },
  "language_info": {
   "codemirror_mode": {
    "name": "ipython",
    "version": 3
   },
   "file_extension": ".py",
   "mimetype": "text/x-python",
   "name": "python",
   "nbconvert_exporter": "python",
   "pygments_lexer": "ipython3",
   "version": "3.9.6"
  },
  "naas": {
   "notebook_id": "97b75457b5be4aa0267637c05db4895ccd911ef922cded10242a313ab1245dbb",
   "notebook_path": "LangChain/LangChain_JSON_Agent.ipynb"
  },
  "papermill": {
   "default_parameters": {},
   "environment_variables": {},
   "parameters": {},
   "version": "2.4.0"
  },
  "widgets": {
   "application/vnd.jupyter.widget-state+json": {
    "state": {},
    "version_major": 2,
    "version_minor": 0
   }
  }
 },
 "nbformat": 4,
 "nbformat_minor": 5
}