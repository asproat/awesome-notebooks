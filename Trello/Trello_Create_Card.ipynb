{
 "cells": [
  {
   "cell_type": "markdown",
   "id": "bdfd518e-a09b-4e90-bae0-c5ce5774cb36",
   "metadata": {
    "papermill": {},
    "tags": []
   },
   "source": [
    "<img width=\"10%\" alt=\"Naas\" src=\"https://landen.imgix.net/jtci2pxwjczr/assets/5ice39g4.png?w=160\"/>"
   ]
  },
  {
   "cell_type": "markdown",
   "id": "e4314bb1-630a-4910-8664-3a58c04f0fa2",
   "metadata": {
    "papermill": {},
    "tags": []
   },
   "source": [
    "# Trello - Create Card\n",
    "<a href=\"https://app.naas.ai/user-redirect/naas/downloader?url=https://raw.githubusercontent.com/jupyter-naas/awesome-notebooks/master/Trello/Trello_Create_Card.ipynb\" target=\"_parent\"><img src=\"https://naasai-public.s3.eu-west-3.amazonaws.com/Open_in_Naas_Lab.svg\"/></a><br><br><a href=\"https://bit.ly/3JyWIk6\">Give Feedbacks</a> | <a href=\"https://github.com/jupyter-naas/awesome-notebooks/issues/new?assignees=&labels=bug&template=bug_report.md&title=Trello+-+Create+Card:+Error+short+description\">Bug report</a>"
   ]
  },
  {
   "cell_type": "markdown",
   "id": "41a1bc88-78b8-4dab-bddb-7f69132dc4df",
   "metadata": {
    "papermill": {},
    "tags": []
   },
   "source": [
    "**Tags:** #trello #api #card #create #board #list"
   ]
  },
  {
   "cell_type": "markdown",
   "id": "a57dabc0-a6e6-42b3-859e-bfeedc6910be",
   "metadata": {
    "papermill": {},
    "tags": []
   },
   "source": [
    "**Author:** [Benjamin Filly](https://www.linkedin.com/in/benjamin-filly-05427727a/)\n"
   ]
  },
  {
   "cell_type": "markdown",
   "id": "251c5bfd-b4f3-4bbc-be0f-86d943e39900",
   "metadata": {
    "papermill": {},
    "tags": []
   },
   "source": [
    "**Last update:** 2023-07-14 (Created: 2023-07-14)"
   ]
  },
  {
   "cell_type": "markdown",
   "id": "ea97b4f8-f095-444f-9fa6-e8200a061a72",
   "metadata": {
    "papermill": {},
    "tags": []
   },
   "source": [
    "**Description:** This notebook would show you how to create a new card on a Trello board using the API. You could specify the board and list that you want the card to be created in, as well as its name, description, and any other relevant details, you can also create several cards."
   ]
  },
  {
   "cell_type": "markdown",
   "id": "bcf46857-d4ac-432b-8604-1a7758eb7eae",
   "metadata": {
    "papermill": {},
    "tags": []
   },
   "source": [
    "**References:**\n",
    "- [Trello API Documentation](https://developer.atlassian.com/cloud/trello/rest/api-group-cards/#api-cards-post)"
   ]
  },
  {
   "cell_type": "markdown",
   "id": "f8a754f7-a224-47e5-82d4-65f33fe87214",
   "metadata": {
    "papermill": {},
    "tags": []
   },
   "source": [
    "## Input"
   ]
  },
  {
   "cell_type": "markdown",
   "id": "36060c42-8350-4404-acf7-f46bd1359e10",
   "metadata": {
    "papermill": {},
    "tags": []
   },
   "source": [
    "### Import Libraries"
   ]
  },
  {
   "cell_type": "code",
   "execution_count": null,
   "id": "e313ed44-19d7-4ea2-97f4-decbc0809508",
   "metadata": {
    "papermill": {},
    "tags": []
   },
   "outputs": [],
   "source": [
    "import requests\n",
    "import naas"
   ]
  },
  {
   "cell_type": "markdown",
   "id": "566aa13d-f8c6-4528-b37e-6cfb83b8ae78",
   "metadata": {
    "papermill": {},
    "tags": []
   },
   "source": [
    "### Setup Variables\n",
    "- `api_key`: Your Trello API key. [Get your API key here](https://github.com/Benjifilly/My_notebooks/wiki/How-to-obtain-an-API-key-for-Trello)\n",
    "- `force_update`: Parameters to enforce the token update\n",
    "- `board_id`: The ID of the board you want to create the card in.\n",
    "- `list_id`: The ID of the list you want to create the card in, Use this template to find the ID:<p style=\"color : Purple\">\"Trello - Retrieve list id\"</p>\n",
    "- `card_details`: is a list that contains dictionaries representing the name and description of cards to be created on the Trello board."
   ]
  },
  {
   "cell_type": "code",
   "execution_count": null,
   "id": "ef678151-5b31-4645-8d92-e8f624472ca6",
   "metadata": {
    "papermill": {},
    "tags": []
   },
   "outputs": [],
   "source": [
    "api_key = naas.secret.get(\"TRELLO_API_KEY\") or \"YOUR_TRELLO_API_KEY\"\n",
    "force_update = False\n",
    "board_id = \"ogBhOe9a\" #Example: \"https://trello.com/b/ogBhOe9a/ultimate-to-do-list\"\n",
    "list_id = \"649d8b3c9f796ee9d57a765d\" #Example: \"649d8b3c9f796ee9d57a765d\"\n",
    "\n",
    "#Example with several cards\n",
    "card_details = [\n",
    "    {\"name\": \"Call at 9:00 PM this Monday\", \"desc\": \"Don't forget to do this call, it's very important\"},\n",
    "    {\"name\": \"Meeting with the team\", \"desc\": \"Discuss project updates and action items\"},\n",
    "    {\"name\": \"Send report to the client\", \"desc\": \"Include sales figures and recommendations\"},\n",
    "]"
   ]
  },
  {
   "cell_type": "markdown",
   "id": "574140c3-306b-48f3-9f19-ee97151084ff",
   "metadata": {
    "papermill": {},
    "tags": []
   },
   "source": [
    "## Model"
   ]
  },
  {
   "cell_type": "markdown",
   "id": "2318bf65-12ed-45a8-8cfb-c1f889b297a4",
   "metadata": {
    "papermill": {},
    "tags": []
   },
   "source": [
    "### Get your token\n",
    "Your Trello token will be stored on naas secret name: \"TRELLO_TOKEN\""
   ]
  },
  {
   "cell_type": "code",
   "execution_count": null,
   "id": "98147739-b010-4936-8205-552412504d39",
   "metadata": {
    "papermill": {},
    "tags": []
   },
   "outputs": [],
   "source": [
    "def get_token(api_key, force_update):\n",
    "    token = naas.secret.get(\"TRELLO_TOKEN\")\n",
    "    if not token or force_update:\n",
    "        url = f\"https://trello.com/1/authorize?expiration=never&scope=read,write,account&response_type=token&key={api_key}\"\n",
    "        print(f\"🔗 Click on the URL to get your token: {url}\")\n",
    "        print(\"✅ On the authorization page, click on 'Authorize' button at the bottom of the page to proceed.\")\n",
    "        print(\"💾 Copy/Paste the token in red in the input case below\")\n",
    "        token = input(\"-> Enter your token here:\")\n",
    "        naas.secret.add(\"TRELLO_TOKEN\", token)\n",
    "    return token\n",
    "     \n",
    "token = get_token(api_key, force_update)"
   ]
  },
  {
   "cell_type": "markdown",
   "id": "400c2ad1-a0a6-49c4-8a79-a29c3d66aa8d",
   "metadata": {
    "papermill": {},
    "tags": []
   },
   "source": [
    "### Create Card"
   ]
  },
  {
   "cell_type": "markdown",
   "id": "767ab44a-bacb-420a-ab8d-76b4a9f17228",
   "metadata": {
    "papermill": {},
    "tags": []
   },
   "source": [
    "This function will create one or several card on a Trello board using the API.\n"
   ]
  },
  {
   "cell_type": "code",
   "execution_count": null,
   "id": "56d84ea9-48e7-4642-96d2-9999eaf33f02",
   "metadata": {
    "papermill": {},
    "tags": []
   },
   "outputs": [],
   "source": [
    "def create_card(api_key, token, board_id, list_id, name, desc):\n",
    "    url = \"https://api.trello.com/1/cards\"\n",
    "    querystring = {\n",
    "        \"key\": api_key,\n",
    "        \"token\": token,\n",
    "        \"idBoard\": board_id,\n",
    "        \"idList\": list_id,\n",
    "        \"name\": name,\n",
    "        \"desc\": desc,\n",
    "    }\n",
    "    response = requests.request(\"POST\", url, params=querystring)\n",
    "    if response.status_code == 200:\n",
    "        return response.json()\n",
    "    else:\n",
    "        return None"
   ]
  },
  {
   "cell_type": "markdown",
   "id": "f8802feb-74f4-4347-a7ca-c15c9cbadf82",
   "metadata": {
    "papermill": {},
    "tags": []
   },
   "source": [
    "## Output"
   ]
  },
  {
   "cell_type": "markdown",
   "id": "073eff49-9382-413a-9819-411c03faefca",
   "metadata": {
    "papermill": {},
    "tags": []
   },
   "source": [
    "### Display Result"
   ]
  },
  {
   "cell_type": "code",
   "execution_count": null,
   "id": "79ca43a4-b149-4b21-b73e-384f383e0955",
   "metadata": {
    "papermill": {},
    "tags": []
   },
   "outputs": [],
   "source": [
    "for card_info in card_details:\n",
    "    card = create_card(api_key, token, board_id, list_id, card_info[\"name\"], card_info[\"desc\"])\n",
    "    if card:\n",
    "        print(\"✅ Card Created:\")\n",
    "        print(\"🆔 ID:\", card[\"id\"])\n",
    "        print(\"- Name:\", card[\"name\"])\n",
    "        print(\"- Description:\", card[\"desc\"])\n",
    "        print(\"--------------------\")\n",
    "    else:\n",
    "        print(\"❌ Failed to create card.\")\n",
    "        print(\"--------------------\")"
   ]
  }
 ],
 "metadata": {
  "kernelspec": {
   "display_name": "Python 3",
   "language": "python",
   "name": "python3"
  },
  "language_info": {
   "codemirror_mode": {
    "name": "ipython",
    "version": 3
   },
   "file_extension": ".py",
   "mimetype": "text/x-python",
   "name": "python",
   "nbconvert_exporter": "python",
   "pygments_lexer": "ipython3",
   "version": "3.9.6"
  },
  "naas": {
   "notebook_id": "bda97c0086e67e89ca713c307c134464ce0269066c8eb0398f343df74d61d809",
   "notebook_path": "Trello/Trello_Create_Card.ipynb"
  },
  "papermill": {
   "default_parameters": {},
   "environment_variables": {},
   "parameters": {},
   "version": "2.4.0"
  },
  "widgets": {
   "application/vnd.jupyter.widget-state+json": {
    "state": {},
    "version_major": 2,
    "version_minor": 0
   }
  }
 },
 "nbformat": 4,
 "nbformat_minor": 5
}