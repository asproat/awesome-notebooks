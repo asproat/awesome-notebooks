{
 "cells": [
  {
   "cell_type": "markdown",
   "id": "5da81fdb-1607-4dcd-8945-78492d41c20c",
   "metadata": {
    "papermill": {},
    "tags": []
   },
   "source": [
    "<img width=\"10%\" alt=\"Naas\" src=\"https://landen.imgix.net/jtci2pxwjczr/assets/5ice39g4.png?w=160\"/>"
   ]
  },
  {
   "cell_type": "markdown",
   "id": "96049d01-11e9-4538-9012-57992898281e",
   "metadata": {
    "papermill": {},
    "tags": []
   },
   "source": [
    "# Advertools - Check status code and Send report by email\n",
    "<a href=\"https://app.naas.ai/user-redirect/naas/downloader?url=https://raw.githubusercontent.com/jupyter-naas/awesome-notebooks/master/Advertools/Advertools_Check_status_code_and_Send_notifications.ipynb\" target=\"_parent\"><img src=\"https://naasai-public.s3.eu-west-3.amazonaws.com/Open_in_Naas_Lab.svg\"/></a><br><br><a href=\"https://bit.ly/3JyWIk6\">Give Feedbacks</a> | <a href=\"https://github.com/jupyter-naas/awesome-notebooks/issues/new?assignees=&labels=bug&template=bug_report.md&title=Advertools+-+Check+status+code+and+Send+report+by+email:+Error+short+description\">Bug report</a>"
   ]
  },
  {
   "cell_type": "markdown",
   "id": "76b0bd6e-4a5c-472f-a473-a315e3738936",
   "metadata": {
    "papermill": {},
    "tags": []
   },
   "source": [
    "**Tags:** #advertools #website #analyze #audit #seo #status_code #response_headers #naas #notification #scheduler"
   ]
  },
  {
   "cell_type": "markdown",
   "id": "1089c7e4-b7a9-48ab-8320-e17847ad3b30",
   "metadata": {
    "papermill": {},
    "tags": []
   },
   "source": [
    "**Author:** [Florent Ravenel](https://www.linkedin.com/in/florent-ravenel/)"
   ]
  },
  {
   "cell_type": "markdown",
   "id": "2172906a-c539-4443-a35f-bc481a0e062f",
   "metadata": {
    "papermill": {},
    "tags": []
   },
   "source": [
    "**Last update:** 2023-07-31 (Created: 2023-07-20)"
   ]
  },
  {
   "cell_type": "markdown",
   "id": "d93cd7a5-1d4f-4bc6-94a2-b74461c7f538",
   "metadata": {
    "papermill": {},
    "tags": []
   },
   "source": [
    "**Description:** This notebook runs an automated status code checker with response headers using the HTTP `HEAD` method and send a report by email.\n",
    "\n",
    "NB:\n",
    "* Bulk and concurrent checking of status codes for a known list of URLs\n",
    "* Get all available response headers from all URLs\n",
    "* Set speed, number of concurent request and various other crawling options\n",
    "* Does NOT download the full HTML of a page, saving a lot of time, energy, and resources, and enabling an extreemely fast and light process"
   ]
  },
  {
   "cell_type": "markdown",
   "id": "5d84a0cf-6ba8-456a-8b42-1bf63e3a17f2",
   "metadata": {
    "papermill": {},
    "tags": []
   },
   "source": [
    "**References:**\n",
    "- [advertools `crawl_headers` function](https://advertools.readthedocs.io/en/master/advertools.header_spider.html)\n",
    "- Scrapy [throttling](https://docs.scrapy.org/en/latest/topics/autothrottle.html) and [custom settings](https://docs.scrapy.org/en/latest/topics/settings.html)"
   ]
  },
  {
   "cell_type": "markdown",
   "id": "a75ef3a2-b261-45a8-bd64-52cb78b5f502",
   "metadata": {
    "papermill": {},
    "tags": []
   },
   "source": [
    "## Input"
   ]
  },
  {
   "cell_type": "markdown",
   "id": "0b54cbe9-d040-4624-a5fb-3d127baed4c5",
   "metadata": {
    "papermill": {},
    "tags": []
   },
   "source": [
    "### Install libraries\n",
    "If running it on naas, run the code below to uninstall (bug) and install the libraries"
   ]
  },
  {
   "cell_type": "code",
   "execution_count": null,
   "id": "0ffd4ba7-df94-47b9-87d2-4910edaf1e4b",
   "metadata": {
    "papermill": {},
    "tags": []
   },
   "outputs": [],
   "source": [
    "# !pip uninstall -y scrapy attrs\n",
    "# !pip install advertools adviz pandas==1.5.3 --user"
   ]
  },
  {
   "cell_type": "markdown",
   "id": "f530c66d-1a5b-47d1-8d80-01f21a83ac3e",
   "metadata": {
    "papermill": {},
    "tags": []
   },
   "source": [
    "### Import libraries"
   ]
  },
  {
   "cell_type": "code",
   "execution_count": null,
   "id": "1e8d108a-44de-44b4-941f-f12795838c5c",
   "metadata": {
    "papermill": {},
    "tags": []
   },
   "outputs": [],
   "source": [
    "try:\n",
    "    import advertools as adv\n",
    "except ModuleNotFoundError:\n",
    "    !pip install advertools --user\n",
    "    import advertools as adv\n",
    "from datetime import datetime\n",
    "import naas\n",
    "from naas_drivers import emailbuilder\n",
    "import plotly.express as px\n",
    "import pandas as pd\n",
    "pd.options.display.max_columns = None"
   ]
  },
  {
   "cell_type": "markdown",
   "id": "d35a9e6f-71c4-4cb2-b9bc-32c23b18c4ba",
   "metadata": {
    "papermill": {},
    "tags": []
   },
   "source": [
    "### Setup Variables\n",
    "- `url_list`: List of URLs to check the status codes\n",
    "- `email_to`: List of emails to send the report\n",
    "- `cron`: We use CRON tasks to schedule notebooks, find the syntax you need to on: https://crontab.guru/\n",
    "- `subject`: Email subject\n",
    "- `output_file`: The path to the file for saving the output. It has to be in the '.jl' format. Note that new lines to the file are 'appended' to the end and the file is not overwritten while crawling.\n",
    "- `output_ko`: Status KO in csv to be attached in report"
   ]
  },
  {
   "cell_type": "code",
   "execution_count": null,
   "id": "cebcf1a5-23ce-49ca-aee9-aac7ff28a2e4",
   "metadata": {
    "papermill": {},
    "tags": []
   },
   "outputs": [],
   "source": [
    "# Inputs\n",
    "url_list = [\n",
    "    \"https://www.naas.ai/\",\n",
    "    \"https://www.naas.ai/free-forever\",\n",
    "    \"https://www.naas.ai/test\",\n",
    "]\n",
    "email_to = []\n",
    "cron = \"0 0 * * *\" # This notebook will run everyday at 0:00\n",
    "subject = \"Status code checker - Report 🚨\"\n",
    "\n",
    "# Outputs\n",
    "output_file = f'{datetime.now().strftime(\"%Y%m%d%H%M%S\")}_crawl_headers_output.jl'\n",
    "output_ko = \"status_code_ko.csv\""
   ]
  },
  {
   "cell_type": "markdown",
   "id": "1ad6e918-ae61-4a78-9b71-a6ad5f530f53",
   "metadata": {
    "papermill": {},
    "tags": []
   },
   "source": [
    "## Model"
   ]
  },
  {
   "cell_type": "markdown",
   "id": "dafe9992-9fcb-4849-a69e-ced13c995aff",
   "metadata": {
    "papermill": {},
    "tags": []
   },
   "source": [
    "### Check status codes and retrieve response headers"
   ]
  },
  {
   "cell_type": "code",
   "execution_count": null,
   "id": "2393668d-9f22-45a0-9f79-5901b1c88496",
   "metadata": {
    "papermill": {},
    "tags": []
   },
   "outputs": [],
   "source": [
    "# Create custom settings dict\n",
    "custom_settings = {\n",
    "    # optionally change request headers:\n",
    "    'DEFAULT_REQUEST_HEADERS': {},\n",
    "    'AUTOTHROTTLE_ENABLED': True,\n",
    "    'CONCURRENT_REQUESTS_PER_DOMAIN': 4,\n",
    "    'USER_AGENT': adv.spider.user_agent,\n",
    "    'LOG_FILE': 'crawl_headers_output.log',\n",
    "}\n",
    "\n",
    "# Crawl headers\n",
    "adv.crawl_headers(\n",
    "    url_list=url_list,\n",
    "    output_file=output_file,\n",
    "    custom_settings=custom_settings\n",
    ")\n",
    "\n",
    "# Open the crawl output file\n",
    "headers_df = pd.read_json(output_file, lines=True)\n",
    "headers_df"
   ]
  },
  {
   "cell_type": "markdown",
   "id": "62290ab9-df04-42a1-9063-7213d211991a",
   "metadata": {
    "papermill": {},
    "tags": []
   },
   "source": [
    "### Filter on status code KO and create list"
   ]
  },
  {
   "cell_type": "code",
   "execution_count": null,
   "id": "13ff5c6e-d391-4050-8acd-28355a386450",
   "metadata": {
    "papermill": {},
    "tags": []
   },
   "outputs": [],
   "source": [
    "df_ko = headers_df[~headers_df[\"status\"].isin([200, 201, 202, 203])].reset_index(drop=True)\n",
    "urls = []\n",
    "for row in df_ko.itertuples():\n",
    "    url = row.url\n",
    "    status = row.status\n",
    "    text = f\"{url} - {status}\"\n",
    "    urls.append(text)\n",
    "urls"
   ]
  },
  {
   "cell_type": "markdown",
   "id": "771b6ad6-8750-445d-ab98-d7a392830dee",
   "metadata": {
    "papermill": {},
    "tags": []
   },
   "source": [
    "### Create email content"
   ]
  },
  {
   "cell_type": "code",
   "execution_count": null,
   "id": "c4de13ba-dc72-4d69-800b-0fd8e36db2ca",
   "metadata": {
    "papermill": {},
    "tags": []
   },
   "outputs": [],
   "source": [
    "email_content = {\n",
    "    \"text1\": emailbuilder.text(\"Dear Team,\"),\n",
    "    \"text2\": emailbuilder.text(\"We are sharing the report of KO (Failed) status codes for the recent analysis:\"),\n",
    "    \"list\": emailbuilder.list(urls),\n",
    "    \"text3\": emailbuilder.text(\"Please take appropriate actions to address these issues.\"),\n",
    "    \"text4\": emailbuilder.text(\"Thank you!\"),\n",
    "    \"text5\": emailbuilder.text(\"Best regards,\"),\n",
    "}\n",
    "\n",
    "content = emailbuilder.generate(\n",
    "    display=\"iframe\",\n",
    "    **email_content\n",
    ")"
   ]
  },
  {
   "cell_type": "markdown",
   "id": "550110a8-50b2-49a0-9752-5132256356b9",
   "metadata": {
    "papermill": {},
    "tags": []
   },
   "source": [
    "## Output"
   ]
  },
  {
   "cell_type": "markdown",
   "id": "acca24cc-9518-4c42-b8f3-78d7cadeef02",
   "metadata": {
    "papermill": {},
    "tags": []
   },
   "source": [
    "### Save report in CSV"
   ]
  },
  {
   "cell_type": "code",
   "execution_count": null,
   "id": "5645f8fe-b29c-44c2-aee6-e14072e29265",
   "metadata": {
    "papermill": {},
    "tags": []
   },
   "outputs": [],
   "source": [
    "df_ko.to_csv(output_ko, index=False)"
   ]
  },
  {
   "cell_type": "markdown",
   "id": "f0eb2762-b6f4-45fd-bcf7-c6b766e7a740",
   "metadata": {
    "papermill": {},
    "tags": []
   },
   "source": [
    "### Send notification"
   ]
  },
  {
   "cell_type": "code",
   "execution_count": null,
   "id": "425bf37d-b86e-4d7d-9c53-613f59aec098",
   "metadata": {
    "papermill": {},
    "tags": []
   },
   "outputs": [],
   "source": [
    "naas.notification.send(email_to, subject, content, files=[output_ko])"
   ]
  },
  {
   "cell_type": "markdown",
   "id": "3a6a4ef1-2d7a-4191-b6b4-3402d55ff6de",
   "metadata": {
    "papermill": {},
    "tags": []
   },
   "source": [
    "### Schedule notebook"
   ]
  },
  {
   "cell_type": "code",
   "execution_count": null,
   "id": "386abe1f-702a-4383-8f3b-fe8869a00c91",
   "metadata": {
    "papermill": {},
    "tags": []
   },
   "outputs": [],
   "source": [
    "naas.scheduler.add(cron=cron)"
   ]
  }
 ],
 "metadata": {
  "kernelspec": {
   "display_name": "Python 3",
   "language": "python",
   "name": "python3"
  },
  "language_info": {
   "codemirror_mode": {
    "name": "ipython",
    "version": 3
   },
   "file_extension": ".py",
   "mimetype": "text/x-python",
   "name": "python",
   "nbconvert_exporter": "python",
   "pygments_lexer": "ipython3",
   "version": "3.9.6"
  },
  "naas": {
   "notebook_id": "65fcbc3f91ea08c6a2feb69f5b9f702c91e1da37e5faa0f20f1b1d19f85ade58",
   "notebook_path": "Advertools/Advertools_Check_status_code_and_Send_notifications.ipynb"
  },
  "papermill": {
   "default_parameters": {},
   "environment_variables": {},
   "parameters": {},
   "version": "2.4.0"
  },
  "widgets": {
   "application/vnd.jupyter.widget-state+json": {
    "state": {},
    "version_major": 2,
    "version_minor": 0
   }
  }
 },
 "nbformat": 4,
 "nbformat_minor": 5
}