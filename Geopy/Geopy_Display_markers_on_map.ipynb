{
 "cells": [
  {
   "cell_type": "markdown",
   "id": "latin-packing",
   "metadata": {
    "execution": {
     "iopub.execute_input": "2021-02-23T14:22:16.610471Z",
     "iopub.status.busy": "2021-02-23T14:22:16.610129Z",
     "iopub.status.idle": "2021-02-23T14:22:16.627784Z",
     "shell.execute_reply": "2021-02-23T14:22:16.626866Z",
     "shell.execute_reply.started": "2021-02-23T14:22:16.610384Z"
    },
    "papermill": {},
    "tags": []
   },
   "source": [
    "<img width=\"10%\" alt=\"Naas\" src=\"https://landen.imgix.net/jtci2pxwjczr/assets/5ice39g4.png?w=160\"/>"
   ]
  },
  {
   "cell_type": "markdown",
   "id": "compressed-wilson",
   "metadata": {
    "papermill": {},
    "tags": []
   },
   "source": [
    "# Geopy - Display markers on map from addresses\n",
    "<a href=\"https://app.naas.ai/user-redirect/naas/downloader?url=https://raw.githubusercontent.com/jupyter-naas/awesome-notebooks/master/Geopy/Geopy_Display_markers_on_map.ipynb\" target=\"_parent\"><img src=\"https://naasai-public.s3.eu-west-3.amazonaws.com/Open_in_Naas_Lab.svg\"/></a><br><br><a href=\"https://bit.ly/3JyWIk6\">Give Feedbacks</a> | <a href=\"https://github.com/jupyter-naas/awesome-notebooks/issues/new?assignees=&labels=bug&template=bug_report.md&title=Geopy+-+Display+markers+on+map+from+addresses:+Error+short+description\">Bug report</a>"
   ]
  },
  {
   "cell_type": "markdown",
   "id": "cbf7f260-f739-4e8f-9074-f070af12b69f",
   "metadata": {
    "papermill": {},
    "tags": []
   },
   "source": [
    "**Tags:** #geopy #folium #operations #navigation"
   ]
  },
  {
   "cell_type": "markdown",
   "id": "8af9aa79",
   "metadata": {
    "papermill": {},
    "tags": []
   },
   "source": [
    "**Author:** [Antonio Georgiev](www.linkedin.com/in/antonio-georgiev-b672a325b)"
   ]
  },
  {
   "cell_type": "markdown",
   "id": "a601ec81-2aa3-41dd-917e-d37289aedd9e",
   "metadata": {
    "papermill": {},
    "tags": []
   },
   "source": [
    "**Last update:** 2023-07-28 (Created: 2023-07-28)"
   ]
  },
  {
   "cell_type": "markdown",
   "id": "5436984d-1d8d-4c7f-9b4e-82eb0555bca6",
   "metadata": {
    "papermill": {},
    "tags": []
   },
   "source": [
    "**Description:** This notebook demonstrates how to display markers on a map from addresses using `geopy` and `folium`."
   ]
  },
  {
   "cell_type": "markdown",
   "id": "12d7ebc7-7831-425f-a733-d6a98a09656c",
   "metadata": {
    "papermill": {},
    "tags": []
   },
   "source": [
    "**References:**\n",
    "- [Nominatim geocoder for OpenStreetMap data](https://geopy.readthedocs.io/en/stable/#nominatim)\n",
    "- [Folium Mapping: Displaying Markers on a Map](https://towardsdatascience.com/folium-mapping-displaying-markers-on-a-map-6bd56f3e3420)"
   ]
  },
  {
   "cell_type": "markdown",
   "id": "distinguished-truth",
   "metadata": {
    "papermill": {},
    "tags": []
   },
   "source": [
    "## Input"
   ]
  },
  {
   "cell_type": "markdown",
   "id": "b56e47f5-be89-4591-93ec-01e8fac50def",
   "metadata": {
    "papermill": {},
    "tags": []
   },
   "source": [
    "### Import libraries"
   ]
  },
  {
   "cell_type": "code",
   "execution_count": null,
   "id": "6b63229c-7614-4dc8-ba2a-e0b1e2f64918",
   "metadata": {
    "papermill": {},
    "tags": []
   },
   "outputs": [],
   "source": [
    "from geopy.geocoders import Nominatim\n",
    "try:\n",
    "    import folium\n",
    "except ModuleError:\n",
    "    !pip install folium --user\n",
    "    import folium"
   ]
  },
  {
   "cell_type": "markdown",
   "id": "3311103a-13a2-40c5-bb42-2755391f3d47",
   "metadata": {
    "papermill": {},
    "tags": []
   },
   "source": [
    "### Setup variables\n",
    "**Mandatory**\n",
    "\n",
    "- `address1`: Address to be used to get coordinates\n",
    "- `address2`: Address to be used to get coordinates\n",
    "\n",
    "**Optional**\n",
    "\n",
    "- `zoom_start`: This parameter sets the initial zoom level on the map. A value of 0 indicates the lowest level of zoom."
   ]
  },
  {
   "cell_type": "code",
   "execution_count": null,
   "id": "bffaf74b-3e26-408f-9a55-bb495577cdf6",
   "metadata": {
    "papermill": {},
    "tags": []
   },
   "outputs": [],
   "source": [
    "# Mandatory\n",
    "address1 = \"Bulgaria Blvd 69, 1404 Manastirski Livadi, Sofia, Bulgaria\"\n",
    "address2 = \"1600 Amphitheatre Parkway Mountain View, CA 94043, USA\"\n",
    "\n",
    "# Optional\n",
    "zoom_start = 2"
   ]
  },
  {
   "cell_type": "markdown",
   "id": "registered-showcase",
   "metadata": {
    "papermill": {},
    "tags": []
   },
   "source": [
    "## Model"
   ]
  },
  {
   "cell_type": "markdown",
   "id": "85b23876-a958-49f9-ace9-df4da49fbd12",
   "metadata": {
    "papermill": {},
    "tags": []
   },
   "source": [
    "### Get locations"
   ]
  },
  {
   "cell_type": "code",
   "execution_count": null,
   "id": "16eae684-565f-4f1f-9a9d-905eeb7e0619",
   "metadata": {
    "papermill": {},
    "tags": []
   },
   "outputs": [],
   "source": [
    "geolocator = Nominatim(user_agent=\"geoapiExercises\")\n",
    "location1 = geolocator.geocode(address1)\n",
    "location2 = geolocator.geocode(address2)"
   ]
  },
  {
   "cell_type": "markdown",
   "id": "5f0e7b46-14c6-402d-9e46-9c1c94b3bba4",
   "metadata": {
    "papermill": {},
    "tags": []
   },
   "source": [
    "### Create map"
   ]
  },
  {
   "cell_type": "code",
   "execution_count": null,
   "id": "2fafe16a-ccca-43ae-88fd-eb23af803fe6",
   "metadata": {
    "papermill": {},
    "tags": []
   },
   "outputs": [],
   "source": [
    "# Create a map centered around the two locations\n",
    "avg_latitude = (location1.latitude + location2.latitude) / 2\n",
    "avg_longitude = (location1.longitude + location2.longitude) / 2\n",
    "folium_map = folium.Map(location=[avg_latitude, avg_longitude], zoom_start=zoom_start)\n",
    "\n",
    "# Add markers for the specified locations\n",
    "folium.Marker([location1.latitude, location1.longitude], popup=folium.Popup(location1.address)).add_to(folium_map)\n",
    "folium.Marker([location2.latitude, location2.longitude], popup=folium.Popup(location2.address)).add_to(folium_map)"
   ]
  },
  {
   "cell_type": "markdown",
   "id": "c1e4c55b",
   "metadata": {
    "papermill": {},
    "tags": []
   },
   "source": [
    "## Output"
   ]
  },
  {
   "cell_type": "markdown",
   "id": "2ee5bfd6-de4f-40c9-a590-7c7afc44b9a0",
   "metadata": {
    "papermill": {},
    "tags": []
   },
   "source": [
    "### Display map"
   ]
  },
  {
   "cell_type": "code",
   "execution_count": null,
   "id": "4af1598f-b4fe-4da2-94f3-1cfb20996fa9",
   "metadata": {
    "papermill": {},
    "tags": []
   },
   "outputs": [],
   "source": [
    "folium_map"
   ]
  }
 ],
 "metadata": {
  "kernelspec": {
   "display_name": "Python 3",
   "language": "python",
   "name": "python3"
  },
  "language_info": {
   "codemirror_mode": {
    "name": "ipython",
    "version": 3
   },
   "file_extension": ".py",
   "mimetype": "text/x-python",
   "name": "python",
   "nbconvert_exporter": "python",
   "pygments_lexer": "ipython3",
   "version": "3.9.6"
  },
  "naas": {
   "notebook_id": "993ce0d908ba89f3ea2afcdec012b379878997c9398eb0fd49ef9cfb39647805",
   "notebook_path": "Geopy/Geopy_Display_markers_on_map.ipynb"
  },
  "papermill": {
   "default_parameters": {},
   "environment_variables": {},
   "parameters": {},
   "version": "2.3.3"
  },
  "widgets": {
   "application/vnd.jupyter.widget-state+json": {
    "state": {},
    "version_major": 2,
    "version_minor": 0
   }
  }
 },
 "nbformat": 4,
 "nbformat_minor": 5
}