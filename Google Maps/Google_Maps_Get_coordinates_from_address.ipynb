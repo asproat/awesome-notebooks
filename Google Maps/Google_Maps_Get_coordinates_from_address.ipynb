{
 "cells": [
  {
   "cell_type": "markdown",
   "id": "latin-packing",
   "metadata": {
    "execution": {
     "iopub.execute_input": "2021-02-23T14:22:16.610471Z",
     "iopub.status.busy": "2021-02-23T14:22:16.610129Z",
     "iopub.status.idle": "2021-02-23T14:22:16.627784Z",
     "shell.execute_reply": "2021-02-23T14:22:16.626866Z",
     "shell.execute_reply.started": "2021-02-23T14:22:16.610384Z"
    },
    "papermill": {},
    "tags": []
   },
   "source": [
    "<img width=\"10%\" alt=\"Naas\" src=\"https://landen.imgix.net/jtci2pxwjczr/assets/5ice39g4.png?w=160\"/>"
   ]
  },
  {
   "cell_type": "markdown",
   "id": "e38b257f-d0b0-4e43-a9c6-e63408bde9a3",
   "metadata": {
    "papermill": {},
    "tags": []
   },
   "source": [
    "# Google Maps - Get coordinates from address\n",
    "<a href=\"https://app.naas.ai/user-redirect/naas/downloader?url=https://raw.githubusercontent.com/jupyter-naas/awesome-notebooks/master/Google%20Maps/Google_Maps_Get_coordinates_from_address.ipynb\" target=\"_parent\"><img src=\"https://naasai-public.s3.eu-west-3.amazonaws.com/Open_in_Naas_Lab.svg\"/></a><br><br><a href=\"https://bit.ly/3JyWIk6\">Give Feedbacks</a> | <a href=\"https://github.com/jupyter-naas/awesome-notebooks/issues/new?assignees=&labels=bug&template=bug_report.md&title=Google+Maps+-+Get+coordinates+from+address:+Error+short+description\">Bug report</a>"
   ]
  },
  {
   "cell_type": "markdown",
   "id": "6db49837-2a9c-4bd4-b8ba-74514ff7bef4",
   "metadata": {
    "papermill": {},
    "tags": []
   },
   "source": [
    "**Tags:** #googlemaps #productivity #operations #automation #jupyternotebooks"
   ]
  },
  {
   "cell_type": "markdown",
   "id": "26d4184f-eb9d-48cd-985d-264b353b73de",
   "metadata": {
    "papermill": {},
    "tags": []
   },
   "source": [
    "**Author:** [Antonio Georgiev](www.linkedin.com/in/antonio-georgiev-b672a325b)"
   ]
  },
  {
   "cell_type": "markdown",
   "id": "db52df0e-35e7-40e3-b731-e9815346b6d4",
   "metadata": {
    "papermill": {},
    "tags": []
   },
   "source": [
    "**Last update:** 2023-07-26 (Created: 2023-07-25)"
   ]
  },
  {
   "cell_type": "markdown",
   "id": "1f83d4d7-754b-4f61-8662-bcab66118c7f",
   "metadata": {
    "papermill": {},
    "tags": []
   },
   "source": [
    "**Description:** This notebook get coordinates from a given address using Google Maps API."
   ]
  },
  {
   "cell_type": "markdown",
   "id": "84b07a0a-fab7-4e56-9ac7-3c13da444e5c",
   "metadata": {
    "papermill": {},
    "tags": []
   },
   "source": [
    "## Input"
   ]
  },
  {
   "cell_type": "markdown",
   "id": "927f7e82-c26d-4747-930c-14b865c176f4",
   "metadata": {
    "papermill": {},
    "tags": []
   },
   "source": [
    "### Import libraries"
   ]
  },
  {
   "cell_type": "code",
   "execution_count": null,
   "id": "f982ef3e-d768-4e96-aaf3-afbc74e723a9",
   "metadata": {
    "papermill": {},
    "tags": []
   },
   "outputs": [],
   "source": [
    "import os\n",
    "import requests\n",
    "import naas"
   ]
  },
  {
   "cell_type": "markdown",
   "id": "0a559554-9b84-4898-8a46-37ff82a5662f",
   "metadata": {
    "papermill": {},
    "tags": []
   },
   "source": [
    "### Setup variables\n",
    "Pre-requisite: \n",
    "1. Follow the steps in the link - https://developers.google.com/maps/documentation/routes/cloud-setup\n",
    "2. Sign up for an account with the Routes API provider.\n",
    "3. Obtain an API key and make Geocoding API is enabled (https://console.cloud.google.com/apis/credentials/key/).\n",
    "\n",
    "- `api_key`: This variable holds the Google Cloud Platform (GCP) API key. The key is retrieved from the secret variable using the Naas secret manager.\n",
    "- `address`: This variable is a string that holds a specific location's address."
   ]
  },
  {
   "cell_type": "code",
   "execution_count": null,
   "id": "9059080e-7060-4ed2-971e-843bde6fd407",
   "metadata": {
    "papermill": {},
    "tags": []
   },
   "outputs": [],
   "source": [
    "api_key = naas.secret.get(\"GCP_MAP_API_KEY\")  # Read API key from the secret variable\n",
    "address = 'Vitosha Boulevard, Sofia, Bulgaria'"
   ]
  },
  {
   "cell_type": "markdown",
   "id": "eda290db-d2e4-4457-ae9e-5a4f1cb06069",
   "metadata": {
    "papermill": {},
    "tags": []
   },
   "source": [
    "## Model"
   ]
  },
  {
   "cell_type": "markdown",
   "id": "1e3773f2-7222-4d9c-8c3c-a0d935b258ef",
   "metadata": {
    "papermill": {},
    "tags": []
   },
   "source": [
    "### Get coordinates"
   ]
  },
  {
   "cell_type": "code",
   "execution_count": null,
   "id": "3f633f1c-9981-4648-9c7c-23db69f36413",
   "metadata": {
    "papermill": {},
    "tags": []
   },
   "outputs": [],
   "source": [
    "api_endpoint = 'https://maps.googleapis.com/maps/api/geocode/json'\n",
    "\n",
    "# Setup params\n",
    "params = {\n",
    "    'address': address,\n",
    "    'key': api_key\n",
    "}\n",
    "response = requests.get(api_endpoint, params=params)\n",
    "\n",
    "# Response\n",
    "if response.status_code == 200:\n",
    "    data = response.json()\n",
    "    if data['status'] == 'OK':\n",
    "        # Extract and utilize the geolocation information from the response\n",
    "        results = data['results']\n",
    "        for result in results:\n",
    "            latitude = result['geometry']['location']['lat']\n",
    "            longitude = result['geometry']['location']['lng']\n",
    "            print(f'Latitude: {latitude}, Longitude: {longitude}')\n",
    "    else:\n",
    "        print('Geocoding request failed.')\n",
    "else:\n",
    "    print('Geocoding request failed with status code:', response.status_code)"
   ]
  },
  {
   "cell_type": "markdown",
   "id": "c1e4c55b",
   "metadata": {
    "papermill": {},
    "tags": []
   },
   "source": [
    "## Output"
   ]
  },
  {
   "cell_type": "markdown",
   "id": "917a4e16-54ba-4989-b71c-04952c685405",
   "metadata": {
    "papermill": {},
    "tags": []
   },
   "source": [
    "### Display result"
   ]
  },
  {
   "cell_type": "code",
   "execution_count": null,
   "id": "80f8b32f-7cac-41a2-afd9-4d82b3253fa2",
   "metadata": {
    "papermill": {},
    "tags": []
   },
   "outputs": [],
   "source": [
    "print(\"📍 Address:\", address)\n",
    "print(f'🗺️ Latitude: {latitude}, Longitude: {longitude}')"
   ]
  }
 ],
 "metadata": {
  "kernelspec": {
   "display_name": "Python 3",
   "language": "python",
   "name": "python3"
  },
  "language_info": {
   "codemirror_mode": {
    "name": "ipython",
    "version": 3
   },
   "file_extension": ".py",
   "mimetype": "text/x-python",
   "name": "python",
   "nbconvert_exporter": "python",
   "pygments_lexer": "ipython3",
   "version": "3.9.6"
  },
  "naas": {
   "notebook_id": "863199793a97917978b0681eac7e59c3615a9e454525435b9a1eb6845f701d40",
   "notebook_path": "Google Maps/Google_Maps_Get_coordinates_from_address.ipynb"
  },
  "papermill": {
   "default_parameters": {},
   "environment_variables": {},
   "parameters": {},
   "version": "2.3.3"
  },
  "widgets": {
   "application/vnd.jupyter.widget-state+json": {
    "state": {},
    "version_major": 2,
    "version_minor": 0
   }
  }
 },
 "nbformat": 4,
 "nbformat_minor": 5
}