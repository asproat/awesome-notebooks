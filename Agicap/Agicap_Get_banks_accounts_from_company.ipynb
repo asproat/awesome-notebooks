{
 "cells": [
  {
   "cell_type": "markdown",
   "id": "b0f7d279-263a-4e27-9c69-0a568763a49e",
   "metadata": {
    "papermill": {},
    "tags": []
   },
   "source": [
    "<img width=\"10%\" alt=\"Naas\" src=\"https://landen.imgix.net/jtci2pxwjczr/assets/5ice39g4.png?w=160\"/>"
   ]
  },
  {
   "cell_type": "markdown",
   "id": "ce525f1b-c766-44d4-bac8-ae23a2c9bcd9",
   "metadata": {
    "papermill": {},
    "tags": []
   },
   "source": [
    "# Agicap - Get banks accounts from company\n",
    "<a href=\"https://app.naas.ai/user-redirect/naas/downloader?url=https://raw.githubusercontent.com/jupyter-naas/awesome-notebooks/master/Agicap/Agicap_Get_banks_accounts_from_company.ipynb\" target=\"_parent\"><img src=\"https://naasai-public.s3.eu-west-3.amazonaws.com/Open_in_Naas_Lab.svg\"/></a><br><br><a href=\"https://bit.ly/3JyWIk6\">Give Feedbacks</a> | <a href=\"https://github.com/jupyter-naas/awesome-notebooks/issues/new?assignees=&labels=bug&template=bug_report.md&title=Agicap+-+Get+banks+accounts+from+company:+Error+short+description\">Bug report</a>"
   ]
  },
  {
   "cell_type": "markdown",
   "id": "5f84b2dc-2e8b-4f8d-8cc5-85afb0fea245",
   "metadata": {
    "papermill": {},
    "tags": []
   },
   "source": [
    "**Tags:** #agicap #bankaccount #company #finance #data #api"
   ]
  },
  {
   "cell_type": "markdown",
   "id": "0dbbf75b-a7a8-4ddd-b4d0-81442abd3942",
   "metadata": {
    "papermill": {},
    "tags": []
   },
   "source": [
    "**Author:** [Florent Ravenel](https://www.linkedin.com/in/florent-ravenel)"
   ]
  },
  {
   "cell_type": "markdown",
   "id": "682bb76a-7258-44d0-8c2e-1d9c7b7022d4",
   "metadata": {
    "papermill": {},
    "tags": []
   },
   "source": [
    "**Last update:** 2023-07-12 (Created: 2023-07-12)"
   ]
  },
  {
   "cell_type": "markdown",
   "id": "499a0b55-37cb-465b-8b04-1eb185faaea1",
   "metadata": {
    "papermill": {},
    "tags": []
   },
   "source": [
    "**Description:** This notebook will show how to get bank account from a company using Agicap API. It is usefull for organizations to quickly get the bank account of a company."
   ]
  },
  {
   "cell_type": "markdown",
   "id": "0279a58b-adfb-497c-be79-5230d6bf7922",
   "metadata": {
    "papermill": {},
    "tags": []
   },
   "source": [
    "## Input"
   ]
  },
  {
   "cell_type": "markdown",
   "id": "5f87f236-2b65-4da4-8d4f-ebd531b39240",
   "metadata": {
    "papermill": {},
    "tags": []
   },
   "source": [
    "### Import libraries"
   ]
  },
  {
   "cell_type": "code",
   "execution_count": null,
   "id": "9df827f0-bc70-4a68-91b3-de4fdd691b88",
   "metadata": {
    "papermill": {},
    "tags": []
   },
   "outputs": [],
   "source": [
    "import requests\n",
    "import naas\n",
    "import pandas as pd"
   ]
  },
  {
   "cell_type": "markdown",
   "id": "d4006654-3718-4eaf-a952-023c39973ccb",
   "metadata": {
    "papermill": {},
    "tags": []
   },
   "source": [
    "### Setup Variables\n",
    "- `token`: Get your Agicap Bearer Token by inspecting your page\n",
    "- `company_id`: Company ID on Agicap, it must matched an id extracted from \"Agicap_List_companies.ipynb\" template."
   ]
  },
  {
   "cell_type": "code",
   "execution_count": null,
   "id": "c16550f3-cda5-4559-82ce-98d7818e2d45",
   "metadata": {
    "papermill": {},
    "tags": []
   },
   "outputs": [],
   "source": [
    "token = naas.secret.get(\"AGICAP_BEARER_TOKEN\") or \"XXXXXXXXXXXXXXXXXXXXXXXXXXXXX\"\n",
    "company_id = \"xxxx\""
   ]
  },
  {
   "cell_type": "markdown",
   "id": "e8ecb2bd-fadd-4c92-82b2-2f159102b307",
   "metadata": {
    "papermill": {},
    "tags": []
   },
   "source": [
    "## Model"
   ]
  },
  {
   "cell_type": "markdown",
   "id": "fffa0325-b316-4689-8b67-39bab626ae2e",
   "metadata": {
    "papermill": {},
    "tags": []
   },
   "source": [
    "### Get all banks accounts from company"
   ]
  },
  {
   "cell_type": "code",
   "execution_count": null,
   "id": "c7288b3b-2ac1-4555-82da-5755b4e048cb",
   "metadata": {
    "papermill": {},
    "tags": []
   },
   "outputs": [],
   "source": [
    "url = \"https://app.agicap.com/api/banque/GetAll\"\n",
    "\n",
    "# Headers\n",
    "headers = {\n",
    "    \"Accept\": \"application/json, text/plain, */*\",\n",
    "    \"Authorization\": f\"Bearer {token}\",\n",
    "    \"Entrepriseid\": company_id\n",
    "}\n",
    "# Request\n",
    "res = requests.get(url, headers=headers)\n",
    "res.raise_for_status\n",
    "res"
   ]
  },
  {
   "cell_type": "markdown",
   "id": "d90f16ce-67b9-4839-a7e8-1029eeb3d949",
   "metadata": {
    "papermill": {},
    "tags": []
   },
   "source": [
    "### Transform json to dataframe"
   ]
  },
  {
   "cell_type": "code",
   "execution_count": null,
   "id": "91b6c4f4-42a0-4d18-b070-2d2c6f219c8a",
   "metadata": {
    "papermill": {},
    "tags": []
   },
   "outputs": [],
   "source": [
    "result = []\n",
    "if res.status_code == 200:\n",
    "    result = res.json().get(\"Result\")\n",
    "    \n",
    "df = pd.DataFrame(result)\n",
    "df.head(1)"
   ]
  },
  {
   "cell_type": "markdown",
   "id": "376824be-b2d3-4c2c-9c3e-abea4d2a3e29",
   "metadata": {
    "papermill": {},
    "tags": []
   },
   "source": [
    "## Output"
   ]
  },
  {
   "cell_type": "markdown",
   "id": "7f409b82-e2c3-48d2-9d77-82b38e0e15c8",
   "metadata": {
    "papermill": {},
    "tags": []
   },
   "source": [
    "### Display result"
   ]
  },
  {
   "cell_type": "code",
   "execution_count": null,
   "id": "ef93440d-9138-4d1d-a5cc-f67b5110c4ee",
   "metadata": {
    "papermill": {},
    "tags": []
   },
   "outputs": [],
   "source": [
    "print(\"Accounts fetched:\", len(df))\n",
    "df"
   ]
  },
  {
   "cell_type": "markdown",
   "id": "1514a40c-06a0-44c7-b64d-896b7b312b8d",
   "metadata": {
    "papermill": {},
    "tags": []
   },
   "source": [
    " "
   ]
  }
 ],
 "metadata": {
  "kernelspec": {
   "display_name": "Python 3",
   "language": "python",
   "name": "python3"
  },
  "language_info": {
   "codemirror_mode": {
    "name": "ipython",
    "version": 3
   },
   "file_extension": ".py",
   "mimetype": "text/x-python",
   "name": "python",
   "nbconvert_exporter": "python",
   "pygments_lexer": "ipython3",
   "version": "3.9.6"
  },
  "naas": {
   "notebook_id": "60ccdeaf932ef6f8fca9165c7451786434f49f667476e71971ae5eec00a549ea",
   "notebook_path": "Agicap/Agicap_Get_banks_accounts_from_company.ipynb"
  },
  "papermill": {
   "default_parameters": {},
   "environment_variables": {},
   "parameters": {},
   "version": "2.4.0"
  },
  "widgets": {
   "application/vnd.jupyter.widget-state+json": {
    "state": {},
    "version_major": 2,
    "version_minor": 0
   }
  }
 },
 "nbformat": 4,
 "nbformat_minor": 5
}