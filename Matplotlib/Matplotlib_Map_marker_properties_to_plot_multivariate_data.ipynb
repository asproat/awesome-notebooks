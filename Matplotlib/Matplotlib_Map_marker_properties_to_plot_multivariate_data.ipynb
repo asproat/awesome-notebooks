{
 "cells": [
  {
   "cell_type": "markdown",
   "id": "f3009d0e-3d28-486a-a45b-0aa390832e52",
   "metadata": {
    "papermill": {},
    "tags": []
   },
   "source": [
    "<img width=\"10%\" alt=\"Naas\" src=\"https://landen.imgix.net/jtci2pxwjczr/assets/5ice39g4.png?w=160\"/>"
   ]
  },
  {
   "cell_type": "markdown",
   "id": "continuing-pioneer",
   "metadata": {
    "papermill": {},
    "tags": []
   },
   "source": [
    "# Matplotlib - Mapping marker properties to multivariate data\n",
    "<a href=\"https://app.naas.ai/user-redirect/naas/downloader?url=https://raw.githubusercontent.com/jupyter-naas/awesome-notebooks/master/Matplotlib/Matplotlib_Map_marker_properties_to_plot_multivariate_data.ipynb\" target=\"_parent\"><img src=\"https://naasai-public.s3.eu-west-3.amazonaws.com/Open_in_Naas_Lab.svg\"/></a><br><br><a href=\"https://bit.ly/3JyWIk6\">Give Feedbacks</a> | <a href=\"https://github.com/jupyter-naas/awesome-notebooks/issues/new?assignees=&labels=bug&template=bug_report.md&title=Matplotlib+-+Mapping+marker+properties+to+multivariate+data:+Error+short+description\">Bug report</a>"
   ]
  },
  {
   "cell_type": "markdown",
   "id": "d5a217ea-e554-474a-9c7b-2c9782c7104f",
   "metadata": {
    "papermill": {},
    "tags": []
   },
   "source": [
    "**Tags:** #matplotlib #chart #stackplots #markers #dataviz #snippet #operations #image #multivariate datasets"
   ]
  },
  {
   "cell_type": "markdown",
   "id": "naas-author",
   "metadata": {
    "papermill": {},
    "tags": [
     "naas"
    ]
   },
   "source": [
    "**Author:** [Mardiat-Iman](https://www.linkedin.com/in/mardiat-iman-ibrahim-imam-726027262)"
   ]
  },
  {
   "cell_type": "markdown",
   "id": "b47f92fa-4864-4c53-9942-32f7b81e5968",
   "metadata": {
    "papermill": {},
    "tags": []
   },
   "source": [
    "**Last update:** 2023-07-25 (Created: 2023-07-24)"
   ]
  },
  {
   "cell_type": "markdown",
   "id": "naas-description",
   "metadata": {
    "papermill": {},
    "tags": [
     "description"
    ]
   },
   "source": [
    "**Description:** This notebook shows how to use different properties of markers to plot multivariate datasets using Matplotlib."
   ]
  },
  {
   "cell_type": "markdown",
   "id": "ae9e445a-03e2-499c-9952-ba72cd12da29",
   "metadata": {
    "papermill": {},
    "tags": [
     "description"
    ]
   },
   "source": [
    "**References:** \n",
    "\n",
    "- [Mapping marker properties to multivariate data](https://matplotlib.org/stable/gallery/lines_bars_and_markers/multivariate_marker_plot.html#sphx-glr-gallery-lines-bars-and-markers-multivariate-marker-plot-py)"
   ]
  },
  {
   "cell_type": "markdown",
   "id": "input_cell",
   "metadata": {
    "papermill": {},
    "tags": []
   },
   "source": [
    "## Input"
   ]
  },
  {
   "cell_type": "markdown",
   "id": "import_cell",
   "metadata": {
    "papermill": {},
    "tags": []
   },
   "source": [
    "### Import libraries"
   ]
  },
  {
   "cell_type": "code",
   "execution_count": null,
   "id": "349da579-e86d-4c4a-ac9f-fad6145f8061",
   "metadata": {
    "papermill": {},
    "tags": []
   },
   "outputs": [],
   "source": [
    "import numpy as np\n",
    "import matplotlib.pyplot as plt\n",
    "from matplotlib.markers import MarkerStyle\n",
    "from matplotlib.transforms import Affine2D\n",
    "from matplotlib.text import TextPath\n",
    "import naas"
   ]
  },
  {
   "cell_type": "markdown",
   "id": "70974852-b8f5-4900-a82f-db5475f9797c",
   "metadata": {
    "papermill": {},
    "tags": []
   },
   "source": [
    "### Setup variables\n",
    "- `xlabel`: This is a string variable that denotes the label for the x-axis of the plot. In this case, it is \"X position [m]\".\n",
    "- `ylabel`: This is a string variable that represents the label for the y-axis of the plot. Here, it is \"Y position [m]\".\n",
    "- `title`: This string variable signifies the title of the plot, which is 'Throwing success'.\n",
    "- `label`: This is a string variable that indicates the label for the colorbar. It is \"Normalized Thrust [a.u.]\".\n",
    "- `SUCCESS_SYMBOLS`: This list contains three `TextPath` objects. Each object represents a different symbol (\"☹\", \"😒\", \"☺\") used for marking successful throws on the plot.\n",
    "- `fig_path`: This string variable signifies the file path where the generated figure will be saved as an image. However, it seems to be missing any file-saving code in the given snippet.\n",
    "- `fig`: This refers to the figure object created by `plt.subplots()`.\n",
    "- `ax`: This references the axes object created by `plt.subplots()`.\n",
    "- `N`: This integer variable denotes the number of data points to generate. In this case, it is 25.\n",
    "- `np.random.seed(42)`: This sets the random seed to ensure reproducibility of the random data generation.\n",
    "- `skills`: This is a 1D NumPy array of length N. It represents the skills of participants with values between 5 and 13.\n",
    "- `takeoff_angles`: This 1D NumPy array of length N represents the takeoff angles in degrees. These are normally distributed with mean 0 and standard deviation 90.\n",
    "- `thrusts`: This 1D NumPy array of length N represents the thrust values. These are random values between 0 and 1.\n",
    "- `successful`: This 1D NumPy array of length N represents the success status. These are random integers 0, 1, or 2.\n",
    "- `positions`: This 2D NumPy array of shape (N, 2) represents the (x, y) positions of the data points. These are normally distributed around 0 with standard deviation 5.\n",
    "- `data`: This zip object combines the `skills`, `takeoff_angles`, `thrusts`, `successful`, and `positions` arrays together. Each element of `data` is a tuple containing one data point's skill, takeoff angle, thrust, success status, and position.\n",
    "- `cmap`: This is a colormap obtained from `plt.get_cmap(\"plasma\")`. It is used to color the scatter points based on the `thrusts`."
   ]
  },
  {
   "cell_type": "code",
   "execution_count": null,
   "id": "bf25ef1d-73a8-4c61-a27d-23d73308ce5e",
   "metadata": {
    "papermill": {},
    "tags": []
   },
   "outputs": [],
   "source": [
    "# Inputs\n",
    "xlabel = \"X position [m]\"\n",
    "ylabel = \"Y position [m]\"\n",
    "title = 'Throwing success'\n",
    "label = \"Normalized Thrust [a.u.]\"\n",
    "\n",
    "SUCCESS_SYMBOLS = [\n",
    "    TextPath((0, 0), \"☹\"),\n",
    "    TextPath((0, 0), \"😒\"),\n",
    "    TextPath((0, 0), \"☺\"),\n",
    "]\n",
    "# Outputs\n",
    "fig_path = \"fig.png\""
   ]
  },
  {
   "cell_type": "markdown",
   "id": "model_cell",
   "metadata": {
    "papermill": {},
    "tags": []
   },
   "source": [
    "## Model"
   ]
  },
  {
   "cell_type": "markdown",
   "id": "ef3c71fb-a46f-4216-978f-1b7fe0667bfd",
   "metadata": {
    "papermill": {},
    "tags": []
   },
   "source": [
    "### Create the Marker"
   ]
  },
  {
   "cell_type": "code",
   "execution_count": null,
   "id": "devoted-negotiation",
   "metadata": {
    "papermill": {},
    "tags": []
   },
   "outputs": [],
   "source": [
    "fig, ax = plt.subplots()\n",
    "N = 25\n",
    "np.random.seed(42)\n",
    "skills = np.random.uniform(5, 80, size=N) * 0.1 + 5\n",
    "takeoff_angles = np.random.normal(0, 90, N)\n",
    "thrusts = np.random.rand(N)\n",
    "successful = np.random.randint(0, 3, size=N)\n",
    "positions = np.random.normal(size=(N, 2)) * 5\n",
    "data = zip(skills, takeoff_angles, thrusts, successful, positions)\n",
    "\n",
    "cmap = plt.get_cmap(\"plasma\")\n",
    "\n",
    "fig.suptitle((title), size=14)\n",
    "\n",
    "for skill, takeoff, thrust, mood, pos in data:\n",
    "    t = Affine2D().rotate_deg(takeoff).scale(skill)\n",
    "    m = MarkerStyle(SUCCESS_SYMBOLS[mood])\n",
    "    m._transform = t + m.get_transform()  # Set the custom transformation for the marker style\n",
    "    ax.scatter(pos[0], pos[1], marker=m, color=cmap(thrust))\n",
    "\n",
    "fig.colorbar(plt.cm.ScalarMappable(norm=None, cmap=cmap),\n",
    "             ax=ax, label=label)\n",
    "ax.set_xlabel(xlabel)\n",
    "ax.set_ylabel(ylabel)\n",
    "\n",
    "plt.show()"
   ]
  },
  {
   "cell_type": "markdown",
   "id": "output_cell",
   "metadata": {
    "papermill": {},
    "tags": []
   },
   "source": [
    "## Output"
   ]
  },
  {
   "cell_type": "markdown",
   "id": "display_cell",
   "metadata": {
    "papermill": {},
    "tags": []
   },
   "source": [
    "### Save the figure"
   ]
  },
  {
   "cell_type": "code",
   "execution_count": null,
   "id": "wired-minutes",
   "metadata": {
    "papermill": {},
    "tags": []
   },
   "outputs": [],
   "source": [
    "fig.savefig(fig_path)"
   ]
  },
  {
   "cell_type": "markdown",
   "id": "dbdb5be1-a4b1-43a9-9e7b-247acef46d34",
   "metadata": {
    "papermill": {},
    "tags": []
   },
   "source": [
    "### Share asset with naas"
   ]
  },
  {
   "cell_type": "code",
   "execution_count": null,
   "id": "5089623e-a2c5-4462-8ba3-60267c869ea8",
   "metadata": {
    "papermill": {},
    "tags": []
   },
   "outputs": [],
   "source": [
    "naas.asset.add(fig_path, params={\"inline\": True})"
   ]
  }
 ],
 "metadata": {
  "kernelspec": {
   "display_name": "Python 3",
   "language": "python",
   "name": "python3"
  },
  "language_info": {
   "codemirror_mode": {
    "name": "ipython",
    "version": 3
   },
   "file_extension": ".py",
   "mimetype": "text/x-python",
   "name": "python",
   "nbconvert_exporter": "python",
   "pygments_lexer": "ipython3",
   "version": "3.9.6"
  },
  "naas": {
   "notebook_id": "ec9d2f3bc763b8c5dab172f1354acd3ef85d13adbcfe201601c7155547bb3429",
   "notebook_path": "Matplotlib/Matplotlib_Map_marker_properties_to_plot_multivariate_data.ipynb"
  },
  "papermill": {
   "default_parameters": {},
   "environment_variables": {},
   "parameters": {},
   "version": "2.3.3"
  }
 },
 "nbformat": 4,
 "nbformat_minor": 5
}