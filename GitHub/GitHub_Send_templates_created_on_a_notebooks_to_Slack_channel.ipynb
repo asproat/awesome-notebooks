{
 "cells": [
  {
   "cell_type": "markdown",
   "id": "ada9f2a9-8daa-4b89-a03c-ffcdae2fd220",
   "metadata": {
    "papermill": {},
    "tags": []
   },
   "source": [
    "<img width=\"10%\" alt=\"Naas\" src=\"https://landen.imgix.net/jtci2pxwjczr/assets/5ice39g4.png?w=160\"/>"
   ]
  },
  {
   "cell_type": "markdown",
   "id": "373a7231-6f7d-47da-b3cd-6b8f5250223a",
   "metadata": {
    "papermill": {},
    "tags": []
   },
   "source": [
    "# GitHub - Send templates created on a notebooks to Slack channel\n",
    "<a href=\"https://app.naas.ai/user-redirect/naas/downloader?url=https://raw.githubusercontent.com/jupyter-naas/awesome-notebooks/master/GitHub/GitHub_Send_templates_created_on_a_notebooks_to_Slack_channel.ipynb\" target=\"_parent\"><img src=\"https://naasai-public.s3.eu-west-3.amazonaws.com/Open_in_Naas_Lab.svg\"/></a><br><br><a href=\"https://bit.ly/3JyWIk6\">Give Feedbacks</a> | <a href=\"https://github.com/jupyter-naas/awesome-notebooks/issues/new?assignees=&labels=bug&template=bug_report.md&title=GitHub+-+Send+templates+created+on+a+notebooks+to+Slack+channel:+Error+short+description\">Bug report</a>"
   ]
  },
  {
   "cell_type": "markdown",
   "id": "611b4f12-8112-4e0f-b6ac-5bb96855fa7f",
   "metadata": {
    "papermill": {},
    "tags": []
   },
   "source": [
    "**Tags:** #github #templates #created #rest #api #snippet #operations #slack"
   ]
  },
  {
   "cell_type": "markdown",
   "id": "7903a6e2-70c3-4149-8279-c603417a7836",
   "metadata": {
    "papermill": {},
    "tags": []
   },
   "source": [
    "**Author:** [Benjamin Filly](https://www.linkedin.com/in/benjamin-filly-05427727a/)"
   ]
  },
  {
   "cell_type": "markdown",
   "id": "1a7a6048-1548-4cbe-b908-0a5279535847",
   "metadata": {
    "papermill": {},
    "tags": []
   },
   "source": [
    "**Last update:** 2023-07-11 (Created: 2023-07-11)"
   ]
  },
  {
   "cell_type": "markdown",
   "id": "4e3aadfe-6d61-41b9-80f2-a790718018ee",
   "metadata": {
    "papermill": {},
    "tags": []
   },
   "source": [
    "**Description:** This notebook demonstrates how to send the templates created on GitHub to a specific Slack channel. It includes the sections below:\n",
    "\n",
    "- ✅ **Templates created:** the total number of templates created (overall, by month, by week).\n",
    "- 📊 **Bar chart:** a barchart of the templates created the last 8 weeks\n",
    "\n",
    "*NB: Execution time may takes between 1 to 4 min.*"
   ]
  },
  {
   "cell_type": "markdown",
   "id": "2b5dcc40-1fac-47c9-b577-26229548f2b1",
   "metadata": {
    "papermill": {},
    "tags": []
   },
   "source": [
    "**References:**\n",
    "- [GitHub REST API Documentation](https://docs.github.com/en/rest/issues/issues?apiVersion=2022-11-28#update-an-issue)\n",
    "- [os](https://docs.python.org/3/library/os.html)\n",
    "- [Plotly ](https://plotly.com/python/)\n",
    "- [Slack Block Kit Builder](https://app.slack.com/block-kit-builder/)"
   ]
  },
  {
   "cell_type": "markdown",
   "id": "892d0dd8-86b4-4788-86ac-a8a34a29cb94",
   "metadata": {
    "papermill": {},
    "tags": []
   },
   "source": [
    "## Input"
   ]
  },
  {
   "cell_type": "markdown",
   "id": "727b3406-2d41-41ff-aad6-10007bda4a69",
   "metadata": {
    "papermill": {},
    "tags": []
   },
   "source": [
    "### Import libraries"
   ]
  },
  {
   "cell_type": "code",
   "execution_count": null,
   "id": "c14a82ed-deca-4d54-a1ba-da6356c3865b",
   "metadata": {
    "papermill": {},
    "tags": []
   },
   "outputs": [],
   "source": [
    "from github import Github\n",
    "import naas\n",
    "import pandas as pd\n",
    "from naas_drivers import slack\n",
    "import plotly.graph_objects as go\n",
    "from datetime import datetime, timedelta, date\n",
    "import warnings\n",
    "warnings.filterwarnings(\"ignore\")"
   ]
  },
  {
   "cell_type": "markdown",
   "id": "18a7ce29-9182-4b79-8f5f-5032b8b8774f",
   "metadata": {
    "papermill": {},
    "tags": []
   },
   "source": [
    "### Setup Variables\n",
    "- `github_token`: [GitHub token](https://help.github.com/en/github/authenticating-to-github/creating-a-personal-access-token-for-the-command-line)\n",
    "- `repo_name`: name of the repository in two part: owner_name/repository_name\n",
    "- `contributor_profile`: your GitHub username\n",
    "- `cron`: cron params for naas scheduler\n",
    "- `slack_bot_token`: [Slack Bot token](https://docs.celigo.com/hc/en-us/articles/7140655476507-How-to-create-an-app-and-retrieve-OAuth-token-in-Slack)\n",
    "- `slack_channel`: The name of the channel you want to send the message"
   ]
  },
  {
   "cell_type": "code",
   "execution_count": null,
   "id": "ad68a533-dfdb-44ba-b1f8-860bbe5c8d08",
   "metadata": {
    "papermill": {},
    "tags": []
   },
   "outputs": [],
   "source": [
    "# Inputs\n",
    "github_token = naas.secret.get(\"GITHUB_TOKEN\") or \"YOUR_GITHUB_TOKEN\"\n",
    "repo_name = \"jupyter-naas/awesome-notebooks\"\n",
    "contributor_profile = \"Benjifilly\" #example: \"FlorentLvr\" \n",
    "cron = \"0 17 * * 0\"\n",
    "\n",
    "# Outputs\n",
    "slack_bot_token = naas.secret.get(\"SLACK_BOT_TOKEN\") or \"YOUR_SLACK_TOKEN\"\n",
    "slack_channel = \"bot-naas-contributors\" #example: \"naas-templates-contributors\"\n",
    "image_path = f\"bar_chart.png\""
   ]
  },
  {
   "cell_type": "markdown",
   "id": "ef6aae6b-fe4b-4bc9-955b-533690997ea9",
   "metadata": {
    "papermill": {},
    "tags": []
   },
   "source": [
    "## Model"
   ]
  },
  {
   "cell_type": "markdown",
   "id": "528c059d-c5dc-4379-b364-5d8ca8bf7af9",
   "metadata": {
    "papermill": {},
    "tags": []
   },
   "source": [
    "### Connect to GitHub repo"
   ]
  },
  {
   "cell_type": "code",
   "execution_count": null,
   "id": "97cb8cb4-24e5-411c-a27a-ff58a355d3d4",
   "metadata": {
    "papermill": {},
    "tags": []
   },
   "outputs": [],
   "source": [
    "# Connect to the GitHub API using pygithub library\n",
    "g = Github(github_token)\n",
    "\n",
    "# Get the repository\n",
    "repo = g.get_repo(repo_name)"
   ]
  },
  {
   "cell_type": "markdown",
   "id": "a804dbf8-edb6-4445-822f-908011f22b1b",
   "metadata": {
    "papermill": {},
    "tags": []
   },
   "source": [
    "### Get PRs closed\n",
    "So here we're filtering out all closed PRs on the `contributor_profile`, then we retrieve the files added by each PR and classify them by month and week."
   ]
  },
  {
   "cell_type": "code",
   "execution_count": null,
   "id": "0db97969-9d57-4e8e-b8bd-058541d36831",
   "metadata": {
    "papermill": {},
    "tags": []
   },
   "outputs": [],
   "source": [
    "# Get the closed PR\n",
    "pull_requests = repo.get_pulls(state='closed', sort='updated', direction='desc')\n",
    "print(\"✅ Pull Requests fetched:\", pull_requests.totalCount)\n",
    "\n",
    "# Iterate over the pull requests and filter by assignee\n",
    "assigned_pull_requests = [pr for pr in pull_requests if pr.assignee and pr.assignee.login == contributor_profile]\n",
    "\n",
    "# Print the closed PR count\n",
    "print(f\"📌Number of assigned closed PR: {len(assigned_pull_requests)}\")"
   ]
  },
  {
   "cell_type": "markdown",
   "id": "748b932f-68b3-4823-8ba3-8baef3ba98ad",
   "metadata": {
    "papermill": {},
    "tags": []
   },
   "source": [
    "### Get templates added by PRs closed"
   ]
  },
  {
   "cell_type": "code",
   "execution_count": null,
   "id": "22760e59-f553-44c9-8b86-58c82e49fec4",
   "metadata": {
    "papermill": {},
    "tags": []
   },
   "outputs": [],
   "source": [
    "# Create an empty list to store the files added in closed pull requests\n",
    "files_added_month = []\n",
    "files_added_week = []\n",
    "files_added = []\n",
    "\n",
    "# Get the current date\n",
    "current_date = datetime.now()\n",
    "\n",
    "# Iterate over the assigned closed pull requests\n",
    "for pr in assigned_pull_requests:\n",
    "    # Get files added\n",
    "    files = pr.get_files()\n",
    "\n",
    "    # Get the date the file was created\n",
    "    file_created = pr.merged_at\n",
    "\n",
    "    days_diff = None  # Initialize days_diff\n",
    "\n",
    "    if file_created is not None:\n",
    "        # Calculate the difference in days between the current date and file creation date\n",
    "        days_diff = (current_date - file_created).days\n",
    "\n",
    "        # Iterate over the files added in the pull request\n",
    "        for file in files:\n",
    "            if file.status == \"added\":\n",
    "                file_path = file.filename\n",
    "                file_url = file.raw_url\n",
    "\n",
    "                # Prep data\n",
    "                tmp = {\n",
    "                    \"file_path\": file_path,\n",
    "                    \"file_url\": file_url,\n",
    "                    \"file_created\": pr.merged_at,\n",
    "                    \"pr_number\": pr.number,\n",
    "                    \"pr_title\": pr.title,\n",
    "                    \"pr_url\": pr.url,\n",
    "                }\n",
    "\n",
    "                # Add the data to the respective lists based on the file creation date\n",
    "                if days_diff is not None and days_diff <= 30:\n",
    "                    files_added_month.append(tmp)\n",
    "                if days_diff is not None and days_diff <= 7:\n",
    "                    files_added_week.append(tmp)\n",
    "\n",
    "                # Add the data to the files_added list\n",
    "                files_added.append(tmp)\n",
    "\n",
    "# Create a DataFrame from the files_added list\n",
    "df_files_added = pd.DataFrame(files_added)\n",
    "\n",
    "# Calculate the variation between the current month and the last month\n",
    "current_month = current_date.month\n",
    "last_month = current_month - 1 if current_month > 1 else 12\n",
    "files_added_current_month = df_files_added[df_files_added['file_created'].dt.month == current_month]\n",
    "files_added_last_month = df_files_added[df_files_added['file_created'].dt.month == last_month]\n",
    "variation_month = len(files_added_current_month) - len(files_added_last_month)\n",
    "\n",
    "# Calculate the variation between the current week and the last week\n",
    "current_week = current_date.isocalendar()[1]\n",
    "last_week = current_week - 1 if current_week > 1 else 52\n",
    "files_added_current_week = df_files_added[df_files_added['file_created'].dt.isocalendar().week == current_week]\n",
    "files_added_last_week = df_files_added[df_files_added['file_created'].dt.isocalendar().week == last_week]\n",
    "variation_week = len(files_added_current_week) - len(files_added_last_week)\n",
    "\n",
    "# Prepare the variation strings\n",
    "variation_month_str = f\"+{variation_month}\" if variation_month > 0 else str(variation_month)\n",
    "variation_week_str = f\"+{variation_week}\" if variation_week > 0 else str(variation_week)\n",
    "\n",
    "# Print the number of files added and the variations\n",
    "print(f\"📈 Number of Files added: {len(df_files_added)}\")\n",
    "print(f\"📁 Number of Files added this month: {len(files_added_current_month)} ({variation_month_str} vs last month)\")\n",
    "print(f\"📂 Number of Files added this week: {len(files_added_current_week)} ({variation_week_str} vs last week)\")"
   ]
  },
  {
   "cell_type": "markdown",
   "id": "03426574-bfae-4955-b0eb-775ba818155b",
   "metadata": {
    "papermill": {},
    "tags": []
   },
   "source": [
    "### Create dataframe and make a graph"
   ]
  },
  {
   "cell_type": "code",
   "execution_count": null,
   "id": "9d5408c9-e701-4522-b509-cbff714010a0",
   "metadata": {
    "papermill": {},
    "tags": []
   },
   "outputs": [],
   "source": [
    "# Prepare data for the bar chart\n",
    "week_ranges = []  # List to store week ranges\n",
    "files_added_by_week = []  # List to store the number of files added per week\n",
    "\n",
    "# Get the current date\n",
    "current_date = datetime.now().date()\n",
    "# Get the current week number and year\n",
    "current_week = datetime.now().strftime(\"%W\")\n",
    "current_year = datetime.now().strftime(\"%Y\")\n",
    "\n",
    "# Get the start date of the current week (Monday)\n",
    "current_start_date = current_date - timedelta(days=current_date.weekday())\n",
    "\n",
    "# Iterate over the last 8 weeks\n",
    "for i in range(8):\n",
    "    start_date = current_start_date - timedelta(weeks=i)\n",
    "    end_date = start_date + timedelta(days=6)\n",
    "    week_range = f\"{start_date.strftime('%d %b')} - {end_date.strftime('%d %b %Y')}\"\n",
    "    week_ranges.append(week_range)\n",
    "\n",
    "    # Count the number of files added in the current week\n",
    "    files_added_in_week = len([file for file in files_added if start_date <= file['file_created'].date() <= end_date])\n",
    "    files_added_by_week.append(files_added_in_week)\n",
    "    \n",
    "# Create the bar chart\n",
    "fig = go.Figure(\n",
    "    data=go.Bar(\n",
    "        x=week_ranges[::-1],\n",
    "        y=files_added_by_week[::-1],\n",
    "        text=files_added_by_week[::-1],\n",
    "        textposition=\"auto\"\n",
    "    )\n",
    ")\n",
    "\n",
    "# Update the layout of the chart\n",
    "fig.update_layout(\n",
    "    title= f\"Templates created as of W{current_week} {current_year}\",\n",
    "    plot_bgcolor=\"white\",\n",
    ")\n",
    "\n",
    "# Get the current timestamp\n",
    "timestamp = datetime.now().strftime(\"%Y%m%d%H%M%S\")\n",
    "\n",
    "# Save the chart as an image with the timestamp in the filename\n",
    "image_path = f\"bar_chart_{timestamp}.png\"\n",
    "\n",
    "# Saving the chart into a .png\n",
    "fig.write_image(image_path)\n",
    "\n",
    "# Display the chart\n",
    "fig.show()"
   ]
  },
  {
   "cell_type": "markdown",
   "id": "79755e02-a51e-4857-ab66-e1064bb9d9dd",
   "metadata": {
    "papermill": {},
    "tags": []
   },
   "source": [
    "### Creating the Slack message\n",
    "We used [Block kit builder](https://app.slack.com/block-kit-builder/) to create our templates and adapt it with the dynamic variables."
   ]
  },
  {
   "cell_type": "code",
   "execution_count": null,
   "id": "efb2cd48-de69-472b-a40d-fa391a8bb3fc",
   "metadata": {
    "papermill": {},
    "tags": []
   },
   "outputs": [],
   "source": [
    "blocks = [\n",
    "    {\n",
    "        \"type\": \"header\",\n",
    "        \"text\": {\n",
    "            \"type\": \"plain_text\",\n",
    "            \"text\": f\"{contributor_profile} - Activity update as of {current_date}\",\n",
    "            \"emoji\": True\n",
    "        }\n",
    "    },\n",
    "    {\n",
    "        \"type\": \"divider\"\n",
    "    },\n",
    "    {\n",
    "        \"type\": \"section\",\n",
    "        \"text\": {\n",
    "            \"type\": \"mrkdwn\",\n",
    "            \"text\": f\"✅ *Templates created: {len(files_added)}*\",\n",
    "        }\n",
    "    },\n",
    "    {\n",
    "        \"type\": \"section\",\n",
    "        \"text\": {\n",
    "            \"type\": \"mrkdwn\",\n",
    "            \"text\": f\"This month: {len(files_added_current_month)} ({variation_month_str} vs last month)\\nThis week: {len(files_added_current_week)} ({variation_week_str} vs last week)\"\n",
    "        }\n",
    "    },\n",
    "    {\n",
    "        \"type\": \"section\",\n",
    "        \"text\": {\n",
    "            \"type\": \"mrkdwn\",\n",
    "            \"text\": \"Here are the 5 latest files added this week:\\n\" + \"\\n\".join([f\"- <{file['file_url']}|{file['file_path']}>\" for file in files_added_week[:5]])\n",
    "        }\n",
    "    },\n",
    "    {\n",
    "        \"type\": \"divider\"\n",
    "    },\n",
    "    {\n",
    "        \"type\": \"image\",\n",
    "        \"title\": {\n",
    "            \"type\": \"plain_text\",\n",
    "            \"text\": \"Evolution by Week\"\n",
    "        },\n",
    "        \"image_url\": f\"{naas.assets.add(image_path)}\",\n",
    "        \"alt_text\": \"Templates created over the last 8 weeks\"\n",
    "    },\n",
    "]\n"
   ]
  },
  {
   "cell_type": "markdown",
   "id": "04c0ae0c-1d5b-49bf-beab-f3d7f57d13a4",
   "metadata": {
    "papermill": {},
    "tags": []
   },
   "source": [
    "## Output"
   ]
  },
  {
   "cell_type": "markdown",
   "id": "b840ab64-0a49-420e-aff7-e15d45c28636",
   "metadata": {
    "papermill": {},
    "tags": []
   },
   "source": [
    "### Send message on Slack"
   ]
  },
  {
   "cell_type": "code",
   "execution_count": null,
   "id": "216048d6-3c43-45ac-812a-081354e441b0",
   "metadata": {
    "papermill": {},
    "tags": []
   },
   "outputs": [],
   "source": [
    "slack.connect(slack_bot_token).send(slack_channel, text=None, blocks=blocks)"
   ]
  },
  {
   "cell_type": "markdown",
   "id": "6588288f-c9e0-4950-a322-2a733b27ab06",
   "metadata": {
    "papermill": {},
    "tags": []
   },
   "source": [
    "### Add scheduler"
   ]
  },
  {
   "cell_type": "code",
   "execution_count": null,
   "id": "178b1e5a-a74b-408c-bf4b-fa5aaa03caad",
   "metadata": {
    "papermill": {},
    "tags": []
   },
   "outputs": [],
   "source": [
    "naas.scheduler.add(cron=cron)"
   ]
  },
  {
   "cell_type": "markdown",
   "id": "8626fe95-eb67-4da1-ba0a-a97042ad090e",
   "metadata": {
    "papermill": {},
    "tags": []
   },
   "source": [
    " "
   ]
  }
 ],
 "metadata": {
  "kernelspec": {
   "display_name": "Python 3",
   "language": "python",
   "name": "python3"
  },
  "language_info": {
   "codemirror_mode": {
    "name": "ipython",
    "version": 3
   },
   "file_extension": ".py",
   "mimetype": "text/x-python",
   "name": "python",
   "nbconvert_exporter": "python",
   "pygments_lexer": "ipython3",
   "version": "3.9.6"
  },
  "naas": {
   "notebook_id": "7b2207634faad3e18e2a4179115d4b835a53bed640a16cccc0c7e8d740a7970f",
   "notebook_path": "GitHub/GitHub_Send_templates_created_on_a_notebooks_to_Slack_channel.ipynb"
  },
  "papermill": {
   "default_parameters": {},
   "environment_variables": {},
   "parameters": {},
   "version": "2.4.0"
  },
  "widgets": {
   "application/vnd.jupyter.widget-state+json": {
    "state": {},
    "version_major": 2,
    "version_minor": 0
   }
  }
 },
 "nbformat": 4,
 "nbformat_minor": 5
}