{
 "cells": [
  {
   "cell_type": "markdown",
   "id": "aa535dc6",
   "metadata": {
    "papermill": {},
    "tags": []
   },
   "source": [
    "<img width=\"10%\" alt=\"Naas\" src=\"https://landen.imgix.net/jtci2pxwjczr/assets/5ice39g4.png?w=160\"/>"
   ]
  },
  {
   "cell_type": "markdown",
   "id": "9baa5343",
   "metadata": {
    "papermill": {},
    "tags": []
   },
   "source": [
    "# Google Sheets - Calculate distance and price\n",
    "<a href=\"https://app.naas.ai/user-redirect/naas/downloader?url=https://raw.githubusercontent.com/jupyter-naas/awesome-notebooks/master/Google%20Sheets/Google_Sheets_Calculate_Distance_and_Price.ipynb\" target=\"_parent\"><img src=\"https://naasai-public.s3.eu-west-3.amazonaws.com/Open_in_Naas_Lab.svg\"/></a><br><br><a href=\"https://bit.ly/3JyWIk6\">Give Feedbacks</a> | <a href=\"https://github.com/jupyter-naas/awesome-notebooks/issues/new?assignees=&labels=bug&template=bug_report.md&title=Google+Sheets+-+Calculate+distance+and+price:+Error+short+description\">Bug report</a>"
   ]
  },
  {
   "cell_type": "markdown",
   "id": "6d796f78",
   "metadata": {
    "papermill": {},
    "tags": []
   },
   "source": [
    "**Tags:** #googlesheets #gsheet #data #naas_drivers #operations #snippet #dataframe #google_maps_api #routes_api"
   ]
  },
  {
   "cell_type": "markdown",
   "id": "a7031597-51fe-4422-9b74-a9964fa99fb9",
   "metadata": {
    "papermill": {},
    "tags": []
   },
   "source": [
    "**Author:** [Antonio Georgiev](www.linkedin.com/in/antonio-georgiev-b672a325b)"
   ]
  },
  {
   "cell_type": "markdown",
   "id": "861517e6-e354-46b5-bc0b-cbcc2974938f",
   "metadata": {
    "papermill": {},
    "tags": []
   },
   "source": [
    "**Created:** 2023-07-27"
   ]
  },
  {
   "cell_type": "markdown",
   "id": "naas-description",
   "metadata": {
    "papermill": {},
    "tags": [
     "description"
    ]
   },
   "source": [
    "**Description:** This template determines the cost and distance between location extracted from a Google Sheet. It uses the Routes API to estimate the price depending on the distance between sites and outputs the updated Google Sheet with distances and prices."
   ]
  },
  {
   "cell_type": "markdown",
   "id": "4f808ecf",
   "metadata": {
    "papermill": {},
    "tags": []
   },
   "source": [
    "## Input"
   ]
  },
  {
   "cell_type": "markdown",
   "id": "82aa1a24",
   "metadata": {
    "papermill": {},
    "tags": []
   },
   "source": [
    "### Import libraries"
   ]
  },
  {
   "cell_type": "code",
   "execution_count": 1,
   "id": "5dd38d44",
   "metadata": {
    "papermill": {},
    "tags": []
   },
   "outputs": [],
   "source": [
    "import naas\n",
    "from naas_drivers import gsheet\n",
    "import requests"
   ]
  },
  {
   "cell_type": "markdown",
   "id": "c523bc27-b2a4-48c5-8481-2fba58d23288",
   "metadata": {
    "papermill": {},
    "tags": []
   },
   "source": [
    "### Setup variables\n",
    "**Get your Google Maps API key**\n",
    "\n",
    "1. Follow the steps in the link - https://developers.google.com/maps/documentation/routes/cloud-setup\n",
    "2. Sign up for an account with the Routes API provider.\n",
    "3. Make sure to enable Routes API as it is in the \"Additional APIs\" section in the google cloud console.\n",
    "4. Check the available countries https://developers.google.com/maps/documentation/routes/calculate_toll_fees#toll-locations\n",
    "\n",
    "- `api_key`: This variable holds the Google Cloud Platform (GCP) API key. The key is retrieved from the secret variable using the Naas secret manager.\n",
    "\n",
    "**Setup Google Sheets**\n",
    "\n",
    "Share your Google Sheets spreadsheet with our service account : 🔗 naas-share@naas-gsheets.iam.gserviceaccount.com\n",
    "\n",
    "- `spreadsheet_url`: Google Sheets spreadsheet URL\n",
    "- `sheet_name`: Google Sheets sheet name\n",
    "- `origin_column`: Origin column name\n",
    "- `destination_column`: Destination column name"
   ]
  },
  {
   "cell_type": "code",
   "execution_count": 2,
   "id": "ccb3a83d-9448-40cf-ad37-45d939435e5b",
   "metadata": {
    "papermill": {},
    "tags": []
   },
   "outputs": [],
   "source": [
    "api_key = naas.secret.get(\"GCP_MAP_API_KEY\")  # Read API key from the secret variable\n",
    "spreadsheet_url = \"https://docs.google.com/spreadsheets/x/xxxxxxxxxxxxxx/edit?usp=sharing\"\n",
    "sheet_name = \"Random\"\n",
    "origin_column = \"Origin\"\n",
    "destination_column = \"Destination\""
   ]
  },
  {
   "cell_type": "markdown",
   "id": "f0a5f069",
   "metadata": {
    "papermill": {},
    "tags": []
   },
   "source": [
    "## Model"
   ]
  },
  {
   "cell_type": "markdown",
   "id": "f6591574",
   "metadata": {
    "papermill": {},
    "tags": []
   },
   "source": [
    "### Get data from Google Sheets spreadsheet"
   ]
  },
  {
   "cell_type": "code",
   "execution_count": null,
   "id": "35371ee4-b69c-4fe3-bbcd-1da5a667f0c2",
   "metadata": {
    "papermill": {},
    "tags": []
   },
   "outputs": [],
   "source": [
    "df = gsheet.connect(spreadsheet_url).get(sheet_name=sheet_name)\n",
    "print(\"Row fetched:\", len(df))\n",
    "df.head(1)"
   ]
  },
  {
   "cell_type": "markdown",
   "id": "a9e1af90-c9e2-4a8e-b03d-d594926ad600",
   "metadata": {
    "papermill": {},
    "tags": []
   },
   "source": [
    "### Convert addresses to coordinates"
   ]
  },
  {
   "cell_type": "code",
   "execution_count": 4,
   "id": "89e65f28-7aeb-4857-b16a-272876553714",
   "metadata": {
    "papermill": {},
    "tags": []
   },
   "outputs": [],
   "source": [
    "def get_coordinates(address):\n",
    "    geocoding_api_endpoint = \"https://maps.googleapis.com/maps/api/geocode/json\"\n",
    "    params = {\"address\": address, \"key\": api_key}\n",
    "    response = requests.get(geocoding_api_endpoint, params=params)\n",
    "    data = response.json()\n",
    "    if data[\"status\"] == \"OK\":\n",
    "        result = data[\"results\"][0]\n",
    "        lat = result[\"geometry\"][\"location\"][\"lat\"]\n",
    "        lng = result[\"geometry\"][\"location\"][\"lng\"]\n",
    "        return lat, lng\n",
    "    else:\n",
    "        return None"
   ]
  },
  {
   "cell_type": "markdown",
   "id": "060132f0-a7f0-4908-b725-91cd06c1415f",
   "metadata": {
    "papermill": {},
    "tags": []
   },
   "source": [
    "### Update the Google Sheet with the relevant coordinates"
   ]
  },
  {
   "cell_type": "code",
   "execution_count": 5,
   "id": "88103b78-9e77-4148-864e-d826e7318f2c",
   "metadata": {
    "papermill": {},
    "tags": []
   },
   "outputs": [],
   "source": [
    "for index, row in df.iterrows():\n",
    "    origin_address = row[origin_column]\n",
    "    destination_address = row[destination_column]\n",
    "    \n",
    "    origin_coordinates = get_coordinates(origin_address)\n",
    "    if origin_coordinates:\n",
    "        df.at[index, \"Origin lat\"] = origin_coordinates[0]\n",
    "        df.at[index, \"Origin lng\"] = origin_coordinates[1]\n",
    "    \n",
    "    destination_coordinates = get_coordinates(destination_address)\n",
    "    if destination_coordinates:\n",
    "        df.at[index, \"Destination lat\"] = destination_coordinates[0]\n",
    "        df.at[index, \"Destination lng\"] = destination_coordinates[1]"
   ]
  },
  {
   "cell_type": "markdown",
   "id": "c0de533a-f0bf-4844-a7ff-ecd601c66bd1",
   "metadata": {
    "papermill": {},
    "tags": []
   },
   "source": [
    "### Retrieve distance and toll information from Routes API and update the sheet"
   ]
  },
  {
   "cell_type": "code",
   "execution_count": 6,
   "id": "4b88771d-408f-495c-b8d5-cdeb0ee4b7ba",
   "metadata": {
    "papermill": {},
    "tags": []
   },
   "outputs": [],
   "source": [
    "api_endpoint = 'https://routes.googleapis.com/directions/v2:computeRoutes'\n",
    "\n",
    "headers = {\n",
    "    'Content-Type': 'application/json',\n",
    "    'X-Goog-Api-Key': api_key,\n",
    "    'X-Goog-FieldMask': 'routes.duration,routes.distanceMeters,routes.travelAdvisory.tollInfo,routes.legs.travelAdvisory.tollInfo'\n",
    "}\n",
    "\n",
    "for index, row in df.iterrows():\n",
    "    origin_lat = row[\"Origin lat\"]\n",
    "    origin_lng = row[\"Origin lng\"]\n",
    "    destination_lat = row[\"Destination lat\"]\n",
    "    destination_lng = row[\"Destination lng\"]\n",
    "\n",
    "    payload = {\n",
    "        \"origin\": {\n",
    "            \"location\": {\n",
    "                \"latLng\": {\n",
    "                    \"latitude\": origin_lat,\n",
    "                    \"longitude\": origin_lng\n",
    "                }\n",
    "            }\n",
    "        },\n",
    "        \"destination\": {\n",
    "            \"location\": {\n",
    "                \"latLng\": {\n",
    "                    \"latitude\": destination_lat,\n",
    "                    \"longitude\": destination_lng\n",
    "                }\n",
    "            }\n",
    "        },\n",
    "        \"travelMode\": \"DRIVE\",\n",
    "        \"extraComputations\": [\"TOLLS\"],\n",
    "        \"routeModifiers\": {\n",
    "            \"vehicleInfo\": {\n",
    "                \"emissionType\": \"GASOLINE\"\n",
    "            },\n",
    "            \"tollPasses\": [\n",
    "               # Add relevant toll passes if applicable\n",
    "            ]\n",
    "        }\n",
    "    }\n",
    "\n",
    "    response = requests.post(api_endpoint, json=payload, headers=headers)\n",
    "    if response.status_code == 200:\n",
    "        data = response.json()\n",
    "        if \"routes\" in data and len(data[\"routes\"]) > 0:\n",
    "            route = data[\"routes\"][0]\n",
    "            distance_meters = route.get(\"distanceMeters\")\n",
    "            if distance_meters:\n",
    "                distance_km = distance_meters / 1000\n",
    "                df.loc[index, \"Distance\"] = f\"{distance_km:.2f} km\"\n",
    "            if 'travelAdvisory' in route:\n",
    "                toll_info = route.get(\"travelAdvisory\", {}).get(\"tollInfo\", {})\n",
    "                toll_info = route.get(\"travelAdvisory\", {}).get(\"tollInfo\", {})\n",
    "                estimated_price = toll_info.get(\"estimatedPrice\", [])\n",
    "                if estimated_price:\n",
    "                    currency_code = estimated_price[0].get(\"currencyCode\", \"\")\n",
    "                    toll_cost = float(estimated_price[0].get(\"units\", 0))\n",
    "                    formatted_toll_cost = '{:.2f}'.format(toll_cost)\n",
    "                    df.loc[index, \"Toll costs\"] = currency_code + ' ' + formatted_toll_cost\n",
    "            else:\n",
    "                df.loc[index, \"Toll costs\"] = \"Not available\"\n",
    "        else:\n",
    "            print(f\"No routes found in the response for row {index+2}\")\n",
    "    else:\n",
    "        print(f\"Route calculation request failed for row {index+2} with status code: {response.status_code}\")"
   ]
  },
  {
   "cell_type": "markdown",
   "id": "7cb92cff",
   "metadata": {
    "papermill": {},
    "tags": []
   },
   "source": [
    "## Output"
   ]
  },
  {
   "cell_type": "markdown",
   "id": "3d7cd7d7",
   "metadata": {
    "papermill": {},
    "tags": []
   },
   "source": [
    "### Update Google Sheet spreadsheet"
   ]
  },
  {
   "cell_type": "code",
   "execution_count": null,
   "id": "1a49d96f-393d-4777-8190-68c3e40ecfd5",
   "metadata": {
    "papermill": {},
    "tags": []
   },
   "outputs": [],
   "source": [
    "result = gsheet.connect(spreadsheet_url).send(sheet_name=sheet_name, data=df, append=False)\n",
    "if \"error\" in result:\n",
    "    print(\"Failed to save the sheet.\")\n",
    "else:\n",
    "    print(\"Saved successfully.\")"
   ]
  }
 ],
 "metadata": {
  "interpreter": {
   "hash": "aee8b7b246df8f9039afb4144a1f6fd8d2ca17a180786b69acc140d282b71a49"
  },
  "kernelspec": {
   "display_name": "Python 3",
   "language": "python",
   "name": "python3"
  },
  "language_info": {
   "codemirror_mode": {
    "name": "ipython",
    "version": 3
   },
   "file_extension": ".py",
   "mimetype": "text/x-python",
   "name": "python",
   "nbconvert_exporter": "python",
   "pygments_lexer": "ipython3",
   "version": "3.9.6"
  },
  "naas": {
   "notebook_id": "b04ee5b4b37c8b2317bef0807a60465579484e42bc08e2d5ccc93e264b98f84d",
   "notebook_path": "Google Sheets/Google_Sheets_Calculate_Distance_and_Price.ipynb"
  },
  "papermill": {
   "default_parameters": {},
   "environment_variables": {},
   "parameters": {},
   "version": "2.3.3"
  },
  "widgets": {
   "application/vnd.jupyter.widget-state+json": {
    "state": {},
    "version_major": 2,
    "version_minor": 0
   }
  }
 },
 "nbformat": 4,
 "nbformat_minor": 5
}