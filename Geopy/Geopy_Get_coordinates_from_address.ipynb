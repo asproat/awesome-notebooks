{
 "cells": [
  {
   "cell_type": "markdown",
   "id": "latin-packing",
   "metadata": {
    "execution": {
     "iopub.execute_input": "2021-02-23T14:22:16.610471Z",
     "iopub.status.busy": "2021-02-23T14:22:16.610129Z",
     "iopub.status.idle": "2021-02-23T14:22:16.627784Z",
     "shell.execute_reply": "2021-02-23T14:22:16.626866Z",
     "shell.execute_reply.started": "2021-02-23T14:22:16.610384Z"
    },
    "papermill": {},
    "tags": []
   },
   "source": [
    "<img width=\"10%\" alt=\"Naas\" src=\"https://landen.imgix.net/jtci2pxwjczr/assets/5ice39g4.png?w=160\"/>"
   ]
  },
  {
   "cell_type": "markdown",
   "id": "compressed-wilson",
   "metadata": {
    "papermill": {},
    "tags": []
   },
   "source": [
    "# Geopy - Get coordinates from address\n",
    "<a href=\"https://app.naas.ai/user-redirect/naas/downloader?url=https://raw.githubusercontent.com/jupyter-naas/awesome-notebooks/master/Geopy/Geopy_Get_coordinates_from_address.ipynb\" target=\"_parent\"><img src=\"https://naasai-public.s3.eu-west-3.amazonaws.com/Open_in_Naas_Lab.svg\"/></a><br><br><a href=\"https://bit.ly/3JyWIk6\">Give Feedbacks</a> | <a href=\"https://github.com/jupyter-naas/awesome-notebooks/issues/new?assignees=&labels=bug&template=bug_report.md&title=Geopy+-+Get+coordinates+from+address:+Error+short+description\">Bug report</a>"
   ]
  },
  {
   "cell_type": "markdown",
   "id": "cbf7f260-f739-4e8f-9074-f070af12b69f",
   "metadata": {
    "papermill": {},
    "tags": []
   },
   "source": [
    "**Tags:** #geopy #coordinates #address #navigation #snippet"
   ]
  },
  {
   "cell_type": "markdown",
   "id": "8af9aa79",
   "metadata": {
    "papermill": {},
    "tags": []
   },
   "source": [
    "**Author:** [Antonio Georgiev](www.linkedin.com/in/antonio-georgiev-b672a325b)"
   ]
  },
  {
   "cell_type": "markdown",
   "id": "99803030-203f-4abd-b73b-f912fba4ee4f",
   "metadata": {
    "papermill": {},
    "tags": []
   },
   "source": [
    "**Last update:** 2023-07-28 (Created: 2023-07-28)"
   ]
  },
  {
   "cell_type": "markdown",
   "id": "5436984d-1d8d-4c7f-9b4e-82eb0555bca6",
   "metadata": {
    "papermill": {},
    "tags": []
   },
   "source": [
    "**Description:** This notebook demonstrates how to utilize Geopy to the coordinates(longitude and latitude) of a given address."
   ]
  },
  {
   "cell_type": "markdown",
   "id": "931353f2-ff13-444a-8a66-2c875f79303e",
   "metadata": {
    "papermill": {},
    "tags": []
   },
   "source": [
    "**References:**\n",
    "- [Nominatim geocoder for OpenStreetMap data](https://geopy.readthedocs.io/en/stable/#nominatim)"
   ]
  },
  {
   "cell_type": "markdown",
   "id": "distinguished-truth",
   "metadata": {
    "papermill": {},
    "tags": []
   },
   "source": [
    "## Input"
   ]
  },
  {
   "cell_type": "markdown",
   "id": "b56e47f5-be89-4591-93ec-01e8fac50def",
   "metadata": {
    "papermill": {},
    "tags": []
   },
   "source": [
    "### Import libraries"
   ]
  },
  {
   "cell_type": "code",
   "execution_count": null,
   "id": "6b63229c-7614-4dc8-ba2a-e0b1e2f64918",
   "metadata": {
    "papermill": {},
    "tags": []
   },
   "outputs": [],
   "source": [
    "from geopy.geocoders import Nominatim"
   ]
  },
  {
   "cell_type": "markdown",
   "id": "3311103a-13a2-40c5-bb42-2755391f3d47",
   "metadata": {
    "papermill": {},
    "tags": []
   },
   "source": [
    "### Setup variables\n",
    "- `address`: Address to be used to get coordinates"
   ]
  },
  {
   "cell_type": "code",
   "execution_count": null,
   "id": "bffaf74b-3e26-408f-9a55-bb495577cdf6",
   "metadata": {
    "papermill": {},
    "tags": []
   },
   "outputs": [],
   "source": [
    "address = \"Bulgaria Blvd 69, 1404 Manastirski Livadi, Sofia, Bulgaria\""
   ]
  },
  {
   "cell_type": "markdown",
   "id": "registered-showcase",
   "metadata": {
    "papermill": {},
    "tags": []
   },
   "source": [
    "## Model"
   ]
  },
  {
   "cell_type": "markdown",
   "id": "d10c3515-bf08-43ea-aeb7-6a024c899d2c",
   "metadata": {
    "papermill": {},
    "tags": []
   },
   "source": [
    "### Get location"
   ]
  },
  {
   "cell_type": "code",
   "execution_count": null,
   "id": "2fafe16a-ccca-43ae-88fd-eb23af803fe6",
   "metadata": {
    "papermill": {},
    "tags": []
   },
   "outputs": [],
   "source": [
    "geolocator = Nominatim(user_agent=\"geopy_exercise\")\n",
    "location = geolocator.geocode(address)"
   ]
  },
  {
   "cell_type": "markdown",
   "id": "c1e4c55b",
   "metadata": {
    "papermill": {},
    "tags": []
   },
   "source": [
    "## Output"
   ]
  },
  {
   "cell_type": "markdown",
   "id": "2ee5bfd6-de4f-40c9-a590-7c7afc44b9a0",
   "metadata": {
    "papermill": {},
    "tags": []
   },
   "source": [
    "### Display result"
   ]
  },
  {
   "cell_type": "code",
   "execution_count": null,
   "id": "da518339-2db2-44f6-8596-2bd1c2c3583f",
   "metadata": {
    "papermill": {},
    "tags": []
   },
   "outputs": [],
   "source": [
    "if location:\n",
    "    print(\"Latitude:\", location.latitude)\n",
    "    print(\"Longitude:\", location.longitude)\n",
    "else:\n",
    "    print(\"Location not found.\")"
   ]
  }
 ],
 "metadata": {
  "kernelspec": {
   "display_name": "Python 3",
   "language": "python",
   "name": "python3"
  },
  "language_info": {
   "codemirror_mode": {
    "name": "ipython",
    "version": 3
   },
   "file_extension": ".py",
   "mimetype": "text/x-python",
   "name": "python",
   "nbconvert_exporter": "python",
   "pygments_lexer": "ipython3",
   "version": "3.9.6"
  },
  "naas": {
   "notebook_id": "e58363280d4ff558e10c90bb9294d8ad7f0467db115d5dca1be059dc911939f5",
   "notebook_path": "Geopy/Geopy_Get_coordinates_from_address.ipynb"
  },
  "papermill": {
   "default_parameters": {},
   "environment_variables": {},
   "parameters": {},
   "version": "2.3.3"
  },
  "widgets": {
   "application/vnd.jupyter.widget-state+json": {
    "state": {},
    "version_major": 2,
    "version_minor": 0
   }
  }
 },
 "nbformat": 4,
 "nbformat_minor": 5
}