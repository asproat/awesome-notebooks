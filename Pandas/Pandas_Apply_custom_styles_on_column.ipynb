{
 "cells": [
  {
   "cell_type": "markdown",
   "id": "bda4f92a-5665-47de-af7c-a849f55131fa",
   "metadata": {
    "papermill": {},
    "tags": []
   },
   "source": [
    "<img width=\"10%\" alt=\"Naas\" src=\"https://landen.imgix.net/jtci2pxwjczr/assets/5ice39g4.png?w=160\"/>"
   ]
  },
  {
   "cell_type": "markdown",
   "id": "1ed72b90-de08-425a-8a76-f4175a522417",
   "metadata": {
    "papermill": {},
    "tags": []
   },
   "source": [
    "# Pandas - Apply custom styles on column\n",
    "<a href=\"https://app.naas.ai/user-redirect/naas/downloader?url=https://raw.githubusercontent.com/jupyter-naas/awesome-notebooks/master/Pandas/Pandas_Apply_custom_styles_on_column.ipynb\" target=\"_parent\"><img src=\"https://naasai-public.s3.eu-west-3.amazonaws.com/Open_in_Naas_Lab.svg\"/></a><br><br><a href=\"https://bit.ly/3JyWIk6\">Give Feedbacks</a> | <a href=\"https://github.com/jupyter-naas/awesome-notebooks/issues/new?assignees=&labels=bug&template=bug_report.md&title=Pandas+-+Apply+custom+styles+on+column:+Error+short+description\">Bug report</a>"
   ]
  },
  {
   "cell_type": "markdown",
   "id": "3513100b-5299-47f9-be21-a336f3972de1",
   "metadata": {
    "papermill": {},
    "tags": []
   },
   "source": [
    "**Tags:** #pandas #dataframe #style #column #apply #custom"
   ]
  },
  {
   "cell_type": "markdown",
   "id": "32fb4036-3916-4d3b-b0bf-859172a35938",
   "metadata": {
    "papermill": {},
    "tags": []
   },
   "source": [
    "**Author:** [Benjamin Filly](https://www.linkedin.com/in/benjamin-filly-05427727a/)"
   ]
  },
  {
   "cell_type": "markdown",
   "id": "ec10fa8a-dabc-4f5f-b4f5-72fd29771f97",
   "metadata": {
    "papermill": {},
    "tags": []
   },
   "source": [
    "**Last update:** 2023-07-25 (Created: 2023-07-24)"
   ]
  },
  {
   "cell_type": "markdown",
   "id": "7f751cdd-5e8a-447c-89e4-3a1bca2047ed",
   "metadata": {
    "papermill": {},
    "tags": []
   },
   "source": [
    "**Description:** This notebook will show how to apply custom styles on a column of a Pandas DataFrame. It is usefull for data analysis and data visualization."
   ]
  },
  {
   "cell_type": "markdown",
   "id": "1cb0cf94-ae27-4aae-bece-e93d1a874a14",
   "metadata": {
    "papermill": {},
    "tags": []
   },
   "source": [
    "**References:**\n",
    "- [Pandas Documentation - Styling](https://pandas.pydata.org/pandas-docs/stable/user_guide/style.html)\n",
    "- [Pandas Documentation - Styling with functions](https://pandas.pydata.org/pandas-docs/stable/user_guide/style.html#Styling-with-functions)"
   ]
  },
  {
   "cell_type": "markdown",
   "id": "3076e4fe-2b09-44c5-adac-00a6d1f5a747",
   "metadata": {
    "papermill": {},
    "tags": []
   },
   "source": [
    "## Input"
   ]
  },
  {
   "cell_type": "markdown",
   "id": "63b43b3a-7bc2-4529-b9f9-4698aadc35c6",
   "metadata": {
    "papermill": {},
    "tags": []
   },
   "source": [
    "### Import libraries"
   ]
  },
  {
   "cell_type": "code",
   "execution_count": 1,
   "id": "63fda2d7-d1d9-4fd3-a752-13d9214d9acc",
   "metadata": {
    "papermill": {},
    "tags": []
   },
   "outputs": [],
   "source": [
    "import pandas as pd"
   ]
  },
  {
   "cell_type": "markdown",
   "id": "22d01f0c-e5f7-4b18-a72a-89d014c1850f",
   "metadata": {
    "papermill": {},
    "tags": []
   },
   "source": [
    "## Model"
   ]
  },
  {
   "cell_type": "markdown",
   "id": "8704a59c-d01d-4eba-94a7-2a16a37837df",
   "metadata": {
    "papermill": {},
    "tags": []
   },
   "source": [
    "### Create DataFrame"
   ]
  },
  {
   "cell_type": "code",
   "execution_count": 2,
   "id": "87d45a29-4fc3-4c06-af32-3536d91f6c55",
   "metadata": {
    "papermill": {},
    "tags": []
   },
   "outputs": [],
   "source": [
    "# Sample DataFrame\n",
    "data = {\n",
    "    'Name': ['Alice', 'Bob', 'Charlie', 'David', 'Eva'],\n",
    "    'Score': [95, -80, 70, -60, 85],\n",
    "    'Age': [25, 32, 18, 40, 28],\n",
    "    'Sales': [1200, 980, 1500, 850, 1750]\n",
    "}\n",
    "\n",
    "df = pd.DataFrame(data)"
   ]
  },
  {
   "cell_type": "markdown",
   "id": "3f55ae9b-848a-41dd-9481-81393017fb2b",
   "metadata": {
    "papermill": {},
    "tags": []
   },
   "source": [
    "### Highlight negative\n",
    "In this example, we use a custom style function highlight_negative that applies the CSS attribute color: red to any cell in the `Score` column that contains a negative value. This will change the text color of negative values to red, making them stand out in the DataFrame."
   ]
  },
  {
   "cell_type": "code",
   "execution_count": 3,
   "id": "3e05ee25-4089-44f4-9c8d-4ad1f151e397",
   "metadata": {
    "papermill": {},
    "tags": []
   },
   "outputs": [],
   "source": [
    "df_highlight_negative = df.copy() # Copying the dataframe df into another variable\n",
    "\n",
    "# Define a function that returns the CSS styles based on the values of the column\n",
    "def highlight_negative(s):\n",
    "    return ['color: red' if value < 0 else '' for value in s]\n",
    "\n",
    "df_highlight_negative = df_highlight_negative.style.apply(highlight_negative, subset=['Score'])\n",
    "df_highlight_negative"
   ]
  },
  {
   "cell_type": "markdown",
   "id": "0ed200d1-4ca5-437f-b5d6-4d226a229f26",
   "metadata": {
    "papermill": {},
    "tags": []
   },
   "source": [
    "### Color scale\n",
    "The `color_scale` function applies a color scale to the `Age` column of the DataFrame. It assigns blue color to smaller values and red color to larger values, with varying intensity based on the values' magnitudes."
   ]
  },
  {
   "cell_type": "code",
   "execution_count": 4,
   "id": "27c05a6a-c1e5-4b4f-a575-9b4e3e6ace39",
   "metadata": {
    "papermill": {},
    "tags": []
   },
   "outputs": [],
   "source": [
    "df_color_scale = df.copy()\n",
    "\n",
    "def color_scale(s):\n",
    "    min_val = min(s)\n",
    "    max_val = max(s)\n",
    "    color_range = ['background-color: blue; opacity: 0.6',\n",
    "                   'background-color: rgb(255, 0, 0); opacity: 0.6']\n",
    "    normalized_values = (s - min_val) / (max_val - min_val)\n",
    "    color_mapped = pd.cut(normalized_values, bins=[-0.001, 0.5, 1], labels=color_range)\n",
    "    return color_mapped\n",
    "\n",
    "# Apply the custom styles to the 'Age' column\n",
    "df_color_scale = df_color_scale.style.apply(color_scale, subset=['Age'])\n",
    "\n",
    "# Display the styled DataFrame\n",
    "df_color_scale"
   ]
  },
  {
   "cell_type": "markdown",
   "id": "d0799092-b280-4ec8-a261-ab08572a7984",
   "metadata": {
    "papermill": {},
    "tags": []
   },
   "source": [
    "### Highlight Max\n",
    "This style function is applied to the 'Sales' column, highlighting the cell with the maximum value using a purple background."
   ]
  },
  {
   "cell_type": "code",
   "execution_count": 5,
   "id": "f6cfa95f-8f85-40a3-83cd-18edeb21692b",
   "metadata": {
    "papermill": {},
    "tags": []
   },
   "outputs": [],
   "source": [
    "df_highlight_max = df.copy()\n",
    "\n",
    "def highlight_max(s):\n",
    "    is_max = s == s.max()\n",
    "    return ['background-color: purple' if v else '' for v in is_max]\n",
    "\n",
    "df_highlight_max = df_highlight_max.style.apply(highlight_max, subset=['Sales'])\n",
    "df_highlight_max"
   ]
  },
  {
   "cell_type": "markdown",
   "id": "a2e5fbbf-c19e-4b50-aa43-ae0562fc90c3",
   "metadata": {
    "papermill": {},
    "tags": []
   },
   "source": [
    "## Output"
   ]
  },
  {
   "cell_type": "markdown",
   "id": "b40705f5-8bbf-4a89-b56b-a0c2daa8c6cc",
   "metadata": {
    "papermill": {},
    "tags": []
   },
   "source": [
    "### Display result"
   ]
  },
  {
   "cell_type": "code",
   "execution_count": 6,
   "id": "ffd0378b-42a0-4f59-8375-d6427ebc9094",
   "metadata": {
    "papermill": {},
    "tags": []
   },
   "outputs": [],
   "source": [
    "# Apply the custom styles to different columns\n",
    "styled_df = df.style.apply(highlight_negative, subset=['Score']) \\\n",
    "                      .apply(color_scale, subset=['Age']) \\\n",
    "                      .apply(highlight_max, subset=['Sales']) # Put \"\\\" when you want to apply more style\n",
    "\n",
    "# Display the styled DataFrame\n",
    "styled_df"
   ]
  },
  {
   "cell_type": "markdown",
   "id": "01887b1e-f8da-4098-864e-08e56ab76643",
   "metadata": {
    "papermill": {},
    "tags": []
   },
   "source": [
    " "
   ]
  },
  {
   "cell_type": "markdown",
   "id": "f723f540-66d9-4de2-9682-043f8160d73a",
   "metadata": {
    "papermill": {},
    "tags": []
   },
   "source": [
    " "
   ]
  }
 ],
 "metadata": {
  "kernelspec": {
   "display_name": "Python 3",
   "language": "python",
   "name": "python3"
  },
  "language_info": {
   "codemirror_mode": {
    "name": "ipython",
    "version": 3
   },
   "file_extension": ".py",
   "mimetype": "text/x-python",
   "name": "python",
   "nbconvert_exporter": "python",
   "pygments_lexer": "ipython3",
   "version": "3.9.6"
  },
  "naas": {
   "notebook_id": "5d27e3bd7fdfda696205d0e879b9a00e31ece1a64cae3c864ab22b006a0ab495",
   "notebook_path": "Pandas/Pandas_Apply_custom_styles_on_column.ipynb"
  },
  "papermill": {
   "default_parameters": {},
   "environment_variables": {},
   "parameters": {},
   "version": "2.4.0"
  },
  "widgets": {
   "application/vnd.jupyter.widget-state+json": {
    "state": {},
    "version_major": 2,
    "version_minor": 0
   }
  }
 },
 "nbformat": 4,
 "nbformat_minor": 5
}