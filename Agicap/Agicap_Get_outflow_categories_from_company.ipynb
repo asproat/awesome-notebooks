{
 "cells": [
  {
   "cell_type": "markdown",
   "id": "eb397bd6-e162-4022-b924-aaa788fc3077",
   "metadata": {
    "papermill": {},
    "tags": []
   },
   "source": [
    "<img width=\"10%\" alt=\"Naas\" src=\"https://landen.imgix.net/jtci2pxwjczr/assets/5ice39g4.png?w=160\"/>"
   ]
  },
  {
   "cell_type": "markdown",
   "id": "3a556037-c0e4-4f60-b53e-9f20d76df238",
   "metadata": {
    "papermill": {},
    "tags": []
   },
   "source": [
    "# Agicap - Get outflow categories from company\n",
    "<a href=\"https://app.naas.ai/user-redirect/naas/downloader?url=https://raw.githubusercontent.com/jupyter-naas/awesome-notebooks/master/Agicap/Agicap_Get_outflow_categories_from_company.ipynb\" target=\"_parent\"><img src=\"https://naasai-public.s3.eu-west-3.amazonaws.com/Open_in_Naas_Lab.svg\"/></a><br><br><a href=\"https://bit.ly/3JyWIk6\">Give Feedbacks</a> | <a href=\"https://github.com/jupyter-naas/awesome-notebooks/issues/new?assignees=&labels=bug&template=bug_report.md&title=Agicap+-+Get+outflow+categories+from+company:+Error+short+description\">Bug report</a>"
   ]
  },
  {
   "cell_type": "markdown",
   "id": "34b2748e-6b0a-4ce1-9b30-b90fd2c71079",
   "metadata": {
    "papermill": {},
    "tags": []
   },
   "source": [
    "**Tags:** #agicap #categories #company #data #python"
   ]
  },
  {
   "cell_type": "markdown",
   "id": "e575bd90-d1cb-4081-8108-9490dc8447a0",
   "metadata": {
    "papermill": {},
    "tags": []
   },
   "source": [
    "**Author:** [Florent Ravenel](https://www.linkedin.com/in/florent-ravenel)"
   ]
  },
  {
   "cell_type": "markdown",
   "id": "37038a7d-407d-49e8-9ca2-358bcc850434",
   "metadata": {
    "papermill": {},
    "tags": []
   },
   "source": [
    "**Last update:** 2023-07-12 (Created: 2023-07-12)"
   ]
  },
  {
   "cell_type": "markdown",
   "id": "7555cfe2-b035-4a3c-a79b-ee86dd41e15d",
   "metadata": {
    "papermill": {},
    "tags": []
   },
   "source": [
    "**Description:** This notebook will get outflow categories from a company in Agicap and return a DataFrame."
   ]
  },
  {
   "cell_type": "markdown",
   "id": "1b67c259-20ee-4772-9d45-f777ae0a13e4",
   "metadata": {
    "papermill": {},
    "tags": []
   },
   "source": [
    "**References:**\n",
    "- [Agicap Documentation](https://docs.agicap.com/)\n",
    "- [Agicap API](https://api.agicap.com/)"
   ]
  },
  {
   "cell_type": "markdown",
   "id": "b6a14a76-b442-4e2c-a1aa-5ad1afeac4f3",
   "metadata": {
    "papermill": {},
    "tags": []
   },
   "source": [
    "## Input"
   ]
  },
  {
   "cell_type": "markdown",
   "id": "22c375cc-0f73-4ccf-8343-c6ffae0f55c3",
   "metadata": {
    "papermill": {},
    "tags": []
   },
   "source": [
    "### Import libraries"
   ]
  },
  {
   "cell_type": "code",
   "execution_count": null,
   "id": "8444fcb8-e1d2-46f0-ae48-d700f2f232a0",
   "metadata": {
    "papermill": {},
    "tags": []
   },
   "outputs": [],
   "source": [
    "import requests\n",
    "import naas\n",
    "import pandas as pd"
   ]
  },
  {
   "cell_type": "markdown",
   "id": "d5ab947d-7760-4bc0-87cf-bff6c1cb31b7",
   "metadata": {
    "papermill": {},
    "tags": []
   },
   "source": [
    "### Setup Variables\n",
    "- `token`: Get your Agicap Bearer Token by inspecting your page\n",
    "- `company_id`: Company ID on Agicap, it must matched an id extracted from \"Agicap_List_companies.ipynb\" template."
   ]
  },
  {
   "cell_type": "code",
   "execution_count": null,
   "id": "7e343114-adb3-41fd-bb25-2406ad505a9b",
   "metadata": {
    "papermill": {},
    "tags": []
   },
   "outputs": [],
   "source": [
    "token = naas.secret.get(\"AGICAP_BEARER_TOKEN\") or \"XXXXXXXXXXXXXXXXXXXXXXXXXXXXX\"\n",
    "company_id = \"63535\""
   ]
  },
  {
   "cell_type": "markdown",
   "id": "7dd3be39-682b-4ed3-a4e4-89f1289677fe",
   "metadata": {
    "papermill": {},
    "tags": []
   },
   "source": [
    "## Model"
   ]
  },
  {
   "cell_type": "markdown",
   "id": "3283d531-0ea5-43d4-be55-0d1a44f666fb",
   "metadata": {
    "papermill": {},
    "tags": []
   },
   "source": [
    "### Get categories from company"
   ]
  },
  {
   "cell_type": "code",
   "execution_count": null,
   "id": "6c16346f-7608-4ef1-970c-89c7d1b903d2",
   "metadata": {
    "papermill": {},
    "tags": []
   },
   "outputs": [],
   "source": [
    "# Agicap URL\n",
    "url = \"https://app.agicap.com/api/categories/v1/hierarchy/outflow\"\n",
    "\n",
    "# Headers\n",
    "headers = {\n",
    "    \"Accept\": \"application/json, text/plain, */*\",\n",
    "    \"Authorization\": f\"Bearer {token}\",\n",
    "    \"EntrepriseId\": company_id,\n",
    "    \"Content-Type\": \"application/json\"\n",
    "}\n",
    "res = requests.get(url, headers=headers)\n",
    "res.raise_for_status\n",
    "categories = res.json().get(\"categories\")"
   ]
  },
  {
   "cell_type": "markdown",
   "id": "4802d2cc-2cff-45c4-8441-2653150f2e1b",
   "metadata": {
    "papermill": {},
    "tags": []
   },
   "source": [
    "## Output"
   ]
  },
  {
   "cell_type": "markdown",
   "id": "9d5103c3-97e0-4c61-8b98-e8f1115e7147",
   "metadata": {
    "papermill": {},
    "tags": []
   },
   "source": [
    "### Create DataFrame"
   ]
  },
  {
   "cell_type": "code",
   "execution_count": null,
   "id": "0f1e7170-9f9d-491c-bab8-b38e53c1e58b",
   "metadata": {
    "papermill": {},
    "tags": []
   },
   "outputs": [],
   "source": [
    "# Flatten the nested dict\n",
    "def flatten_dict(d, parent_key='', sep='_'):\n",
    "    \"\"\"\n",
    "    Flattens a nested dictionary into a single level dictionary.\n",
    "\n",
    "    Args:\n",
    "        d (dict): A nested dictionary.\n",
    "        parent_key (str): Optional string to prefix the keys with.\n",
    "        sep (str): Optional separator to use between parent_key and child_key.\n",
    "\n",
    "    Returns:\n",
    "        dict: A flattened dictionary.\n",
    "    \"\"\"\n",
    "    items = []\n",
    "    for k, v in d.items():\n",
    "        new_key = f\"{parent_key}{sep}{k}\" if parent_key else k\n",
    "        if isinstance(v, dict):\n",
    "            items.extend(flatten_dict(v, new_key, sep=sep).items())\n",
    "        else:\n",
    "            items.append((new_key, v))\n",
    "    return dict(items)\n",
    "\n",
    "# Init\n",
    "data = []\n",
    "\n",
    "# Loop on categories\n",
    "for category in categories:\n",
    "    data.append(flatten_dict(category)) \n",
    "\n",
    "# Create DataFrame\n",
    "df = pd.DataFrame(data)\n",
    "print(\"Inflow categories fetched:\", len(df))\n",
    "df.head(3)"
   ]
  },
  {
   "cell_type": "markdown",
   "id": "1b3fa305-ada6-4f91-87a6-a35864496318",
   "metadata": {
    "papermill": {},
    "tags": []
   },
   "source": [
    " "
   ]
  }
 ],
 "metadata": {
  "kernelspec": {
   "display_name": "Python 3",
   "language": "python",
   "name": "python3"
  },
  "language_info": {
   "codemirror_mode": {
    "name": "ipython",
    "version": 3
   },
   "file_extension": ".py",
   "mimetype": "text/x-python",
   "name": "python",
   "nbconvert_exporter": "python",
   "pygments_lexer": "ipython3",
   "version": "3.9.6"
  },
  "naas": {
   "notebook_id": "00feab61f04c827086dcafd75d0532814272be3ecbef5608861024364dd1d02a",
   "notebook_path": "Agicap/Agicap_Get_outflow_categories_from_company.ipynb"
  },
  "papermill": {
   "default_parameters": {},
   "environment_variables": {},
   "parameters": {},
   "version": "2.4.0"
  },
  "widgets": {
   "application/vnd.jupyter.widget-state+json": {
    "state": {},
    "version_major": 2,
    "version_minor": 0
   }
  }
 },
 "nbformat": 4,
 "nbformat_minor": 5
}