{
 "cells": [
  {
   "cell_type": "markdown",
   "id": "a0f034b8-880d-4dce-b2c5-8e60e2912ef4",
   "metadata": {
    "papermill": {},
    "tags": []
   },
   "source": [
    "<img width=\"10%\" alt=\"Naas\" src=\"https://landen.imgix.net/jtci2pxwjczr/assets/5ice39g4.png?w=160\"/>"
   ]
  },
  {
   "cell_type": "markdown",
   "id": "e925a816-a97e-425e-b476-119cd3875ae6",
   "metadata": {
    "papermill": {},
    "tags": []
   },
   "source": [
    "# OS - Get folder stats\n",
    "<a href=\"https://app.naas.ai/user-redirect/naas/downloader?url=https://raw.githubusercontent.com/jupyter-naas/awesome-notebooks/master/OS/OS_Get_folder_stats.ipynb\" target=\"_parent\"><img src=\"https://naasai-public.s3.eu-west-3.amazonaws.com/Open_in_Naas_Lab.svg\"/></a><br><br><a href=\"https://bit.ly/3JyWIk6\">Give Feedbacks</a> | <a href=\"https://github.com/jupyter-naas/awesome-notebooks/issues/new?assignees=&labels=bug&template=bug_report.md&title=OS+-+Get+folder+stats:+Error+short+description\">Bug report</a>"
   ]
  },
  {
   "cell_type": "markdown",
   "id": "03370f04-0525-4195-afa0-72b07021c01a",
   "metadata": {
    "papermill": {},
    "tags": []
   },
   "source": [
    "**Tags:** #os #folder #stats #python #library #filesystem"
   ]
  },
  {
   "cell_type": "markdown",
   "id": "de3ebab1-65ec-4306-bb76-3d393366af08",
   "metadata": {
    "papermill": {},
    "tags": []
   },
   "source": [
    "**Author:** [Florent Ravenel](https://www.linkedin.com/in/florent-ravenel)"
   ]
  },
  {
   "cell_type": "markdown",
   "id": "daf2cd1d-d061-4fab-a33b-6580cd6dfe29",
   "metadata": {
    "papermill": {},
    "tags": []
   },
   "source": [
    "**Last update:** 2023-07-05 (Created: 2023-07-05)"
   ]
  },
  {
   "cell_type": "markdown",
   "id": "660531d7-0f6b-4659-a2be-bf9e3d2b65f2",
   "metadata": {
    "papermill": {},
    "tags": []
   },
   "source": [
    "**Description:** This notebook will get the stats of a folder and its content."
   ]
  },
  {
   "cell_type": "markdown",
   "id": "893fbfbe-a157-4d55-b5ad-11c9012fd217",
   "metadata": {
    "papermill": {},
    "tags": []
   },
   "source": [
    "**References:**\n",
    "- [Python OS Library](https://docs.python.org/3/library/os.html)"
   ]
  },
  {
   "cell_type": "markdown",
   "id": "2432aaac-1627-44d6-a61a-a7c9740c3380",
   "metadata": {
    "papermill": {},
    "tags": []
   },
   "source": [
    "## Input"
   ]
  },
  {
   "cell_type": "markdown",
   "id": "72b33a05-d59d-419f-a9da-554e3e577ea2",
   "metadata": {
    "papermill": {},
    "tags": []
   },
   "source": [
    "### Import libraries"
   ]
  },
  {
   "cell_type": "code",
   "execution_count": 1,
   "id": "e4f96b24-a834-41fe-b715-bb55332184f1",
   "metadata": {
    "papermill": {},
    "tags": []
   },
   "outputs": [],
   "source": [
    "import os\n",
    "from datetime import datetime"
   ]
  },
  {
   "cell_type": "markdown",
   "id": "5b36f9bf-6579-4315-afd0-0197019f2a52",
   "metadata": {
    "papermill": {},
    "tags": []
   },
   "source": [
    "### Setup Variables\n",
    "- `folder_path`: Path of the folder to get stats from"
   ]
  },
  {
   "cell_type": "code",
   "execution_count": 2,
   "id": "10ad2ea6-6f48-4406-ba0c-ca0dce0db1f5",
   "metadata": {
    "papermill": {},
    "tags": []
   },
   "outputs": [],
   "source": [
    "folder_path = \"./\""
   ]
  },
  {
   "cell_type": "markdown",
   "id": "1599a0de-d989-4f6c-a9fb-d7dfb465abc5",
   "metadata": {
    "papermill": {},
    "tags": []
   },
   "source": [
    "## Model"
   ]
  },
  {
   "cell_type": "markdown",
   "id": "76bb8d3d-f19b-4aff-822c-1beb8b6ac994",
   "metadata": {
    "papermill": {},
    "tags": []
   },
   "source": [
    "### Get folder stats"
   ]
  },
  {
   "cell_type": "code",
   "execution_count": 3,
   "id": "eecc8b1a-ee9e-421c-b4c6-7c212e335fee",
   "metadata": {
    "papermill": {},
    "tags": []
   },
   "outputs": [],
   "source": [
    "# Get the metadata of the folder\n",
    "folder_stat = os.stat(folder_path)\n",
    "\n",
    "# Extract the relevant information from the metadata\n",
    "folder_size = folder_stat.st_size\n",
    "folder_permissions = folder_stat.st_mode\n",
    "folder_owner = folder_stat.st_uid\n",
    "folder_group = folder_stat.st_gid\n",
    "folder_creation_time = folder_stat.st_ctime\n",
    "folder_modification_time = folder_stat.st_mtime\n",
    "\n",
    "# Convert timestamp to a datetime object to a formatted date string\n",
    "folder_creation_time = datetime.fromtimestamp(folder_creation_time).strftime('%Y-%m-%d %H:%M:%S')\n",
    "folder_modification_time = datetime.fromtimestamp(folder_modification_time).strftime('%Y-%m-%d %H:%M:%S')"
   ]
  },
  {
   "cell_type": "markdown",
   "id": "e17c0f9c-06ca-4e37-8fe6-9b9008c016f6",
   "metadata": {
    "papermill": {},
    "tags": []
   },
   "source": [
    "## Output"
   ]
  },
  {
   "cell_type": "markdown",
   "id": "b5ab4cde-0f79-4d7f-9637-d74a4f8b3eca",
   "metadata": {
    "papermill": {},
    "tags": []
   },
   "source": [
    "### Display result"
   ]
  },
  {
   "cell_type": "code",
   "execution_count": 4,
   "id": "323f4db8-3824-4e0a-b369-792d4f17fd90",
   "metadata": {
    "papermill": {},
    "tags": []
   },
   "outputs": [],
   "source": [
    "# Print the folder metadata\n",
    "print(f\"Folder Size: {folder_size} bytes\")\n",
    "print(f\"Folder Permissions: {folder_permissions:o}\")\n",
    "print(f\"Folder Owner: {folder_owner}\")\n",
    "print(f\"Folder Group: {folder_group}\")\n",
    "print(f\"Folder Creation Time: {folder_creation_time}\")\n",
    "print(f\"Folder Modification Time: {folder_modification_time}\")"
   ]
  },
  {
   "cell_type": "markdown",
   "id": "07470443-05a7-4984-a043-963c67eef90b",
   "metadata": {
    "papermill": {},
    "tags": []
   },
   "source": [
    " "
   ]
  }
 ],
 "metadata": {
  "kernelspec": {
   "display_name": "Python 3",
   "language": "python",
   "name": "python3"
  },
  "language_info": {
   "codemirror_mode": {
    "name": "ipython",
    "version": 3
   },
   "file_extension": ".py",
   "mimetype": "text/x-python",
   "name": "python",
   "nbconvert_exporter": "python",
   "pygments_lexer": "ipython3",
   "version": "3.9.6"
  },
  "naas": {
   "notebook_id": "9527abdf0d80d051bbee0006c3948f220d4254591ef205fbd310d2e5f672e8e3",
   "notebook_path": "OS/OS_Get_folder_stats.ipynb"
  },
  "papermill": {
   "default_parameters": {},
   "environment_variables": {},
   "parameters": {},
   "version": "2.4.0"
  },
  "widgets": {
   "application/vnd.jupyter.widget-state+json": {
    "state": {},
    "version_major": 2,
    "version_minor": 0
   }
  }
 },
 "nbformat": 4,
 "nbformat_minor": 5
}