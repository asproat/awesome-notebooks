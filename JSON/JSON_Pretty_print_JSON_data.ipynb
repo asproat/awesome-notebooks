{
 "cells": [
  {
   "cell_type": "markdown",
   "id": "e22c8cc8-cb7c-49c0-a8fa-ecacdbe5aca8",
   "metadata": {
    "papermill": {},
    "tags": []
   },
   "source": [
    "<img width=\"10%\" alt=\"Naas\" src=\"https://landen.imgix.net/jtci2pxwjczr/assets/5ice39g4.png?w=160\"/>"
   ]
  },
  {
   "cell_type": "markdown",
   "id": "762472ad-5965-4e4d-ac78-562dd35a196f",
   "metadata": {
    "papermill": {},
    "tags": []
   },
   "source": [
    "# JSON - Pretty print  data\n",
    "<a href=\"https://app.naas.ai/user-redirect/naas/downloader?url=https://raw.githubusercontent.com/jupyter-naas/awesome-notebooks/master/JSON/JSON_Pretty_print_JSON_data.ipynb\" target=\"_parent\"><img src=\"https://naasai-public.s3.eu-west-3.amazonaws.com/Open_in_Naas_Lab.svg\"/></a><br><br><a href=\"https://bit.ly/3JyWIk6\">Give Feedbacks</a> | <a href=\"https://github.com/jupyter-naas/awesome-notebooks/issues/new?assignees=&labels=bug&template=bug_report.md&title=JSON+-+Pretty+print++data:+Error+short+description\">Bug report</a>"
   ]
  },
  {
   "cell_type": "markdown",
   "id": "b778052e-2f8b-468e-9554-5f7cff654a1a",
   "metadata": {
    "papermill": {},
    "tags": []
   },
   "source": [
    "**Tags:** #json #prettyprint #data #format #parse #string"
   ]
  },
  {
   "cell_type": "markdown",
   "id": "26309c43-72fc-4194-ba4c-6c0e18962803",
   "metadata": {
    "papermill": {},
    "tags": []
   },
   "source": [
    "**Author:** [Florent Ravenel](https://www.linkedin.com/in/florent-ravenel)"
   ]
  },
  {
   "cell_type": "markdown",
   "id": "1ba78099-f5eb-43ad-90f6-47e1b8778a16",
   "metadata": {
    "papermill": {},
    "tags": []
   },
   "source": [
    "**Last update:** 2023-07-31 (Created: 2023-07-31)"
   ]
  },
  {
   "cell_type": "markdown",
   "id": "beb77e48-7a6d-4553-aa3f-97b7cb80d589",
   "metadata": {
    "papermill": {},
    "tags": []
   },
   "source": [
    "**Description:** This notebook will show how to pretty print JSON data."
   ]
  },
  {
   "cell_type": "markdown",
   "id": "a528ba73-bed9-4ce7-929b-543eacd011ab",
   "metadata": {
    "papermill": {},
    "tags": []
   },
   "source": [
    "**References:**\n",
    "- [JSON Pretty Print](https://www.jsonprettyprint.com/)\n",
    "- [JSON.org](https://www.json.org/)"
   ]
  },
  {
   "cell_type": "markdown",
   "id": "cfd006e9-60fe-45d6-978e-6c0251a07936",
   "metadata": {
    "papermill": {},
    "tags": []
   },
   "source": [
    "## Input"
   ]
  },
  {
   "cell_type": "markdown",
   "id": "23d4f129-875f-4b69-85ce-c72d33d7c0eb",
   "metadata": {
    "papermill": {},
    "tags": []
   },
   "source": [
    "### Import libraries"
   ]
  },
  {
   "cell_type": "code",
   "execution_count": 1,
   "id": "5e50c925-62db-4825-a3a5-9da48c4b8410",
   "metadata": {
    "papermill": {},
    "tags": []
   },
   "outputs": [],
   "source": [
    "import json"
   ]
  },
  {
   "cell_type": "markdown",
   "id": "b698cc2f-04e5-488e-b287-a65cb708fd02",
   "metadata": {
    "papermill": {},
    "tags": []
   },
   "source": [
    "### Setup variables\n",
    "- `json_string`: a JSON string to be parsed"
   ]
  },
  {
   "cell_type": "code",
   "execution_count": 2,
   "id": "fae66e25-37f0-40b5-b550-6ff03d628e2f",
   "metadata": {
    "papermill": {},
    "tags": []
   },
   "outputs": [],
   "source": [
    "json_string = '{\"name\": \"Florent\", \"age\": 28, \"city\": \"Paris\"}'"
   ]
  },
  {
   "cell_type": "markdown",
   "id": "389cc078-4b54-4d12-a979-6a33c294440b",
   "metadata": {
    "papermill": {},
    "tags": []
   },
   "source": [
    "## Model"
   ]
  },
  {
   "cell_type": "markdown",
   "id": "03a52a1c-fb74-4a9d-82e8-a77de7685ffe",
   "metadata": {
    "papermill": {},
    "tags": []
   },
   "source": [
    "### Parse JSON string"
   ]
  },
  {
   "cell_type": "markdown",
   "id": "ed69a3ce-c450-4592-9711-6d21cfefb1a1",
   "metadata": {
    "papermill": {},
    "tags": []
   },
   "source": [
    "This function will parse a JSON string and display it in a readable format."
   ]
  },
  {
   "cell_type": "code",
   "execution_count": 3,
   "id": "001d1104-c694-43d4-8d8d-c285954f5239",
   "metadata": {
    "papermill": {},
    "tags": []
   },
   "outputs": [],
   "source": [
    "# Parse JSON string\n",
    "parsed_json = json.loads(json_string)"
   ]
  },
  {
   "cell_type": "markdown",
   "id": "ec763cbe-0cbc-492a-a76d-25ab274963aa",
   "metadata": {
    "papermill": {},
    "tags": []
   },
   "source": [
    "## Output"
   ]
  },
  {
   "cell_type": "markdown",
   "id": "d56fe3bd-cc42-45db-a8ae-4d4d0beaf174",
   "metadata": {
    "papermill": {},
    "tags": []
   },
   "source": [
    "### Display result"
   ]
  },
  {
   "cell_type": "code",
   "execution_count": 4,
   "id": "b386e596-02df-4d3e-8d6a-a69b5e37bef3",
   "metadata": {
    "papermill": {},
    "tags": []
   },
   "outputs": [],
   "source": [
    "# Display result\n",
    "print(json.dumps(parsed_json, indent=4))"
   ]
  },
  {
   "cell_type": "markdown",
   "id": "00f5f8be-2246-4e21-ac13-5c8a0ea1e77b",
   "metadata": {
    "papermill": {},
    "tags": []
   },
   "source": [
    " "
   ]
  }
 ],
 "metadata": {
  "kernelspec": {
   "display_name": "Python 3",
   "language": "python",
   "name": "python3"
  },
  "language_info": {
   "codemirror_mode": {
    "name": "ipython",
    "version": 3
   },
   "file_extension": ".py",
   "mimetype": "text/x-python",
   "name": "python",
   "nbconvert_exporter": "python",
   "pygments_lexer": "ipython3",
   "version": "3.9.6"
  },
  "naas": {
   "notebook_id": "566b67709b26f1097172c3b9c9641f132b8cf9d299ba3b314bda01fa26e3c31f",
   "notebook_path": "JSON/JSON_Pretty_print_JSON_data.ipynb"
  },
  "papermill": {
   "default_parameters": {},
   "environment_variables": {},
   "parameters": {},
   "version": "2.4.0"
  },
  "widgets": {
   "application/vnd.jupyter.widget-state+json": {
    "state": {},
    "version_major": 2,
    "version_minor": 0
   }
  }
 },
 "nbformat": 4,
 "nbformat_minor": 5
}