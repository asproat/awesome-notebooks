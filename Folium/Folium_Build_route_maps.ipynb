{
 "cells": [
  {
   "cell_type": "markdown",
   "id": "ae52aeb7-e723-4a12-ba20-02652fc4a03c",
   "metadata": {
    "papermill": {},
    "tags": []
   },
   "source": [
    "<img width=\"10%\" alt=\"Naas\" src=\"https://landen.imgix.net/jtci2pxwjczr/assets/5ice39g4.png?w=160\"/>"
   ]
  },
  {
   "cell_type": "markdown",
   "id": "a12e5f57-8c01-4642-8a8d-2cd1be2d7a59",
   "metadata": {
    "papermill": {},
    "tags": []
   },
   "source": [
    "# Folium - Build route maps\n",
    "<a href=\"https://app.naas.ai/user-redirect/naas/downloader?url=https://raw.githubusercontent.com/jupyter-naas/awesome-notebooks/master/Folium/Folium_Build_route_maps.ipynb\" target=\"_parent\"><img src=\"https://naasai-public.s3.eu-west-3.amazonaws.com/Open_in_Naas_Lab.svg\"/></a><br><br><a href=\"https://bit.ly/3JyWIk6\">Give Feedbacks</a> | <a href=\"https://github.com/jupyter-naas/awesome-notebooks/issues/new?assignees=&labels=bug&template=bug_report.md&title=Folium+-+Build+route+maps:+Error+short+description\">Bug report</a>"
   ]
  },
  {
   "cell_type": "markdown",
   "id": "552f4924-c584-43e7-97c5-beaf461ce5ca",
   "metadata": {
    "papermill": {},
    "tags": []
   },
   "source": [
    "**Tags:** #folium #maps #routes #python #visualization #data"
   ]
  },
  {
   "cell_type": "markdown",
   "id": "e5a327fa-76d2-4d77-9b17-1d78aad794ab",
   "metadata": {
    "papermill": {},
    "tags": []
   },
   "source": [
    "**Author:** [Florent Ravenel](https://www.linkedin.com/in/florent-ravenel)"
   ]
  },
  {
   "cell_type": "markdown",
   "id": "661ebb35-4b72-4173-a6d4-cc8aa53ea9e4",
   "metadata": {
    "papermill": {},
    "tags": []
   },
   "source": [
    "**Last update:** 2023-07-31 (Created: 2023-07-31)"
   ]
  },
  {
   "cell_type": "markdown",
   "id": "68d60bf3-8196-4276-96b9-24c0dfbfcb4c",
   "metadata": {
    "papermill": {},
    "tags": []
   },
   "source": [
    "**Description:** This notebook will show how to use Folium to build route maps."
   ]
  },
  {
   "cell_type": "markdown",
   "id": "557a5b48-34d9-4b8f-a4c6-156b0f491b9b",
   "metadata": {
    "papermill": {},
    "tags": []
   },
   "source": [
    "**References:**\n",
    "- [Folium Documentation](https://python-visualization.github.io/folium/)\n",
    "- [Folium Examples](https://nbviewer.jupyter.org/github/python-visualization/folium/tree/master/examples/)"
   ]
  },
  {
   "cell_type": "markdown",
   "id": "c102f6f6-616e-43e0-bdad-6bb4657bcfc3",
   "metadata": {
    "papermill": {},
    "tags": []
   },
   "source": [
    "## Input"
   ]
  },
  {
   "cell_type": "markdown",
   "id": "2be61704-e768-4914-81a3-64c2cec96bf3",
   "metadata": {
    "papermill": {},
    "tags": []
   },
   "source": [
    "### Import libraries"
   ]
  },
  {
   "cell_type": "code",
   "execution_count": 1,
   "id": "5a22447f-97fa-4426-acde-eb611661614f",
   "metadata": {
    "papermill": {},
    "tags": []
   },
   "outputs": [],
   "source": [
    "try:\n",
    "    import folium\n",
    "except:\n",
    "    !pip install folium --user\n",
    "    import folium"
   ]
  },
  {
   "cell_type": "markdown",
   "id": "ebd15039-04f0-41a2-8cb6-ca3ad898245d",
   "metadata": {
    "papermill": {},
    "tags": []
   },
   "source": [
    "### Setup variables\n",
    "- `start_point`: Starting point of the route\n",
    "- `end_point`: Ending point of the route\n",
    "- `waypoints`: List of waypoints to be included in the route"
   ]
  },
  {
   "cell_type": "code",
   "execution_count": 2,
   "id": "19d5c8f3-ceeb-456c-b61f-38469cf81bcd",
   "metadata": {
    "papermill": {},
    "tags": []
   },
   "outputs": [],
   "source": [
    "start_point = (48.85837009999999, 2.2944813)\n",
    "end_point = (48.85837009999999, 2.2944813)\n",
    "waypoints = [(48.85837009999999, 2.2944813), (48.85837009999999, 2.2944813)]"
   ]
  },
  {
   "cell_type": "markdown",
   "id": "295dad87-d4dd-4139-9f81-fef29421f7ee",
   "metadata": {
    "papermill": {},
    "tags": []
   },
   "source": [
    "## Model"
   ]
  },
  {
   "cell_type": "markdown",
   "id": "52d10243-9798-4da8-a01d-5c42f5da1f2b",
   "metadata": {
    "papermill": {},
    "tags": []
   },
   "source": [
    "### Create route map"
   ]
  },
  {
   "cell_type": "markdown",
   "id": "13256d79-8a22-49ec-97f4-eb51657f7dfc",
   "metadata": {
    "papermill": {},
    "tags": []
   },
   "source": [
    "Long description of the function without break"
   ]
  },
  {
   "cell_type": "code",
   "execution_count": 3,
   "id": "d86d3979-87a2-4d68-a095-b598f681480d",
   "metadata": {
    "papermill": {},
    "tags": []
   },
   "outputs": [],
   "source": [
    "# Create route map\n",
    "route_map = folium.Map(location=start_point, zoom_start=13)\n",
    "\n",
    "# Create route\n",
    "folium.PolyLine(\n",
    "    locations=[start_point, end_point], color=\"red\", weight=2.5, opacity=1\n",
    ").add_to(route_map)\n",
    "\n",
    "# Add waypoints\n",
    "for point in waypoints:\n",
    "    folium.Marker(location=point).add_to(route_map)"
   ]
  },
  {
   "cell_type": "markdown",
   "id": "d17f0d42-1d5d-4f09-8217-74cfc097b3b2",
   "metadata": {
    "papermill": {},
    "tags": []
   },
   "source": [
    "## Output"
   ]
  },
  {
   "cell_type": "markdown",
   "id": "ebc49f05-1722-4b8b-981a-c8bbcc4ca70e",
   "metadata": {
    "papermill": {},
    "tags": []
   },
   "source": [
    "### Display result"
   ]
  },
  {
   "cell_type": "code",
   "execution_count": 4,
   "id": "effb0054-1a1b-4a56-ae4e-9f0cd669c7a5",
   "metadata": {
    "papermill": {},
    "tags": []
   },
   "outputs": [],
   "source": [
    "route_map"
   ]
  },
  {
   "cell_type": "markdown",
   "id": "7d41aa33-019b-46cf-b15d-e57f5be90dfe",
   "metadata": {
    "papermill": {},
    "tags": []
   },
   "source": [
    " "
   ]
  }
 ],
 "metadata": {
  "kernelspec": {
   "display_name": "Python 3",
   "language": "python",
   "name": "python3"
  },
  "language_info": {
   "codemirror_mode": {
    "name": "ipython",
    "version": 3
   },
   "file_extension": ".py",
   "mimetype": "text/x-python",
   "name": "python",
   "nbconvert_exporter": "python",
   "pygments_lexer": "ipython3",
   "version": "3.9.6"
  },
  "naas": {
   "notebook_id": "cccf6467c3889278ee01c94fc28e2e0c58a81c12959ef887209eb2206a85971c",
   "notebook_path": "Folium/Folium_Build_route_maps.ipynb"
  },
  "papermill": {
   "default_parameters": {},
   "environment_variables": {},
   "parameters": {},
   "version": "2.4.0"
  },
  "widgets": {
   "application/vnd.jupyter.widget-state+json": {
    "state": {},
    "version_major": 2,
    "version_minor": 0
   }
  }
 },
 "nbformat": 4,
 "nbformat_minor": 5
}