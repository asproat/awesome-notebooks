{
 "cells": [
  {
   "cell_type": "markdown",
   "id": "352d312f-7434-4010-a99b-e413f17fea40",
   "metadata": {
    "papermill": {},
    "tags": []
   },
   "source": [
    "<img width=\"10%\" alt=\"Naas\" src=\"https://landen.imgix.net/jtci2pxwjczr/assets/5ice39g4.png?w=160\"/>"
   ]
  },
  {
   "cell_type": "markdown",
   "id": "196a6e22-38b0-42af-aa8b-53f050c864de",
   "metadata": {
    "papermill": {},
    "tags": []
   },
   "source": [
    "# GitHub - Remove directories with branches closed on my local\n",
    "<a href=\"https://app.naas.ai/user-redirect/naas/downloader?url=https://raw.githubusercontent.com/jupyter-naas/awesome-notebooks/master/GitHub/GitHub_Remove_directories_with_branches_closed_on_my_local.ipynb\" target=\"_parent\"><img src=\"https://naasai-public.s3.eu-west-3.amazonaws.com/Open_in_Naas_Lab.svg\"/></a><br><br><a href=\"https://bit.ly/3JyWIk6\">Give Feedbacks</a> | <a href=\"https://github.com/jupyter-naas/awesome-notebooks/issues/new?assignees=&labels=bug&template=bug_report.md&title=GitHub+-+Remove+directories+with+branches+closed+on+my+local:+Error+short+description\">Bug report</a>"
   ]
  },
  {
   "cell_type": "markdown",
   "id": "1bfdeea3-b3c1-4313-a9c4-0cb07ded0800",
   "metadata": {
    "papermill": {},
    "tags": []
   },
   "source": [
    "**Tags:** #github #branches #list #api #rest #python #active"
   ]
  },
  {
   "cell_type": "markdown",
   "id": "81b977cb-713a-4104-b598-c6bd53a9fc9e",
   "metadata": {
    "papermill": {},
    "tags": []
   },
   "source": [
    "**Author:** [Florent Ravenel](https://www.linkedin.com/in/florent-ravenel/)"
   ]
  },
  {
   "cell_type": "markdown",
   "id": "a2210bb4-ebff-42c8-95ce-e3b4fec14150",
   "metadata": {
    "papermill": {},
    "tags": []
   },
   "source": [
    "**Last update:** 2023-07-24 (Created: 2023-07-24)"
   ]
  },
  {
   "cell_type": "markdown",
   "id": "ccdcb65f-dd8b-49c4-ba5b-bbb78df54403",
   "metadata": {
    "papermill": {},
    "tags": []
   },
   "source": [
    "**Description:** This notebook facilitates the removal of directories associated with branches on your local machine. If you need to clone and create directories based on active branches, you can use either of the following notebooks: GitHub_Clone_open_branches_from_repository_on_my_local or GitHub_Clone_repository_and_switch_branch."
   ]
  },
  {
   "cell_type": "markdown",
   "id": "8493f6fb-59f3-4c7b-b15a-451beb599bce",
   "metadata": {
    "papermill": {},
    "tags": []
   },
   "source": [
    "**References:**\n",
    "- [GitHub - List branches](https://docs.github.com/en/rest/branches/branches?apiVersion=2022-11-28#list-branches)\n",
    "- [GitHub - Authentication](https://docs.github.com/en/rest/overview/resources-in-the-rest-api#authentication)"
   ]
  },
  {
   "cell_type": "markdown",
   "id": "c134d691-cfa6-4f0e-ba25-ce5e6b4e7294",
   "metadata": {
    "papermill": {},
    "tags": []
   },
   "source": [
    "## Input"
   ]
  },
  {
   "cell_type": "markdown",
   "id": "f402bd95-68ba-41b5-8f8f-ac60a6157851",
   "metadata": {
    "papermill": {},
    "tags": []
   },
   "source": [
    "### Import libraries"
   ]
  },
  {
   "cell_type": "code",
   "execution_count": null,
   "id": "d185778c-8bce-4b7e-b494-694ad609c7e8",
   "metadata": {
    "papermill": {},
    "tags": []
   },
   "outputs": [],
   "source": [
    "import naas\n",
    "import pandas as pd\n",
    "import requests\n",
    "import shutil\n",
    "import os\n",
    "from datetime import datetime, timedelta"
   ]
  },
  {
   "cell_type": "markdown",
   "id": "f27d6294-0792-4995-8813-8d410a446cb2",
   "metadata": {
    "papermill": {},
    "tags": []
   },
   "source": [
    "### Setup Variables\n",
    "- `token`: [Generate a personal access token](https://docs.github.com/en/github/authenticating-to-github/creating-a-personal-access-token)\n",
    "- `repo_url`: URL of the repository to clone\n",
    "- `days_limit`: The number of days a branch can remain on your local after the associated issue has been closed.\n",
    "- `output_dir`: Output directory to clone repo. If None, we will create a folder with the name of the repo"
   ]
  },
  {
   "cell_type": "code",
   "execution_count": null,
   "id": "ddc91127-3315-4dda-88e5-8229d5c53176",
   "metadata": {
    "papermill": {},
    "tags": []
   },
   "outputs": [],
   "source": [
    "# Inputs\n",
    "token = naas.secret.get(name=\"GITHUB_TOKEN\") or \"YOUR_GITHUB_TOKEN\"\n",
    "repo_url = \"https://github.com/jupyter-naas/awesome-notebooks\"\n",
    "days_limit = 30\n",
    "\n",
    "# Outputs\n",
    "output_dir = None"
   ]
  },
  {
   "cell_type": "markdown",
   "id": "b6e0e4e4-4881-425a-9751-ef97d202562d",
   "metadata": {
    "papermill": {},
    "tags": []
   },
   "source": [
    "## Model"
   ]
  },
  {
   "cell_type": "markdown",
   "id": "3de1664c-7e93-4383-aebe-36b4424ff073",
   "metadata": {
    "papermill": {},
    "tags": []
   },
   "source": [
    "### List local branches"
   ]
  },
  {
   "cell_type": "code",
   "execution_count": null,
   "id": "f89a5e86-ff6f-4c3f-a4b6-7565ed8212d3",
   "metadata": {
    "papermill": {},
    "tags": []
   },
   "outputs": [],
   "source": [
    "output_branches = sorted(os.listdir(output_dir))\n",
    "print(f\"Branches on my local\", len(output_branches))"
   ]
  },
  {
   "cell_type": "markdown",
   "id": "ae781b5e-06db-4345-a287-44f760462548",
   "metadata": {
    "papermill": {},
    "tags": []
   },
   "source": [
    "### List active branches with open PR's"
   ]
  },
  {
   "cell_type": "code",
   "execution_count": null,
   "id": "43620d60-48cb-4c8a-8fcc-48189bd14b15",
   "metadata": {
    "papermill": {},
    "tags": []
   },
   "outputs": [],
   "source": [
    "def get_branches_with_open_prs(\n",
    "    token,\n",
    "    repo_url\n",
    "):\n",
    "    # Init\n",
    "    data = []\n",
    "    owner = repo_url.split(\"https://github.com/\")[-1].split(\"/\")[0]\n",
    "    repository = repo_url.split(f\"https://github.com/{owner}/\")[-1].split(\"/\")[0]\n",
    "    \n",
    "    # Requests\n",
    "    url = f\"https://api.github.com/repos/{owner}/{repository}/pulls\"\n",
    "    headers = {\"Authorization\": f\"token {token}\"}\n",
    "    response = requests.get(url, headers=headers)\n",
    "    pulls = response.json()\n",
    "    \n",
    "    # Data\n",
    "    for pull in pulls:\n",
    "        branch = pull['head']['ref']\n",
    "        creator = pull['user']['login']\n",
    "        creation_date = pull['created_at']\n",
    "        \n",
    "        data.append({\n",
    "            'branch': branch,\n",
    "            'creator': creator,\n",
    "            'creation_date': creation_date\n",
    "        })\n",
    "    \n",
    "    df = pd.DataFrame(data)\n",
    "    \n",
    "    # Sort values\n",
    "    if len(df) > 0:\n",
    "        df = df.sort_values(by=\"creation_date\", ascending=False)\n",
    "    return df.reset_index(drop=True)\n",
    "\n",
    "branches_with_open_prs = get_branches_with_open_prs(token, repo_url)\n",
    "print(f\"Branches with open pull requests in {repo_url}:\", len(branches_with_open_prs))\n",
    "branches_with_open_prs.head(1)"
   ]
  },
  {
   "cell_type": "markdown",
   "id": "f94c42ab-2a53-406d-8423-f2f19c57e5d0",
   "metadata": {
    "papermill": {},
    "tags": []
   },
   "source": [
    "## Output"
   ]
  },
  {
   "cell_type": "markdown",
   "id": "6ae97f8b-7b37-4ce5-a721-e3f5c04db323",
   "metadata": {
    "execution": {
     "iopub.execute_input": "2023-07-05T05:04:49.864923Z",
     "iopub.status.busy": "2023-07-05T05:04:49.864574Z",
     "iopub.status.idle": "2023-07-05T05:04:49.868953Z",
     "shell.execute_reply": "2023-07-05T05:04:49.867819Z",
     "shell.execute_reply.started": "2023-07-05T05:04:49.864887Z"
    },
    "papermill": {},
    "tags": []
   },
   "source": [
    "### Removed branches on my local"
   ]
  },
  {
   "cell_type": "code",
   "execution_count": null,
   "id": "3f55d62b-8a17-4f59-bc55-f87a1f56905c",
   "metadata": {
    "papermill": {},
    "tags": []
   },
   "outputs": [],
   "source": [
    "active_branches = branches_with_open_prs[\"branch\"].unique()\n",
    "\n",
    "# Loop\n",
    "for branch in output_branches:\n",
    "    if not output_dir:\n",
    "        output_dir = '/home/ftp/'\n",
    "    folder = os.path.join(output_dir, branch)\n",
    "    \n",
    "    # Extract the relevant information from the metadata\n",
    "    folder_stat = os.stat(folder).st_mtime\n",
    "    \n",
    "    # Convert timestamp to a datetime object\n",
    "    datetime_obj = datetime.fromtimestamp(folder_stat)\n",
    "    \n",
    "    # Convert datetime object to a formatted date string\n",
    "    date_string = datetime_obj.strftime('%Y-%m-%d %H:%M:%S')\n",
    "    \n",
    "    # Get the current date\n",
    "    current_date = datetime.now()\n",
    "\n",
    "    # Create limit date\n",
    "    date_limit = current_date - timedelta(days=days_limit)\n",
    "    \n",
    "    # Remove folder on conditions\n",
    "    if branch not in active_branches and not branch.startswith(\".\") and datetime_obj < date_limit:\n",
    "        shutil.rmtree(folder)\n",
    "        print(f\"✅ Branch '{branch}' removed from outputs\")"
   ]
  },
  {
   "cell_type": "markdown",
   "id": "ff36ed17-b795-447d-9ed3-9ef638b5c904",
   "metadata": {
    "papermill": {},
    "tags": []
   },
   "source": [
    " "
   ]
  }
 ],
 "metadata": {
  "kernelspec": {
   "display_name": "Python 3",
   "language": "python",
   "name": "python3"
  },
  "language_info": {
   "codemirror_mode": {
    "name": "ipython",
    "version": 3
   },
   "file_extension": ".py",
   "mimetype": "text/x-python",
   "name": "python",
   "nbconvert_exporter": "python",
   "pygments_lexer": "ipython3",
   "version": "3.9.6"
  },
  "naas": {
   "notebook_id": "1d105e6fd6ce6afd43b108739842b18b3af440c768cd23db3fa62d9ddf6521e3",
   "notebook_path": "GitHub/GitHub_Remove_directories_with_branches_closed_on_my_local.ipynb"
  },
  "papermill": {
   "default_parameters": {},
   "environment_variables": {},
   "parameters": {},
   "version": "2.4.0"
  },
  "widgets": {
   "application/vnd.jupyter.widget-state+json": {
    "state": {},
    "version_major": 2,
    "version_minor": 0
   }
  }
 },
 "nbformat": 4,
 "nbformat_minor": 5
}