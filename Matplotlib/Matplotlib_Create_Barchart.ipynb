{
 "cells": [
  {
   "cell_type": "markdown",
   "id": "f3009d0e-3d28-486a-a45b-0aa390832e52",
   "metadata": {
    "papermill": {},
    "tags": []
   },
   "source": [
    "<img width=\"10%\" alt=\"Naas\" src=\"https://landen.imgix.net/jtci2pxwjczr/assets/5ice39g4.png?w=160\"/>"
   ]
  },
  {
   "cell_type": "markdown",
   "id": "continuing-pioneer",
   "metadata": {
    "papermill": {},
    "tags": []
   },
   "source": [
    "# Matplotlib - Create Barchart\n",
    "<a href=\"https://app.naas.ai/user-redirect/naas/downloader?url=https://raw.githubusercontent.com/jupyter-naas/awesome-notebooks/master/Matplotlib/Matplotlib_Create_Barchart.ipynb\" target=\"_parent\"><img src=\"https://naasai-public.s3.eu-west-3.amazonaws.com/Open_in_Naas_Lab.svg\"/></a><br><br><a href=\"https://bit.ly/3JyWIk6\">Give Feedbacks</a> | <a href=\"https://github.com/jupyter-naas/awesome-notebooks/issues/new?assignees=&labels=bug&template=bug_report.md&title=Matplotlib+-+Create+Barchart:+Error+short+description\">Bug report</a>"
   ]
  },
  {
   "cell_type": "markdown",
   "id": "d5a217ea-e554-474a-9c7b-2c9782c7104f",
   "metadata": {
    "papermill": {},
    "tags": []
   },
   "source": [
    "**Tags:** #matplotlib #chart #barchart #dataviz #snippet #operations #image"
   ]
  },
  {
   "cell_type": "markdown",
   "id": "naas-author",
   "metadata": {
    "papermill": {},
    "tags": [
     "naas"
    ]
   },
   "source": [
    "**Author:** [Mardiat-Iman]()"
   ]
  },
  {
   "cell_type": "markdown",
   "id": "d4c5038f-0245-4012-96de-7307ac777865",
   "metadata": {
    "papermill": {},
    "tags": []
   },
   "source": [
    "**Last update:** 2023-07-17 (Created: 2023-07-17)"
   ]
  },
  {
   "cell_type": "markdown",
   "id": "naas-description",
   "metadata": {
    "papermill": {},
    "tags": [
     "description"
    ]
   },
   "source": [
    "**Description:** This notebook provides instructions on how to create a barchart chart using Matplotlib."
   ]
  },
  {
   "cell_type": "markdown",
   "id": "04240c05-6c61-4a01-8f56-08cf93322a64",
   "metadata": {
    "papermill": {},
    "tags": [
     "description"
    ]
   },
   "source": [
    "**References:**\n",
    "- [Bar color demo](https://matplotlib.org/stable/gallery/lines_bars_and_markers/bar_colors.html#sphx-glr-gallery-lines-bars-and-markers-bar-colors-py)"
   ]
  },
  {
   "cell_type": "markdown",
   "id": "input_cell",
   "metadata": {
    "papermill": {},
    "tags": []
   },
   "source": [
    "## Input"
   ]
  },
  {
   "cell_type": "markdown",
   "id": "import_cell",
   "metadata": {
    "papermill": {},
    "tags": []
   },
   "source": [
    "### Import libraries"
   ]
  },
  {
   "cell_type": "code",
   "execution_count": 3,
   "id": "349da579-e86d-4c4a-ac9f-fad6145f8061",
   "metadata": {
    "papermill": {},
    "tags": []
   },
   "outputs": [],
   "source": [
    "import numpy as np\n",
    "import matplotlib.pyplot as plt\n",
    "import naas"
   ]
  },
  {
   "cell_type": "markdown",
   "id": "f37fb3ce-46f4-475f-948b-3baf5ce8325e",
   "metadata": {
    "papermill": {},
    "tags": []
   },
   "source": [
    "### Setup Variables\n",
    "- `legend_title`: The title or label for the legend in a graph representing fruit colors.\n",
    "- `title`: The title of the graph depicting the fruit supply categorized by fruit kind and color.\n",
    "- `labels`: A list of fruit types or names, such as 'apple', 'blueberry', 'cherry', and 'orange'.\n",
    "- `values`: A list of corresponding values representing the supply or quantity of each fruit type.\n",
    "- `bar_labels`: A list of labels for the different colors associated with each fruit type.\n",
    "- `bar_colors`: A list of colors assigned to each fruit type, represented in the format 'tab:color' (e.g., 'tab:red').\n",
    "- `ylabel`: The label for the y-axis of the graph, indicating the fruit supply.\n",
    "- `fig_path`: The file path or name for the output image file of the graph, saved as \"fig.png\"."
   ]
  },
  {
   "cell_type": "code",
   "execution_count": 24,
   "id": "3802ad04-276f-4581-8f8b-895d6c90a4a7",
   "metadata": {
    "papermill": {},
    "tags": []
   },
   "outputs": [],
   "source": [
    "# Inputs\n",
    "legend_title = 'Fruit color'\n",
    "title = 'Fruit supply by kind and color'\n",
    "labels = ['apple', 'blueberry', 'cherry', 'orange']\n",
    "values = [40, 120, 30, 55]\n",
    "bar_colors = ['tab:green', 'tab:blue', 'tab:red', 'tab:orange']\n",
    "ylabel = 'fruit supply'\n",
    "\n",
    "# Outputs\n",
    "fig_path = \"fig.png\""
   ]
  },
  {
   "cell_type": "markdown",
   "id": "model_cell",
   "metadata": {
    "papermill": {},
    "tags": []
   },
   "source": [
    "## Model"
   ]
  },
  {
   "cell_type": "markdown",
   "id": "ef3c71fb-a46f-4216-978f-1b7fe0667bfd",
   "metadata": {
    "papermill": {},
    "tags": []
   },
   "source": [
    "### Create the  Barchart"
   ]
  },
  {
   "cell_type": "code",
   "execution_count": 25,
   "id": "cc597696-4834-4f84-8f51-879d66f1424b",
   "metadata": {
    "papermill": {},
    "tags": []
   },
   "outputs": [],
   "source": [
    "fig, ax = plt.subplots()\n",
    "\n",
    "ax.bar(labels, values, label=bar_labels, color=bar_colors)\n",
    "\n",
    "ax.set_ylabel(ylabel)\n",
    "ax.set_title(title)\n",
    "ax.legend(title=legend_title)\n",
    "\n",
    "legend_elements = [plt.Rectangle((0, 0), 1, 1, color=color, label=label) for color, label in zip(bar_colors, labels)]\n",
    "ax.legend(handles=legend_elements, title=legend_title)\n",
    "\n",
    "plt.show()"
   ]
  },
  {
   "cell_type": "markdown",
   "id": "output_cell",
   "metadata": {
    "papermill": {},
    "tags": []
   },
   "source": [
    "## Output"
   ]
  },
  {
   "cell_type": "markdown",
   "id": "display_cell",
   "metadata": {
    "papermill": {},
    "tags": []
   },
   "source": [
    "### Save figure"
   ]
  },
  {
   "cell_type": "code",
   "execution_count": 26,
   "id": "62676a21-f1ef-4de7-986f-89c4f1c48524",
   "metadata": {
    "papermill": {},
    "tags": []
   },
   "outputs": [],
   "source": [
    "fig.savefig(fig_path)"
   ]
  },
  {
   "cell_type": "markdown",
   "id": "767e52ef-ab89-4389-b19d-8e490f332cb0",
   "metadata": {
    "papermill": {},
    "tags": []
   },
   "source": [
    "### Share asset with naas"
   ]
  },
  {
   "cell_type": "code",
   "execution_count": 27,
   "id": "0e693f16-eb5c-452f-b8b7-84cc5758de60",
   "metadata": {
    "papermill": {},
    "tags": []
   },
   "outputs": [],
   "source": [
    "naas.asset.add(fig_path)"
   ]
  },
  {
   "cell_type": "code",
   "execution_count": null,
   "id": "2db7fe05-3fdd-4eb0-8357-08a6378f0e98",
   "metadata": {
    "papermill": {},
    "tags": []
   },
   "outputs": [],
   "source": []
  }
 ],
 "metadata": {
  "kernelspec": {
   "display_name": "Python 3",
   "language": "python",
   "name": "python3"
  },
  "language_info": {
   "codemirror_mode": {
    "name": "ipython",
    "version": 3
   },
   "file_extension": ".py",
   "mimetype": "text/x-python",
   "name": "python",
   "nbconvert_exporter": "python",
   "pygments_lexer": "ipython3",
   "version": "3.9.6"
  },
  "naas": {
   "notebook_id": "c4aa64628872dabf26a9f58ad9be5a790a83a704cfcd3b791774f949ce8df046",
   "notebook_path": "Matplotlib/Matplotlib_Create_Barchart.ipynb"
  },
  "papermill": {
   "default_parameters": {},
   "environment_variables": {},
   "parameters": {},
   "version": "2.3.3"
  }
 },
 "nbformat": 4,
 "nbformat_minor": 5
}