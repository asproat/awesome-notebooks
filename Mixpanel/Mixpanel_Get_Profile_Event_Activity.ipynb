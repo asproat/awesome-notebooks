{
 "cells": [
  {
   "cell_type": "markdown",
   "id": "4e89d55b-eb6d-4d50-a0a2-aa674d4c5af1",
   "metadata": {
    "papermill": {},
    "tags": []
   },
   "source": [
    "<img width=\"10%\" alt=\"Naas\" src=\"https://landen.imgix.net/jtci2pxwjczr/assets/5ice39g4.png?w=160\"/>"
   ]
  },
  {
   "cell_type": "markdown",
   "id": "fe56529c-52f7-4b91-a9d9-caac34166024",
   "metadata": {
    "papermill": {},
    "tags": []
   },
   "source": [
    "# Mixpanel - Get Profile Event Activity\n",
    "<a href=\"https://app.naas.ai/user-redirect/naas/downloader?url=https://raw.githubusercontent.com/jupyter-naas/awesome-notebooks/master/Mixpanel/Mixpanel_Get_Profile_Event_Activity.ipynb\" target=\"_parent\"><img src=\"https://naasai-public.s3.eu-west-3.amazonaws.com/Open_in_Naas_Lab.svg\"/></a><br><br><a href=\"https://bit.ly/3JyWIk6\">Give Feedbacks</a> | <a href=\"https://github.com/jupyter-naas/awesome-notebooks/issues/new?assignees=&labels=bug&template=bug_report.md&title=Mixpanel+-+Get+Profile+Event+Activity:+Error+short+description\">Bug report</a>"
   ]
  },
  {
   "cell_type": "markdown",
   "id": "aa6a93f4-a993-47ca-b1be-d3933fd0ed1e",
   "metadata": {
    "papermill": {},
    "tags": []
   },
   "source": [
    "**Tags:** #mixpanel #activity #stream #query #api #reference"
   ]
  },
  {
   "cell_type": "markdown",
   "id": "f580fcaf-11bc-4fc7-94b0-e7008f3a45ea",
   "metadata": {
    "papermill": {},
    "tags": []
   },
   "source": [
    "**Author:** [Florent Ravenel](https://www.linkedin.com/in/florent-ravenel)"
   ]
  },
  {
   "cell_type": "markdown",
   "id": "b49c299b-a88e-4429-b530-142f913e1f55",
   "metadata": {
    "papermill": {},
    "tags": []
   },
   "source": [
    "**Last update:** 2023-07-06 (Created: 2023-07-06)"
   ]
  },
  {
   "cell_type": "markdown",
   "id": "7f66ca60-701f-4e64-9741-d8cc07258f1b",
   "metadata": {
    "papermill": {},
    "tags": []
   },
   "source": [
    "**Description:** This notebook returns the activity feed for specified users. It is usefull for organizations to track user activity and get insights from it."
   ]
  },
  {
   "cell_type": "markdown",
   "id": "3dfadedf-fec3-4ed0-87a2-b0b9ab64284d",
   "metadata": {
    "papermill": {},
    "tags": []
   },
   "source": [
    "**References:**\n",
    "- [Mixpanel Activity Stream Query](https://developer.mixpanel.com/reference/activity-stream-query)\n",
    "- [Mixpanel API Documentation](https://developer.mixpanel.com/docs/api-documentation)"
   ]
  },
  {
   "cell_type": "markdown",
   "id": "676d34d0-ea2a-47cf-99fb-27d5c11e6ed4",
   "metadata": {
    "papermill": {},
    "tags": []
   },
   "source": [
    "## Input"
   ]
  },
  {
   "cell_type": "markdown",
   "id": "ab696ff7-2c1f-4792-8c65-fe6d442ce694",
   "metadata": {
    "papermill": {},
    "tags": []
   },
   "source": [
    "### Import libraries"
   ]
  },
  {
   "cell_type": "code",
   "execution_count": null,
   "id": "c4776d99-942b-4580-b47f-f9dbc5e03f44",
   "metadata": {
    "papermill": {},
    "tags": []
   },
   "outputs": [],
   "source": [
    "import requests\n",
    "import json\n",
    "import naas"
   ]
  },
  {
   "cell_type": "markdown",
   "id": "1da5ad12-718f-42c9-8d54-519823543ecd",
   "metadata": {
    "papermill": {},
    "tags": []
   },
   "source": [
    "### Setup Variables\n",
    "- `api_key`: Mixpanel API key (this can be obtained from the project settings)\n",
    "- `project_id`: Mixpanel Project ID\n",
    "- `distinct_ids`: A JSON array as a string representing the distinct_ids to return activity feeds\n",
    "- `from_date`: Start date from which information has to be retrieved\n",
    "- `to_date`: Ending date till which we need the data\n",
    "- `service_account_username`: Create a new service account and paste the username\n",
    "- `service_account_password`: Create a new service account and paste the password"
   ]
  },
  {
   "cell_type": "code",
   "execution_count": null,
   "id": "0463e05a-7c58-4bbe-b40a-ba866c86bfc3",
   "metadata": {
    "papermill": {},
    "tags": []
   },
   "outputs": [],
   "source": [
    "api_key = \"Paste your api key\" or naas.secret.get(\"MIXPANEL_API_KEY\")\n",
    "project_id = \"Paste your project ID\" or naas.secret.get(\"MIXPANEL_PROJECT_ID\")\n",
    "distinct_ids = \"Paste your distinct ids\" or naas.secret.get(\"MIXPANEL_DISTINCT_IDS\")\n",
    "from_date = \"\"\n",
    "to_date = \"\"\n",
    "service_account_username = \"Paste your Service account username\" or naas.secret.get(\"MIXPANEL_SERVICE_ACCOUNT_USERNAME\")\n",
    "service_account_secret = \"Paste your service account password\" or naas.secret.get(\"MIXPANEL_SERVICE_ACCOUNT_SECRET\")"
   ]
  },
  {
   "cell_type": "markdown",
   "id": "80415fcc-8896-4af2-b92e-ac8cdec70d0a",
   "metadata": {
    "papermill": {},
    "tags": []
   },
   "source": [
    "## Model"
   ]
  },
  {
   "cell_type": "markdown",
   "id": "6f66b78a-6260-4765-97f0-1c44dbee7d4f",
   "metadata": {
    "papermill": {},
    "tags": []
   },
   "source": [
    "### Get Profile Event Activity"
   ]
  },
  {
   "cell_type": "markdown",
   "id": "0f4fa175-30b3-4566-97da-2a2dca835478",
   "metadata": {
    "papermill": {},
    "tags": []
   },
   "source": [
    "This function returns the activity feed for specified users."
   ]
  },
  {
   "cell_type": "code",
   "execution_count": null,
   "id": "7075ae34-3a39-4c72-abe1-abeea59572b4",
   "metadata": {
    "papermill": {},
    "tags": []
   },
   "outputs": [],
   "source": [
    "def get_profile_event_activity(api_key, distinct_ids, project_id, from_date, to_date):\n",
    "    url = \"https://mixpanel.com/api/2.0/stream/query?project_id=\"+project_id+\"&distinct_ids=\"+distinct_ids+\"&from_date=\"+from_date+\"&to_date=\"+to_date\n",
    "    headers = {\n",
    "        \"accept\": \"application/json\"\n",
    "    }\n",
    "\n",
    "    response = requests.get(url, headers=headers)\n",
    "    print(response.text)"
   ]
  },
  {
   "cell_type": "markdown",
   "id": "40b30352-c7ad-4923-a5f8-f9ff3ff02340",
   "metadata": {
    "papermill": {},
    "tags": []
   },
   "source": [
    "## Output"
   ]
  },
  {
   "cell_type": "markdown",
   "id": "bf863a77-8e6d-41ca-bcde-f024e60f5f91",
   "metadata": {
    "papermill": {},
    "tags": []
   },
   "source": [
    "### Display result"
   ]
  },
  {
   "cell_type": "code",
   "execution_count": null,
   "id": "63a5a34d-9c0c-4e91-afe0-7d1c02673bf6",
   "metadata": {
    "papermill": {},
    "tags": []
   },
   "outputs": [],
   "source": [
    "activity_feed = get_profile_event_activity(api_key, distinct_ids, project_id, from_date, to_date)\n",
    "activity_feed"
   ]
  },
  {
   "cell_type": "code",
   "execution_count": null,
   "id": "c3140b46",
   "metadata": {
    "papermill": {},
    "tags": []
   },
   "outputs": [],
   "source": []
  },
  {
   "cell_type": "markdown",
   "id": "348ef3d0-b394-429f-a1a1-816165d95add",
   "metadata": {
    "papermill": {},
    "tags": []
   },
   "source": [
    " "
   ]
  }
 ],
 "metadata": {
  "kernelspec": {
   "display_name": "Python 3",
   "language": "python",
   "name": "python3"
  },
  "language_info": {
   "codemirror_mode": {
    "name": "ipython",
    "version": 3
   },
   "file_extension": ".py",
   "mimetype": "text/x-python",
   "name": "python",
   "nbconvert_exporter": "python",
   "pygments_lexer": "ipython3",
   "version": "3.9.6"
  },
  "naas": {
   "notebook_id": "a53f5b5e6b059ad365cf319b58a4a0d99fd1f954bd7c82bb61bdd9d42b9beebc",
   "notebook_path": "Mixpanel/Mixpanel_Get_Profile_Event_Activity.ipynb"
  },
  "papermill": {
   "default_parameters": {},
   "environment_variables": {},
   "parameters": {},
   "version": "2.4.0"
  },
  "widgets": {
   "application/vnd.jupyter.widget-state+json": {
    "state": {},
    "version_major": 2,
    "version_minor": 0
   }
  }
 },
 "nbformat": 4,
 "nbformat_minor": 5
}