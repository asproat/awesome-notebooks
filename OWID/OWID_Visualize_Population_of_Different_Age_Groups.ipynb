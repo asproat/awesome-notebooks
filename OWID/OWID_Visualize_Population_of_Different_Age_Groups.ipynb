{
 "cells": [
  {
   "cell_type": "markdown",
   "id": "12f70955",
   "metadata": {
    "papermill": {},
    "tags": []
   },
   "source": [
    "<img width=\"10%\" alt=\"Naas\" src=\"https://landen.imgix.net/jtci2pxwjczr/assets/5ice39g4.png?w=160\"/>"
   ]
  },
  {
   "cell_type": "markdown",
   "id": "eda38e5e",
   "metadata": {
    "papermill": {},
    "tags": []
   },
   "source": [
    "# OWID - Visualize Population of Different Age Groups\n",
    "<a href=\"https://app.naas.ai/user-redirect/naas/downloader?url=https://raw.githubusercontent.com/jupyter-naas/awesome-notebooks/master/OWID/OWID_Visualize_Population_of_Different_Age_Groups.ipynb\" target=\"_parent\"><img src=\"https://naasai-public.s3.eu-west-3.amazonaws.com/Open_in_Naas_Lab.svg\"/></a><br><br><a href=\"https://bit.ly/3JyWIk6\">Give Feedbacks</a> | <a href=\"https://github.com/jupyter-naas/awesome-notebooks/issues/new?assignees=&labels=bug&template=bug_report.md&title=OWID+-+Visualize+Population+of+Different+Age+Groups:+Error+short+description\">Bug report</a>"
   ]
  },
  {
   "cell_type": "markdown",
   "id": "e2d4cef3",
   "metadata": {
    "papermill": {},
    "tags": []
   },
   "source": [
    "**Tags:** #dash #dashboard #plotly #naas #asset #analytics #dropdown #callback #bootstrap #snippet"
   ]
  },
  {
   "cell_type": "markdown",
   "id": "1edaba32",
   "metadata": {
    "papermill": {},
    "tags": []
   },
   "source": [
    "**Author:** [Zihui Ouyang](https://www.linkedin.com/in/zihui-ouyang-539626227/)"
   ]
  },
  {
   "cell_type": "markdown",
   "id": "371b301c",
   "metadata": {
    "papermill": {},
    "tags": []
   },
   "source": [
    "**Description:** This notebook creates an interactive plot using Dash app infrastructure with OWID's popultion by age group data."
   ]
  },
  {
   "cell_type": "markdown",
   "id": "faff9224",
   "metadata": {
    "papermill": {},
    "tags": []
   },
   "source": [
    "**References:**\n",
    "- https://ourworldindata.org/grapher/population-by-age-group-with-projections\n",
    "- https://stackoverflow.com/questions/70886359/dash-python-making-subplots-when-multiple-parameters-are-selected\n",
    "- https://dash-example-index.herokuapp.com/line-charts"
   ]
  },
  {
   "cell_type": "markdown",
   "id": "9f37978d",
   "metadata": {
    "papermill": {},
    "tags": []
   },
   "source": [
    "## Input"
   ]
  },
  {
   "cell_type": "code",
   "execution_count": null,
   "id": "d634fde7",
   "metadata": {
    "papermill": {},
    "tags": []
   },
   "outputs": [],
   "source": [
    "try:\n",
    "    import dash\n",
    "    import os\n",
    "except:\n",
    "    !pip install dash --user\n",
    "    import dash\n",
    "try:\n",
    "    import dash_bootstrap_components as dbc\n",
    "except:\n",
    "    !pip install dash_bootstrap_components --user\n",
    "    import dash_bootstrap_components as dbc\n",
    "import pandas as pd\n",
    "from dash import Dash, html, dcc, callback, Output, Input\n",
    "import plotly.express as px\n",
    "import naas"
   ]
  },
  {
   "cell_type": "markdown",
   "id": "665854f7",
   "metadata": {
    "papermill": {},
    "tags": []
   },
   "source": [
    "### Setup Variables\n",
    "- `DASH_PORT`: specify a port number for Dash\n",
    "- `url`: URL to get data from Excel\n",
    "- `title`: App title"
   ]
  },
  {
   "cell_type": "code",
   "execution_count": null,
   "id": "929e8701",
   "metadata": {
    "papermill": {},
    "tags": []
   },
   "outputs": [],
   "source": [
    "DASH_PORT = 8050\n",
    "url = \"https://population.un.org/wpp/Download/Files/1_Indicators%20(Standard)/EXCEL_FILES/2_Population/WPP2022_POP_F02_1_POPULATION_5-YEAR_AGE_GROUPS_BOTH_SEXES.xlsx\"\n",
    "title = \"Population composition\""
   ]
  },
  {
   "cell_type": "markdown",
   "id": "0159d636",
   "metadata": {
    "papermill": {},
    "tags": []
   },
   "source": [
    "## Model"
   ]
  },
  {
   "cell_type": "markdown",
   "id": "fd320203-ba56-482b-bd94-774927ce1c7a",
   "metadata": {
    "papermill": {},
    "tags": []
   },
   "source": [
    "### Initialize Dash app\n",
    "The `os.environ.get(\"JUPYTERHUB_USER\")` is used to access the environment variable `JUPYTERHUB_USER` already stored into your Naas Lab."
   ]
  },
  {
   "cell_type": "code",
   "execution_count": null,
   "id": "b5f389ed",
   "metadata": {
    "papermill": {},
    "tags": []
   },
   "outputs": [],
   "source": [
    "app = dash.Dash(\n",
    "    requests_pathname_prefix=f'/user/{os.environ.get(\"JUPYTERHUB_USER\")}/proxy/{DASH_PORT}/',\n",
    "    external_stylesheets=[dbc.themes.BOOTSTRAP],\n",
    "    meta_tags=[\n",
    "        {\"name\": \"viewport\", \"content\": \"width=device-width, initial-scale=1.0\"}\n",
    "    ],\n",
    ")\n",
    "\n",
    "# app = dash.Dash(title = \"Population composition\") if you are not in Naas"
   ]
  },
  {
   "cell_type": "markdown",
   "id": "3d2b5196",
   "metadata": {
    "papermill": {},
    "tags": []
   },
   "source": [
    "### Get data from estimates up to 2021"
   ]
  },
  {
   "cell_type": "code",
   "execution_count": null,
   "id": "0a313d1b",
   "metadata": {
    "papermill": {},
    "tags": []
   },
   "outputs": [],
   "source": [
    "contents_df = pd.read_excel(url, sheet_name = \"Estimates\", header = 16) \n",
    "contents_df = contents_df.drop([72, 649, 1154, 1587])\n",
    "contents_df = contents_df.reset_index(drop=True)# Clean Data\n",
    "entity = contents_df[\"Region, subregion, country or area *\"]\n",
    "year = contents_df[\"Year\"]"
   ]
  },
  {
   "cell_type": "markdown",
   "id": "c779814c",
   "metadata": {
    "papermill": {},
    "tags": []
   },
   "source": [
    "### Sort Data"
   ]
  },
  {
   "cell_type": "code",
   "execution_count": null,
   "id": "5ebc0424",
   "metadata": {
    "papermill": {},
    "tags": []
   },
   "outputs": [],
   "source": [
    "under_five = contents_df[\"0-4\"]*1000 # sort out the data\n",
    "under_fifteen = under_five.add(contents_df[\"5-9\"]*1000).add(contents_df[\"10-14\"]*1000)\n",
    "under_twenty_five = under_fifteen.add(contents_df[\"15-19\"]*1000).add(contents_df[\"20-24\"]*1000)\n",
    "twenty_five_to_sixty_four = (contents_df[\"25-29\"].add(contents_df[\"30-34\"]).add(contents_df[\"35-39\"]).add(contents_df[\"40-44\"]).add(contents_df[\"45-49\"]).add(contents_df[\"50-54\"]).add(contents_df[\"55-59\"]).add(contents_df[\"60-64\"]))*1000\n",
    "sixty_five_plus = (contents_df[\"65-69\"].add(contents_df[\"70-74\"]).add(contents_df[\"75-79\"]).add(contents_df[\"80-84\"]).add(contents_df[\"85-89\"]).add(contents_df[\"90-94\"]).add(contents_df[\"95-99\"]).add(contents_df[\"100+\"]))*1000\n",
    "total = under_twenty_five.add(twenty_five_to_sixty_four).add(sixty_five_plus) "
   ]
  },
  {
   "cell_type": "markdown",
   "id": "a09e46b2",
   "metadata": {
    "papermill": {},
    "tags": []
   },
   "source": [
    "### Get data from medium projections from 2022 to 2100"
   ]
  },
  {
   "cell_type": "code",
   "execution_count": null,
   "id": "5bc0d7a1",
   "metadata": {
    "papermill": {},
    "tags": []
   },
   "outputs": [],
   "source": [
    "contents_df1 = pd.read_excel(url, sheet_name = \"Medium variant\", header = 16)\n",
    "contents_df1 = contents_df1.drop([79, 712, 1266, 1741])\n",
    "contents_df1 = contents_df1.reset_index(drop=True)\n",
    "entity_1 = contents_df1[\"Region, subregion, country or area *\"]\n",
    "year_1 = contents_df1[\"Year\"]\n",
    "under_five1 = contents_df1[\"0-4\"]*1000\n",
    "under_fifteen1 = under_five1.add(contents_df1[\"5-9\"]*1000).add(contents_df1[\"10-14\"]*1000)\n",
    "under_twenty_five1 = under_fifteen1.add(contents_df1[\"15-19\"]*1000).add(contents_df1[\"20-24\"]*1000)\n",
    "twenty_five_to_sixty_four1 = (contents_df1[\"25-29\"].add(contents_df1[\"30-34\"]).add(contents_df1[\"35-39\"]).add(contents_df1[\"40-44\"]).add(contents_df1[\"45-49\"]).add(contents_df1[\"50-54\"]).add(contents_df1[\"55-59\"]).add(contents_df1[\"60-64\"]))*1000\n",
    "sixty_five_plus1 = (contents_df1[\"65-69\"].add(contents_df1[\"70-74\"]).add(contents_df1[\"75-79\"]).add(contents_df1[\"80-84\"]).add(contents_df1[\"85-89\"]).add(contents_df1[\"90-94\"]).add(contents_df1[\"95-99\"]).add(contents_df1[\"100+\"]))*1000\n",
    "total1 = under_twenty_five1.add(twenty_five_to_sixty_four1).add(sixty_five_plus1)"
   ]
  },
  {
   "cell_type": "markdown",
   "id": "b4da3ad5",
   "metadata": {
    "papermill": {},
    "tags": []
   },
   "source": [
    "### Combining the data"
   ]
  },
  {
   "cell_type": "code",
   "execution_count": null,
   "id": "79ce54e5",
   "metadata": {
    "papermill": {},
    "tags": []
   },
   "outputs": [],
   "source": [
    "new_entity = pd.concat([entity, entity_1])\n",
    "new_year = pd.concat([year, year_1])\n",
    "new_under_five = pd.concat([under_five, under_five1])\n",
    "new_under_fifteen = pd.concat([under_fifteen, under_fifteen1])\n",
    "new_under_twenty_five = pd.concat([under_twenty_five, under_twenty_five1])\n",
    "new_twenty_five_to_sixty_four = pd.concat([twenty_five_to_sixty_four, twenty_five_to_sixty_four1])\n",
    "new_sixty_five_plus = pd.concat([sixty_five_plus, sixty_five_plus1])\n",
    "new_total = pd.concat([total, total1])\n",
    "new_total = new_total.reset_index(drop=True)\n",
    "new_entity = new_entity.reset_index(drop=True)\n",
    "new_year = new_year.reset_index(drop=True)\n",
    "new_under_five = new_under_five.reset_index(drop=True)\n",
    "new_under_fifteen = new_under_fifteen.reset_index(drop = True)\n",
    "new_under_twenty_five = new_under_twenty_five.reset_index(drop = True)\n",
    "new_twenty_five_to_sixty_four = new_twenty_five_to_sixty_four.reset_index(drop = True)\n",
    "new_sixty_five_plus = new_sixty_five_plus.reset_index(drop = True)"
   ]
  },
  {
   "cell_type": "markdown",
   "id": "adf15ed6",
   "metadata": {
    "papermill": {},
    "tags": []
   },
   "source": [
    "### Create a brand new dataframe to help plotting"
   ]
  },
  {
   "cell_type": "code",
   "execution_count": null,
   "id": "5db1de4e",
   "metadata": {
    "papermill": {},
    "tags": []
   },
   "outputs": [],
   "source": [
    "categories = []\n",
    "categories1 = []\n",
    "categories2 = []\n",
    "categories3 = []\n",
    "categories4 = []\n",
    "categories5 = []\n",
    "for i in range(len(new_entity)):\n",
    "    categories.append(\"Under 5\")\n",
    "    categories1.append(\"Under 15\")\n",
    "    categories2.append(\"Under 25\")\n",
    "    categories3.append(\"25-64\")\n",
    "    categories4.append(\"65+\")\n",
    "    categories5.append(\"Total\")\n",
    "    \n",
    "new_dict = {\"Entity\": new_entity,\n",
    "           \"Year\": new_year,\n",
    "            \"Categories\": categories,\n",
    "           \"Population\": new_under_five}\n",
    "new_df = pd.DataFrame(data=new_dict)\n",
    "\n",
    "new_dict1 = {\"Entity\": new_entity,\n",
    "           \"Year\": new_year,\n",
    "            \"Categories\": categories1,\n",
    "           \"Population\": new_under_fifteen}\n",
    "new_df1 = pd.DataFrame(data=new_dict1)\n",
    "\n",
    "new_dict2 = {\"Entity\": new_entity,\n",
    "           \"Year\": new_year,\n",
    "            \"Categories\": categories2,\n",
    "           \"Population\": new_under_twenty_five}\n",
    "new_df2 = pd.DataFrame(data=new_dict2)\n",
    "\n",
    "new_dict3 = {\"Entity\": new_entity,\n",
    "           \"Year\": new_year,\n",
    "            \"Categories\": categories3,\n",
    "           \"Population\": new_twenty_five_to_sixty_four}\n",
    "new_df3 = pd.DataFrame(data=new_dict3)\n",
    "\n",
    "new_dict4 = {\"Entity\": new_entity,\n",
    "           \"Year\": new_year,\n",
    "            \"Categories\": categories4,\n",
    "           \"Population\": new_sixty_five_plus}\n",
    "new_df4 = pd.DataFrame(data=new_dict4)\n",
    "\n",
    "new_dict5 = {\"Entity\": new_entity,\n",
    "           \"Year\": new_year,\n",
    "            \"Categories\": categories5,\n",
    "           \"Population\": new_total}\n",
    "new_df5 = pd.DataFrame(data=new_dict5)\n",
    "\n",
    "new_df = pd.concat([new_df, new_df1, new_df2, new_df3, new_df4, new_df5])"
   ]
  },
  {
   "cell_type": "markdown",
   "id": "3f584b5b",
   "metadata": {
    "papermill": {},
    "tags": []
   },
   "source": [
    "### Create Dash app"
   ]
  },
  {
   "cell_type": "code",
   "execution_count": null,
   "id": "9662b9fb",
   "metadata": {
    "papermill": {},
    "tags": []
   },
   "outputs": [],
   "source": [
    "app.layout = html.Div(\n",
    "    [\n",
    "        html.H4(\"Population of different age groups from 1950 to 2021 with medium projections from 2022 onwards\"),\n",
    "        html.P(\"Select country\"),\n",
    "        dcc.Dropdown(\n",
    "            id=\"country\",\n",
    "            options=new_df.Entity.unique(),\n",
    "            value=\"WORLD\"\n",
    "        ),\n",
    "        dcc.RangeSlider(id='slider', min=1950, max=2100, value=[1950, 2100],\n",
    "               marks={x: str(x) for x in [1950, 1975, 2000, 2025, 2050, 2075, 2100]}),\n",
    "        dcc.Graph(id=\"Population\", figure={}, style={'display': 'none'})\n",
    "    ]\n",
    ")\n",
    "\n",
    "@callback(\n",
    "    Output(\"Population\", 'figure'),\n",
    "    Output(\"Population\", 'style'),\n",
    "    Input('country', 'value'),\n",
    "    Input('slider', 'value')\n",
    ")\n",
    "\n",
    "def update_graph(country, year):\n",
    "    country_list = [country]\n",
    "    dff = (new_df[\"Entity\"].isin(country_list)) & (new_df[\"Year\"] <= year[1]) & (new_df[\"Year\"] >= year[0]) & (new_df[\"Year\"] <= 2021)\n",
    "    dff1 = (new_df[\"Entity\"].isin(country_list)) & (new_df[\"Year\"] <= year[1]) & (new_df[\"Year\"] >= year[0]) & (new_df[\"Year\"] > 2021)\n",
    "    greater = new_df[dff1] # create a new dataframe that will change the names of different categories\n",
    "    greater.replace(to_replace= \"Under 5\", value = \"Under 5 Projections\", inplace=True)\n",
    "    greater.replace(to_replace= \"Under 15\", value = \"Under 15 Projections\", inplace=True)\n",
    "    greater.replace(to_replace= \"Under 25\", value = \"Under 25 Projections\", inplace=True)\n",
    "    greater.replace(to_replace= \"25-64\", value = \"25-64 Projections\", inplace=True)\n",
    "    greater.replace(to_replace= \"65+\", value = \"65+ Projections\", inplace=True)\n",
    "    greater.replace(to_replace= \"Total\", value = \"Total Projections\", inplace=True) \n",
    "        \n",
    "    figures = px.line(\n",
    "        new_df[dff],\n",
    "        x='Year',\n",
    "        y=\"Population\",\n",
    "        color=\"Categories\",\n",
    "        markers=True\n",
    "    ).update_layout(\n",
    "        plot_bgcolor='rgba(0, 0, 0, 0)',\n",
    "        height= 600\n",
    "    )\n",
    "    figures.add_traces(list(px.line(greater, x=\"Year\", y=\"Population\", color = \"Categories\").select_traces()))\n",
    "    styles = {'display': 'block'}   \n",
    "    return figures, styles"
   ]
  },
  {
   "cell_type": "markdown",
   "id": "ee15e3f0",
   "metadata": {
    "papermill": {},
    "tags": []
   },
   "source": [
    "## Output"
   ]
  },
  {
   "cell_type": "markdown",
   "id": "aea0ba9b",
   "metadata": {
    "papermill": {},
    "tags": []
   },
   "source": [
    "### Generate URL and show logs"
   ]
  },
  {
   "cell_type": "code",
   "execution_count": null,
   "id": "9ff4d647",
   "metadata": {
    "papermill": {},
    "tags": []
   },
   "outputs": [],
   "source": [
    "if __name__ == \"__main__\":\n",
    "    app.run_server(proxy=f\"http://127.0.0.1:{DASH_PORT}::https://app.naas.ai\")"
   ]
  },
  {
   "cell_type": "code",
   "execution_count": null,
   "id": "b6524224-4df4-41d8-9416-ae7443ce7df3",
   "metadata": {
    "papermill": {},
    "tags": []
   },
   "outputs": [],
   "source": []
  }
 ],
 "metadata": {
  "kernelspec": {
   "display_name": "Python 3",
   "language": "python",
   "name": "python3"
  },
  "language_info": {
   "codemirror_mode": {
    "name": "ipython",
    "version": 3
   },
   "file_extension": ".py",
   "mimetype": "text/x-python",
   "name": "python",
   "nbconvert_exporter": "python",
   "pygments_lexer": "ipython3",
   "version": "3.9.6"
  },
  "naas": {
   "notebook_id": "4b06d4ef00af69ff2b94b5dd3745d5d6b9d2544014f0e2f317599a3a4174f360",
   "notebook_path": "OWID/OWID_Visualize_Population_of_Different_Age_Groups.ipynb"
  },
  "papermill": {
   "default_parameters": {},
   "environment_variables": {},
   "parameters": {},
   "version": "2.4.0"
  }
 },
 "nbformat": 4,
 "nbformat_minor": 5
}