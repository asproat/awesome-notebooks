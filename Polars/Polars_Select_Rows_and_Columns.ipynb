{
 "cells": [
  {
   "cell_type": "markdown",
   "id": "26d971be-a654-4715-97d3-18ecf0b7a9cc",
   "metadata": {
    "papermill": {},
    "tags": []
   },
   "source": [
    "<img width=\"10%\" alt=\"Naas\" src=\"https://landen.imgix.net/jtci2pxwjczr/assets/5ice39g4.png?w=160\"/>"
   ]
  },
  {
   "cell_type": "markdown",
   "id": "1889751c-f97e-4792-8429-7dab25ec885f",
   "metadata": {
    "papermill": {},
    "tags": []
   },
   "source": [
    "# Polars - Select both rows and columns\n",
    "<a href=\"https://app.naas.ai/user-redirect/naas/downloader?url=https://raw.githubusercontent.com/jupyter-naas/awesome-notebooks/master/Polars/Polars_Select_Rows_and_Columns.ipynb\" target=\"_parent\"><img src=\"https://naasai-public.s3.eu-west-3.amazonaws.com/Open_in_Naas_Lab.svg\"/></a><br><br><a href=\"https://bit.ly/3JyWIk6\">Give Feedbacks</a> | <a href=\"https://github.com/jupyter-naas/awesome-notebooks/issues/new?assignees=&labels=bug&template=bug_report.md&title=Polars+-+Select+both+rows+and+columns:+Error+short+description\">Bug report</a>"
   ]
  },
  {
   "cell_type": "markdown",
   "id": "35af0493-2cfb-485f-9d0f-8ce84410dccc",
   "metadata": {
    "papermill": {},
    "tags": []
   },
   "source": [
    "**Tags:** #polars #dataframe #read #python #library #data #csv"
   ]
  },
  {
   "cell_type": "markdown",
   "id": "06354b65-7306-4825-aef2-c63aeb79f50b",
   "metadata": {
    "papermill": {},
    "tags": []
   },
   "source": [
    "**Author:** [Antonio Georgiev](www.linkedin.com/in/antonio-georgiev-b672a325b)"
   ]
  },
  {
   "cell_type": "markdown",
   "id": "2d9ddd16-5e37-408f-a24e-2674cb113010",
   "metadata": {
    "papermill": {},
    "tags": []
   },
   "source": [
    "**Last update:** 2023-07-06 (Created: 2023-07-06)"
   ]
  },
  {
   "cell_type": "markdown",
   "id": "c0500e98-9f0a-4f87-97aa-5f4c44c2ea0a",
   "metadata": {
    "papermill": {},
    "tags": []
   },
   "source": [
    "**Description:** This notebook demonstrates how to select columns, rows, and both columns and rows at once in a DataFrame using `polars` library.\n",
    "\n",
    "About Polars:\n",
    "- `polars` is a Python library for data manipulation that is built on top of Rust's `Apache Arrow` and `DataFusion` projects.\n",
    "- It offers fast and efficient data processing and manipulation capabilities for large datasets, with a Pandas-like API and support for advanced data types.\n",
    "- `polars` is especially useful for data-intensive applications such as machine learning, data analysis, and data visualization, and can handle datasets that are too large to fit into memory."
   ]
  },
  {
   "cell_type": "markdown",
   "id": "6c510bc9-3949-4b57-916a-c40e78419981",
   "metadata": {
    "papermill": {},
    "tags": []
   },
   "source": [
    "**References:**\n",
    "- [Polars](https://pypi.org/project/polars/)\n",
    "- [Dataframe](https://pandas.pydata.org/pandas-docs/stable/reference/api/pandas.DataFrame.html)"
   ]
  },
  {
   "cell_type": "markdown",
   "id": "658d10d1-a3d7-4e16-aa0a-fdb9ede7b22c",
   "metadata": {
    "papermill": {},
    "tags": []
   },
   "source": [
    "## Input"
   ]
  },
  {
   "cell_type": "markdown",
   "id": "d5ad9c05-19dc-463c-868d-bdd747639473",
   "metadata": {
    "papermill": {},
    "tags": []
   },
   "source": [
    "### Import libraries"
   ]
  },
  {
   "cell_type": "code",
   "execution_count": 1,
   "id": "be598579-8752-4f61-a352-9c3ae2d031e3",
   "metadata": {
    "papermill": {},
    "tags": []
   },
   "outputs": [],
   "source": [
    "try:\n",
    "    import polars as pl\n",
    "except ModuleNotFoundError:\n",
    "    !pip install polars\n",
    "    import polars as pl"
   ]
  },
  {
   "cell_type": "markdown",
   "id": "5f2881fb-8474-4f36-b8d1-3ec9d695c1f8",
   "metadata": {
    "papermill": {},
    "tags": []
   },
   "source": [
    "### Setup Variables\n",
    "- `data`: data to be used to create DataFrame"
   ]
  },
  {
   "cell_type": "code",
   "execution_count": 2,
   "id": "e1d0b866-bc48-4a83-ae21-7d28d5edf6ba",
   "metadata": {
    "papermill": {},
    "tags": []
   },
   "outputs": [],
   "source": [
    "# Inputs\n",
    "data = {\n",
    "    'column 1': [\"A\", \"B\", \"C\", \"D\", \"E\", \"B\", \"G\", \"H\", \"I\", \"J\", \"K\", \"L\",],\n",
    "    'column 2': [3, 7, 8, 4, 1, 3, 2, 5, 7, 6, 3, 11],\n",
    "    'column 3': [\"V\", \"C\", \"M\", \"A\", \"S\", \"V\", \"R\", \"L\", \"Q\", \"N\", \"P\", \"O\",]\n",
    "}"
   ]
  },
  {
   "cell_type": "markdown",
   "id": "8b34fd7a-0021-4ac5-8e8d-ef699978f907",
   "metadata": {
    "papermill": {},
    "tags": []
   },
   "source": [
    "## Model"
   ]
  },
  {
   "cell_type": "markdown",
   "id": "19ded647-e9d7-4e0f-8b89-cb84ca613351",
   "metadata": {
    "papermill": {},
    "tags": []
   },
   "source": [
    "### Create DataFrame"
   ]
  },
  {
   "cell_type": "code",
   "execution_count": 3,
   "id": "c1d87c44-d6b8-4f5a-82fb-0fc6edfe61f6",
   "metadata": {
    "papermill": {},
    "tags": []
   },
   "outputs": [],
   "source": [
    "df = pl.DataFrame(data)"
   ]
  },
  {
   "cell_type": "markdown",
   "id": "01e9489c-30c5-4c2e-96dd-ac2c2d59c0aa",
   "metadata": {
    "papermill": {},
    "tags": []
   },
   "source": [
    "### Selecting rows and columns"
   ]
  },
  {
   "cell_type": "markdown",
   "id": "ff29cd91-c6b5-4b05-9e98-36752818d200",
   "metadata": {
    "papermill": {},
    "tags": []
   },
   "source": [
    "Selecting rows and columns is an often used feature and it can be achieved by chaining the select() and filter() methods"
   ]
  },
  {
   "cell_type": "code",
   "execution_count": 4,
   "id": "6d9a8595-c910-46a3-a862-27a360bc05a7",
   "metadata": {
    "papermill": {},
    "tags": []
   },
   "outputs": [],
   "source": [
    "select_rows_and_columns = df.filter(\n",
    "    pl.col('column 1') == 'B'\n",
    ").select('column 3')"
   ]
  },
  {
   "cell_type": "markdown",
   "id": "29581dd0-1799-4fa6-b317-920e0caaf2e5",
   "metadata": {
    "papermill": {},
    "tags": []
   },
   "source": [
    "To add another column corresponding to the requirements, list it as shown below:"
   ]
  },
  {
   "cell_type": "code",
   "execution_count": 5,
   "id": "b5f48737-cb1b-45d4-9446-5e4d6db45510",
   "metadata": {
    "papermill": {},
    "tags": []
   },
   "outputs": [],
   "source": [
    "select_rows_and_columns_2 = df.filter(\n",
    "    pl.col('column 1') == 'B'\n",
    ").select(['column 3', 'column 2'])"
   ]
  },
  {
   "cell_type": "markdown",
   "id": "fad28fc0-5fdd-48bd-8fdd-029ad0f92022",
   "metadata": {
    "papermill": {},
    "tags": []
   },
   "source": [
    "## Output"
   ]
  },
  {
   "cell_type": "markdown",
   "id": "9a73fefb-1117-44a9-841d-2f8d94812ec8",
   "metadata": {
    "papermill": {},
    "tags": []
   },
   "source": [
    "### Display the DataFrame and number of rows and columns"
   ]
  },
  {
   "cell_type": "code",
   "execution_count": 8,
   "id": "2be32a3f-a5a9-457a-8b3c-606a7ead14bd",
   "metadata": {
    "papermill": {},
    "tags": []
   },
   "outputs": [],
   "source": [
    "print(f\"\\nSelect rows and columns, first function:\")\n",
    "print(select_rows_and_columns)\n",
    "print(f\"\\nSelect rows and columns, second function:\")\n",
    "print(select_rows_and_columns_2)"
   ]
  }
 ],
 "metadata": {
  "kernelspec": {
   "display_name": "Python 3",
   "language": "python",
   "name": "python3"
  },
  "language_info": {
   "codemirror_mode": {
    "name": "ipython",
    "version": 3
   },
   "file_extension": ".py",
   "mimetype": "text/x-python",
   "name": "python",
   "nbconvert_exporter": "python",
   "pygments_lexer": "ipython3",
   "version": "3.9.6"
  },
  "naas": {
   "notebook_id": "7a9f09587076ee0c3192e964f346d57f656558be530916d518954ff4dcf37679",
   "notebook_path": "Polars/Polars_Select_Rows_and_Columns.ipynb"
  },
  "papermill": {
   "default_parameters": {},
   "environment_variables": {},
   "parameters": {},
   "version": "2.4.0"
  },
  "widgets": {
   "application/vnd.jupyter.widget-state+json": {
    "state": {},
    "version_major": 2,
    "version_minor": 0
   }
  }
 },
 "nbformat": 4,
 "nbformat_minor": 5
}