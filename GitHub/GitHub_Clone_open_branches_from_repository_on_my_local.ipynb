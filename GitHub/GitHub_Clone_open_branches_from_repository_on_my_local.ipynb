{
 "cells": [
  {
   "cell_type": "markdown",
   "id": "injured-evolution",
   "metadata": {
    "papermill": {},
    "tags": []
   },
   "source": [
    "<img width=\"10%\" alt=\"Naas\" src=\"https://landen.imgix.net/jtci2pxwjczr/assets/5ice39g4.png?w=160\"/>"
   ]
  },
  {
   "cell_type": "markdown",
   "id": "substantial-decline",
   "metadata": {
    "papermill": {},
    "tags": []
   },
   "source": [
    "# GitHub - Clone open branches from repository on my local\n",
    "<a href=\"https://app.naas.ai/user-redirect/naas/downloader?url=https://raw.githubusercontent.com/jupyter-naas/awesome-notebooks/master/GitHub/GitHub_Clone_open_branches_from_repository_on_my_local.ipynb\" target=\"_parent\"><img src=\"https://naasai-public.s3.eu-west-3.amazonaws.com/Open_in_Naas_Lab.svg\"/></a><br><br><a href=\"https://bit.ly/3JyWIk6\">Give Feedbacks</a> | <a href=\"https://github.com/jupyter-naas/awesome-notebooks/issues/new?assignees=&labels=bug&template=bug_report.md&title=GitHub+-+Clone+open+branches+from+repository+on+my+local:+Error+short+description\">Bug report</a>"
   ]
  },
  {
   "cell_type": "markdown",
   "id": "00619b69-5ce8-417a-b8b1-c81af6342f9c",
   "metadata": {
    "papermill": {},
    "tags": []
   },
   "source": [
    "**Tags:** #github #snippet #operations #repository #efficiency"
   ]
  },
  {
   "cell_type": "markdown",
   "id": "1446840e-74d1-4c76-afb6-4752a6b4a0c4",
   "metadata": {
    "papermill": {},
    "tags": []
   },
   "source": [
    "**Author:** [Antonio Georgiev](www.linkedin.com/in/antonio-georgiev-b672a325b)"
   ]
  },
  {
   "cell_type": "markdown",
   "id": "7031048f-6ff0-4d21-b322-a75f72f5c311",
   "metadata": {
    "papermill": {},
    "tags": []
   },
   "source": [
    "**Last update:** 2023-07-24 (Created: 2023-07-24)"
   ]
  },
  {
   "cell_type": "markdown",
   "id": "54ad3d5e-10a0-4cff-bab7-e4f20cfaaeeb",
   "metadata": {
    "papermill": {},
    "tags": []
   },
   "source": [
    "**Description:** This notebook streamlines your workflow by cloning open branches from a GitHub repository to your local machine, renaming the repository to match the branch name, and switching to the respective branch. This approach enhances efficiency by enabling you to work on multiple branches simultaneously without the need to constantly switch, thus avoiding conflicts. Before using this on Naas, ensure your SSH is properly configured (you can use the Naas_Configure_SSH.ipynb template for this)."
   ]
  },
  {
   "cell_type": "markdown",
   "id": "2bf7fc9a-24f6-4a40-a85c-e564df9f915b",
   "metadata": {
    "papermill": {},
    "tags": []
   },
   "source": [
    "**References:**\n",
    "- [GitHub Documentation - Cloning a repository](https://docs.github.com/en/github/creating-cloning-and-archiving-repositories/cloning-a-repository)"
   ]
  },
  {
   "cell_type": "markdown",
   "id": "ba4e2faf-9cbd-4405-b3a5-09ff543951e8",
   "metadata": {
    "papermill": {},
    "tags": []
   },
   "source": [
    "## Input"
   ]
  },
  {
   "cell_type": "markdown",
   "id": "e1db5a47-1aef-4cb8-b939-4341cf6d7007",
   "metadata": {
    "papermill": {},
    "tags": []
   },
   "source": [
    "### Import libraries"
   ]
  },
  {
   "cell_type": "code",
   "execution_count": null,
   "id": "89dfc24e-90e9-43b6-a5a9-329d404b58ba",
   "metadata": {
    "papermill": {},
    "tags": []
   },
   "outputs": [],
   "source": [
    "import os\n",
    "import naas\n",
    "import pandas as pd\n",
    "import requests"
   ]
  },
  {
   "cell_type": "markdown",
   "id": "e295de8b-d6b2-447d-aaca-11aa8adb0fe7",
   "metadata": {
    "papermill": {},
    "tags": []
   },
   "source": [
    "### Setup Variables\n",
    "- `token`: [Generate a personal access token](https://docs.github.com/en/github/authenticating-to-github/creating-a-personal-access-token)\n",
    "- `repo_url`: URL of the repository to clone\n",
    "- `cron`: cron params for naas scheduler\n",
    "- `output_dir`: Output directory to clone repo. If None, we will create a folder with the name of the repo"
   ]
  },
  {
   "cell_type": "code",
   "execution_count": 9,
   "id": "61e258bc-250b-4013-9bc3-f26a198ce405",
   "metadata": {
    "papermill": {},
    "tags": []
   },
   "outputs": [],
   "source": [
    "# Inputs\n",
    "repo_url = \"https://github.com/jupyter-naas/awesome-notebooks\"\n",
    "token = naas.secret.get(name=\"GITHUB_TOKEN\") or \"YOUR_GITHUB_TOKEN\"\n",
    "cron = \"0 * * * *\"\n",
    "\n",
    "# Outputs\n",
    "output_dir = None"
   ]
  },
  {
   "cell_type": "markdown",
   "id": "0002a818-8861-436c-a34d-5eaee3993d2f",
   "metadata": {
    "papermill": {},
    "tags": []
   },
   "source": [
    "## Model"
   ]
  },
  {
   "cell_type": "markdown",
   "id": "e4bcfce7-c1e9-4463-a8f5-0770fe5d141e",
   "metadata": {
    "papermill": {},
    "tags": []
   },
   "source": [
    "### Get branches with open PRs"
   ]
  },
  {
   "cell_type": "code",
   "execution_count": null,
   "id": "143bee7f-aae8-4a7d-80f8-fd0f60fc1089",
   "metadata": {
    "papermill": {},
    "tags": []
   },
   "outputs": [],
   "source": [
    "def get_branches_with_open_prs(\n",
    "    token,\n",
    "    repo_url\n",
    "):\n",
    "    # Init\n",
    "    data = []\n",
    "    owner = repo_url.split(\"https://github.com/\")[-1].split(\"/\")[0]\n",
    "    repository = repo_url.split(f\"https://github.com/{owner}/\")[-1].split(\"/\")[0]\n",
    "    \n",
    "    # Requests\n",
    "    url = f\"https://api.github.com/repos/{owner}/{repository}/pulls\"\n",
    "    headers = {\"Authorization\": f\"token {token}\"}\n",
    "    response = requests.get(url, headers=headers)\n",
    "    pulls = response.json()\n",
    "    \n",
    "    # Data\n",
    "    for pull in pulls:\n",
    "        branch = pull['head']['ref']\n",
    "        creator = pull['user']['login']\n",
    "        creation_date = pull['created_at']\n",
    "        \n",
    "        data.append({\n",
    "            'branch': branch,\n",
    "            'creator': creator,\n",
    "            'creation_date': creation_date\n",
    "        })\n",
    "    \n",
    "    df = pd.DataFrame(data)\n",
    "    \n",
    "    # Sort values\n",
    "    if len(df) > 0:\n",
    "        df = df.sort_values(by=\"creation_date\", ascending=False)\n",
    "    return df.reset_index(drop=True)\n",
    "\n",
    "branches_with_open_prs = get_branches_with_open_prs(token, repo_url)\n",
    "print(\"Branches with open PRs:\", len(branches_with_open_prs))\n",
    "branches_with_open_prs.head(1)"
   ]
  },
  {
   "cell_type": "markdown",
   "id": "e6e998de-aef7-457f-8dd5-3b31694b09b5",
   "metadata": {
    "papermill": {},
    "tags": []
   },
   "source": [
    "### Get branches already cloned on my local"
   ]
  },
  {
   "cell_type": "code",
   "execution_count": null,
   "id": "a1052f15-38d4-4ede-bc6e-476402458eca",
   "metadata": {
    "papermill": {},
    "tags": []
   },
   "outputs": [],
   "source": [
    "def get_all_folders(directory):\n",
    "    if not directory:\n",
    "        directory = '/home/ftp/'\n",
    "    folders = []\n",
    "    for item in os.listdir(directory):\n",
    "        item_path = os.path.join(directory, item)\n",
    "        if os.path.isdir(item_path):\n",
    "            folders.append(item_path.split(\"/\")[-1])\n",
    "    return sorted(folders)\n",
    "\n",
    "folders = get_all_folders(output_dir)\n",
    "print('Branches in local:', len(folders))\n",
    "folders[-1]"
   ]
  },
  {
   "cell_type": "markdown",
   "id": "37eee78d-2fb5-4bf8-a362-6bcc56e6469c",
   "metadata": {
    "papermill": {},
    "tags": []
   },
   "source": [
    "### Identify missing branches on local"
   ]
  },
  {
   "cell_type": "code",
   "execution_count": null,
   "id": "9fe81198-0135-4b18-988c-29ac6988e1d2",
   "metadata": {
    "papermill": {},
    "tags": []
   },
   "outputs": [],
   "source": [
    "missing_branches = [branch for branch in branches_with_open_prs['branch'] if not branch in folders]\n",
    "print(\"Missing branches not cloned on my local machine:\", len(missing_branches))\n",
    "missing_branches"
   ]
  },
  {
   "cell_type": "markdown",
   "id": "311f8d12-b0d1-47fa-84a0-e31297f247fd",
   "metadata": {
    "papermill": {},
    "tags": []
   },
   "source": [
    "## Output"
   ]
  },
  {
   "cell_type": "markdown",
   "id": "1b382dcd-104c-42af-a822-202afdc46775",
   "metadata": {
    "papermill": {},
    "tags": []
   },
   "source": [
    "### Clone repository & Switch branch\n",
    "Clone the repository from the given URL and create a local copy of it."
   ]
  },
  {
   "cell_type": "code",
   "execution_count": null,
   "id": "e8876dc2-0af8-48d7-b6f6-91df06d288ad",
   "metadata": {
    "papermill": {},
    "tags": []
   },
   "outputs": [],
   "source": [
    "def clone_branch(repo_url, output_dir, branch_name):\n",
    "    # Get GitHub owner and repo name\n",
    "    owner = repo_url.split(\"https://github.com/\")[-1].split(\"/\")[0]\n",
    "    repo_name = repo_url.split(\"/\")[-1]\n",
    "    \n",
    "    # Add repo name with .git extension\n",
    "    if not repo_name.endswith(\".git\"):\n",
    "        repo_name = f\"{repo_name}.git\"\n",
    "    repo = f\"{owner}/{repo_name}\"\n",
    "        \n",
    "    # Init output dir\n",
    "    if not output_dir:\n",
    "        output_dir = branch_name\n",
    "    else:\n",
    "        output_dir = os.path.join(output_dir, branch_name)\n",
    "    \n",
    "    # Create output directoy\n",
    "    if not os.path.exists(output_dir):\n",
    "        os.makedirs(output_dir)\n",
    "        \n",
    "    # GitHub Action\n",
    "    !cd '{output_dir}'\n",
    "    !git clone git@github.com:'{repo}' '{output_dir}'\n",
    "    print(f\"✅ GitHub repo cloned: {output_dir}\")\n",
    "    return output_dir\n",
    "\n",
    "def switch_branch(output_dir, branch_name):\n",
    "    # GitHub action\n",
    "    !cd '{output_dir}' && git checkout '{branch_name}'\n",
    "    print(f\"✅ Switched to branch '{branch_name}'\")\n",
    "    \n",
    "for branch_name in missing_branches:\n",
    "    # Clone repo\n",
    "    output_dir_repo = clone_branch(repo_url, output_dir, branch_name)\n",
    "    \n",
    "    # Switch branch\n",
    "    switch_branch(output_dir_repo, branch_name)"
   ]
  },
  {
   "cell_type": "markdown",
   "id": "82edaad5-ec0a-4e73-aae0-25de4e6f75be",
   "metadata": {
    "papermill": {},
    "tags": []
   },
   "source": [
    "### Schedule the notebook"
   ]
  },
  {
   "cell_type": "code",
   "execution_count": null,
   "id": "eb3911c6-ac74-42e7-a222-1e90cc7fa13d",
   "metadata": {
    "papermill": {},
    "tags": []
   },
   "outputs": [],
   "source": [
    "naas.scheduler.add(cron=cron)"
   ]
  }
 ],
 "metadata": {
  "kernelspec": {
   "display_name": "Python 3",
   "language": "python",
   "name": "python3"
  },
  "language_info": {
   "codemirror_mode": {
    "name": "ipython",
    "version": 3
   },
   "file_extension": ".py",
   "mimetype": "text/x-python",
   "name": "python",
   "nbconvert_exporter": "python",
   "pygments_lexer": "ipython3",
   "version": "3.9.6"
  },
  "naas": {
   "notebook_id": "b8cc352b30977a358e1bb8128a3462f0e6385185fe45c76b5b5a83a702223d3f",
   "notebook_path": "GitHub/GitHub_Clone_open_branches_from_repository_on_my_local.ipynb"
  },
  "papermill": {
   "default_parameters": {},
   "environment_variables": {},
   "parameters": {},
   "version": "2.3.3"
  },
  "toc-autonumbering": false,
  "widgets": {
   "application/vnd.jupyter.widget-state+json": {
    "state": {},
    "version_major": 2,
    "version_minor": 0
   }
  }
 },
 "nbformat": 4,
 "nbformat_minor": 5
}