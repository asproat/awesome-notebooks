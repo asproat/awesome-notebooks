{
 "cells": [
  {
   "cell_type": "markdown",
   "id": "26d971be-a654-4715-97d3-18ecf0b7a9cc",
   "metadata": {
    "papermill": {},
    "tags": []
   },
   "source": [
    "<img width=\"10%\" alt=\"Naas\" src=\"https://landen.imgix.net/jtci2pxwjczr/assets/5ice39g4.png?w=160\"/>"
   ]
  },
  {
   "cell_type": "markdown",
   "id": "1889751c-f97e-4792-8429-7dab25ec885f",
   "metadata": {
    "papermill": {},
    "tags": []
   },
   "source": [
    "# Polars - Select rows\n",
    "<a href=\"https://app.naas.ai/user-redirect/naas/downloader?url=https://raw.githubusercontent.com/jupyter-naas/awesome-notebooks/master/Polars/Polars_Select_Rows.ipynb\" target=\"_parent\"><img src=\"https://naasai-public.s3.eu-west-3.amazonaws.com/Open_in_Naas_Lab.svg\"/></a><br><br><a href=\"https://bit.ly/3JyWIk6\">Give Feedbacks</a> | <a href=\"https://github.com/jupyter-naas/awesome-notebooks/issues/new?assignees=&labels=bug&template=bug_report.md&title=Polars+-+Select+rows:+Error+short+description\">Bug report</a>"
   ]
  },
  {
   "cell_type": "markdown",
   "id": "35af0493-2cfb-485f-9d0f-8ce84410dccc",
   "metadata": {
    "papermill": {},
    "tags": []
   },
   "source": [
    "**Tags:** #polars #dataframe #read #python #library #data #csv"
   ]
  },
  {
   "cell_type": "markdown",
   "id": "06354b65-7306-4825-aef2-c63aeb79f50b",
   "metadata": {
    "papermill": {},
    "tags": []
   },
   "source": [
    "**Author:** [Antonio Georgiev](www.linkedin.com/in/antonio-georgiev-b672a325b)"
   ]
  },
  {
   "cell_type": "markdown",
   "id": "c0500e98-9f0a-4f87-97aa-5f4c44c2ea0a",
   "metadata": {
    "papermill": {},
    "tags": []
   },
   "source": [
    "**Description:** This notebook demonstrates how to select rows in a DataFrame using `polars` library.\n",
    "\n",
    "About Polars:\n",
    "- `polars` is a Python library for data manipulation that is built on top of Rust's `Apache Arrow` and `DataFusion` projects.\n",
    "- It offers fast and efficient data processing and manipulation capabilities for large datasets, with a Pandas-like API and support for advanced data types.\n",
    "- `polars` is especially useful for data-intensive applications such as machine learning, data analysis, and data visualization, and can handle datasets that are too large to fit into memory."
   ]
  },
  {
   "cell_type": "markdown",
   "id": "6c510bc9-3949-4b57-916a-c40e78419981",
   "metadata": {
    "papermill": {},
    "tags": []
   },
   "source": [
    "**References:**\n",
    "- [Polars](https://pypi.org/project/polars/)\n",
    "- [Dataframe](https://pandas.pydata.org/pandas-docs/stable/reference/api/pandas.DataFrame.html)"
   ]
  },
  {
   "cell_type": "markdown",
   "id": "658d10d1-a3d7-4e16-aa0a-fdb9ede7b22c",
   "metadata": {
    "papermill": {},
    "tags": []
   },
   "source": [
    "## Input"
   ]
  },
  {
   "cell_type": "markdown",
   "id": "d5ad9c05-19dc-463c-868d-bdd747639473",
   "metadata": {
    "papermill": {},
    "tags": []
   },
   "source": [
    "### Import libraries"
   ]
  },
  {
   "cell_type": "markdown",
   "id": "d94dc9fc-0cb1-4435-8a0b-43a2dacca952",
   "metadata": {
    "papermill": {},
    "tags": []
   },
   "source": [
    "Imports libraries, if unsuccessful, installs the required libraries"
   ]
  },
  {
   "cell_type": "code",
   "execution_count": 1,
   "id": "be598579-8752-4f61-a352-9c3ae2d031e3",
   "metadata": {
    "papermill": {},
    "tags": []
   },
   "outputs": [],
   "source": [
    "try:\n",
    "    import polars as pl\n",
    "except ModuleNotFoundError:\n",
    "    !pip install polars\n",
    "    import polars as pl"
   ]
  },
  {
   "cell_type": "markdown",
   "id": "67f09fac-7237-4db3-beaa-133b3e3efb8e",
   "metadata": {
    "papermill": {},
    "tags": []
   },
   "source": [
    "### Setup Variables\n",
    "- `data`: data to be used to create DataFrame"
   ]
  },
  {
   "cell_type": "code",
   "execution_count": 2,
   "id": "18378560-7e6d-42b9-abad-a7f036892775",
   "metadata": {
    "papermill": {},
    "tags": []
   },
   "outputs": [],
   "source": [
    "# Inputs\n",
    "data = {\n",
    "    'column 1': [\"A\", \"B\", \"C\", \"D\", \"E\", \"B\", \"G\", \"H\", \"I\", \"J\", \"K\", \"L\",],\n",
    "    'column 2': [3, 7, 8, 4, 1, 3, 2, 5, 7, 6, 3, 11],\n",
    "    'column 3': [\"V\", \"C\", \"M\", \"A\", \"S\", \"V\", \"R\", \"L\", \"Q\", \"N\", \"P\", \"O\",]\n",
    "}"
   ]
  },
  {
   "cell_type": "markdown",
   "id": "8b34fd7a-0021-4ac5-8e8d-ef699978f907",
   "metadata": {
    "papermill": {},
    "tags": []
   },
   "source": [
    "## Model"
   ]
  },
  {
   "cell_type": "markdown",
   "id": "19ded647-e9d7-4e0f-8b89-cb84ca613351",
   "metadata": {
    "papermill": {},
    "tags": []
   },
   "source": [
    "### Create DataFrame"
   ]
  },
  {
   "cell_type": "code",
   "execution_count": 3,
   "id": "c1d87c44-d6b8-4f5a-82fb-0fc6edfe61f6",
   "metadata": {
    "papermill": {},
    "tags": []
   },
   "outputs": [],
   "source": [
    "df = pl.DataFrame(data)"
   ]
  },
  {
   "cell_type": "markdown",
   "id": "6c771c9d-a5ee-4ca6-a73a-bac4918199c0",
   "metadata": {
    "papermill": {},
    "tags": []
   },
   "source": [
    "### Select rows"
   ]
  },
  {
   "cell_type": "markdown",
   "id": "342f6846-ee36-4904-8480-197f21aaa9cf",
   "metadata": {
    "papermill": {},
    "tags": []
   },
   "source": [
    "To select a single row in the data frame, pass the row number in the row() method"
   ]
  },
  {
   "cell_type": "code",
   "execution_count": 4,
   "id": "4a796c9d-54a5-4bd5-b0bc-16e149099320",
   "metadata": {
    "papermill": {},
    "tags": []
   },
   "outputs": [],
   "source": [
    "select_row = df.row(0) # first row"
   ]
  },
  {
   "cell_type": "markdown",
   "id": "a9d795ba-75f1-40cf-95f1-953c51cc5ed9",
   "metadata": {
    "papermill": {},
    "tags": []
   },
   "source": [
    "To get multiple rows based on the row number use square bracket in (not a recommended way to do it in Polars):"
   ]
  },
  {
   "cell_type": "code",
   "execution_count": 5,
   "id": "0f90c4a2-0720-40ea-ad79-152afedb21ab",
   "metadata": {
    "papermill": {},
    "tags": []
   },
   "outputs": [],
   "source": [
    "select_multiple_rows = df[:3] # first 3 rows"
   ]
  },
  {
   "cell_type": "markdown",
   "id": "31b96730-c5b6-4bd2-9d4c-63c924dada8f",
   "metadata": {
    "papermill": {},
    "tags": []
   },
   "source": [
    "Or"
   ]
  },
  {
   "cell_type": "code",
   "execution_count": 6,
   "id": "408621d5-cc24-48b0-b65c-53cd61f87c00",
   "metadata": {
    "papermill": {},
    "tags": []
   },
   "outputs": [],
   "source": [
    "select_multiple_rows_2 = df[[3, 4]] # 4th and 5th row"
   ]
  },
  {
   "cell_type": "markdown",
   "id": "b47f5e5c-6565-432b-9ef4-57b382768f9b",
   "metadata": {
    "papermill": {},
    "tags": []
   },
   "source": [
    "To select multiple rows use the filter() function (recommended by Polars):"
   ]
  },
  {
   "cell_type": "code",
   "execution_count": 7,
   "id": "36803f49-6ee0-4d09-8a25-35cbea5e86c4",
   "metadata": {
    "papermill": {},
    "tags": []
   },
   "outputs": [],
   "source": [
    "select_multiple_rows_filter = df.filter(\n",
    "    pl.col('column 2') == 3\n",
    ")"
   ]
  },
  {
   "cell_type": "markdown",
   "id": "db19d02e-06fd-47fc-9392-aa0729448aaf",
   "metadata": {
    "papermill": {},
    "tags": []
   },
   "source": [
    "To get the content of the data frame as a list of tuples, use the rows() method demonstrated below."
   ]
  },
  {
   "cell_type": "code",
   "execution_count": 8,
   "id": "81a35198-1b70-46eb-bc0f-4619fc23090a",
   "metadata": {
    "papermill": {},
    "tags": []
   },
   "outputs": [],
   "source": [
    "rows_content = df.rows()"
   ]
  },
  {
   "cell_type": "markdown",
   "id": "fad28fc0-5fdd-48bd-8fdd-029ad0f92022",
   "metadata": {
    "papermill": {},
    "tags": []
   },
   "source": [
    "## Output"
   ]
  },
  {
   "cell_type": "markdown",
   "id": "9a73fefb-1117-44a9-841d-2f8d94812ec8",
   "metadata": {
    "papermill": {},
    "tags": []
   },
   "source": [
    "### Display the DataFrame and number of rows and columns"
   ]
  },
  {
   "cell_type": "code",
   "execution_count": 9,
   "id": "2be32a3f-a5a9-457a-8b3c-606a7ead14bd",
   "metadata": {
    "papermill": {},
    "tags": []
   },
   "outputs": [],
   "source": [
    "print(f\"\\nSelect row function:\")\n",
    "print(select_row)\n",
    "print(f\"\\nSelect multiple rows function:\")\n",
    "print(select_multiple_rows)\n",
    "print(f\"\\nSelect multiple rows second function:\")\n",
    "print(select_multiple_rows_2)\n",
    "print(f\"\\nSelect multiple rows using filter function:\")\n",
    "print(select_multiple_rows_filter)\n",
    "print(f\"\\nRows content:\")\n",
    "print(rows_content)"
   ]
  }
 ],
 "metadata": {
  "kernelspec": {
   "display_name": "Python 3",
   "language": "python",
   "name": "python3"
  },
  "language_info": {
   "codemirror_mode": {
    "name": "ipython",
    "version": 3
   },
   "file_extension": ".py",
   "mimetype": "text/x-python",
   "name": "python",
   "nbconvert_exporter": "python",
   "pygments_lexer": "ipython3",
   "version": "3.9.6"
  },
  "naas": {
   "notebook_id": "fa25e3ec1012dad1c63aeda4b86a6f93f308c4643b6260611d01662a65f294e7",
   "notebook_path": "Polars/Polars_Select_Rows.ipynb"
  },
  "papermill": {
   "default_parameters": {},
   "environment_variables": {},
   "parameters": {},
   "version": "2.4.0"
  },
  "widgets": {
   "application/vnd.jupyter.widget-state+json": {
    "state": {},
    "version_major": 2,
    "version_minor": 0
   }
  }
 },
 "nbformat": 4,
 "nbformat_minor": 5
}